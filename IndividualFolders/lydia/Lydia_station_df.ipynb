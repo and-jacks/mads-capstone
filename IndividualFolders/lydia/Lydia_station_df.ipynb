{
 "cells": [
  {
   "cell_type": "code",
   "execution_count": null,
   "id": "3106728f-f2c5-4904-8415-249b1ad4d05c",
   "metadata": {},
   "outputs": [],
   "source": [
    "clean_22 = pd.read_pickle(r'D:\\capstone_F24\\data\\Cleaned_data\\df_filled_22.pkl')\n",
    "clean_23 = pd.read_pickle(r'D:\\capstone_F24\\data\\Cleaned_data\\df_filled_23.pkl')\n",
    "clean_22.head()"
   ]
  },
  {
   "cell_type": "code",
   "execution_count": null,
   "id": "b6e2abfa-b123-4df1-a588-ecd973fe9b5d",
   "metadata": {},
   "outputs": [],
   "source": [
    "# Create a station info dataframe\n",
    "df_2022 = pd.read_pickle(r'D:\\capstone_F24\\data\\MTA_Subway_Hourly_Ridership_2022.pkl')\n",
    "df_2023 = pd.read_pickle(r'D:\\capstone_F24\\data\\MTA_Subway_Hourly_Ridership_2023.pkl')\n",
    "df_2022.head()"
   ]
  },
  {
   "cell_type": "code",
   "execution_count": null,
   "id": "84f04833-8078-4cae-82e8-5c5212825d02",
   "metadata": {},
   "outputs": [],
   "source": [
    "ridership_data_all_years = pd.concat([df_2022, df_2023], axis=0)"
   ]
  },
  {
   "cell_type": "code",
   "execution_count": null,
   "id": "477fd9ad-fa5b-4115-84ee-ddaf593e0a8f",
   "metadata": {},
   "outputs": [],
   "source": [
    "# Drop unnessessary columns\n",
    "columns_to_drop = ['transit_timestamp','transit_mode','payment_method','fare_class_category','ridership','transfers']\n",
    "ridership_data_all_years.drop(columns_to_drop, axis=1, inplace=True)\n",
    "ridership_data_all_years.head()"
   ]
  },
  {
   "cell_type": "code",
   "execution_count": null,
   "id": "827f550a-ddbf-4ab3-ba29-cf7371476fa8",
   "metadata": {},
   "outputs": [],
   "source": [
    "# Remove stations that are not in the cleaned timeseries data\n",
    "\n",
    "ridership_data_all_years[ ~ridership_data_all_years['station_complex_id'].isin(clean_22.index) ]\n",
    "print(len(ridership_data_all_years['station_complex_id'].unique()))\n",
    "print(len(clean_22.index))\n",
    "ridership_data_all_years['station_complex_id'].unique()"
   ]
  },
  {
   "cell_type": "code",
   "execution_count": null,
   "id": "62c72cce-bb12-43f7-9610-24d7ed4683e3",
   "metadata": {},
   "outputs": [],
   "source": [
    "def get_attraction_names(ridership_data):\n",
    "    \"\"\"\n",
    "    Add a column of nearby attraction names for each station.\n",
    "    \"\"\"\n",
    "    # Create copy of data to avoid modifying original\n",
    "    data = ridership_data.copy()\n",
    "    \n",
    "    # Initialize empty list for attraction names\n",
    "    attraction_names = []\n",
    "    \n",
    "    for station in data['station_complex_id'].unique():\n",
    "        # Get station's lat/long\n",
    "        station_data = data[data['station_complex_id'] == station].iloc[0]\n",
    "        lat_long = f\"{station_data['latitude']}%2C{station_data['longitude']}\"\n",
    "        \n",
    "        url = (f\"https://api.content.tripadvisor.com/api/v1/location/nearby_search\"\n",
    "               f\"?latLong={lat_long}&key=62E7CCFA411C4FF8BDDE0FB6BEE2C2F6&category=attractions&radius=.5&radiusUnit=mi&language=en\")\n",
    "\n",
    "        \n",
    "        headers = {\"accept\": \"application/json\"}\n",
    "        \n",
    "        try:\n",
    "            response = requests.get(url, headers=headers)\n",
    "            response.raise_for_status()\n",
    "            \n",
    "            # Get attractions data and extract names\n",
    "            attractions = response.json().get('data', [])\n",
    "            names = ', '.join([attr.get('name', '') for attr in attractions])\n",
    "            \n",
    "            attraction_names.append({\n",
    "                'station_complex_id': station,\n",
    "                'nearby_attractions': names\n",
    "            })\n",
    "            time.sleep(0.1)  # Small delay to avoid hitting rate limits\n",
    "            \n",
    "        except Exception as e:\n",
    "            print(f\"Error getting data for station {station}: {e}\")\n",
    "            attraction_names.append({\n",
    "                'station_complex_id': station,\n",
    "                'nearby_attractions': ''\n",
    "            })\n",
    "    \n",
    "    # Convert to DataFrame and merge with original data\n",
    "    attractions_df = pd.DataFrame(attraction_names)\n",
    "    result = data.merge(attractions_df, on='station_complex_id', how='left')\n",
    "    \n",
    "    return result"
   ]
  },
  {
   "cell_type": "code",
   "execution_count": null,
   "id": "3f8531a0-5250-4d11-a5f1-4485cd54690d",
   "metadata": {},
   "outputs": [],
   "source": [
    "enhanced_data = get_attraction_names(ridership_data_all_years)\n",
    "enhanced_data.head()"
   ]
  },
  {
   "cell_type": "code",
   "execution_count": null,
   "id": "994e5eb8-60c6-46cc-951f-2a7a3d8f8cff",
   "metadata": {},
   "outputs": [],
   "source": [
    "# Convert to a csv file\n",
    "enhanced_data.to_csv('station_data.csv', index=False)"
   ]
  }
 ],
 "metadata": {
  "kernelspec": {
   "display_name": "Python (lydia_env)",
   "language": "python",
   "name": "lydia_env"
  },
  "language_info": {
   "codemirror_mode": {
    "name": "ipython",
    "version": 3
   },
   "file_extension": ".py",
   "mimetype": "text/x-python",
   "name": "python",
   "nbconvert_exporter": "python",
   "pygments_lexer": "ipython3",
   "version": "3.12.4"
  }
 },
 "nbformat": 4,
 "nbformat_minor": 5
}
