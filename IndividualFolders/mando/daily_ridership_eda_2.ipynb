{
 "cells": [
  {
   "cell_type": "code",
   "execution_count": 31,
   "metadata": {},
   "outputs": [],
   "source": [
    "import pandas as pd\n",
    "import multiprocessing as mp \n",
    "import matplotlib.pyplot as plt\n",
    "import dask.dataframe as dd\n",
    "import plotly.express as px\n",
    "from sklearn.ensemble import RandomForestRegressor\n",
    "from sklearn.model_selection import train_test_split\n",
    "from sklearn.metrics import mean_squared_error\n",
    "import numpy as np\n",
    "\n"
   ]
  },
  {
   "cell_type": "code",
   "execution_count": 46,
   "metadata": {},
   "outputs": [],
   "source": [
    "df_2022 = pd.read_pickle('data/MTA_Subway_Hourly_Ridership_2022.pkl')\n",
    "df_2023 = pd.read_pickle('data/MTA_Subway_Hourly_Ridership_2023.pkl')\n",
    "\n",
    "# single year\n",
    "# df_2022 = pd.read_pickle('data/MTA_Subway_Hourly_Ridership_2022.pkl')"
   ]
  },
  {
   "cell_type": "code",
   "execution_count": 47,
   "metadata": {},
   "outputs": [],
   "source": [
    "# Merger the dataframes\n",
    "ridership_data_all_years = pd.concat([df_2022, df_2023], axis=0)\n"
   ]
  },
  {
   "cell_type": "code",
   "execution_count": 48,
   "metadata": {},
   "outputs": [],
   "source": [
    "#single year\n",
    "# hourly_ridership_data = df_2022.copy()\n",
    "\n",
    "# multi year \n",
    "hourly_ridership_data = ridership_data_all_years.copy()\n"
   ]
  },
  {
   "cell_type": "code",
   "execution_count": 49,
   "metadata": {},
   "outputs": [
    {
     "name": "stdout",
     "output_type": "stream",
     "text": [
      "<class 'pandas.core.frame.DataFrame'>\n",
      "Index: 48102193 entries, 0 to 25588030\n",
      "Data columns (total 12 columns):\n",
      " #   Column               Dtype         \n",
      "---  ------               -----         \n",
      " 0   transit_timestamp    datetime64[ns]\n",
      " 1   transit_mode         object        \n",
      " 2   station_complex_id   object        \n",
      " 3   station_complex      object        \n",
      " 4   borough              object        \n",
      " 5   payment_method       object        \n",
      " 6   fare_class_category  object        \n",
      " 7   ridership            object        \n",
      " 8   transfers            object        \n",
      " 9   latitude             float64       \n",
      " 10  longitude            float64       \n",
      " 11  Georeference         object        \n",
      "dtypes: datetime64[ns](1), float64(2), object(9)\n",
      "memory usage: 4.7+ GB\n"
     ]
    }
   ],
   "source": [
    "hourly_ridership_data.info()"
   ]
  },
  {
   "cell_type": "code",
   "execution_count": 50,
   "metadata": {},
   "outputs": [],
   "source": [
    "# convert ridership to numeric\n",
    "hourly_ridership_data['ridership'] = pd.to_numeric(hourly_ridership_data['ridership'], errors='coerce')"
   ]
  },
  {
   "cell_type": "code",
   "execution_count": 51,
   "metadata": {},
   "outputs": [
    {
     "data": {
      "text/html": [
       "<div>\n",
       "<style scoped>\n",
       "    .dataframe tbody tr th:only-of-type {\n",
       "        vertical-align: middle;\n",
       "    }\n",
       "\n",
       "    .dataframe tbody tr th {\n",
       "        vertical-align: top;\n",
       "    }\n",
       "\n",
       "    .dataframe thead th {\n",
       "        text-align: right;\n",
       "    }\n",
       "</style>\n",
       "<table border=\"1\" class=\"dataframe\">\n",
       "  <thead>\n",
       "    <tr style=\"text-align: right;\">\n",
       "      <th></th>\n",
       "      <th>transit_timestamp</th>\n",
       "      <th>transit_mode</th>\n",
       "      <th>station_complex_id</th>\n",
       "      <th>station_complex</th>\n",
       "      <th>borough</th>\n",
       "      <th>payment_method</th>\n",
       "      <th>fare_class_category</th>\n",
       "      <th>ridership</th>\n",
       "      <th>transfers</th>\n",
       "      <th>latitude</th>\n",
       "      <th>longitude</th>\n",
       "      <th>Georeference</th>\n",
       "    </tr>\n",
       "  </thead>\n",
       "  <tbody>\n",
       "    <tr>\n",
       "      <th>0</th>\n",
       "      <td>2022-02-17 22:00:00</td>\n",
       "      <td>subway</td>\n",
       "      <td>59</td>\n",
       "      <td>9 Av (D)</td>\n",
       "      <td>Brooklyn</td>\n",
       "      <td>omny</td>\n",
       "      <td>OMNY - Full Fare</td>\n",
       "      <td>4.0</td>\n",
       "      <td>0</td>\n",
       "      <td>40.646294</td>\n",
       "      <td>-73.99432</td>\n",
       "      <td>POINT (-73.99432 40.646294)</td>\n",
       "    </tr>\n",
       "    <tr>\n",
       "      <th>1</th>\n",
       "      <td>2022-03-10 23:00:00</td>\n",
       "      <td>subway</td>\n",
       "      <td>404</td>\n",
       "      <td>28 St (6)</td>\n",
       "      <td>Manhattan</td>\n",
       "      <td>omny</td>\n",
       "      <td>OMNY - Other</td>\n",
       "      <td>1.0</td>\n",
       "      <td>0</td>\n",
       "      <td>40.743070</td>\n",
       "      <td>-73.98426</td>\n",
       "      <td>POINT (-73.98426 40.74307)</td>\n",
       "    </tr>\n",
       "    <tr>\n",
       "      <th>2</th>\n",
       "      <td>2022-10-05 21:00:00</td>\n",
       "      <td>subway</td>\n",
       "      <td>272</td>\n",
       "      <td>36 St (M,R)</td>\n",
       "      <td>Queens</td>\n",
       "      <td>omny</td>\n",
       "      <td>OMNY - Full Fare</td>\n",
       "      <td>14.0</td>\n",
       "      <td>0</td>\n",
       "      <td>40.752040</td>\n",
       "      <td>-73.92878</td>\n",
       "      <td>POINT (-73.92878 40.75204)</td>\n",
       "    </tr>\n",
       "    <tr>\n",
       "      <th>3</th>\n",
       "      <td>2022-10-05 22:00:00</td>\n",
       "      <td>subway</td>\n",
       "      <td>420</td>\n",
       "      <td>219 St (2,5)</td>\n",
       "      <td>Bronx</td>\n",
       "      <td>omny</td>\n",
       "      <td>OMNY - Full Fare</td>\n",
       "      <td>5.0</td>\n",
       "      <td>0</td>\n",
       "      <td>40.883896</td>\n",
       "      <td>-73.86263</td>\n",
       "      <td>POINT (-73.86263 40.883896)</td>\n",
       "    </tr>\n",
       "    <tr>\n",
       "      <th>4</th>\n",
       "      <td>2022-10-05 10:00:00</td>\n",
       "      <td>subway</td>\n",
       "      <td>218</td>\n",
       "      <td>167 St (B,D)</td>\n",
       "      <td>Bronx</td>\n",
       "      <td>omny</td>\n",
       "      <td>OMNY - Full Fare</td>\n",
       "      <td>78.0</td>\n",
       "      <td>6</td>\n",
       "      <td>40.833770</td>\n",
       "      <td>-73.91844</td>\n",
       "      <td>POINT (-73.91844 40.83377)</td>\n",
       "    </tr>\n",
       "  </tbody>\n",
       "</table>\n",
       "</div>"
      ],
      "text/plain": [
       "    transit_timestamp transit_mode station_complex_id station_complex  \\\n",
       "0 2022-02-17 22:00:00       subway                 59        9 Av (D)   \n",
       "1 2022-03-10 23:00:00       subway                404       28 St (6)   \n",
       "2 2022-10-05 21:00:00       subway                272     36 St (M,R)   \n",
       "3 2022-10-05 22:00:00       subway                420    219 St (2,5)   \n",
       "4 2022-10-05 10:00:00       subway                218    167 St (B,D)   \n",
       "\n",
       "     borough payment_method fare_class_category  ridership transfers  \\\n",
       "0   Brooklyn           omny    OMNY - Full Fare        4.0         0   \n",
       "1  Manhattan           omny        OMNY - Other        1.0         0   \n",
       "2     Queens           omny    OMNY - Full Fare       14.0         0   \n",
       "3      Bronx           omny    OMNY - Full Fare        5.0         0   \n",
       "4      Bronx           omny    OMNY - Full Fare       78.0         6   \n",
       "\n",
       "    latitude  longitude                 Georeference  \n",
       "0  40.646294  -73.99432  POINT (-73.99432 40.646294)  \n",
       "1  40.743070  -73.98426   POINT (-73.98426 40.74307)  \n",
       "2  40.752040  -73.92878   POINT (-73.92878 40.75204)  \n",
       "3  40.883896  -73.86263  POINT (-73.86263 40.883896)  \n",
       "4  40.833770  -73.91844   POINT (-73.91844 40.83377)  "
      ]
     },
     "metadata": {},
     "output_type": "display_data"
    }
   ],
   "source": [
    "display(hourly_ridership_data.head())"
   ]
  },
  {
   "cell_type": "code",
   "execution_count": 52,
   "metadata": {},
   "outputs": [
    {
     "name": "stdout",
     "output_type": "stream",
     "text": [
      "Number of unique stations: 854\n"
     ]
    }
   ],
   "source": [
    "# get unique stations complex id\n",
    "station_complex_id = hourly_ridership_data['station_complex_id'].unique()\n",
    "print(f\"Number of unique stations: {len(station_complex_id)}\")"
   ]
  },
  {
   "cell_type": "code",
   "execution_count": 53,
   "metadata": {},
   "outputs": [
    {
     "data": {
      "text/plain": [
       "station_complex_id\n",
       "1          9903\n",
       "2         10854\n",
       "3          3963\n",
       "4          9382\n",
       "5           766\n",
       "          ...  \n",
       "97       119002\n",
       "98       116432\n",
       "99       108431\n",
       "TRAM1     89220\n",
       "TRAM2     86742\n",
       "Length: 854, dtype: int64"
      ]
     },
     "metadata": {},
     "output_type": "display_data"
    }
   ],
   "source": [
    "# group by station complex id\n",
    "grouped_station_complex = hourly_ridership_data.groupby('station_complex_id')\n",
    "\n",
    "# get the number of rows for each station complex\n",
    "station_complex_count = grouped_station_complex.size()\n",
    "display(station_complex_count)\n",
    "\n"
   ]
  },
  {
   "cell_type": "code",
   "execution_count": 54,
   "metadata": {},
   "outputs": [
    {
     "data": {
      "text/html": [
       "<div>\n",
       "<style scoped>\n",
       "    .dataframe tbody tr th:only-of-type {\n",
       "        vertical-align: middle;\n",
       "    }\n",
       "\n",
       "    .dataframe tbody tr th {\n",
       "        vertical-align: top;\n",
       "    }\n",
       "\n",
       "    .dataframe thead th {\n",
       "        text-align: right;\n",
       "    }\n",
       "</style>\n",
       "<table border=\"1\" class=\"dataframe\">\n",
       "  <thead>\n",
       "    <tr style=\"text-align: right;\">\n",
       "      <th></th>\n",
       "      <th>station_complex_id</th>\n",
       "      <th>day</th>\n",
       "      <th>hour</th>\n",
       "      <th>ridership</th>\n",
       "    </tr>\n",
       "  </thead>\n",
       "  <tbody>\n",
       "    <tr>\n",
       "      <th>0</th>\n",
       "      <td>1</td>\n",
       "      <td>2022-02-19</td>\n",
       "      <td>0</td>\n",
       "      <td>58.0</td>\n",
       "    </tr>\n",
       "    <tr>\n",
       "      <th>1</th>\n",
       "      <td>1</td>\n",
       "      <td>2022-02-19</td>\n",
       "      <td>1</td>\n",
       "      <td>24.0</td>\n",
       "    </tr>\n",
       "    <tr>\n",
       "      <th>2</th>\n",
       "      <td>1</td>\n",
       "      <td>2022-02-19</td>\n",
       "      <td>2</td>\n",
       "      <td>2.0</td>\n",
       "    </tr>\n",
       "    <tr>\n",
       "      <th>3</th>\n",
       "      <td>1</td>\n",
       "      <td>2022-02-19</td>\n",
       "      <td>3</td>\n",
       "      <td>7.0</td>\n",
       "    </tr>\n",
       "    <tr>\n",
       "      <th>4</th>\n",
       "      <td>1</td>\n",
       "      <td>2022-02-19</td>\n",
       "      <td>4</td>\n",
       "      <td>18.0</td>\n",
       "    </tr>\n",
       "    <tr>\n",
       "      <th>5</th>\n",
       "      <td>1</td>\n",
       "      <td>2022-02-19</td>\n",
       "      <td>5</td>\n",
       "      <td>55.0</td>\n",
       "    </tr>\n",
       "    <tr>\n",
       "      <th>6</th>\n",
       "      <td>1</td>\n",
       "      <td>2022-02-19</td>\n",
       "      <td>6</td>\n",
       "      <td>85.0</td>\n",
       "    </tr>\n",
       "    <tr>\n",
       "      <th>7</th>\n",
       "      <td>1</td>\n",
       "      <td>2022-02-19</td>\n",
       "      <td>7</td>\n",
       "      <td>21.0</td>\n",
       "    </tr>\n",
       "    <tr>\n",
       "      <th>8</th>\n",
       "      <td>1</td>\n",
       "      <td>2022-02-19</td>\n",
       "      <td>8</td>\n",
       "      <td>318.0</td>\n",
       "    </tr>\n",
       "    <tr>\n",
       "      <th>9</th>\n",
       "      <td>1</td>\n",
       "      <td>2022-02-19</td>\n",
       "      <td>9</td>\n",
       "      <td>381.0</td>\n",
       "    </tr>\n",
       "    <tr>\n",
       "      <th>10</th>\n",
       "      <td>1</td>\n",
       "      <td>2022-02-19</td>\n",
       "      <td>10</td>\n",
       "      <td>258.0</td>\n",
       "    </tr>\n",
       "    <tr>\n",
       "      <th>11</th>\n",
       "      <td>1</td>\n",
       "      <td>2022-02-19</td>\n",
       "      <td>11</td>\n",
       "      <td>302.0</td>\n",
       "    </tr>\n",
       "    <tr>\n",
       "      <th>12</th>\n",
       "      <td>1</td>\n",
       "      <td>2022-02-19</td>\n",
       "      <td>12</td>\n",
       "      <td>136.0</td>\n",
       "    </tr>\n",
       "    <tr>\n",
       "      <th>13</th>\n",
       "      <td>1</td>\n",
       "      <td>2022-02-19</td>\n",
       "      <td>13</td>\n",
       "      <td>239.0</td>\n",
       "    </tr>\n",
       "    <tr>\n",
       "      <th>14</th>\n",
       "      <td>1</td>\n",
       "      <td>2022-02-19</td>\n",
       "      <td>14</td>\n",
       "      <td>266.0</td>\n",
       "    </tr>\n",
       "    <tr>\n",
       "      <th>15</th>\n",
       "      <td>1</td>\n",
       "      <td>2022-02-19</td>\n",
       "      <td>15</td>\n",
       "      <td>206.0</td>\n",
       "    </tr>\n",
       "    <tr>\n",
       "      <th>16</th>\n",
       "      <td>1</td>\n",
       "      <td>2022-02-19</td>\n",
       "      <td>16</td>\n",
       "      <td>306.0</td>\n",
       "    </tr>\n",
       "    <tr>\n",
       "      <th>17</th>\n",
       "      <td>1</td>\n",
       "      <td>2022-02-19</td>\n",
       "      <td>17</td>\n",
       "      <td>191.0</td>\n",
       "    </tr>\n",
       "    <tr>\n",
       "      <th>18</th>\n",
       "      <td>1</td>\n",
       "      <td>2022-02-19</td>\n",
       "      <td>18</td>\n",
       "      <td>364.0</td>\n",
       "    </tr>\n",
       "    <tr>\n",
       "      <th>19</th>\n",
       "      <td>1</td>\n",
       "      <td>2022-02-19</td>\n",
       "      <td>19</td>\n",
       "      <td>164.0</td>\n",
       "    </tr>\n",
       "    <tr>\n",
       "      <th>20</th>\n",
       "      <td>1</td>\n",
       "      <td>2022-02-19</td>\n",
       "      <td>20</td>\n",
       "      <td>137.0</td>\n",
       "    </tr>\n",
       "    <tr>\n",
       "      <th>21</th>\n",
       "      <td>1</td>\n",
       "      <td>2022-02-19</td>\n",
       "      <td>21</td>\n",
       "      <td>138.0</td>\n",
       "    </tr>\n",
       "    <tr>\n",
       "      <th>22</th>\n",
       "      <td>1</td>\n",
       "      <td>2022-02-19</td>\n",
       "      <td>22</td>\n",
       "      <td>64.0</td>\n",
       "    </tr>\n",
       "    <tr>\n",
       "      <th>23</th>\n",
       "      <td>1</td>\n",
       "      <td>2022-02-19</td>\n",
       "      <td>23</td>\n",
       "      <td>51.0</td>\n",
       "    </tr>\n",
       "  </tbody>\n",
       "</table>\n",
       "</div>"
      ],
      "text/plain": [
       "   station_complex_id         day  hour  ridership\n",
       "0                   1  2022-02-19     0       58.0\n",
       "1                   1  2022-02-19     1       24.0\n",
       "2                   1  2022-02-19     2        2.0\n",
       "3                   1  2022-02-19     3        7.0\n",
       "4                   1  2022-02-19     4       18.0\n",
       "5                   1  2022-02-19     5       55.0\n",
       "6                   1  2022-02-19     6       85.0\n",
       "7                   1  2022-02-19     7       21.0\n",
       "8                   1  2022-02-19     8      318.0\n",
       "9                   1  2022-02-19     9      381.0\n",
       "10                  1  2022-02-19    10      258.0\n",
       "11                  1  2022-02-19    11      302.0\n",
       "12                  1  2022-02-19    12      136.0\n",
       "13                  1  2022-02-19    13      239.0\n",
       "14                  1  2022-02-19    14      266.0\n",
       "15                  1  2022-02-19    15      206.0\n",
       "16                  1  2022-02-19    16      306.0\n",
       "17                  1  2022-02-19    17      191.0\n",
       "18                  1  2022-02-19    18      364.0\n",
       "19                  1  2022-02-19    19      164.0\n",
       "20                  1  2022-02-19    20      137.0\n",
       "21                  1  2022-02-19    21      138.0\n",
       "22                  1  2022-02-19    22       64.0\n",
       "23                  1  2022-02-19    23       51.0"
      ]
     },
     "metadata": {},
     "output_type": "display_data"
    }
   ],
   "source": [
    "# Ensure that day and hour columns are present in the dataset\n",
    "hourly_ridership_data['day'] = hourly_ridership_data['transit_timestamp'].dt.date\n",
    "hourly_ridership_data['hour'] = hourly_ridership_data['transit_timestamp'].dt.hour\n",
    "\n",
    "# group by station_complex, day, and hour and sum of ridership for each\n",
    "grouped_station_complex_hourly = (\n",
    "    hourly_ridership_data\n",
    "    .groupby(['station_complex_id', 'day', 'hour'])['ridership']\n",
    "    .sum()\n",
    "    .reset_index()\n",
    ")\n",
    "\n",
    "# Display the first few rows to check the result\n",
    "display(grouped_station_complex_hourly.head(24))\n"
   ]
  },
  {
   "cell_type": "code",
   "execution_count": 68,
   "metadata": {},
   "outputs": [
    {
     "data": {
      "text/html": [
       "<div>\n",
       "<style scoped>\n",
       "    .dataframe tbody tr th:only-of-type {\n",
       "        vertical-align: middle;\n",
       "    }\n",
       "\n",
       "    .dataframe tbody tr th {\n",
       "        vertical-align: top;\n",
       "    }\n",
       "\n",
       "    .dataframe thead th {\n",
       "        text-align: right;\n",
       "    }\n",
       "</style>\n",
       "<table border=\"1\" class=\"dataframe\">\n",
       "  <thead>\n",
       "    <tr style=\"text-align: right;\">\n",
       "      <th></th>\n",
       "      <th>station_complex_id</th>\n",
       "      <th>day</th>\n",
       "      <th>ridership</th>\n",
       "    </tr>\n",
       "  </thead>\n",
       "  <tbody>\n",
       "    <tr>\n",
       "      <th>0</th>\n",
       "      <td>1</td>\n",
       "      <td>2022-02-19</td>\n",
       "      <td>3791.0</td>\n",
       "    </tr>\n",
       "    <tr>\n",
       "      <th>1</th>\n",
       "      <td>1</td>\n",
       "      <td>2022-03-09</td>\n",
       "      <td>9655.0</td>\n",
       "    </tr>\n",
       "    <tr>\n",
       "      <th>2</th>\n",
       "      <td>1</td>\n",
       "      <td>2022-03-15</td>\n",
       "      <td>2750.0</td>\n",
       "    </tr>\n",
       "    <tr>\n",
       "      <th>3</th>\n",
       "      <td>1</td>\n",
       "      <td>2022-03-19</td>\n",
       "      <td>4539.0</td>\n",
       "    </tr>\n",
       "    <tr>\n",
       "      <th>4</th>\n",
       "      <td>1</td>\n",
       "      <td>2022-03-29</td>\n",
       "      <td>9776.0</td>\n",
       "    </tr>\n",
       "  </tbody>\n",
       "</table>\n",
       "</div>"
      ],
      "text/plain": [
       "  station_complex_id         day  ridership\n",
       "0                  1  2022-02-19     3791.0\n",
       "1                  1  2022-03-09     9655.0\n",
       "2                  1  2022-03-15     2750.0\n",
       "3                  1  2022-03-19     4539.0\n",
       "4                  1  2022-03-29     9776.0"
      ]
     },
     "metadata": {},
     "output_type": "display_data"
    },
    {
     "name": "stdout",
     "output_type": "stream",
     "text": [
      "<class 'pandas.core.frame.DataFrame'>\n",
      "RangeIndex: 317467 entries, 0 to 317466\n",
      "Data columns (total 3 columns):\n",
      " #   Column              Non-Null Count   Dtype  \n",
      "---  ------              --------------   -----  \n",
      " 0   station_complex_id  317467 non-null  object \n",
      " 1   day                 317467 non-null  object \n",
      " 2   ridership           317467 non-null  float64\n",
      "dtypes: float64(1), object(2)\n",
      "memory usage: 7.3+ MB\n"
     ]
    }
   ],
   "source": [
    "# total ridershep per day per station\n",
    "grouped_station_complex_daily = (\n",
    "    grouped_station_complex_hourly\n",
    "    .groupby(['station_complex_id', 'day'])['ridership']\n",
    "    .sum()\n",
    "    .reset_index()\n",
    ")\n",
    "\n",
    "# Display the first few rows to check the result\n",
    "display(grouped_station_complex_daily.head())\n",
    "grouped_station_complex_daily.info()\n"
   ]
  },
  {
   "cell_type": "code",
   "execution_count": 69,
   "metadata": {},
   "outputs": [
    {
     "name": "stdout",
     "output_type": "stream",
     "text": [
      "<class 'pandas.core.frame.DataFrame'>\n",
      "RangeIndex: 317467 entries, 0 to 317466\n",
      "Data columns (total 3 columns):\n",
      " #   Column              Non-Null Count   Dtype         \n",
      "---  ------              --------------   -----         \n",
      " 0   station_complex_id  317467 non-null  object        \n",
      " 1   day                 317467 non-null  datetime64[ns]\n",
      " 2   ridership           317467 non-null  float64       \n",
      "dtypes: datetime64[ns](1), float64(1), object(1)\n",
      "memory usage: 7.3+ MB\n",
      "  station_complex_id        day  ridership\n",
      "0                  1 2022-02-19     3791.0\n",
      "1                  1 2022-03-09     9655.0\n",
      "2                  1 2022-03-15     2750.0\n",
      "3                  1 2022-03-19     4539.0\n",
      "4                  1 2022-03-29     9776.0\n"
     ]
    }
   ],
   "source": [
    "# Convert day to date\n",
    "grouped_station_complex_daily['day'] = pd.to_datetime(grouped_station_complex_daily['day'])\n",
    "grouped_station_complex_daily.info()\n",
    "print(grouped_station_complex_daily.head())"
   ]
  },
  {
   "cell_type": "code",
   "execution_count": 70,
   "metadata": {},
   "outputs": [
    {
     "name": "stdout",
     "output_type": "stream",
     "text": [
      "         DATE                         NAME  TMAX  TMIN  TAVG  PRCP  AWND  SNOW\n",
      "0  2022-01-01  NY CITY CENTRAL PARK, NY US  56.0  50.0  53.0  0.79  3.13   0.0\n",
      "1  2022-01-02  NY CITY CENTRAL PARK, NY US  59.0  37.0  48.0  0.04  5.82   0.0\n",
      "2  2022-01-03  NY CITY CENTRAL PARK, NY US  37.0  22.0  29.5  0.00  9.84   0.0\n",
      "3  2022-01-04  NY CITY CENTRAL PARK, NY US  34.0  19.0  26.5  0.00  6.04   0.0\n",
      "4  2022-01-05  NY CITY CENTRAL PARK, NY US  47.0  31.0  39.0  0.23  5.59   0.0\n",
      "<class 'pandas.core.frame.DataFrame'>\n",
      "RangeIndex: 1020 entries, 0 to 1019\n",
      "Data columns (total 8 columns):\n",
      " #   Column  Non-Null Count  Dtype  \n",
      "---  ------  --------------  -----  \n",
      " 0   DATE    1020 non-null   object \n",
      " 1   NAME    1020 non-null   object \n",
      " 2   TMAX    1020 non-null   float64\n",
      " 3   TMIN    1020 non-null   float64\n",
      " 4   TAVG    1020 non-null   float64\n",
      " 5   PRCP    1020 non-null   float64\n",
      " 6   AWND    1015 non-null   float64\n",
      " 7   SNOW    1020 non-null   float64\n",
      "dtypes: float64(6), object(2)\n",
      "memory usage: 63.9+ KB\n"
     ]
    }
   ],
   "source": [
    "# merge weather data with ridership data\n",
    "weather_data = pd.read_csv('data/Cleaned_data/weather_data_ny_cleaned.csv')\n",
    "print(weather_data.head())\n",
    "weather_data.info()"
   ]
  },
  {
   "cell_type": "code",
   "execution_count": 71,
   "metadata": {},
   "outputs": [
    {
     "name": "stdout",
     "output_type": "stream",
     "text": [
      "        DATE                         NAME  TMAX  TMIN  TAVG  PRCP  AWND  SNOW\n",
      "0 2022-01-01  NY CITY CENTRAL PARK, NY US  56.0  50.0  53.0  0.79  3.13   0.0\n",
      "1 2022-01-02  NY CITY CENTRAL PARK, NY US  59.0  37.0  48.0  0.04  5.82   0.0\n",
      "2 2022-01-03  NY CITY CENTRAL PARK, NY US  37.0  22.0  29.5  0.00  9.84   0.0\n",
      "3 2022-01-04  NY CITY CENTRAL PARK, NY US  34.0  19.0  26.5  0.00  6.04   0.0\n",
      "4 2022-01-05  NY CITY CENTRAL PARK, NY US  47.0  31.0  39.0  0.23  5.59   0.0\n",
      "<class 'pandas.core.frame.DataFrame'>\n",
      "RangeIndex: 1020 entries, 0 to 1019\n",
      "Data columns (total 8 columns):\n",
      " #   Column  Non-Null Count  Dtype         \n",
      "---  ------  --------------  -----         \n",
      " 0   DATE    1020 non-null   datetime64[ns]\n",
      " 1   NAME    1020 non-null   object        \n",
      " 2   TMAX    1020 non-null   float64       \n",
      " 3   TMIN    1020 non-null   float64       \n",
      " 4   TAVG    1020 non-null   float64       \n",
      " 5   PRCP    1020 non-null   float64       \n",
      " 6   AWND    1015 non-null   float64       \n",
      " 7   SNOW    1020 non-null   float64       \n",
      "dtypes: datetime64[ns](1), float64(6), object(1)\n",
      "memory usage: 63.9+ KB\n"
     ]
    }
   ],
   "source": [
    "# Convert date to date \n",
    "weather_data['DATE'] = pd.to_datetime(weather_data['DATE'])\n",
    "print(weather_data.head())\n",
    "weather_data.info()"
   ]
  },
  {
   "cell_type": "code",
   "execution_count": 74,
   "metadata": {},
   "outputs": [
    {
     "data": {
      "text/html": [
       "<div>\n",
       "<style scoped>\n",
       "    .dataframe tbody tr th:only-of-type {\n",
       "        vertical-align: middle;\n",
       "    }\n",
       "\n",
       "    .dataframe tbody tr th {\n",
       "        vertical-align: top;\n",
       "    }\n",
       "\n",
       "    .dataframe thead th {\n",
       "        text-align: right;\n",
       "    }\n",
       "</style>\n",
       "<table border=\"1\" class=\"dataframe\">\n",
       "  <thead>\n",
       "    <tr style=\"text-align: right;\">\n",
       "      <th></th>\n",
       "      <th>station_complex_id</th>\n",
       "      <th>day</th>\n",
       "      <th>ridership</th>\n",
       "      <th>DATE</th>\n",
       "      <th>NAME</th>\n",
       "      <th>TMAX</th>\n",
       "      <th>TMIN</th>\n",
       "      <th>TAVG</th>\n",
       "      <th>PRCP</th>\n",
       "      <th>AWND</th>\n",
       "      <th>SNOW</th>\n",
       "    </tr>\n",
       "  </thead>\n",
       "  <tbody>\n",
       "    <tr>\n",
       "      <th>268190</th>\n",
       "      <td>6</td>\n",
       "      <td>2023-05-08</td>\n",
       "      <td>2570.0</td>\n",
       "      <td>2023-05-08</td>\n",
       "      <td>NY CITY CENTRAL PARK, NY US</td>\n",
       "      <td>77.0</td>\n",
       "      <td>58.0</td>\n",
       "      <td>67.5</td>\n",
       "      <td>0.00</td>\n",
       "      <td>4.70</td>\n",
       "      <td>0.0</td>\n",
       "    </tr>\n",
       "    <tr>\n",
       "      <th>48656</th>\n",
       "      <td>138</td>\n",
       "      <td>2023-04-21</td>\n",
       "      <td>2389.0</td>\n",
       "      <td>2023-04-21</td>\n",
       "      <td>NY CITY CENTRAL PARK, NY US</td>\n",
       "      <td>71.0</td>\n",
       "      <td>51.0</td>\n",
       "      <td>61.0</td>\n",
       "      <td>0.00</td>\n",
       "      <td>5.14</td>\n",
       "      <td>0.0</td>\n",
       "    </tr>\n",
       "    <tr>\n",
       "      <th>238780</th>\n",
       "      <td>443</td>\n",
       "      <td>2022-07-22</td>\n",
       "      <td>1621.0</td>\n",
       "      <td>2022-07-22</td>\n",
       "      <td>NY CITY CENTRAL PARK, NY US</td>\n",
       "      <td>94.0</td>\n",
       "      <td>78.0</td>\n",
       "      <td>86.0</td>\n",
       "      <td>0.00</td>\n",
       "      <td>2.68</td>\n",
       "      <td>0.0</td>\n",
       "    </tr>\n",
       "    <tr>\n",
       "      <th>188018</th>\n",
       "      <td>364</td>\n",
       "      <td>2023-03-17</td>\n",
       "      <td>1810.0</td>\n",
       "      <td>2023-03-17</td>\n",
       "      <td>NY CITY CENTRAL PARK, NY US</td>\n",
       "      <td>60.0</td>\n",
       "      <td>47.0</td>\n",
       "      <td>53.5</td>\n",
       "      <td>0.00</td>\n",
       "      <td>3.36</td>\n",
       "      <td>0.0</td>\n",
       "    </tr>\n",
       "    <tr>\n",
       "      <th>175220</th>\n",
       "      <td>348</td>\n",
       "      <td>2022-02-13</td>\n",
       "      <td>939.0</td>\n",
       "      <td>2022-02-13</td>\n",
       "      <td>NY CITY CENTRAL PARK, NY US</td>\n",
       "      <td>42.0</td>\n",
       "      <td>25.0</td>\n",
       "      <td>33.5</td>\n",
       "      <td>0.23</td>\n",
       "      <td>6.71</td>\n",
       "      <td>1.6</td>\n",
       "    </tr>\n",
       "  </tbody>\n",
       "</table>\n",
       "</div>"
      ],
      "text/plain": [
       "       station_complex_id        day  ridership       DATE  \\\n",
       "268190                  6 2023-05-08     2570.0 2023-05-08   \n",
       "48656                 138 2023-04-21     2389.0 2023-04-21   \n",
       "238780                443 2022-07-22     1621.0 2022-07-22   \n",
       "188018                364 2023-03-17     1810.0 2023-03-17   \n",
       "175220                348 2022-02-13      939.0 2022-02-13   \n",
       "\n",
       "                               NAME  TMAX  TMIN  TAVG  PRCP  AWND  SNOW  \n",
       "268190  NY CITY CENTRAL PARK, NY US  77.0  58.0  67.5  0.00  4.70   0.0  \n",
       "48656   NY CITY CENTRAL PARK, NY US  71.0  51.0  61.0  0.00  5.14   0.0  \n",
       "238780  NY CITY CENTRAL PARK, NY US  94.0  78.0  86.0  0.00  2.68   0.0  \n",
       "188018  NY CITY CENTRAL PARK, NY US  60.0  47.0  53.5  0.00  3.36   0.0  \n",
       "175220  NY CITY CENTRAL PARK, NY US  42.0  25.0  33.5  0.23  6.71   1.6  "
      ]
     },
     "metadata": {},
     "output_type": "display_data"
    },
    {
     "name": "stdout",
     "output_type": "stream",
     "text": [
      "<class 'pandas.core.frame.DataFrame'>\n",
      "RangeIndex: 317467 entries, 0 to 317466\n",
      "Data columns (total 11 columns):\n",
      " #   Column              Non-Null Count   Dtype         \n",
      "---  ------              --------------   -----         \n",
      " 0   station_complex_id  317467 non-null  object        \n",
      " 1   day                 317467 non-null  datetime64[ns]\n",
      " 2   ridership           317467 non-null  float64       \n",
      " 3   DATE                317467 non-null  datetime64[ns]\n",
      " 4   NAME                317467 non-null  object        \n",
      " 5   TMAX                317467 non-null  float64       \n",
      " 6   TMIN                317467 non-null  float64       \n",
      " 7   TAVG                317467 non-null  float64       \n",
      " 8   PRCP                317467 non-null  float64       \n",
      " 9   AWND                317467 non-null  float64       \n",
      " 10  SNOW                317467 non-null  float64       \n",
      "dtypes: datetime64[ns](2), float64(7), object(2)\n",
      "memory usage: 26.6+ MB\n"
     ]
    }
   ],
   "source": [
    "# merging the weather data with the ridership data\n",
    "merged_data = pd.merge(\n",
    "    grouped_station_complex_daily,\n",
    "    weather_data,\n",
    "    left_on='day',\n",
    "    right_on='DATE',\n",
    "    how='inner'\n",
    ")\n",
    "\n",
    "# Display the first few rows to check the result\n",
    "display(merged_data.sample(5))\n",
    "merged_data.info()"
   ]
  },
  {
   "cell_type": "code",
   "execution_count": 75,
   "metadata": {},
   "outputs": [
    {
     "data": {
      "text/html": [
       "<div>\n",
       "<style scoped>\n",
       "    .dataframe tbody tr th:only-of-type {\n",
       "        vertical-align: middle;\n",
       "    }\n",
       "\n",
       "    .dataframe tbody tr th {\n",
       "        vertical-align: top;\n",
       "    }\n",
       "\n",
       "    .dataframe thead th {\n",
       "        text-align: right;\n",
       "    }\n",
       "</style>\n",
       "<table border=\"1\" class=\"dataframe\">\n",
       "  <thead>\n",
       "    <tr style=\"text-align: right;\">\n",
       "      <th></th>\n",
       "      <th>station_complex_id</th>\n",
       "      <th>day</th>\n",
       "      <th>ridership</th>\n",
       "      <th>DATE</th>\n",
       "      <th>NAME</th>\n",
       "      <th>TMAX</th>\n",
       "      <th>TMIN</th>\n",
       "      <th>TAVG</th>\n",
       "      <th>PRCP</th>\n",
       "      <th>AWND</th>\n",
       "      <th>SNOW</th>\n",
       "      <th>temp_range</th>\n",
       "    </tr>\n",
       "  </thead>\n",
       "  <tbody>\n",
       "    <tr>\n",
       "      <th>0</th>\n",
       "      <td>1</td>\n",
       "      <td>2022-02-19</td>\n",
       "      <td>3791.0</td>\n",
       "      <td>2022-02-19</td>\n",
       "      <td>NY CITY CENTRAL PARK, NY US</td>\n",
       "      <td>40.0</td>\n",
       "      <td>23.0</td>\n",
       "      <td>31.5</td>\n",
       "      <td>0.00</td>\n",
       "      <td>8.28</td>\n",
       "      <td>0.0</td>\n",
       "      <td>17.0</td>\n",
       "    </tr>\n",
       "    <tr>\n",
       "      <th>1</th>\n",
       "      <td>1</td>\n",
       "      <td>2022-03-09</td>\n",
       "      <td>9655.0</td>\n",
       "      <td>2022-03-09</td>\n",
       "      <td>NY CITY CENTRAL PARK, NY US</td>\n",
       "      <td>41.0</td>\n",
       "      <td>33.0</td>\n",
       "      <td>37.0</td>\n",
       "      <td>0.56</td>\n",
       "      <td>5.82</td>\n",
       "      <td>0.4</td>\n",
       "      <td>8.0</td>\n",
       "    </tr>\n",
       "    <tr>\n",
       "      <th>2</th>\n",
       "      <td>1</td>\n",
       "      <td>2022-03-15</td>\n",
       "      <td>2750.0</td>\n",
       "      <td>2022-03-15</td>\n",
       "      <td>NY CITY CENTRAL PARK, NY US</td>\n",
       "      <td>68.0</td>\n",
       "      <td>46.0</td>\n",
       "      <td>57.0</td>\n",
       "      <td>0.00</td>\n",
       "      <td>4.92</td>\n",
       "      <td>0.0</td>\n",
       "      <td>22.0</td>\n",
       "    </tr>\n",
       "    <tr>\n",
       "      <th>3</th>\n",
       "      <td>1</td>\n",
       "      <td>2022-03-19</td>\n",
       "      <td>4539.0</td>\n",
       "      <td>2022-03-19</td>\n",
       "      <td>NY CITY CENTRAL PARK, NY US</td>\n",
       "      <td>70.0</td>\n",
       "      <td>49.0</td>\n",
       "      <td>59.5</td>\n",
       "      <td>0.05</td>\n",
       "      <td>2.68</td>\n",
       "      <td>0.0</td>\n",
       "      <td>21.0</td>\n",
       "    </tr>\n",
       "    <tr>\n",
       "      <th>4</th>\n",
       "      <td>1</td>\n",
       "      <td>2022-03-29</td>\n",
       "      <td>9776.0</td>\n",
       "      <td>2022-03-29</td>\n",
       "      <td>NY CITY CENTRAL PARK, NY US</td>\n",
       "      <td>38.0</td>\n",
       "      <td>24.0</td>\n",
       "      <td>31.0</td>\n",
       "      <td>0.00</td>\n",
       "      <td>10.51</td>\n",
       "      <td>0.0</td>\n",
       "      <td>14.0</td>\n",
       "    </tr>\n",
       "  </tbody>\n",
       "</table>\n",
       "</div>"
      ],
      "text/plain": [
       "  station_complex_id        day  ridership       DATE  \\\n",
       "0                  1 2022-02-19     3791.0 2022-02-19   \n",
       "1                  1 2022-03-09     9655.0 2022-03-09   \n",
       "2                  1 2022-03-15     2750.0 2022-03-15   \n",
       "3                  1 2022-03-19     4539.0 2022-03-19   \n",
       "4                  1 2022-03-29     9776.0 2022-03-29   \n",
       "\n",
       "                          NAME  TMAX  TMIN  TAVG  PRCP   AWND  SNOW  \\\n",
       "0  NY CITY CENTRAL PARK, NY US  40.0  23.0  31.5  0.00   8.28   0.0   \n",
       "1  NY CITY CENTRAL PARK, NY US  41.0  33.0  37.0  0.56   5.82   0.4   \n",
       "2  NY CITY CENTRAL PARK, NY US  68.0  46.0  57.0  0.00   4.92   0.0   \n",
       "3  NY CITY CENTRAL PARK, NY US  70.0  49.0  59.5  0.05   2.68   0.0   \n",
       "4  NY CITY CENTRAL PARK, NY US  38.0  24.0  31.0  0.00  10.51   0.0   \n",
       "\n",
       "   temp_range  \n",
       "0        17.0  \n",
       "1         8.0  \n",
       "2        22.0  \n",
       "3        21.0  \n",
       "4        14.0  "
      ]
     },
     "execution_count": 75,
     "metadata": {},
     "output_type": "execute_result"
    }
   ],
   "source": [
    "merged_data['temp_range'] = merged_data['TMAX'] - merged_data['TMIN']\n",
    "merged_data.head()\n"
   ]
  },
  {
   "cell_type": "code",
   "execution_count": 101,
   "metadata": {},
   "outputs": [
    {
     "data": {
      "text/html": [
       "<div>\n",
       "<style scoped>\n",
       "    .dataframe tbody tr th:only-of-type {\n",
       "        vertical-align: middle;\n",
       "    }\n",
       "\n",
       "    .dataframe tbody tr th {\n",
       "        vertical-align: top;\n",
       "    }\n",
       "\n",
       "    .dataframe thead th {\n",
       "        text-align: right;\n",
       "    }\n",
       "</style>\n",
       "<table border=\"1\" class=\"dataframe\">\n",
       "  <thead>\n",
       "    <tr style=\"text-align: right;\">\n",
       "      <th></th>\n",
       "      <th>station_complex_id</th>\n",
       "      <th>day</th>\n",
       "      <th>ridership</th>\n",
       "      <th>DATE</th>\n",
       "      <th>NAME</th>\n",
       "      <th>TMAX</th>\n",
       "      <th>TMIN</th>\n",
       "      <th>TAVG</th>\n",
       "      <th>PRCP</th>\n",
       "      <th>AWND</th>\n",
       "      <th>...</th>\n",
       "      <th>is_rainy</th>\n",
       "      <th>is_snowy</th>\n",
       "      <th>is_cold</th>\n",
       "      <th>is_hot</th>\n",
       "      <th>is_holiday</th>\n",
       "      <th>holiday_name</th>\n",
       "      <th>day_of_week</th>\n",
       "      <th>month</th>\n",
       "      <th>day_name</th>\n",
       "      <th>is_windy</th>\n",
       "    </tr>\n",
       "  </thead>\n",
       "  <tbody>\n",
       "    <tr>\n",
       "      <th>0</th>\n",
       "      <td>1</td>\n",
       "      <td>2022-02-19</td>\n",
       "      <td>3791.0</td>\n",
       "      <td>2022-02-19</td>\n",
       "      <td>NY CITY CENTRAL PARK, NY US</td>\n",
       "      <td>40.0</td>\n",
       "      <td>23.0</td>\n",
       "      <td>31.5</td>\n",
       "      <td>0.00</td>\n",
       "      <td>8.28</td>\n",
       "      <td>...</td>\n",
       "      <td>0</td>\n",
       "      <td>0</td>\n",
       "      <td>1</td>\n",
       "      <td>0</td>\n",
       "      <td>0</td>\n",
       "      <td>None</td>\n",
       "      <td>5</td>\n",
       "      <td>2</td>\n",
       "      <td>Saturday</td>\n",
       "      <td>0</td>\n",
       "    </tr>\n",
       "    <tr>\n",
       "      <th>1</th>\n",
       "      <td>1</td>\n",
       "      <td>2022-03-09</td>\n",
       "      <td>9655.0</td>\n",
       "      <td>2022-03-09</td>\n",
       "      <td>NY CITY CENTRAL PARK, NY US</td>\n",
       "      <td>41.0</td>\n",
       "      <td>33.0</td>\n",
       "      <td>37.0</td>\n",
       "      <td>0.56</td>\n",
       "      <td>5.82</td>\n",
       "      <td>...</td>\n",
       "      <td>1</td>\n",
       "      <td>1</td>\n",
       "      <td>0</td>\n",
       "      <td>0</td>\n",
       "      <td>0</td>\n",
       "      <td>None</td>\n",
       "      <td>2</td>\n",
       "      <td>3</td>\n",
       "      <td>Wednesday</td>\n",
       "      <td>0</td>\n",
       "    </tr>\n",
       "    <tr>\n",
       "      <th>2</th>\n",
       "      <td>1</td>\n",
       "      <td>2022-03-15</td>\n",
       "      <td>2750.0</td>\n",
       "      <td>2022-03-15</td>\n",
       "      <td>NY CITY CENTRAL PARK, NY US</td>\n",
       "      <td>68.0</td>\n",
       "      <td>46.0</td>\n",
       "      <td>57.0</td>\n",
       "      <td>0.00</td>\n",
       "      <td>4.92</td>\n",
       "      <td>...</td>\n",
       "      <td>0</td>\n",
       "      <td>0</td>\n",
       "      <td>0</td>\n",
       "      <td>0</td>\n",
       "      <td>0</td>\n",
       "      <td>None</td>\n",
       "      <td>1</td>\n",
       "      <td>3</td>\n",
       "      <td>Tuesday</td>\n",
       "      <td>0</td>\n",
       "    </tr>\n",
       "    <tr>\n",
       "      <th>3</th>\n",
       "      <td>1</td>\n",
       "      <td>2022-03-19</td>\n",
       "      <td>4539.0</td>\n",
       "      <td>2022-03-19</td>\n",
       "      <td>NY CITY CENTRAL PARK, NY US</td>\n",
       "      <td>70.0</td>\n",
       "      <td>49.0</td>\n",
       "      <td>59.5</td>\n",
       "      <td>0.05</td>\n",
       "      <td>2.68</td>\n",
       "      <td>...</td>\n",
       "      <td>1</td>\n",
       "      <td>0</td>\n",
       "      <td>0</td>\n",
       "      <td>0</td>\n",
       "      <td>0</td>\n",
       "      <td>None</td>\n",
       "      <td>5</td>\n",
       "      <td>3</td>\n",
       "      <td>Saturday</td>\n",
       "      <td>0</td>\n",
       "    </tr>\n",
       "    <tr>\n",
       "      <th>4</th>\n",
       "      <td>1</td>\n",
       "      <td>2022-03-29</td>\n",
       "      <td>9776.0</td>\n",
       "      <td>2022-03-29</td>\n",
       "      <td>NY CITY CENTRAL PARK, NY US</td>\n",
       "      <td>38.0</td>\n",
       "      <td>24.0</td>\n",
       "      <td>31.0</td>\n",
       "      <td>0.00</td>\n",
       "      <td>10.51</td>\n",
       "      <td>...</td>\n",
       "      <td>0</td>\n",
       "      <td>0</td>\n",
       "      <td>1</td>\n",
       "      <td>0</td>\n",
       "      <td>0</td>\n",
       "      <td>None</td>\n",
       "      <td>1</td>\n",
       "      <td>3</td>\n",
       "      <td>Tuesday</td>\n",
       "      <td>1</td>\n",
       "    </tr>\n",
       "  </tbody>\n",
       "</table>\n",
       "<p>5 rows × 22 columns</p>\n",
       "</div>"
      ],
      "text/plain": [
       "  station_complex_id        day  ridership       DATE  \\\n",
       "0                  1 2022-02-19     3791.0 2022-02-19   \n",
       "1                  1 2022-03-09     9655.0 2022-03-09   \n",
       "2                  1 2022-03-15     2750.0 2022-03-15   \n",
       "3                  1 2022-03-19     4539.0 2022-03-19   \n",
       "4                  1 2022-03-29     9776.0 2022-03-29   \n",
       "\n",
       "                          NAME  TMAX  TMIN  TAVG  PRCP   AWND  ...  is_rainy  \\\n",
       "0  NY CITY CENTRAL PARK, NY US  40.0  23.0  31.5  0.00   8.28  ...         0   \n",
       "1  NY CITY CENTRAL PARK, NY US  41.0  33.0  37.0  0.56   5.82  ...         1   \n",
       "2  NY CITY CENTRAL PARK, NY US  68.0  46.0  57.0  0.00   4.92  ...         0   \n",
       "3  NY CITY CENTRAL PARK, NY US  70.0  49.0  59.5  0.05   2.68  ...         1   \n",
       "4  NY CITY CENTRAL PARK, NY US  38.0  24.0  31.0  0.00  10.51  ...         0   \n",
       "\n",
       "   is_snowy  is_cold  is_hot  is_holiday  holiday_name  day_of_week month  \\\n",
       "0         0        1       0           0          None            5     2   \n",
       "1         1        0       0           0          None            2     3   \n",
       "2         0        0       0           0          None            1     3   \n",
       "3         0        0       0           0          None            5     3   \n",
       "4         0        1       0           0          None            1     3   \n",
       "\n",
       "    day_name  is_windy  \n",
       "0   Saturday         0  \n",
       "1  Wednesday         0  \n",
       "2    Tuesday         0  \n",
       "3   Saturday         0  \n",
       "4    Tuesday         1  \n",
       "\n",
       "[5 rows x 22 columns]"
      ]
     },
     "execution_count": 101,
     "metadata": {},
     "output_type": "execute_result"
    }
   ],
   "source": [
    "# feature engineering for weather events\n",
    "merged_data['is_rainy'] = merged_data['PRCP'].apply(lambda x: 1 if x > 0 else 0)\n",
    "merged_data['is_snowy'] = merged_data['SNOW'].apply(lambda x: 1 if x > 0 else 0)\n",
    "merged_data['is_cold'] = merged_data['TAVG'].apply(lambda x: 1 if x < 32 else 0)\n",
    "merged_data['is_hot'] = merged_data['TAVG'].apply(lambda x: 1 if x > 90 else 0)\n",
    "merged_data['is_windy'] = merged_data['AWND'].apply(lambda x: 1 if x > 10 else 0)\n",
    "\n",
    "\n",
    "merged_data.head()\n"
   ]
  },
  {
   "cell_type": "code",
   "execution_count": 102,
   "metadata": {},
   "outputs": [
    {
     "data": {
      "text/html": [
       "<div>\n",
       "<style scoped>\n",
       "    .dataframe tbody tr th:only-of-type {\n",
       "        vertical-align: middle;\n",
       "    }\n",
       "\n",
       "    .dataframe tbody tr th {\n",
       "        vertical-align: top;\n",
       "    }\n",
       "\n",
       "    .dataframe thead th {\n",
       "        text-align: right;\n",
       "    }\n",
       "</style>\n",
       "<table border=\"1\" class=\"dataframe\">\n",
       "  <thead>\n",
       "    <tr style=\"text-align: right;\">\n",
       "      <th></th>\n",
       "      <th>station_complex_id</th>\n",
       "      <th>day</th>\n",
       "      <th>ridership</th>\n",
       "      <th>DATE</th>\n",
       "      <th>NAME</th>\n",
       "      <th>TMAX</th>\n",
       "      <th>TMIN</th>\n",
       "      <th>TAVG</th>\n",
       "      <th>PRCP</th>\n",
       "      <th>AWND</th>\n",
       "      <th>...</th>\n",
       "      <th>is_rainy</th>\n",
       "      <th>is_snowy</th>\n",
       "      <th>is_cold</th>\n",
       "      <th>is_hot</th>\n",
       "      <th>is_holiday</th>\n",
       "      <th>holiday_name</th>\n",
       "      <th>day_of_week</th>\n",
       "      <th>month</th>\n",
       "      <th>day_name</th>\n",
       "      <th>is_windy</th>\n",
       "    </tr>\n",
       "  </thead>\n",
       "  <tbody>\n",
       "    <tr>\n",
       "      <th>40</th>\n",
       "      <td>1</td>\n",
       "      <td>2023-02-20</td>\n",
       "      <td>3579.0</td>\n",
       "      <td>2023-02-20</td>\n",
       "      <td>NY CITY CENTRAL PARK, NY US</td>\n",
       "      <td>61.0</td>\n",
       "      <td>47.0</td>\n",
       "      <td>54.0</td>\n",
       "      <td>0.0</td>\n",
       "      <td>6.04</td>\n",
       "      <td>...</td>\n",
       "      <td>0</td>\n",
       "      <td>0</td>\n",
       "      <td>0</td>\n",
       "      <td>0</td>\n",
       "      <td>1</td>\n",
       "      <td>Washington's Birthday</td>\n",
       "      <td>0</td>\n",
       "      <td>2</td>\n",
       "      <td>Monday</td>\n",
       "      <td>0</td>\n",
       "    </tr>\n",
       "    <tr>\n",
       "      <th>121</th>\n",
       "      <td>2</td>\n",
       "      <td>2023-02-20</td>\n",
       "      <td>2691.0</td>\n",
       "      <td>2023-02-20</td>\n",
       "      <td>NY CITY CENTRAL PARK, NY US</td>\n",
       "      <td>61.0</td>\n",
       "      <td>47.0</td>\n",
       "      <td>54.0</td>\n",
       "      <td>0.0</td>\n",
       "      <td>6.04</td>\n",
       "      <td>...</td>\n",
       "      <td>0</td>\n",
       "      <td>0</td>\n",
       "      <td>0</td>\n",
       "      <td>0</td>\n",
       "      <td>1</td>\n",
       "      <td>Washington's Birthday</td>\n",
       "      <td>0</td>\n",
       "      <td>2</td>\n",
       "      <td>Monday</td>\n",
       "      <td>0</td>\n",
       "    </tr>\n",
       "    <tr>\n",
       "      <th>182</th>\n",
       "      <td>3</td>\n",
       "      <td>2023-01-01</td>\n",
       "      <td>21.0</td>\n",
       "      <td>2023-01-01</td>\n",
       "      <td>NY CITY CENTRAL PARK, NY US</td>\n",
       "      <td>55.0</td>\n",
       "      <td>49.0</td>\n",
       "      <td>52.0</td>\n",
       "      <td>0.0</td>\n",
       "      <td>4.92</td>\n",
       "      <td>...</td>\n",
       "      <td>0</td>\n",
       "      <td>0</td>\n",
       "      <td>0</td>\n",
       "      <td>0</td>\n",
       "      <td>1</td>\n",
       "      <td>New Year's Day</td>\n",
       "      <td>6</td>\n",
       "      <td>1</td>\n",
       "      <td>Sunday</td>\n",
       "      <td>0</td>\n",
       "    </tr>\n",
       "    <tr>\n",
       "      <th>253</th>\n",
       "      <td>4</td>\n",
       "      <td>2023-02-20</td>\n",
       "      <td>961.0</td>\n",
       "      <td>2023-02-20</td>\n",
       "      <td>NY CITY CENTRAL PARK, NY US</td>\n",
       "      <td>61.0</td>\n",
       "      <td>47.0</td>\n",
       "      <td>54.0</td>\n",
       "      <td>0.0</td>\n",
       "      <td>6.04</td>\n",
       "      <td>...</td>\n",
       "      <td>0</td>\n",
       "      <td>0</td>\n",
       "      <td>0</td>\n",
       "      <td>0</td>\n",
       "      <td>1</td>\n",
       "      <td>Washington's Birthday</td>\n",
       "      <td>0</td>\n",
       "      <td>2</td>\n",
       "      <td>Monday</td>\n",
       "      <td>0</td>\n",
       "    </tr>\n",
       "    <tr>\n",
       "      <th>437</th>\n",
       "      <td>8</td>\n",
       "      <td>2023-02-20</td>\n",
       "      <td>4074.0</td>\n",
       "      <td>2023-02-20</td>\n",
       "      <td>NY CITY CENTRAL PARK, NY US</td>\n",
       "      <td>61.0</td>\n",
       "      <td>47.0</td>\n",
       "      <td>54.0</td>\n",
       "      <td>0.0</td>\n",
       "      <td>6.04</td>\n",
       "      <td>...</td>\n",
       "      <td>0</td>\n",
       "      <td>0</td>\n",
       "      <td>0</td>\n",
       "      <td>0</td>\n",
       "      <td>1</td>\n",
       "      <td>Washington's Birthday</td>\n",
       "      <td>0</td>\n",
       "      <td>2</td>\n",
       "      <td>Monday</td>\n",
       "      <td>0</td>\n",
       "    </tr>\n",
       "  </tbody>\n",
       "</table>\n",
       "<p>5 rows × 22 columns</p>\n",
       "</div>"
      ],
      "text/plain": [
       "    station_complex_id        day  ridership       DATE  \\\n",
       "40                   1 2023-02-20     3579.0 2023-02-20   \n",
       "121                  2 2023-02-20     2691.0 2023-02-20   \n",
       "182                  3 2023-01-01       21.0 2023-01-01   \n",
       "253                  4 2023-02-20      961.0 2023-02-20   \n",
       "437                  8 2023-02-20     4074.0 2023-02-20   \n",
       "\n",
       "                            NAME  TMAX  TMIN  TAVG  PRCP  AWND  ...  is_rainy  \\\n",
       "40   NY CITY CENTRAL PARK, NY US  61.0  47.0  54.0   0.0  6.04  ...         0   \n",
       "121  NY CITY CENTRAL PARK, NY US  61.0  47.0  54.0   0.0  6.04  ...         0   \n",
       "182  NY CITY CENTRAL PARK, NY US  55.0  49.0  52.0   0.0  4.92  ...         0   \n",
       "253  NY CITY CENTRAL PARK, NY US  61.0  47.0  54.0   0.0  6.04  ...         0   \n",
       "437  NY CITY CENTRAL PARK, NY US  61.0  47.0  54.0   0.0  6.04  ...         0   \n",
       "\n",
       "     is_snowy  is_cold  is_hot  is_holiday           holiday_name  \\\n",
       "40          0        0       0           1  Washington's Birthday   \n",
       "121         0        0       0           1  Washington's Birthday   \n",
       "182         0        0       0           1         New Year's Day   \n",
       "253         0        0       0           1  Washington's Birthday   \n",
       "437         0        0       0           1  Washington's Birthday   \n",
       "\n",
       "     day_of_week month  day_name  is_windy  \n",
       "40             0     2    Monday         0  \n",
       "121            0     2    Monday         0  \n",
       "182            6     1    Sunday         0  \n",
       "253            0     2    Monday         0  \n",
       "437            0     2    Monday         0  \n",
       "\n",
       "[5 rows x 22 columns]"
      ]
     },
     "metadata": {},
     "output_type": "display_data"
    }
   ],
   "source": [
    "# check for hoidays\n",
    "import holidays\n",
    "us_holidays = holidays.US()\n",
    "merged_data['is_holiday'] = merged_data['day'].apply(lambda x: 1 if x in us_holidays else 0)\n",
    "merged_data['holiday_name'] = merged_data['day'].apply(lambda x: us_holidays.get(x))\n",
    "display(merged_data[merged_data['is_holiday'] == 1].head())\n",
    "\n",
    "\n"
   ]
  },
  {
   "cell_type": "code",
   "execution_count": 103,
   "metadata": {},
   "outputs": [
    {
     "data": {
      "image/png": "[encoded data removed]",
      "text/plain": [
       "<Figure size 1000x600 with 1 Axes>"
      ]
     },
     "metadata": {},
     "output_type": "display_data"
    }
   ],
   "source": [
    "plt.figure(figsize=(10, 6))\n",
    "plt.scatter(merged_data['TAVG'], merged_data['ridership'])\n",
    "plt.xlabel('Average Temperature (°F)')\n",
    "plt.ylabel('Ridership')\n",
    "plt.title('Ridership vs. Average Temperature')\n",
    "plt.show()\n"
   ]
  },
  {
   "cell_type": "code",
   "execution_count": 104,
   "metadata": {},
   "outputs": [],
   "source": [
    "import seaborn as sns"
   ]
  },
  {
   "cell_type": "code",
   "execution_count": 105,
   "metadata": {},
   "outputs": [
    {
     "data": {
      "image/png": "[encoded data removed]",
      "text/plain": [
       "<Figure size 640x480 with 1 Axes>"
      ]
     },
     "metadata": {},
     "output_type": "display_data"
    }
   ],
   "source": [
    "sns.boxplot(x='is_rainy', y='ridership', data=merged_data)\n",
    "plt.xlabel('Is Rainy')\n",
    "plt.ylabel('Ridership')\n",
    "plt.title('Ridership on Rainy vs. Non-Rainy Days')\n",
    "plt.show()\n"
   ]
  },
  {
   "cell_type": "code",
   "execution_count": 106,
   "metadata": {},
   "outputs": [
    {
     "data": {
      "text/html": [
       "<div>\n",
       "<style scoped>\n",
       "    .dataframe tbody tr th:only-of-type {\n",
       "        vertical-align: middle;\n",
       "    }\n",
       "\n",
       "    .dataframe tbody tr th {\n",
       "        vertical-align: top;\n",
       "    }\n",
       "\n",
       "    .dataframe thead th {\n",
       "        text-align: right;\n",
       "    }\n",
       "</style>\n",
       "<table border=\"1\" class=\"dataframe\">\n",
       "  <thead>\n",
       "    <tr style=\"text-align: right;\">\n",
       "      <th></th>\n",
       "      <th>station_complex_id</th>\n",
       "      <th>day</th>\n",
       "      <th>ridership</th>\n",
       "      <th>DATE</th>\n",
       "      <th>NAME</th>\n",
       "      <th>TMAX</th>\n",
       "      <th>TMIN</th>\n",
       "      <th>TAVG</th>\n",
       "      <th>PRCP</th>\n",
       "      <th>AWND</th>\n",
       "      <th>...</th>\n",
       "      <th>is_rainy</th>\n",
       "      <th>is_snowy</th>\n",
       "      <th>is_cold</th>\n",
       "      <th>is_hot</th>\n",
       "      <th>is_holiday</th>\n",
       "      <th>holiday_name</th>\n",
       "      <th>day_of_week</th>\n",
       "      <th>month</th>\n",
       "      <th>day_name</th>\n",
       "      <th>is_windy</th>\n",
       "    </tr>\n",
       "  </thead>\n",
       "  <tbody>\n",
       "    <tr>\n",
       "      <th>0</th>\n",
       "      <td>1</td>\n",
       "      <td>2022-02-19</td>\n",
       "      <td>3791.0</td>\n",
       "      <td>2022-02-19</td>\n",
       "      <td>NY CITY CENTRAL PARK, NY US</td>\n",
       "      <td>40.0</td>\n",
       "      <td>23.0</td>\n",
       "      <td>31.5</td>\n",
       "      <td>0.00</td>\n",
       "      <td>8.28</td>\n",
       "      <td>...</td>\n",
       "      <td>0</td>\n",
       "      <td>0</td>\n",
       "      <td>1</td>\n",
       "      <td>0</td>\n",
       "      <td>0</td>\n",
       "      <td>None</td>\n",
       "      <td>5</td>\n",
       "      <td>2</td>\n",
       "      <td>Saturday</td>\n",
       "      <td>0</td>\n",
       "    </tr>\n",
       "    <tr>\n",
       "      <th>1</th>\n",
       "      <td>1</td>\n",
       "      <td>2022-03-09</td>\n",
       "      <td>9655.0</td>\n",
       "      <td>2022-03-09</td>\n",
       "      <td>NY CITY CENTRAL PARK, NY US</td>\n",
       "      <td>41.0</td>\n",
       "      <td>33.0</td>\n",
       "      <td>37.0</td>\n",
       "      <td>0.56</td>\n",
       "      <td>5.82</td>\n",
       "      <td>...</td>\n",
       "      <td>1</td>\n",
       "      <td>1</td>\n",
       "      <td>0</td>\n",
       "      <td>0</td>\n",
       "      <td>0</td>\n",
       "      <td>None</td>\n",
       "      <td>2</td>\n",
       "      <td>3</td>\n",
       "      <td>Wednesday</td>\n",
       "      <td>0</td>\n",
       "    </tr>\n",
       "    <tr>\n",
       "      <th>2</th>\n",
       "      <td>1</td>\n",
       "      <td>2022-03-15</td>\n",
       "      <td>2750.0</td>\n",
       "      <td>2022-03-15</td>\n",
       "      <td>NY CITY CENTRAL PARK, NY US</td>\n",
       "      <td>68.0</td>\n",
       "      <td>46.0</td>\n",
       "      <td>57.0</td>\n",
       "      <td>0.00</td>\n",
       "      <td>4.92</td>\n",
       "      <td>...</td>\n",
       "      <td>0</td>\n",
       "      <td>0</td>\n",
       "      <td>0</td>\n",
       "      <td>0</td>\n",
       "      <td>0</td>\n",
       "      <td>None</td>\n",
       "      <td>1</td>\n",
       "      <td>3</td>\n",
       "      <td>Tuesday</td>\n",
       "      <td>0</td>\n",
       "    </tr>\n",
       "    <tr>\n",
       "      <th>3</th>\n",
       "      <td>1</td>\n",
       "      <td>2022-03-19</td>\n",
       "      <td>4539.0</td>\n",
       "      <td>2022-03-19</td>\n",
       "      <td>NY CITY CENTRAL PARK, NY US</td>\n",
       "      <td>70.0</td>\n",
       "      <td>49.0</td>\n",
       "      <td>59.5</td>\n",
       "      <td>0.05</td>\n",
       "      <td>2.68</td>\n",
       "      <td>...</td>\n",
       "      <td>1</td>\n",
       "      <td>0</td>\n",
       "      <td>0</td>\n",
       "      <td>0</td>\n",
       "      <td>0</td>\n",
       "      <td>None</td>\n",
       "      <td>5</td>\n",
       "      <td>3</td>\n",
       "      <td>Saturday</td>\n",
       "      <td>0</td>\n",
       "    </tr>\n",
       "    <tr>\n",
       "      <th>4</th>\n",
       "      <td>1</td>\n",
       "      <td>2022-03-29</td>\n",
       "      <td>9776.0</td>\n",
       "      <td>2022-03-29</td>\n",
       "      <td>NY CITY CENTRAL PARK, NY US</td>\n",
       "      <td>38.0</td>\n",
       "      <td>24.0</td>\n",
       "      <td>31.0</td>\n",
       "      <td>0.00</td>\n",
       "      <td>10.51</td>\n",
       "      <td>...</td>\n",
       "      <td>0</td>\n",
       "      <td>0</td>\n",
       "      <td>1</td>\n",
       "      <td>0</td>\n",
       "      <td>0</td>\n",
       "      <td>None</td>\n",
       "      <td>1</td>\n",
       "      <td>3</td>\n",
       "      <td>Tuesday</td>\n",
       "      <td>1</td>\n",
       "    </tr>\n",
       "  </tbody>\n",
       "</table>\n",
       "<p>5 rows × 22 columns</p>\n",
       "</div>"
      ],
      "text/plain": [
       "  station_complex_id        day  ridership       DATE  \\\n",
       "0                  1 2022-02-19     3791.0 2022-02-19   \n",
       "1                  1 2022-03-09     9655.0 2022-03-09   \n",
       "2                  1 2022-03-15     2750.0 2022-03-15   \n",
       "3                  1 2022-03-19     4539.0 2022-03-19   \n",
       "4                  1 2022-03-29     9776.0 2022-03-29   \n",
       "\n",
       "                          NAME  TMAX  TMIN  TAVG  PRCP   AWND  ...  is_rainy  \\\n",
       "0  NY CITY CENTRAL PARK, NY US  40.0  23.0  31.5  0.00   8.28  ...         0   \n",
       "1  NY CITY CENTRAL PARK, NY US  41.0  33.0  37.0  0.56   5.82  ...         1   \n",
       "2  NY CITY CENTRAL PARK, NY US  68.0  46.0  57.0  0.00   4.92  ...         0   \n",
       "3  NY CITY CENTRAL PARK, NY US  70.0  49.0  59.5  0.05   2.68  ...         1   \n",
       "4  NY CITY CENTRAL PARK, NY US  38.0  24.0  31.0  0.00  10.51  ...         0   \n",
       "\n",
       "   is_snowy  is_cold  is_hot  is_holiday  holiday_name  day_of_week month  \\\n",
       "0         0        1       0           0          None            5     2   \n",
       "1         1        0       0           0          None            2     3   \n",
       "2         0        0       0           0          None            1     3   \n",
       "3         0        0       0           0          None            5     3   \n",
       "4         0        1       0           0          None            1     3   \n",
       "\n",
       "    day_name  is_windy  \n",
       "0   Saturday         0  \n",
       "1  Wednesday         0  \n",
       "2    Tuesday         0  \n",
       "3   Saturday         0  \n",
       "4    Tuesday         1  \n",
       "\n",
       "[5 rows x 22 columns]"
      ]
     },
     "metadata": {},
     "output_type": "display_data"
    }
   ],
   "source": [
    "# day of week, month\n",
    "merged_data['day_of_week'] = merged_data['day'].dt.dayofweek # Monday is 0 and Sunday is 6\n",
    "merged_data['day_name'] = merged_data['day'].dt.day_name()\n",
    "merged_data['month'] = merged_data['day'].dt.month\n",
    "\n",
    "display(merged_data.head())"
   ]
  },
  {
   "cell_type": "code",
   "execution_count": 107,
   "metadata": {},
   "outputs": [],
   "source": [
    "features = [\n",
    "    'day_of_week', 'month', 'is_holiday',\n",
    "    'TAVG', 'temp_range', 'PRCP', 'AWND', 'SNOW',\n",
    "    'is_rainy', 'is_snowy', 'is_windy', 'is_cold', 'is_hot'\n",
    "]\n"
   ]
  },
  {
   "cell_type": "code",
   "execution_count": 108,
   "metadata": {},
   "outputs": [],
   "source": [
    "X = merged_data[features]\n",
    "y = merged_data['ridership']\n"
   ]
  },
  {
   "cell_type": "code",
   "execution_count": 109,
   "metadata": {},
   "outputs": [],
   "source": [
    "from sklearn.model_selection import TimeSeriesSplit\n",
    "\n",
    "tscv = TimeSeriesSplit(n_splits=5)\n"
   ]
  },
  {
   "cell_type": "code",
   "execution_count": 110,
   "metadata": {},
   "outputs": [],
   "source": [
    "from sklearn.ensemble import RandomForestRegressor\n",
    "\n",
    "model = RandomForestRegressor(n_estimators=100, n_jobs=-1, random_state=42)\n"
   ]
  },
  {
   "cell_type": "code",
   "execution_count": 111,
   "metadata": {},
   "outputs": [
    {
     "name": "stdout",
     "output_type": "stream",
     "text": [
      "MAE: 3591.0961734447665\n",
      "MAE: 3539.7815672370693\n",
      "MAE: 2708.103911927204\n",
      "MAE: 3754.138516675971\n",
      "MAE: 6821.446342242192\n",
      "Average MAE: 4082.913302305441\n"
     ]
    }
   ],
   "source": [
    "from sklearn.metrics import mean_absolute_error\n",
    "\n",
    "mae_list = []\n",
    "\n",
    "for train_index, test_index in tscv.split(X):\n",
    "    X_train, X_test = X.iloc[train_index], X.iloc[test_index]\n",
    "    y_train, y_test = y.iloc[train_index], y.iloc[test_index]\n",
    "\n",
    "    model.fit(X_train, y_train)\n",
    "    y_pred = model.predict(X_test)\n",
    "\n",
    "    mae = mean_absolute_error(y_test, y_pred)\n",
    "    mae_list.append(mae)\n",
    "    print('MAE:', mae)\n",
    "\n",
    "print('Average MAE:', np.mean(mae_list))\n"
   ]
  },
  {
   "cell_type": "code",
   "execution_count": 112,
   "metadata": {},
   "outputs": [
    {
     "data": {
      "image/png": "[encoded data removed]",
      "text/plain": [
       "<Figure size 1000x600 with 1 Axes>"
      ]
     },
     "metadata": {},
     "output_type": "display_data"
    }
   ],
   "source": [
    "importances = model.feature_importances_\n",
    "feature_names = X.columns\n",
    "feature_importance_df = pd.DataFrame({\n",
    "    'Feature': feature_names,\n",
    "    'Importance': importances\n",
    "}).sort_values(by='Importance', ascending=False)\n",
    "\n",
    "plt.figure(figsize=(10, 6))\n",
    "sns.barplot(x='Importance', y='Feature', data=feature_importance_df)\n",
    "plt.title('Feature Importance')\n",
    "plt.show()\n"
   ]
  },
  {
   "cell_type": "code",
   "execution_count": 113,
   "metadata": {},
   "outputs": [
    {
     "data": {
      "image/png": "[encoded data removed]",
      "text/plain": [
       "<Figure size 1000x600 with 1 Axes>"
      ]
     },
     "metadata": {},
     "output_type": "display_data"
    }
   ],
   "source": [
    "residuals = y_test - y_pred\n",
    "plt.figure(figsize=(10, 6))\n",
    "plt.scatter(y_pred, residuals)\n",
    "plt.xlabel('Predicted Ridership')\n",
    "plt.ylabel('Residuals')\n",
    "plt.title('Residual Analysis')\n",
    "plt.axhline(0, color='red', linestyle='--')\n",
    "plt.show()\n"
   ]
  },
  {
   "cell_type": "code",
   "execution_count": 114,
   "metadata": {},
   "outputs": [
    {
     "name": "stdout",
     "output_type": "stream",
     "text": [
      "Best Parameters: {'max_depth': 10, 'min_samples_leaf': 1, 'min_samples_split': 2, 'n_estimators': 100}\n",
      "Best MAE: 4073.617435159102\n"
     ]
    },
    {
     "ename": "",
     "evalue": "",
     "output_type": "error",
     "traceback": [
      "\u001b[1;31mThe Kernel crashed while executing code in the current cell or a previous cell. \n",
      "\u001b[1;31mPlease review the code in the cell(s) to identify a possible cause of the failure. \n",
      "\u001b[1;31mClick <a href='https://aka.ms/vscodeJupyterKernelCrash'>here</a> for more info. \n",
      "\u001b[1;31mView Jupyter <a href='command:jupyter.viewOutput'>log</a> for further details."
     ]
    },
    {
     "ename": "",
     "evalue": "",
     "output_type": "error",
     "traceback": [
      "\u001b[1;31mThe Kernel crashed while executing code in the current cell or a previous cell. \n",
      "\u001b[1;31mPlease review the code in the cell(s) to identify a possible cause of the failure. \n",
      "\u001b[1;31mClick <a href='https://aka.ms/vscodeJupyterKernelCrash'>here</a> for more info. \n",
      "\u001b[1;31mView Jupyter <a href='command:jupyter.viewOutput'>log</a> for further details."
     ]
    },
    {
     "ename": "",
     "evalue": "",
     "output_type": "error",
     "traceback": [
      "\u001b[1;31mThe Kernel crashed while executing code in the current cell or a previous cell. \n",
      "\u001b[1;31mPlease review the code in the cell(s) to identify a possible cause of the failure. \n",
      "\u001b[1;31mClick <a href='https://aka.ms/vscodeJupyterKernelCrash'>here</a> for more info. \n",
      "\u001b[1;31mView Jupyter <a href='command:jupyter.viewOutput'>log</a> for further details."
     ]
    },
    {
     "ename": "",
     "evalue": "",
     "output_type": "error",
     "traceback": [
      "\u001b[1;31mThe Kernel crashed while executing code in the current cell or a previous cell. \n",
      "\u001b[1;31mPlease review the code in the cell(s) to identify a possible cause of the failure. \n",
      "\u001b[1;31mClick <a href='https://aka.ms/vscodeJupyterKernelCrash'>here</a> for more info. \n",
      "\u001b[1;31mView Jupyter <a href='command:jupyter.viewOutput'>log</a> for further details."
     ]
    },
    {
     "ename": "",
     "evalue": "",
     "output_type": "error",
     "traceback": [
      "\u001b[1;31mThe Kernel crashed while executing code in the current cell or a previous cell. \n",
      "\u001b[1;31mPlease review the code in the cell(s) to identify a possible cause of the failure. \n",
      "\u001b[1;31mClick <a href='https://aka.ms/vscodeJupyterKernelCrash'>here</a> for more info. \n",
      "\u001b[1;31mView Jupyter <a href='command:jupyter.viewOutput'>log</a> for further details."
     ]
    },
    {
     "ename": "",
     "evalue": "",
     "output_type": "error",
     "traceback": [
      "\u001b[1;31mThe Kernel crashed while executing code in the current cell or a previous cell. \n",
      "\u001b[1;31mPlease review the code in the cell(s) to identify a possible cause of the failure. \n",
      "\u001b[1;31mClick <a href='https://aka.ms/vscodeJupyterKernelCrash'>here</a> for more info. \n",
      "\u001b[1;31mView Jupyter <a href='command:jupyter.viewOutput'>log</a> for further details."
     ]
    }
   ],
   "source": [
    "from sklearn.model_selection import GridSearchCV\n",
    "\n",
    "param_grid = {\n",
    "    'n_estimators': [100, 200, 300],\n",
    "    'max_depth': [None, 10, 20],\n",
    "    'min_samples_split': [2, 5],\n",
    "    'min_samples_leaf': [1, 2]\n",
    "}\n",
    "\n",
    "grid_search = GridSearchCV(\n",
    "    estimator=RandomForestRegressor(n_jobs=-1, random_state=42),\n",
    "    param_grid=param_grid,\n",
    "    scoring='neg_mean_absolute_error',\n",
    "    cv=tscv,\n",
    "    n_jobs=-1\n",
    ")\n",
    "\n",
    "grid_search.fit(X, y)\n",
    "print('Best Parameters:', grid_search.best_params_)\n",
    "print('Best MAE:', -grid_search.best_score_)\n"
   ]
  },
  {
   "cell_type": "code",
   "execution_count": null,
   "metadata": {},
   "outputs": [],
   "source": [
    "plt.figure(figsize=(10, 6))\n",
    "plt.plot(y_test.values, label='Actual Ridership')\n",
    "plt.plot(y_pred, label='Predicted Ridership')\n",
    "plt.legend()\n",
    "plt.title('Actual vs. Predicted Ridership')\n",
    "plt.show()\n"
   ]
  },
  {
   "cell_type": "code",
   "execution_count": null,
   "metadata": {},
   "outputs": [],
   "source": []
  },
  {
   "cell_type": "code",
   "execution_count": null,
   "metadata": {},
   "outputs": [],
   "source": []
  },
  {
   "cell_type": "code",
   "execution_count": 61,
   "metadata": {},
   "outputs": [
    {
     "data": {
      "application/vnd.plotly.v1+json": {
       "config": {
        "plotlyServerURL": "https://plot.ly"
       },
       "data": [
        {
         "mode": "lines+markers",
         "name": "2022-03-09",
         "type": "scatter",
         "x": [
          0,
          1,
          3,
          4,
          5,
          6,
          7,
          8,
          9,
          10,
          11,
          12,
          13,
          14,
          15,
          16,
          17,
          18,
          19,
          20,
          21,
          22,
          23
         ],
         "y": [
          7,
          10,
          8,
          36,
          135,
          293,
          677,
          599,
          287,
          210,
          132,
          121,
          125,
          147,
          144,
          156,
          209,
          128,
          87,
          29,
          36,
          24,
          10
         ]
        },
        {
         "mode": "lines+markers",
         "name": "2022-03-16",
         "type": "scatter",
         "x": [
          3
         ],
         "y": [
          1
         ]
        },
        {
         "mode": "lines+markers",
         "name": "2022-03-19",
         "type": "scatter",
         "x": [
          0,
          1,
          2,
          3,
          4,
          5,
          6,
          7,
          8,
          9,
          10,
          11,
          12,
          13,
          14,
          15,
          16,
          17,
          18,
          19,
          20,
          21,
          22,
          23
         ],
         "y": [
          4,
          5,
          4,
          1,
          7,
          31,
          64,
          95,
          185,
          96,
          186,
          150,
          192,
          57,
          155,
          143,
          115,
          45,
          106,
          106,
          16,
          36,
          24,
          30
         ]
        },
        {
         "mode": "lines+markers",
         "name": "2022-03-29",
         "type": "scatter",
         "x": [
          0,
          1,
          2,
          3,
          4,
          5,
          6,
          7,
          8,
          9,
          10,
          11,
          12,
          13,
          14,
          15,
          16,
          17,
          18,
          19,
          20,
          21,
          22,
          23
         ],
         "y": [
          11,
          4,
          4,
          15,
          41,
          135,
          310,
          715,
          591,
          333,
          220,
          173,
          148,
          173,
          155,
          158,
          145,
          215,
          153,
          104,
          41,
          26,
          23,
          7
         ]
        },
        {
         "mode": "lines+markers",
         "name": "2022-04-01",
         "type": "scatter",
         "x": [
          0,
          1,
          2,
          3,
          4,
          5,
          6,
          7,
          8,
          9,
          10,
          11,
          12,
          13,
          14,
          15,
          16,
          17,
          18,
          19,
          20,
          21,
          22,
          23
         ],
         "y": [
          9,
          7,
          2,
          14,
          39,
          136,
          311,
          681,
          560,
          331,
          250,
          168,
          140,
          192,
          184,
          164,
          185,
          217,
          154,
          90,
          53,
          43,
          35,
          11
         ]
        },
        {
         "mode": "lines+markers",
         "name": "2022-04-03",
         "type": "scatter",
         "x": [
          0,
          1,
          2,
          3,
          4,
          5,
          6,
          7,
          8,
          9,
          10,
          11,
          12,
          13,
          14,
          15,
          16,
          17,
          18,
          19,
          20,
          21,
          22,
          23
         ],
         "y": [
          12,
          7,
          5,
          10,
          9,
          21,
          71,
          102,
          154,
          194,
          198,
          159,
          144,
          137,
          131,
          122,
          74,
          96,
          78,
          64,
          49,
          31,
          21,
          11
         ]
        },
        {
         "mode": "lines+markers",
         "name": "2022-04-12",
         "type": "scatter",
         "x": [
          0,
          1,
          2,
          3,
          4,
          5,
          6,
          7,
          8,
          9,
          10,
          14,
          15,
          16,
          17,
          18,
          19,
          20,
          21,
          22,
          23
         ],
         "y": [
          4,
          8,
          2,
          12,
          35,
          126,
          349,
          691,
          570,
          34,
          6,
          19,
          25,
          54,
          74,
          91,
          46,
          35,
          27,
          20,
          15
         ]
        },
        {
         "mode": "lines+markers",
         "name": "2022-04-15",
         "type": "scatter",
         "x": [
          0,
          1,
          2,
          3,
          4,
          5,
          6,
          7,
          8,
          9,
          10,
          11,
          12,
          13,
          14,
          15,
          16,
          17,
          18,
          19,
          20,
          21,
          22,
          23
         ],
         "y": [
          3,
          4,
          4,
          10,
          32,
          110,
          221,
          329,
          393,
          325,
          246,
          165,
          175,
          169,
          188,
          173,
          149,
          178,
          143,
          114,
          80,
          59,
          36,
          18
         ]
        },
        {
         "mode": "lines+markers",
         "name": "2022-04-24",
         "type": "scatter",
         "x": [
          0,
          1,
          2,
          3,
          4,
          5,
          6,
          7,
          8,
          9,
          10,
          11,
          12,
          13,
          14,
          15,
          16,
          17,
          18,
          19,
          20,
          21,
          22,
          23
         ],
         "y": [
          9,
          5,
          3,
          8,
          14,
          33,
          76,
          102,
          171,
          195,
          224,
          146,
          192,
          170,
          168,
          145,
          97,
          98,
          83,
          63,
          50,
          25,
          23,
          13
         ]
        },
        {
         "mode": "lines+markers",
         "name": "2022-05-10",
         "type": "scatter",
         "x": [
          0,
          1,
          2,
          3,
          4,
          5,
          6,
          7,
          8,
          9,
          10,
          11,
          12,
          13,
          14,
          15,
          16,
          17,
          18,
          19,
          20,
          21,
          22,
          23
         ],
         "y": [
          5,
          2,
          7,
          12,
          37,
          123,
          311,
          686,
          608,
          345,
          231,
          186,
          160,
          179,
          169,
          184,
          167,
          222,
          135,
          84,
          39,
          33,
          20,
          14
         ]
        },
        {
         "mode": "lines+markers",
         "name": "2022-05-21",
         "type": "scatter",
         "x": [
          0,
          1,
          2,
          3,
          4,
          5,
          6,
          7,
          8,
          9,
          10,
          11,
          12,
          13,
          14,
          15,
          16,
          17,
          18,
          19,
          20,
          21,
          22,
          23
         ],
         "y": [
          13,
          8,
          11,
          5,
          14,
          68,
          137,
          183,
          253,
          323,
          201,
          238,
          243,
          240,
          202,
          168,
          139,
          172,
          115,
          97,
          66,
          44,
          30,
          25
         ]
        },
        {
         "mode": "lines+markers",
         "name": "2022-05-22",
         "type": "scatter",
         "x": [
          3,
          4,
          7,
          8,
          9,
          11,
          12,
          13,
          17,
          18,
          19,
          21,
          22
         ],
         "y": [
          1,
          4,
          14,
          11,
          16,
          12,
          12,
          32,
          25,
          3,
          29,
          23,
          8
         ]
        },
        {
         "mode": "lines+markers",
         "name": "2022-05-29",
         "type": "scatter",
         "x": [
          0,
          2,
          3,
          5,
          6,
          7,
          8,
          9,
          10,
          11,
          13,
          14,
          15,
          16,
          18,
          19,
          20,
          21,
          22,
          23
         ],
         "y": [
          4,
          3,
          2,
          9,
          29,
          48,
          49,
          42,
          43,
          93,
          78,
          32,
          80,
          58,
          25,
          2,
          18,
          3,
          3,
          15
         ]
        },
        {
         "mode": "lines+markers",
         "name": "2022-06-06",
         "type": "scatter",
         "x": [
          22
         ],
         "y": [
          9
         ]
        },
        {
         "mode": "lines+markers",
         "name": "2022-06-07",
         "type": "scatter",
         "x": [
          0,
          1,
          3,
          4,
          5,
          6,
          7,
          8,
          9,
          10,
          11,
          12,
          13,
          14,
          15,
          16,
          17,
          18,
          19,
          20,
          21,
          22,
          23
         ],
         "y": [
          1,
          1,
          10,
          24,
          73,
          259,
          483,
          249,
          164,
          177,
          121,
          41,
          27,
          161,
          133,
          84,
          81,
          58,
          73,
          27,
          18,
          9,
          8
         ]
        },
        {
         "mode": "lines+markers",
         "name": "2022-06-11",
         "type": "scatter",
         "x": [
          0,
          3,
          4,
          5,
          6,
          7,
          8,
          9,
          10,
          11,
          12,
          13,
          15,
          16,
          17,
          18,
          19,
          20,
          22
         ],
         "y": [
          5,
          4,
          1,
          10,
          44,
          51,
          19,
          112,
          11,
          1,
          31,
          31,
          92,
          59,
          73,
          6,
          1,
          19,
          13
         ]
        },
        {
         "mode": "lines+markers",
         "name": "2022-07-24",
         "type": "scatter",
         "x": [
          0,
          1,
          2,
          3,
          4,
          5,
          6,
          7,
          8,
          9,
          10,
          11,
          12,
          13,
          14,
          15,
          16,
          17,
          18,
          19,
          20,
          21,
          22,
          23
         ],
         "y": [
          17,
          3,
          4,
          10,
          14,
          24,
          67,
          118,
          126,
          216,
          222,
          159,
          143,
          166,
          171,
          123,
          88,
          104,
          73,
          70,
          61,
          30,
          26,
          19
         ]
        },
        {
         "mode": "lines+markers",
         "name": "2022-07-27",
         "type": "scatter",
         "x": [
          0,
          1,
          2,
          3,
          4,
          5,
          6,
          7,
          8,
          9,
          10,
          11,
          12,
          13,
          14,
          15,
          16,
          17,
          18,
          19,
          20,
          21,
          22,
          23
         ],
         "y": [
          10,
          5,
          3,
          13,
          28,
          133,
          282,
          451,
          460,
          314,
          224,
          209,
          172,
          166,
          167,
          137,
          186,
          207,
          139,
          84,
          63,
          57,
          29,
          8
         ]
        },
        {
         "mode": "lines+markers",
         "name": "2022-08-05",
         "type": "scatter",
         "x": [
          0,
          1,
          2,
          3,
          4,
          5,
          6,
          7,
          8,
          9,
          10,
          11,
          12,
          13,
          14,
          15,
          16,
          17,
          18,
          19,
          20,
          21,
          22,
          23
         ],
         "y": [
          9,
          2,
          6,
          7,
          38,
          121,
          245,
          366,
          427,
          307,
          260,
          161,
          154,
          163,
          194,
          164,
          181,
          222,
          142,
          129,
          72,
          71,
          31,
          16
         ]
        },
        {
         "mode": "lines+markers",
         "name": "2022-08-10",
         "type": "scatter",
         "x": [
          0,
          1,
          2,
          3,
          4,
          5,
          6,
          7,
          8,
          9,
          10,
          11,
          12,
          13,
          14,
          15,
          16,
          17,
          18,
          19,
          20,
          21,
          22,
          23
         ],
         "y": [
          4,
          4,
          1,
          14,
          41,
          131,
          280,
          422,
          427,
          334,
          236,
          162,
          122,
          178,
          196,
          152,
          191,
          242,
          164,
          69,
          55,
          50,
          30,
          11
         ]
        },
        {
         "mode": "lines+markers",
         "name": "2022-08-15",
         "type": "scatter",
         "x": [
          0,
          1,
          2,
          3,
          4,
          5,
          6,
          7,
          8,
          9,
          10,
          11,
          12,
          13,
          14,
          15,
          16,
          17,
          18,
          19,
          20,
          21,
          22,
          23
         ],
         "y": [
          4,
          7,
          1,
          13,
          45,
          124,
          267,
          380,
          390,
          279,
          197,
          144,
          149,
          139,
          170,
          138,
          168,
          213,
          128,
          115,
          44,
          47,
          15,
          15
         ]
        },
        {
         "mode": "lines+markers",
         "name": "2022-08-17",
         "type": "scatter",
         "x": [
          0,
          1,
          4,
          5,
          6,
          7,
          8,
          9,
          10,
          11,
          12,
          13,
          14,
          15,
          16,
          17,
          18,
          19,
          20,
          21,
          22,
          23
         ],
         "y": [
          3,
          4,
          8,
          122,
          120,
          170,
          385,
          272,
          106,
          94,
          102,
          153,
          110,
          16,
          182,
          217,
          119,
          79,
          21,
          30,
          17,
          11
         ]
        },
        {
         "mode": "lines+markers",
         "name": "2022-09-13",
         "type": "scatter",
         "x": [
          0,
          1,
          2,
          3,
          4,
          5,
          6,
          7,
          8,
          9,
          10,
          11,
          12,
          13,
          14,
          15,
          16,
          17,
          18,
          19,
          20,
          21,
          22,
          23
         ],
         "y": [
          1,
          3,
          6,
          14,
          29,
          136,
          285,
          760,
          644,
          378,
          261,
          204,
          146,
          178,
          165,
          198,
          195,
          212,
          151,
          111,
          51,
          36,
          26,
          12
         ]
        },
        {
         "mode": "lines+markers",
         "name": "2022-09-19",
         "type": "scatter",
         "x": [
          6,
          9
         ],
         "y": [
          69,
          8
         ]
        },
        {
         "mode": "lines+markers",
         "name": "2022-09-20",
         "type": "scatter",
         "x": [
          0,
          3,
          4,
          5,
          6,
          7,
          8,
          9,
          11,
          12,
          13,
          14,
          15,
          17,
          18,
          19,
          21,
          22,
          23
         ],
         "y": [
          2,
          3,
          13,
          37,
          59,
          121,
          208,
          68,
          3,
          9,
          62,
          6,
          26,
          29,
          49,
          46,
          1,
          8,
          3
         ]
        },
        {
         "mode": "lines+markers",
         "name": "2022-09-24",
         "type": "scatter",
         "x": [
          0,
          1,
          2,
          3,
          4,
          5,
          6,
          7,
          8,
          9,
          10,
          11,
          12,
          13,
          14,
          15,
          16,
          17,
          18,
          19,
          20,
          21,
          22,
          23
         ],
         "y": [
          6,
          4,
          6,
          4,
          19,
          62,
          116,
          196,
          213,
          271,
          221,
          227,
          178,
          202,
          169,
          183,
          159,
          143,
          102,
          97,
          56,
          40,
          32,
          29
         ]
        },
        {
         "mode": "lines+markers",
         "name": "2022-09-26",
         "type": "scatter",
         "x": [
          3,
          4,
          5,
          7,
          8,
          9,
          10,
          11,
          12,
          15,
          16,
          17,
          20,
          21,
          23
         ],
         "y": [
          1,
          1,
          30,
          55,
          114,
          9,
          13,
          62,
          3,
          8,
          40,
          5,
          8,
          3,
          5
         ]
        },
        {
         "mode": "lines+markers",
         "name": "2022-10-15",
         "type": "scatter",
         "x": [
          0,
          1,
          2,
          3,
          4,
          5,
          6,
          7,
          8,
          9,
          10,
          11,
          12,
          13,
          14,
          15,
          16,
          17,
          18,
          19,
          20,
          21,
          22,
          23
         ],
         "y": [
          6,
          9,
          3,
          17,
          19,
          62,
          115,
          209,
          229,
          288,
          222,
          202,
          202,
          196,
          168,
          190,
          150,
          151,
          105,
          95,
          56,
          50,
          31,
          21
         ]
        },
        {
         "mode": "lines+markers",
         "name": "2022-10-25",
         "type": "scatter",
         "x": [
          0,
          1,
          2,
          3,
          4,
          5,
          6,
          7,
          8,
          9,
          10,
          11,
          12,
          13,
          14,
          15,
          16,
          17,
          18,
          19,
          20,
          21,
          22,
          23
         ],
         "y": [
          2,
          4,
          4,
          16,
          39,
          122,
          320,
          678,
          657,
          370,
          258,
          178,
          149,
          179,
          181,
          192,
          190,
          205,
          148,
          72,
          53,
          35,
          24,
          15
         ]
        },
        {
         "mode": "lines+markers",
         "name": "2022-11-09",
         "type": "scatter",
         "x": [
          0,
          1,
          2,
          3,
          4,
          5,
          6,
          7,
          8,
          9,
          10,
          11,
          12,
          13,
          14,
          15,
          16,
          17,
          18,
          19,
          20,
          21,
          22,
          23
         ],
         "y": [
          3,
          7,
          2,
          4,
          1,
          40,
          196,
          211,
          135,
          57,
          145,
          73,
          50,
          30,
          91,
          57,
          73,
          51,
          89,
          54,
          14,
          2,
          9,
          10
         ]
        },
        {
         "mode": "lines+markers",
         "name": "2022-11-10",
         "type": "scatter",
         "x": [
          2,
          3,
          4,
          5,
          6,
          7,
          8,
          9,
          10,
          11,
          12,
          13,
          14,
          15,
          16,
          17,
          18,
          19,
          20,
          21,
          22,
          23
         ],
         "y": [
          1,
          16,
          10,
          6,
          175,
          502,
          30,
          28,
          160,
          74,
          59,
          66,
          97,
          88,
          69,
          15,
          71,
          28,
          31,
          21,
          5,
          8
         ]
        },
        {
         "mode": "lines+markers",
         "name": "2022-11-12",
         "type": "scatter",
         "x": [
          18
         ],
         "y": [
          4
         ]
        },
        {
         "mode": "lines+markers",
         "name": "2022-12-09",
         "type": "scatter",
         "x": [
          0,
          1,
          2,
          3,
          4,
          5,
          6,
          7,
          8,
          9,
          10,
          11,
          12,
          13,
          14,
          15,
          16,
          17,
          18,
          19,
          20,
          21,
          22,
          23
         ],
         "y": [
          7,
          1,
          2,
          7,
          54,
          157,
          254,
          520,
          573,
          300,
          229,
          175,
          150,
          195,
          225,
          128,
          214,
          232,
          186,
          83,
          57,
          51,
          34,
          26
         ]
        },
        {
         "mode": "lines+markers",
         "name": "2022-12-13",
         "type": "scatter",
         "x": [
          0,
          1,
          2,
          3,
          4,
          5,
          6,
          7,
          8,
          9,
          10,
          11,
          12,
          13,
          14,
          15,
          16,
          17,
          18,
          19,
          20,
          21,
          22,
          23
         ],
         "y": [
          3,
          1,
          2,
          9,
          42,
          139,
          318,
          684,
          646,
          378,
          231,
          168,
          152,
          148,
          175,
          171,
          196,
          208,
          158,
          73,
          57,
          39,
          18,
          11
         ]
        },
        {
         "mode": "lines+markers",
         "name": "2022-12-17",
         "type": "scatter",
         "x": [
          0,
          1,
          2,
          4,
          5,
          6,
          7,
          8,
          9,
          10,
          11,
          12,
          14,
          15,
          16,
          17,
          18,
          19,
          20,
          21,
          22,
          23
         ],
         "y": [
          4,
          1,
          1,
          15,
          17,
          24,
          68,
          160,
          124,
          24,
          98,
          165,
          72,
          37,
          39,
          91,
          29,
          22,
          14,
          23,
          37,
          3
         ]
        },
        {
         "mode": "lines+markers",
         "name": "2022-12-21",
         "type": "scatter",
         "x": [
          0,
          1,
          2,
          3,
          4,
          5,
          6,
          7,
          8,
          9,
          10,
          11,
          12,
          13,
          14,
          15,
          16,
          17,
          18,
          19,
          20,
          21,
          22,
          23
         ],
         "y": [
          11,
          5,
          3,
          10,
          23,
          162,
          290,
          650,
          554,
          368,
          263,
          189,
          173,
          183,
          201,
          202,
          230,
          294,
          170,
          101,
          54,
          52,
          47,
          16
         ]
        },
        {
         "mode": "lines+markers",
         "name": "2022-12-29",
         "type": "scatter",
         "x": [
          1,
          3,
          5,
          6,
          7,
          8,
          11,
          12,
          13,
          15,
          17,
          18,
          22,
          23
         ],
         "y": [
          1,
          4,
          39,
          33,
          81,
          24,
          82,
          123,
          9,
          19,
          4,
          9,
          13,
          4
         ]
        },
        {
         "mode": "lines+markers",
         "name": "2023-01-04",
         "type": "scatter",
         "x": [
          0,
          2,
          3,
          4,
          5,
          6,
          7,
          8,
          9,
          10,
          11,
          12,
          13,
          14,
          15,
          16,
          17,
          18,
          19,
          20,
          21,
          22,
          23
         ],
         "y": [
          7,
          2,
          4,
          32,
          95,
          306,
          255,
          314,
          190,
          227,
          134,
          126,
          54,
          75,
          133,
          114,
          141,
          161,
          48,
          18,
          31,
          19,
          4
         ]
        },
        {
         "mode": "lines+markers",
         "name": "2023-01-06",
         "type": "scatter",
         "x": [
          0,
          1,
          2,
          3,
          4,
          5,
          6,
          7,
          8,
          9,
          10,
          11,
          12,
          13,
          14,
          15,
          16,
          17,
          18,
          19,
          20,
          21,
          22,
          23
         ],
         "y": [
          4,
          4,
          2,
          4,
          35,
          104,
          179,
          613,
          400,
          288,
          160,
          125,
          125,
          199,
          65,
          122,
          170,
          139,
          102,
          99,
          42,
          33,
          19,
          24
         ]
        },
        {
         "mode": "lines+markers",
         "name": "2023-01-12",
         "type": "scatter",
         "x": [
          0,
          1,
          2,
          3,
          4,
          5,
          6,
          7,
          8,
          9,
          10,
          11,
          12,
          13,
          14,
          15,
          16,
          17,
          18,
          19,
          20,
          21,
          22,
          23
         ],
         "y": [
          10,
          3,
          3,
          1,
          2,
          46,
          238,
          488,
          175,
          72,
          138,
          63,
          62,
          68,
          8,
          34,
          169,
          187,
          15,
          7,
          42,
          26,
          6,
          2
         ]
        },
        {
         "mode": "lines+markers",
         "name": "2023-01-19",
         "type": "scatter",
         "x": [
          17
         ],
         "y": [
          8
         ]
        },
        {
         "mode": "lines+markers",
         "name": "2023-01-20",
         "type": "scatter",
         "x": [
          0,
          1,
          3,
          4,
          5,
          6,
          7,
          8,
          9,
          10,
          11,
          13,
          14,
          15,
          16,
          17,
          18,
          19,
          20,
          22,
          23
         ],
         "y": [
          4,
          2,
          1,
          20,
          46,
          29,
          24,
          212,
          24,
          50,
          6,
          60,
          27,
          17,
          47,
          13,
          75,
          45,
          14,
          2,
          7
         ]
        },
        {
         "mode": "lines+markers",
         "name": "2023-01-22",
         "type": "scatter",
         "x": [
          0,
          1,
          2,
          3,
          4,
          5,
          6,
          7,
          8,
          9,
          10,
          11,
          12,
          13,
          14,
          15,
          16,
          17,
          18,
          19,
          20,
          21,
          22,
          23
         ],
         "y": [
          4,
          11,
          4,
          2,
          4,
          22,
          37,
          39,
          61,
          146,
          105,
          122,
          67,
          110,
          99,
          106,
          49,
          50,
          35,
          46,
          17,
          10,
          25,
          13
         ]
        },
        {
         "mode": "lines+markers",
         "name": "2023-01-25",
         "type": "scatter",
         "x": [
          0,
          2,
          3,
          4,
          5,
          6,
          7,
          8,
          9,
          10,
          11,
          12,
          13,
          14,
          15,
          16,
          17,
          18,
          19,
          20,
          21,
          22,
          23
         ],
         "y": [
          1,
          1,
          6,
          37,
          56,
          189,
          178,
          256,
          367,
          237,
          111,
          46,
          142,
          168,
          88,
          112,
          154,
          130,
          66,
          14,
          33,
          22,
          8
         ]
        },
        {
         "mode": "lines+markers",
         "name": "2023-02-02",
         "type": "scatter",
         "x": [
          1,
          2,
          5,
          6,
          9,
          10,
          11,
          14,
          15,
          17,
          18,
          19,
          20,
          21
         ],
         "y": [
          3,
          1,
          42,
          61,
          148,
          30,
          33,
          34,
          115,
          64,
          33,
          6,
          41,
          8
         ]
        },
        {
         "mode": "lines+markers",
         "name": "2023-02-07",
         "type": "scatter",
         "x": [
          1,
          3,
          4,
          5,
          6,
          7,
          8,
          9,
          10,
          11,
          12,
          13,
          14,
          15,
          16,
          17,
          18,
          19,
          20,
          21,
          22,
          23
         ],
         "y": [
          3,
          2,
          21,
          73,
          275,
          701,
          387,
          230,
          135,
          140,
          134,
          131,
          41,
          99,
          152,
          238,
          139,
          48,
          39,
          33,
          26,
          8
         ]
        },
        {
         "mode": "lines+markers",
         "name": "2023-02-16",
         "type": "scatter",
         "x": [
          0,
          1,
          2,
          3,
          4,
          5,
          6,
          7,
          8,
          9,
          10,
          11,
          12,
          13,
          14,
          15,
          16,
          17,
          18,
          19,
          20,
          21,
          23
         ],
         "y": [
          1,
          1,
          2,
          4,
          11,
          108,
          175,
          250,
          404,
          78,
          126,
          121,
          96,
          14,
          42,
          140,
          154,
          68,
          81,
          46,
          18,
          35,
          2
         ]
        },
        {
         "mode": "lines+markers",
         "name": "2023-04-05",
         "type": "scatter",
         "x": [
          0,
          1,
          2,
          3,
          4,
          5,
          6,
          7,
          8,
          9,
          10,
          11,
          12,
          13,
          14,
          15,
          16,
          17,
          18,
          19,
          20,
          21,
          22,
          23
         ],
         "y": [
          21,
          26,
          9,
          21,
          38,
          132,
          299,
          646,
          600,
          374,
          266,
          160,
          146,
          187,
          189,
          180,
          206,
          207,
          123,
          82,
          70,
          45,
          31,
          16
         ]
        },
        {
         "mode": "lines+markers",
         "name": "2023-04-07",
         "type": "scatter",
         "x": [
          0,
          2,
          3,
          4,
          5,
          6,
          7,
          8,
          9,
          10,
          11,
          12,
          13,
          14,
          15,
          16,
          17,
          18,
          19,
          20,
          21,
          22,
          23
         ],
         "y": [
          2,
          7,
          3,
          11,
          23,
          56,
          170,
          33,
          104,
          67,
          136,
          120,
          13,
          51,
          70,
          67,
          115,
          85,
          35,
          4,
          37,
          4,
          1
         ]
        },
        {
         "mode": "lines+markers",
         "name": "2023-04-09",
         "type": "scatter",
         "x": [
          2,
          3,
          4,
          5,
          6,
          7,
          8,
          9,
          10,
          11,
          12,
          13,
          14,
          15,
          16,
          17,
          18,
          19,
          20,
          21,
          22,
          23
         ],
         "y": [
          2,
          3,
          13,
          8,
          4,
          40,
          55,
          105,
          44,
          28,
          73,
          134,
          68,
          4,
          42,
          42,
          73,
          16,
          3,
          30,
          21,
          1
         ]
        },
        {
         "mode": "lines+markers",
         "name": "2023-04-11",
         "type": "scatter",
         "x": [
          0,
          1,
          2,
          3,
          4,
          5,
          6,
          7,
          8,
          9,
          10,
          11,
          12,
          13,
          14,
          15,
          16,
          17,
          18,
          19,
          20,
          21,
          22,
          23
         ],
         "y": [
          8,
          7,
          4,
          7,
          37,
          130,
          251,
          381,
          495,
          336,
          327,
          174,
          219,
          232,
          186,
          186,
          193,
          216,
          137,
          85,
          52,
          50,
          39,
          18
         ]
        },
        {
         "mode": "lines+markers",
         "name": "2023-04-20",
         "type": "scatter",
         "x": [
          2,
          5,
          6,
          7,
          8,
          11,
          12,
          13,
          15,
          16,
          18,
          19,
          23
         ],
         "y": [
          1,
          4,
          40,
          252,
          36,
          6,
          19,
          71,
          3,
          10,
          46,
          14,
          3
         ]
        },
        {
         "mode": "lines+markers",
         "name": "2023-05-06",
         "type": "scatter",
         "x": [
          1,
          2,
          3,
          4,
          5,
          6,
          7,
          8,
          9,
          10,
          11,
          12,
          13,
          14,
          15,
          16,
          17,
          18,
          19,
          20,
          21,
          22,
          23
         ],
         "y": [
          2,
          1,
          2,
          18,
          58,
          105,
          7,
          191,
          159,
          156,
          216,
          186,
          119,
          44,
          99,
          206,
          127,
          63,
          9,
          80,
          67,
          41,
          24
         ]
        },
        {
         "mode": "lines+markers",
         "name": "2023-05-10",
         "type": "scatter",
         "x": [
          0,
          1,
          2,
          3,
          4,
          5,
          6,
          7,
          8,
          9,
          10,
          11,
          12,
          13,
          14,
          15,
          16,
          17,
          18,
          19,
          20,
          21,
          22,
          23
         ],
         "y": [
          4,
          2,
          3,
          8,
          33,
          137,
          332,
          717,
          697,
          316,
          134,
          179,
          171,
          106,
          180,
          158,
          234,
          240,
          168,
          99,
          81,
          44,
          36,
          16
         ]
        },
        {
         "mode": "lines+markers",
         "name": "2023-05-24",
         "type": "scatter",
         "x": [
          3
         ],
         "y": [
          1
         ]
        },
        {
         "mode": "lines+markers",
         "name": "2023-05-26",
         "type": "scatter",
         "x": [
          0,
          1,
          2,
          3,
          4,
          5,
          6,
          7,
          8,
          9,
          10,
          11,
          12,
          13,
          14,
          15,
          16,
          17,
          18,
          19,
          20,
          21,
          22,
          23
         ],
         "y": [
          1,
          5,
          3,
          7,
          14,
          14,
          178,
          502,
          331,
          99,
          71,
          73,
          23,
          99,
          164,
          103,
          31,
          110,
          101,
          24,
          34,
          53,
          20,
          8
         ]
        },
        {
         "mode": "lines+markers",
         "name": "2023-05-30",
         "type": "scatter",
         "x": [
          0,
          1,
          3,
          4,
          5,
          6,
          7,
          8,
          9,
          10,
          11,
          12,
          13,
          14,
          15,
          16,
          17,
          18,
          19,
          20,
          21,
          22,
          23
         ],
         "y": [
          2,
          3,
          6,
          38,
          147,
          13,
          542,
          424,
          196,
          211,
          181,
          39,
          44,
          173,
          156,
          104,
          106,
          118,
          44,
          38,
          30,
          19,
          14
         ]
        },
        {
         "mode": "lines+markers",
         "name": "2023-06-01",
         "type": "scatter",
         "x": [
          6,
          17,
          22
         ],
         "y": [
          107,
          1,
          6
         ]
        },
        {
         "mode": "lines+markers",
         "name": "2023-06-09",
         "type": "scatter",
         "x": [
          0,
          1,
          2,
          3,
          4,
          5,
          6,
          7,
          8,
          9,
          10,
          11,
          12,
          13,
          14,
          15,
          16,
          17,
          18,
          19,
          20,
          21,
          22,
          23
         ],
         "y": [
          9,
          5,
          2,
          14,
          38,
          153,
          285,
          380,
          433,
          217,
          231,
          192,
          180,
          187,
          182,
          201,
          205,
          227,
          170,
          79,
          76,
          64,
          37,
          20
         ]
        },
        {
         "mode": "lines+markers",
         "name": "2023-06-11",
         "type": "scatter",
         "x": [
          0,
          1,
          2,
          3,
          4,
          5,
          6,
          7,
          8,
          9,
          10,
          11,
          12,
          13,
          14,
          15,
          16,
          17,
          18,
          19,
          20,
          21,
          22,
          23
         ],
         "y": [
          5,
          4,
          3,
          4,
          14,
          14,
          22,
          96,
          132,
          201,
          64,
          173,
          194,
          136,
          175,
          123,
          130,
          85,
          20,
          55,
          53,
          37,
          33,
          8
         ]
        },
        {
         "mode": "lines+markers",
         "name": "2023-06-26",
         "type": "scatter",
         "x": [
          0,
          1,
          2,
          3,
          4,
          5,
          6,
          7,
          8,
          9,
          10,
          11,
          12,
          13,
          14,
          15,
          16,
          17,
          18,
          19,
          20,
          21,
          22,
          23
         ],
         "y": [
          6,
          4,
          3,
          3,
          12,
          102,
          311,
          517,
          331,
          238,
          233,
          133,
          102,
          152,
          178,
          136,
          200,
          110,
          92,
          102,
          52,
          34,
          21,
          6
         ]
        },
        {
         "mode": "lines+markers",
         "name": "2023-07-05",
         "type": "scatter",
         "x": [
          7,
          11,
          12
         ],
         "y": [
          30,
          19,
          45
         ]
        },
        {
         "mode": "lines+markers",
         "name": "2023-07-18",
         "type": "scatter",
         "x": [
          0,
          1,
          2,
          3,
          4,
          5,
          6,
          7,
          8,
          9,
          10,
          11,
          12,
          13,
          14,
          15,
          16,
          17,
          18,
          19,
          20,
          21,
          22,
          23
         ],
         "y": [
          5,
          1,
          3,
          5,
          39,
          121,
          251,
          463,
          523,
          322,
          227,
          173,
          131,
          172,
          179,
          167,
          184,
          210,
          138,
          85,
          49,
          49,
          30,
          19
         ]
        },
        {
         "mode": "lines+markers",
         "name": "2023-07-27",
         "type": "scatter",
         "x": [
          0,
          1,
          2,
          3,
          4,
          5,
          6,
          7,
          8,
          9,
          10,
          11,
          12,
          13,
          14,
          15,
          16,
          17,
          18,
          19,
          20,
          21,
          22,
          23
         ],
         "y": [
          6,
          2,
          7,
          7,
          33,
          130,
          259,
          409,
          533,
          377,
          250,
          194,
          160,
          169,
          191,
          150,
          181,
          226,
          163,
          90,
          56,
          43,
          34,
          21
         ]
        },
        {
         "mode": "lines+markers",
         "name": "2023-07-29",
         "type": "scatter",
         "x": [
          0,
          1,
          2,
          3,
          4,
          5,
          6,
          7,
          8,
          9,
          10,
          11,
          12,
          13,
          14,
          15,
          16,
          17,
          18,
          19,
          20,
          21,
          22,
          23
         ],
         "y": [
          5,
          1,
          9,
          4,
          7,
          15,
          74,
          166,
          201,
          233,
          42,
          164,
          177,
          96,
          29,
          87,
          132,
          85,
          119,
          59,
          35,
          20,
          47,
          2
         ]
        },
        {
         "mode": "lines+markers",
         "name": "2023-08-06",
         "type": "scatter",
         "x": [
          0,
          1,
          2,
          3,
          4,
          5,
          6,
          7,
          8,
          9,
          10,
          11,
          12,
          13,
          14,
          15,
          16,
          17,
          18,
          19,
          20,
          21,
          22,
          23
         ],
         "y": [
          5,
          5,
          4,
          2,
          13,
          15,
          75,
          72,
          104,
          213,
          219,
          175,
          128,
          188,
          157,
          123,
          107,
          102,
          78,
          24,
          43,
          40,
          31,
          5
         ]
        },
        {
         "mode": "lines+markers",
         "name": "2023-08-21",
         "type": "scatter",
         "x": [
          0,
          16
         ],
         "y": [
          2,
          1
         ]
        },
        {
         "mode": "lines+markers",
         "name": "2023-09-01",
         "type": "scatter",
         "x": [
          0,
          1,
          2,
          3,
          4,
          5,
          6,
          7,
          8,
          9,
          10,
          11,
          12,
          13,
          14,
          15,
          16,
          17,
          18,
          19,
          20,
          21,
          22,
          23
         ],
         "y": [
          11,
          4,
          5,
          5,
          47,
          116,
          253,
          370,
          394,
          360,
          284,
          199,
          191,
          167,
          191,
          199,
          195,
          192,
          177,
          123,
          76,
          61,
          33,
          34
         ]
        },
        {
         "mode": "lines+markers",
         "name": "2023-09-12",
         "type": "scatter",
         "x": [
          0,
          1,
          2,
          3,
          4,
          5,
          6,
          7,
          8,
          9,
          10,
          11,
          12,
          13,
          14,
          15,
          16,
          17,
          18,
          19,
          20,
          21,
          22,
          23
         ],
         "y": [
          9,
          1,
          6,
          4,
          49,
          118,
          334,
          702,
          667,
          389,
          257,
          143,
          105,
          141,
          168,
          152,
          195,
          245,
          155,
          82,
          54,
          55,
          32,
          24
         ]
        },
        {
         "mode": "lines+markers",
         "name": "2023-09-18",
         "type": "scatter",
         "x": [
          0,
          1,
          2,
          3,
          4,
          5,
          6,
          7,
          8,
          9,
          10,
          11,
          12,
          13,
          14,
          15,
          16,
          17,
          18,
          19,
          20,
          21,
          22,
          23
         ],
         "y": [
          6,
          4,
          4,
          5,
          39,
          119,
          345,
          735,
          660,
          424,
          218,
          156,
          157,
          156,
          166,
          203,
          205,
          227,
          152,
          79,
          49,
          49,
          37,
          13
         ]
        },
        {
         "mode": "lines+markers",
         "name": "2023-09-27",
         "type": "scatter",
         "x": [
          7
         ],
         "y": [
          251
         ]
        },
        {
         "mode": "lines+markers",
         "name": "2023-10-02",
         "type": "scatter",
         "x": [
          0,
          1,
          2,
          3,
          4,
          5,
          6,
          7,
          8,
          9,
          10,
          11,
          12,
          13,
          14,
          15,
          16,
          17,
          18,
          19,
          20,
          21,
          22,
          23
         ],
         "y": [
          12,
          7,
          4,
          7,
          43,
          135,
          339,
          721,
          601,
          376,
          205,
          161,
          154,
          158,
          152,
          180,
          191,
          211,
          138,
          80,
          61,
          32,
          28,
          15
         ]
        },
        {
         "mode": "lines+markers",
         "name": "2023-10-12",
         "type": "scatter",
         "x": [
          1,
          5,
          6,
          9,
          10,
          11,
          13,
          14,
          15,
          16,
          18,
          20,
          22,
          23
         ],
         "y": [
          1,
          25,
          146,
          23,
          28,
          55,
          1,
          12,
          35,
          59,
          59,
          10,
          10,
          2
         ]
        },
        {
         "mode": "lines+markers",
         "name": "2023-10-26",
         "type": "scatter",
         "x": [
          0,
          1,
          2,
          3,
          4,
          5,
          6,
          7,
          8,
          9,
          10,
          11,
          12,
          13,
          14,
          15,
          16,
          17,
          18,
          19,
          20,
          21,
          22,
          23
         ],
         "y": [
          1,
          4,
          4,
          7,
          35,
          83,
          281,
          265,
          386,
          189,
          214,
          97,
          102,
          139,
          164,
          117,
          161,
          197,
          106,
          52,
          46,
          29,
          24,
          10
         ]
        },
        {
         "mode": "lines+markers",
         "name": "2023-10-27",
         "type": "scatter",
         "x": [
          0,
          2,
          4,
          5,
          6,
          7,
          8,
          9,
          10,
          11,
          12,
          13,
          14,
          15,
          16,
          17,
          18,
          19,
          21,
          22,
          23
         ],
         "y": [
          4,
          4,
          20,
          48,
          146,
          328,
          279,
          218,
          24,
          70,
          93,
          107,
          45,
          23,
          17,
          95,
          63,
          58,
          28,
          9,
          20
         ]
        },
        {
         "mode": "lines+markers",
         "name": "2023-11-10",
         "type": "scatter",
         "x": [
          11
         ],
         "y": [
          29
         ]
        },
        {
         "mode": "lines+markers",
         "name": "2023-11-12",
         "type": "scatter",
         "x": [
          0,
          1,
          3,
          4,
          5,
          6,
          7,
          8,
          9,
          10,
          11,
          12,
          13,
          14,
          15,
          16,
          17,
          18,
          19,
          20,
          21,
          22,
          23
         ],
         "y": [
          5,
          4,
          2,
          4,
          1,
          6,
          5,
          50,
          52,
          11,
          20,
          24,
          42,
          56,
          25,
          3,
          47,
          19,
          12,
          17,
          3,
          2,
          2
         ]
        },
        {
         "mode": "lines+markers",
         "name": "2023-11-15",
         "type": "scatter",
         "x": [
          0,
          1,
          2,
          3,
          4,
          5,
          6,
          7,
          8,
          9,
          10,
          11,
          12,
          13,
          14,
          15,
          16,
          17,
          18,
          19,
          20,
          21,
          22,
          23
         ],
         "y": [
          8,
          4,
          1,
          14,
          41,
          140,
          306,
          670,
          666,
          414,
          125,
          71,
          66,
          66,
          74,
          93,
          217,
          226,
          160,
          88,
          65,
          31,
          25,
          9
         ]
        },
        {
         "mode": "lines+markers",
         "name": "2023-11-18",
         "type": "scatter",
         "x": [
          18
         ],
         "y": [
          16
         ]
        },
        {
         "mode": "lines+markers",
         "name": "2023-11-19",
         "type": "scatter",
         "x": [
          0,
          1,
          4,
          5,
          6,
          7,
          8,
          9,
          10,
          11,
          12,
          13,
          14,
          15,
          16,
          17,
          18,
          19,
          20,
          21,
          22,
          23
         ],
         "y": [
          3,
          1,
          6,
          7,
          11,
          13,
          40,
          52,
          20,
          6,
          47,
          62,
          29,
          22,
          40,
          41,
          18,
          21,
          18,
          9,
          26,
          5
         ]
        },
        {
         "mode": "lines+markers",
         "name": "2023-11-21",
         "type": "scatter",
         "x": [
          1,
          2,
          3,
          5,
          6,
          7,
          8,
          9,
          10,
          11,
          12,
          13,
          14,
          15,
          16,
          17,
          18,
          19,
          20,
          21,
          22,
          23
         ],
         "y": [
          1,
          1,
          3,
          43,
          261,
          39,
          121,
          171,
          57,
          13,
          2,
          18,
          4,
          44,
          23,
          81,
          51,
          1,
          7,
          27,
          6,
          1
         ]
        },
        {
         "mode": "lines+markers",
         "name": "2023-11-24",
         "type": "scatter",
         "x": [
          0,
          1,
          2,
          3,
          4,
          5,
          6,
          7,
          8,
          9,
          10,
          11,
          12,
          13,
          14,
          15,
          16,
          17,
          18,
          19,
          20,
          21,
          22,
          23
         ],
         "y": [
          6,
          5,
          3,
          7,
          24,
          58,
          139,
          255,
          287,
          305,
          255,
          234,
          195,
          189,
          148,
          179,
          208,
          187,
          153,
          103,
          61,
          55,
          31,
          24
         ]
        },
        {
         "mode": "lines+markers",
         "name": "2023-12-01",
         "type": "scatter",
         "x": [
          0,
          2,
          3,
          4,
          5,
          6,
          7,
          8,
          9,
          10,
          11,
          12,
          13,
          14,
          15,
          16,
          17,
          18,
          19,
          20,
          21,
          22,
          23
         ],
         "y": [
          4,
          2,
          10,
          16,
          47,
          164,
          125,
          268,
          33,
          68,
          3,
          35,
          40,
          26,
          20,
          46,
          184,
          100,
          13,
          20,
          6,
          22,
          6
         ]
        },
        {
         "mode": "lines+markers",
         "name": "2023-12-14",
         "type": "scatter",
         "x": [
          0,
          1,
          2,
          3,
          4,
          5,
          6,
          7,
          8,
          9,
          10,
          11,
          12,
          13,
          14,
          15,
          16,
          17,
          18,
          19,
          20,
          21,
          22,
          23
         ],
         "y": [
          5,
          2,
          1,
          2,
          15,
          123,
          215,
          356,
          298,
          207,
          120,
          142,
          171,
          54,
          155,
          142,
          69,
          222,
          143,
          60,
          43,
          30,
          19,
          3
         ]
        },
        {
         "mode": "lines+markers",
         "name": "2023-12-29",
         "type": "scatter",
         "x": [
          0,
          1,
          2,
          3,
          4,
          5,
          6,
          7,
          8,
          9,
          10,
          11,
          12,
          13,
          14,
          15,
          16,
          17,
          18,
          19,
          20,
          21,
          22,
          23
         ],
         "y": [
          8,
          7,
          5,
          17,
          38,
          124,
          226,
          350,
          250,
          341,
          262,
          229,
          243,
          225,
          211,
          242,
          211,
          179,
          155,
          94,
          50,
          38,
          34,
          30
         ]
        }
       ],
       "layout": {
        "template": {
         "data": {
          "bar": [
           {
            "error_x": {
             "color": "#2a3f5f"
            },
            "error_y": {
             "color": "#2a3f5f"
            },
            "marker": {
             "line": {
              "color": "#E5ECF6",
              "width": 0.5
             },
             "pattern": {
              "fillmode": "overlay",
              "size": 10,
              "solidity": 0.2
             }
            },
            "type": "bar"
           }
          ],
          "barpolar": [
           {
            "marker": {
             "line": {
              "color": "#E5ECF6",
              "width": 0.5
             },
             "pattern": {
              "fillmode": "overlay",
              "size": 10,
              "solidity": 0.2
             }
            },
            "type": "barpolar"
           }
          ],
          "carpet": [
           {
            "aaxis": {
             "endlinecolor": "#2a3f5f",
             "gridcolor": "white",
             "linecolor": "white",
             "minorgridcolor": "white",
             "startlinecolor": "#2a3f5f"
            },
            "baxis": {
             "endlinecolor": "#2a3f5f",
             "gridcolor": "white",
             "linecolor": "white",
             "minorgridcolor": "white",
             "startlinecolor": "#2a3f5f"
            },
            "type": "carpet"
           }
          ],
          "choropleth": [
           {
            "colorbar": {
             "outlinewidth": 0,
             "ticks": ""
            },
            "type": "choropleth"
           }
          ],
          "contour": [
           {
            "colorbar": {
             "outlinewidth": 0,
             "ticks": ""
            },
            "colorscale": [
             [
              0,
              "#0d0887"
             ],
             [
              0.1111111111111111,
              "#46039f"
             ],
             [
              0.2222222222222222,
              "#7201a8"
             ],
             [
              0.3333333333333333,
              "#9c179e"
             ],
             [
              0.4444444444444444,
              "#bd3786"
             ],
             [
              0.5555555555555556,
              "#d8576b"
             ],
             [
              0.6666666666666666,
              "#ed7953"
             ],
             [
              0.7777777777777778,
              "#fb9f3a"
             ],
             [
              0.8888888888888888,
              "#fdca26"
             ],
             [
              1,
              "#f0f921"
             ]
            ],
            "type": "contour"
           }
          ],
          "contourcarpet": [
           {
            "colorbar": {
             "outlinewidth": 0,
             "ticks": ""
            },
            "type": "contourcarpet"
           }
          ],
          "heatmap": [
           {
            "colorbar": {
             "outlinewidth": 0,
             "ticks": ""
            },
            "colorscale": [
             [
              0,
              "#0d0887"
             ],
             [
              0.1111111111111111,
              "#46039f"
             ],
             [
              0.2222222222222222,
              "#7201a8"
             ],
             [
              0.3333333333333333,
              "#9c179e"
             ],
             [
              0.4444444444444444,
              "#bd3786"
             ],
             [
              0.5555555555555556,
              "#d8576b"
             ],
             [
              0.6666666666666666,
              "#ed7953"
             ],
             [
              0.7777777777777778,
              "#fb9f3a"
             ],
             [
              0.8888888888888888,
              "#fdca26"
             ],
             [
              1,
              "#f0f921"
             ]
            ],
            "type": "heatmap"
           }
          ],
          "heatmapgl": [
           {
            "colorbar": {
             "outlinewidth": 0,
             "ticks": ""
            },
            "colorscale": [
             [
              0,
              "#0d0887"
             ],
             [
              0.1111111111111111,
              "#46039f"
             ],
             [
              0.2222222222222222,
              "#7201a8"
             ],
             [
              0.3333333333333333,
              "#9c179e"
             ],
             [
              0.4444444444444444,
              "#bd3786"
             ],
             [
              0.5555555555555556,
              "#d8576b"
             ],
             [
              0.6666666666666666,
              "#ed7953"
             ],
             [
              0.7777777777777778,
              "#fb9f3a"
             ],
             [
              0.8888888888888888,
              "#fdca26"
             ],
             [
              1,
              "#f0f921"
             ]
            ],
            "type": "heatmapgl"
           }
          ],
          "histogram": [
           {
            "marker": {
             "pattern": {
              "fillmode": "overlay",
              "size": 10,
              "solidity": 0.2
             }
            },
            "type": "histogram"
           }
          ],
          "histogram2d": [
           {
            "colorbar": {
             "outlinewidth": 0,
             "ticks": ""
            },
            "colorscale": [
             [
              0,
              "#0d0887"
             ],
             [
              0.1111111111111111,
              "#46039f"
             ],
             [
              0.2222222222222222,
              "#7201a8"
             ],
             [
              0.3333333333333333,
              "#9c179e"
             ],
             [
              0.4444444444444444,
              "#bd3786"
             ],
             [
              0.5555555555555556,
              "#d8576b"
             ],
             [
              0.6666666666666666,
              "#ed7953"
             ],
             [
              0.7777777777777778,
              "#fb9f3a"
             ],
             [
              0.8888888888888888,
              "#fdca26"
             ],
             [
              1,
              "#f0f921"
             ]
            ],
            "type": "histogram2d"
           }
          ],
          "histogram2dcontour": [
           {
            "colorbar": {
             "outlinewidth": 0,
             "ticks": ""
            },
            "colorscale": [
             [
              0,
              "#0d0887"
             ],
             [
              0.1111111111111111,
              "#46039f"
             ],
             [
              0.2222222222222222,
              "#7201a8"
             ],
             [
              0.3333333333333333,
              "#9c179e"
             ],
             [
              0.4444444444444444,
              "#bd3786"
             ],
             [
              0.5555555555555556,
              "#d8576b"
             ],
             [
              0.6666666666666666,
              "#ed7953"
             ],
             [
              0.7777777777777778,
              "#fb9f3a"
             ],
             [
              0.8888888888888888,
              "#fdca26"
             ],
             [
              1,
              "#f0f921"
             ]
            ],
            "type": "histogram2dcontour"
           }
          ],
          "mesh3d": [
           {
            "colorbar": {
             "outlinewidth": 0,
             "ticks": ""
            },
            "type": "mesh3d"
           }
          ],
          "parcoords": [
           {
            "line": {
             "colorbar": {
              "outlinewidth": 0,
              "ticks": ""
             }
            },
            "type": "parcoords"
           }
          ],
          "pie": [
           {
            "automargin": true,
            "type": "pie"
           }
          ],
          "scatter": [
           {
            "fillpattern": {
             "fillmode": "overlay",
             "size": 10,
             "solidity": 0.2
            },
            "type": "scatter"
           }
          ],
          "scatter3d": [
           {
            "line": {
             "colorbar": {
              "outlinewidth": 0,
              "ticks": ""
             }
            },
            "marker": {
             "colorbar": {
              "outlinewidth": 0,
              "ticks": ""
             }
            },
            "type": "scatter3d"
           }
          ],
          "scattercarpet": [
           {
            "marker": {
             "colorbar": {
              "outlinewidth": 0,
              "ticks": ""
             }
            },
            "type": "scattercarpet"
           }
          ],
          "scattergeo": [
           {
            "marker": {
             "colorbar": {
              "outlinewidth": 0,
              "ticks": ""
             }
            },
            "type": "scattergeo"
           }
          ],
          "scattergl": [
           {
            "marker": {
             "colorbar": {
              "outlinewidth": 0,
              "ticks": ""
             }
            },
            "type": "scattergl"
           }
          ],
          "scattermapbox": [
           {
            "marker": {
             "colorbar": {
              "outlinewidth": 0,
              "ticks": ""
             }
            },
            "type": "scattermapbox"
           }
          ],
          "scatterpolar": [
           {
            "marker": {
             "colorbar": {
              "outlinewidth": 0,
              "ticks": ""
             }
            },
            "type": "scatterpolar"
           }
          ],
          "scatterpolargl": [
           {
            "marker": {
             "colorbar": {
              "outlinewidth": 0,
              "ticks": ""
             }
            },
            "type": "scatterpolargl"
           }
          ],
          "scatterternary": [
           {
            "marker": {
             "colorbar": {
              "outlinewidth": 0,
              "ticks": ""
             }
            },
            "type": "scatterternary"
           }
          ],
          "surface": [
           {
            "colorbar": {
             "outlinewidth": 0,
             "ticks": ""
            },
            "colorscale": [
             [
              0,
              "#0d0887"
             ],
             [
              0.1111111111111111,
              "#46039f"
             ],
             [
              0.2222222222222222,
              "#7201a8"
             ],
             [
              0.3333333333333333,
              "#9c179e"
             ],
             [
              0.4444444444444444,
              "#bd3786"
             ],
             [
              0.5555555555555556,
              "#d8576b"
             ],
             [
              0.6666666666666666,
              "#ed7953"
             ],
             [
              0.7777777777777778,
              "#fb9f3a"
             ],
             [
              0.8888888888888888,
              "#fdca26"
             ],
             [
              1,
              "#f0f921"
             ]
            ],
            "type": "surface"
           }
          ],
          "table": [
           {
            "cells": {
             "fill": {
              "color": "#EBF0F8"
             },
             "line": {
              "color": "white"
             }
            },
            "header": {
             "fill": {
              "color": "#C8D4E3"
             },
             "line": {
              "color": "white"
             }
            },
            "type": "table"
           }
          ]
         },
         "layout": {
          "annotationdefaults": {
           "arrowcolor": "#2a3f5f",
           "arrowhead": 0,
           "arrowwidth": 1
          },
          "autotypenumbers": "strict",
          "coloraxis": {
           "colorbar": {
            "outlinewidth": 0,
            "ticks": ""
           }
          },
          "colorscale": {
           "diverging": [
            [
             0,
             "#8e0152"
            ],
            [
             0.1,
             "#c51b7d"
            ],
            [
             0.2,
             "#de77ae"
            ],
            [
             0.3,
             "#f1b6da"
            ],
            [
             0.4,
             "#fde0ef"
            ],
            [
             0.5,
             "#f7f7f7"
            ],
            [
             0.6,
             "#e6f5d0"
            ],
            [
             0.7,
             "#b8e186"
            ],
            [
             0.8,
             "#7fbc41"
            ],
            [
             0.9,
             "#4d9221"
            ],
            [
             1,
             "#276419"
            ]
           ],
           "sequential": [
            [
             0,
             "#0d0887"
            ],
            [
             0.1111111111111111,
             "#46039f"
            ],
            [
             0.2222222222222222,
             "#7201a8"
            ],
            [
             0.3333333333333333,
             "#9c179e"
            ],
            [
             0.4444444444444444,
             "#bd3786"
            ],
            [
             0.5555555555555556,
             "#d8576b"
            ],
            [
             0.6666666666666666,
             "#ed7953"
            ],
            [
             0.7777777777777778,
             "#fb9f3a"
            ],
            [
             0.8888888888888888,
             "#fdca26"
            ],
            [
             1,
             "#f0f921"
            ]
           ],
           "sequentialminus": [
            [
             0,
             "#0d0887"
            ],
            [
             0.1111111111111111,
             "#46039f"
            ],
            [
             0.2222222222222222,
             "#7201a8"
            ],
            [
             0.3333333333333333,
             "#9c179e"
            ],
            [
             0.4444444444444444,
             "#bd3786"
            ],
            [
             0.5555555555555556,
             "#d8576b"
            ],
            [
             0.6666666666666666,
             "#ed7953"
            ],
            [
             0.7777777777777778,
             "#fb9f3a"
            ],
            [
             0.8888888888888888,
             "#fdca26"
            ],
            [
             1,
             "#f0f921"
            ]
           ]
          },
          "colorway": [
           "#636efa",
           "#EF553B",
           "#00cc96",
           "#ab63fa",
           "#FFA15A",
           "#19d3f3",
           "#FF6692",
           "#B6E880",
           "#FF97FF",
           "#FECB52"
          ],
          "font": {
           "color": "#2a3f5f"
          },
          "geo": {
           "bgcolor": "white",
           "lakecolor": "white",
           "landcolor": "#E5ECF6",
           "showlakes": true,
           "showland": true,
           "subunitcolor": "white"
          },
          "hoverlabel": {
           "align": "left"
          },
          "hovermode": "closest",
          "mapbox": {
           "style": "light"
          },
          "paper_bgcolor": "white",
          "plot_bgcolor": "#E5ECF6",
          "polar": {
           "angularaxis": {
            "gridcolor": "white",
            "linecolor": "white",
            "ticks": ""
           },
           "bgcolor": "#E5ECF6",
           "radialaxis": {
            "gridcolor": "white",
            "linecolor": "white",
            "ticks": ""
           }
          },
          "scene": {
           "xaxis": {
            "backgroundcolor": "#E5ECF6",
            "gridcolor": "white",
            "gridwidth": 2,
            "linecolor": "white",
            "showbackground": true,
            "ticks": "",
            "zerolinecolor": "white"
           },
           "yaxis": {
            "backgroundcolor": "#E5ECF6",
            "gridcolor": "white",
            "gridwidth": 2,
            "linecolor": "white",
            "showbackground": true,
            "ticks": "",
            "zerolinecolor": "white"
           },
           "zaxis": {
            "backgroundcolor": "#E5ECF6",
            "gridcolor": "white",
            "gridwidth": 2,
            "linecolor": "white",
            "showbackground": true,
            "ticks": "",
            "zerolinecolor": "white"
           }
          },
          "shapedefaults": {
           "line": {
            "color": "#2a3f5f"
           }
          },
          "ternary": {
           "aaxis": {
            "gridcolor": "white",
            "linecolor": "white",
            "ticks": ""
           },
           "baxis": {
            "gridcolor": "white",
            "linecolor": "white",
            "ticks": ""
           },
           "bgcolor": "#E5ECF6",
           "caxis": {
            "gridcolor": "white",
            "linecolor": "white",
            "ticks": ""
           }
          },
          "title": {
           "x": 0.05
          },
          "xaxis": {
           "automargin": true,
           "gridcolor": "white",
           "linecolor": "white",
           "ticks": "",
           "title": {
            "standoff": 15
           },
           "zerolinecolor": "white",
           "zerolinewidth": 2
          },
          "yaxis": {
           "automargin": true,
           "gridcolor": "white",
           "linecolor": "white",
           "ticks": "",
           "title": {
            "standoff": 15
           },
           "zerolinecolor": "white",
           "zerolinewidth": 2
          }
         }
        },
        "title": {
         "text": "Hourly Ridership for Station Complex 59"
        },
        "updatemenus": [
         {
          "buttons": [
           {
            "args": [
             {
              "visible": [
               true,
               false,
               false,
               false,
               false,
               false,
               false,
               false,
               false,
               false,
               false,
               false,
               false,
               false,
               false,
               false,
               false,
               false,
               false,
               false,
               false,
               false,
               false,
               false,
               false,
               false,
               false,
               false,
               false,
               false,
               false,
               false,
               false,
               false,
               false,
               false,
               false,
               false,
               false,
               false,
               false,
               false,
               false,
               false,
               false,
               false,
               false,
               false,
               false,
               false,
               false,
               false,
               false,
               false,
               false,
               false,
               false,
               false,
               false,
               false,
               false,
               false,
               false,
               false,
               false,
               false,
               false,
               false,
               false,
               false,
               false,
               false,
               false,
               false,
               false,
               false,
               false,
               false,
               false,
               false,
               false,
               false,
               false,
               false,
               false
              ]
             }
            ],
            "label": "2022-03-09",
            "method": "update"
           },
           {
            "args": [
             {
              "visible": [
               false,
               true,
               false,
               false,
               false,
               false,
               false,
               false,
               false,
               false,
               false,
               false,
               false,
               false,
               false,
               false,
               false,
               false,
               false,
               false,
               false,
               false,
               false,
               false,
               false,
               false,
               false,
               false,
               false,
               false,
               false,
               false,
               false,
               false,
               false,
               false,
               false,
               false,
               false,
               false,
               false,
               false,
               false,
               false,
               false,
               false,
               false,
               false,
               false,
               false,
               false,
               false,
               false,
               false,
               false,
               false,
               false,
               false,
               false,
               false,
               false,
               false,
               false,
               false,
               false,
               false,
               false,
               false,
               false,
               false,
               false,
               false,
               false,
               false,
               false,
               false,
               false,
               false,
               false,
               false,
               false,
               false,
               false,
               false,
               false
              ]
             }
            ],
            "label": "2022-03-16",
            "method": "update"
           },
           {
            "args": [
             {
              "visible": [
               false,
               false,
               true,
               false,
               false,
               false,
               false,
               false,
               false,
               false,
               false,
               false,
               false,
               false,
               false,
               false,
               false,
               false,
               false,
               false,
               false,
               false,
               false,
               false,
               false,
               false,
               false,
               false,
               false,
               false,
               false,
               false,
               false,
               false,
               false,
               false,
               false,
               false,
               false,
               false,
               false,
               false,
               false,
               false,
               false,
               false,
               false,
               false,
               false,
               false,
               false,
               false,
               false,
               false,
               false,
               false,
               false,
               false,
               false,
               false,
               false,
               false,
               false,
               false,
               false,
               false,
               false,
               false,
               false,
               false,
               false,
               false,
               false,
               false,
               false,
               false,
               false,
               false,
               false,
               false,
               false,
               false,
               false,
               false,
               false
              ]
             }
            ],
            "label": "2022-03-19",
            "method": "update"
           },
           {
            "args": [
             {
              "visible": [
               false,
               false,
               false,
               true,
               false,
               false,
               false,
               false,
               false,
               false,
               false,
               false,
               false,
               false,
               false,
               false,
               false,
               false,
               false,
               false,
               false,
               false,
               false,
               false,
               false,
               false,
               false,
               false,
               false,
               false,
               false,
               false,
               false,
               false,
               false,
               false,
               false,
               false,
               false,
               false,
               false,
               false,
               false,
               false,
               false,
               false,
               false,
               false,
               false,
               false,
               false,
               false,
               false,
               false,
               false,
               false,
               false,
               false,
               false,
               false,
               false,
               false,
               false,
               false,
               false,
               false,
               false,
               false,
               false,
               false,
               false,
               false,
               false,
               false,
               false,
               false,
               false,
               false,
               false,
               false,
               false,
               false,
               false,
               false,
               false
              ]
             }
            ],
            "label": "2022-03-29",
            "method": "update"
           },
           {
            "args": [
             {
              "visible": [
               false,
               false,
               false,
               false,
               true,
               false,
               false,
               false,
               false,
               false,
               false,
               false,
               false,
               false,
               false,
               false,
               false,
               false,
               false,
               false,
               false,
               false,
               false,
               false,
               false,
               false,
               false,
               false,
               false,
               false,
               false,
               false,
               false,
               false,
               false,
               false,
               false,
               false,
               false,
               false,
               false,
               false,
               false,
               false,
               false,
               false,
               false,
               false,
               false,
               false,
               false,
               false,
               false,
               false,
               false,
               false,
               false,
               false,
               false,
               false,
               false,
               false,
               false,
               false,
               false,
               false,
               false,
               false,
               false,
               false,
               false,
               false,
               false,
               false,
               false,
               false,
               false,
               false,
               false,
               false,
               false,
               false,
               false,
               false,
               false
              ]
             }
            ],
            "label": "2022-04-01",
            "method": "update"
           },
           {
            "args": [
             {
              "visible": [
               false,
               false,
               false,
               false,
               false,
               true,
               false,
               false,
               false,
               false,
               false,
               false,
               false,
               false,
               false,
               false,
               false,
               false,
               false,
               false,
               false,
               false,
               false,
               false,
               false,
               false,
               false,
               false,
               false,
               false,
               false,
               false,
               false,
               false,
               false,
               false,
               false,
               false,
               false,
               false,
               false,
               false,
               false,
               false,
               false,
               false,
               false,
               false,
               false,
               false,
               false,
               false,
               false,
               false,
               false,
               false,
               false,
               false,
               false,
               false,
               false,
               false,
               false,
               false,
               false,
               false,
               false,
               false,
               false,
               false,
               false,
               false,
               false,
               false,
               false,
               false,
               false,
               false,
               false,
               false,
               false,
               false,
               false,
               false,
               false
              ]
             }
            ],
            "label": "2022-04-03",
            "method": "update"
           },
           {
            "args": [
             {
              "visible": [
               false,
               false,
               false,
               false,
               false,
               false,
               true,
               false,
               false,
               false,
               false,
               false,
               false,
               false,
               false,
               false,
               false,
               false,
               false,
               false,
               false,
               false,
               false,
               false,
               false,
               false,
               false,
               false,
               false,
               false,
               false,
               false,
               false,
               false,
               false,
               false,
               false,
               false,
               false,
               false,
               false,
               false,
               false,
               false,
               false,
               false,
               false,
               false,
               false,
               false,
               false,
               false,
               false,
               false,
               false,
               false,
               false,
               false,
               false,
               false,
               false,
               false,
               false,
               false,
               false,
               false,
               false,
               false,
               false,
               false,
               false,
               false,
               false,
               false,
               false,
               false,
               false,
               false,
               false,
               false,
               false,
               false,
               false,
               false,
               false
              ]
             }
            ],
            "label": "2022-04-12",
            "method": "update"
           },
           {
            "args": [
             {
              "visible": [
               false,
               false,
               false,
               false,
               false,
               false,
               false,
               true,
               false,
               false,
               false,
               false,
               false,
               false,
               false,
               false,
               false,
               false,
               false,
               false,
               false,
               false,
               false,
               false,
               false,
               false,
               false,
               false,
               false,
               false,
               false,
               false,
               false,
               false,
               false,
               false,
               false,
               false,
               false,
               false,
               false,
               false,
               false,
               false,
               false,
               false,
               false,
               false,
               false,
               false,
               false,
               false,
               false,
               false,
               false,
               false,
               false,
               false,
               false,
               false,
               false,
               false,
               false,
               false,
               false,
               false,
               false,
               false,
               false,
               false,
               false,
               false,
               false,
               false,
               false,
               false,
               false,
               false,
               false,
               false,
               false,
               false,
               false,
               false,
               false
              ]
             }
            ],
            "label": "2022-04-15",
            "method": "update"
           },
           {
            "args": [
             {
              "visible": [
               false,
               false,
               false,
               false,
               false,
               false,
               false,
               false,
               true,
               false,
               false,
               false,
               false,
               false,
               false,
               false,
               false,
               false,
               false,
               false,
               false,
               false,
               false,
               false,
               false,
               false,
               false,
               false,
               false,
               false,
               false,
               false,
               false,
               false,
               false,
               false,
               false,
               false,
               false,
               false,
               false,
               false,
               false,
               false,
               false,
               false,
               false,
               false,
               false,
               false,
               false,
               false,
               false,
               false,
               false,
               false,
               false,
               false,
               false,
               false,
               false,
               false,
               false,
               false,
               false,
               false,
               false,
               false,
               false,
               false,
               false,
               false,
               false,
               false,
               false,
               false,
               false,
               false,
               false,
               false,
               false,
               false,
               false,
               false,
               false
              ]
             }
            ],
            "label": "2022-04-24",
            "method": "update"
           },
           {
            "args": [
             {
              "visible": [
               false,
               false,
               false,
               false,
               false,
               false,
               false,
               false,
               false,
               true,
               false,
               false,
               false,
               false,
               false,
               false,
               false,
               false,
               false,
               false,
               false,
               false,
               false,
               false,
               false,
               false,
               false,
               false,
               false,
               false,
               false,
               false,
               false,
               false,
               false,
               false,
               false,
               false,
               false,
               false,
               false,
               false,
               false,
               false,
               false,
               false,
               false,
               false,
               false,
               false,
               false,
               false,
               false,
               false,
               false,
               false,
               false,
               false,
               false,
               false,
               false,
               false,
               false,
               false,
               false,
               false,
               false,
               false,
               false,
               false,
               false,
               false,
               false,
               false,
               false,
               false,
               false,
               false,
               false,
               false,
               false,
               false,
               false,
               false,
               false
              ]
             }
            ],
            "label": "2022-05-10",
            "method": "update"
           },
           {
            "args": [
             {
              "visible": [
               false,
               false,
               false,
               false,
               false,
               false,
               false,
               false,
               false,
               false,
               true,
               false,
               false,
               false,
               false,
               false,
               false,
               false,
               false,
               false,
               false,
               false,
               false,
               false,
               false,
               false,
               false,
               false,
               false,
               false,
               false,
               false,
               false,
               false,
               false,
               false,
               false,
               false,
               false,
               false,
               false,
               false,
               false,
               false,
               false,
               false,
               false,
               false,
               false,
               false,
               false,
               false,
               false,
               false,
               false,
               false,
               false,
               false,
               false,
               false,
               false,
               false,
               false,
               false,
               false,
               false,
               false,
               false,
               false,
               false,
               false,
               false,
               false,
               false,
               false,
               false,
               false,
               false,
               false,
               false,
               false,
               false,
               false,
               false,
               false
              ]
             }
            ],
            "label": "2022-05-21",
            "method": "update"
           },
           {
            "args": [
             {
              "visible": [
               false,
               false,
               false,
               false,
               false,
               false,
               false,
               false,
               false,
               false,
               false,
               true,
               false,
               false,
               false,
               false,
               false,
               false,
               false,
               false,
               false,
               false,
               false,
               false,
               false,
               false,
               false,
               false,
               false,
               false,
               false,
               false,
               false,
               false,
               false,
               false,
               false,
               false,
               false,
               false,
               false,
               false,
               false,
               false,
               false,
               false,
               false,
               false,
               false,
               false,
               false,
               false,
               false,
               false,
               false,
               false,
               false,
               false,
               false,
               false,
               false,
               false,
               false,
               false,
               false,
               false,
               false,
               false,
               false,
               false,
               false,
               false,
               false,
               false,
               false,
               false,
               false,
               false,
               false,
               false,
               false,
               false,
               false,
               false,
               false
              ]
             }
            ],
            "label": "2022-05-22",
            "method": "update"
           },
           {
            "args": [
             {
              "visible": [
               false,
               false,
               false,
               false,
               false,
               false,
               false,
               false,
               false,
               false,
               false,
               false,
               true,
               false,
               false,
               false,
               false,
               false,
               false,
               false,
               false,
               false,
               false,
               false,
               false,
               false,
               false,
               false,
               false,
               false,
               false,
               false,
               false,
               false,
               false,
               false,
               false,
               false,
               false,
               false,
               false,
               false,
               false,
               false,
               false,
               false,
               false,
               false,
               false,
               false,
               false,
               false,
               false,
               false,
               false,
               false,
               false,
               false,
               false,
               false,
               false,
               false,
               false,
               false,
               false,
               false,
               false,
               false,
               false,
               false,
               false,
               false,
               false,
               false,
               false,
               false,
               false,
               false,
               false,
               false,
               false,
               false,
               false,
               false,
               false
              ]
             }
            ],
            "label": "2022-05-29",
            "method": "update"
           },
           {
            "args": [
             {
              "visible": [
               false,
               false,
               false,
               false,
               false,
               false,
               false,
               false,
               false,
               false,
               false,
               false,
               false,
               true,
               false,
               false,
               false,
               false,
               false,
               false,
               false,
               false,
               false,
               false,
               false,
               false,
               false,
               false,
               false,
               false,
               false,
               false,
               false,
               false,
               false,
               false,
               false,
               false,
               false,
               false,
               false,
               false,
               false,
               false,
               false,
               false,
               false,
               false,
               false,
               false,
               false,
               false,
               false,
               false,
               false,
               false,
               false,
               false,
               false,
               false,
               false,
               false,
               false,
               false,
               false,
               false,
               false,
               false,
               false,
               false,
               false,
               false,
               false,
               false,
               false,
               false,
               false,
               false,
               false,
               false,
               false,
               false,
               false,
               false,
               false
              ]
             }
            ],
            "label": "2022-06-06",
            "method": "update"
           },
           {
            "args": [
             {
              "visible": [
               false,
               false,
               false,
               false,
               false,
               false,
               false,
               false,
               false,
               false,
               false,
               false,
               false,
               false,
               true,
               false,
               false,
               false,
               false,
               false,
               false,
               false,
               false,
               false,
               false,
               false,
               false,
               false,
               false,
               false,
               false,
               false,
               false,
               false,
               false,
               false,
               false,
               false,
               false,
               false,
               false,
               false,
               false,
               false,
               false,
               false,
               false,
               false,
               false,
               false,
               false,
               false,
               false,
               false,
               false,
               false,
               false,
               false,
               false,
               false,
               false,
               false,
               false,
               false,
               false,
               false,
               false,
               false,
               false,
               false,
               false,
               false,
               false,
               false,
               false,
               false,
               false,
               false,
               false,
               false,
               false,
               false,
               false,
               false,
               false
              ]
             }
            ],
            "label": "2022-06-07",
            "method": "update"
           },
           {
            "args": [
             {
              "visible": [
               false,
               false,
               false,
               false,
               false,
               false,
               false,
               false,
               false,
               false,
               false,
               false,
               false,
               false,
               false,
               true,
               false,
               false,
               false,
               false,
               false,
               false,
               false,
               false,
               false,
               false,
               false,
               false,
               false,
               false,
               false,
               false,
               false,
               false,
               false,
               false,
               false,
               false,
               false,
               false,
               false,
               false,
               false,
               false,
               false,
               false,
               false,
               false,
               false,
               false,
               false,
               false,
               false,
               false,
               false,
               false,
               false,
               false,
               false,
               false,
               false,
               false,
               false,
               false,
               false,
               false,
               false,
               false,
               false,
               false,
               false,
               false,
               false,
               false,
               false,
               false,
               false,
               false,
               false,
               false,
               false,
               false,
               false,
               false,
               false
              ]
             }
            ],
            "label": "2022-06-11",
            "method": "update"
           },
           {
            "args": [
             {
              "visible": [
               false,
               false,
               false,
               false,
               false,
               false,
               false,
               false,
               false,
               false,
               false,
               false,
               false,
               false,
               false,
               false,
               true,
               false,
               false,
               false,
               false,
               false,
               false,
               false,
               false,
               false,
               false,
               false,
               false,
               false,
               false,
               false,
               false,
               false,
               false,
               false,
               false,
               false,
               false,
               false,
               false,
               false,
               false,
               false,
               false,
               false,
               false,
               false,
               false,
               false,
               false,
               false,
               false,
               false,
               false,
               false,
               false,
               false,
               false,
               false,
               false,
               false,
               false,
               false,
               false,
               false,
               false,
               false,
               false,
               false,
               false,
               false,
               false,
               false,
               false,
               false,
               false,
               false,
               false,
               false,
               false,
               false,
               false,
               false,
               false
              ]
             }
            ],
            "label": "2022-07-24",
            "method": "update"
           },
           {
            "args": [
             {
              "visible": [
               false,
               false,
               false,
               false,
               false,
               false,
               false,
               false,
               false,
               false,
               false,
               false,
               false,
               false,
               false,
               false,
               false,
               true,
               false,
               false,
               false,
               false,
               false,
               false,
               false,
               false,
               false,
               false,
               false,
               false,
               false,
               false,
               false,
               false,
               false,
               false,
               false,
               false,
               false,
               false,
               false,
               false,
               false,
               false,
               false,
               false,
               false,
               false,
               false,
               false,
               false,
               false,
               false,
               false,
               false,
               false,
               false,
               false,
               false,
               false,
               false,
               false,
               false,
               false,
               false,
               false,
               false,
               false,
               false,
               false,
               false,
               false,
               false,
               false,
               false,
               false,
               false,
               false,
               false,
               false,
               false,
               false,
               false,
               false,
               false
              ]
             }
            ],
            "label": "2022-07-27",
            "method": "update"
           },
           {
            "args": [
             {
              "visible": [
               false,
               false,
               false,
               false,
               false,
               false,
               false,
               false,
               false,
               false,
               false,
               false,
               false,
               false,
               false,
               false,
               false,
               false,
               true,
               false,
               false,
               false,
               false,
               false,
               false,
               false,
               false,
               false,
               false,
               false,
               false,
               false,
               false,
               false,
               false,
               false,
               false,
               false,
               false,
               false,
               false,
               false,
               false,
               false,
               false,
               false,
               false,
               false,
               false,
               false,
               false,
               false,
               false,
               false,
               false,
               false,
               false,
               false,
               false,
               false,
               false,
               false,
               false,
               false,
               false,
               false,
               false,
               false,
               false,
               false,
               false,
               false,
               false,
               false,
               false,
               false,
               false,
               false,
               false,
               false,
               false,
               false,
               false,
               false,
               false
              ]
             }
            ],
            "label": "2022-08-05",
            "method": "update"
           },
           {
            "args": [
             {
              "visible": [
               false,
               false,
               false,
               false,
               false,
               false,
               false,
               false,
               false,
               false,
               false,
               false,
               false,
               false,
               false,
               false,
               false,
               false,
               false,
               true,
               false,
               false,
               false,
               false,
               false,
               false,
               false,
               false,
               false,
               false,
               false,
               false,
               false,
               false,
               false,
               false,
               false,
               false,
               false,
               false,
               false,
               false,
               false,
               false,
               false,
               false,
               false,
               false,
               false,
               false,
               false,
               false,
               false,
               false,
               false,
               false,
               false,
               false,
               false,
               false,
               false,
               false,
               false,
               false,
               false,
               false,
               false,
               false,
               false,
               false,
               false,
               false,
               false,
               false,
               false,
               false,
               false,
               false,
               false,
               false,
               false,
               false,
               false,
               false,
               false
              ]
             }
            ],
            "label": "2022-08-10",
            "method": "update"
           },
           {
            "args": [
             {
              "visible": [
               false,
               false,
               false,
               false,
               false,
               false,
               false,
               false,
               false,
               false,
               false,
               false,
               false,
               false,
               false,
               false,
               false,
               false,
               false,
               false,
               true,
               false,
               false,
               false,
               false,
               false,
               false,
               false,
               false,
               false,
               false,
               false,
               false,
               false,
               false,
               false,
               false,
               false,
               false,
               false,
               false,
               false,
               false,
               false,
               false,
               false,
               false,
               false,
               false,
               false,
               false,
               false,
               false,
               false,
               false,
               false,
               false,
               false,
               false,
               false,
               false,
               false,
               false,
               false,
               false,
               false,
               false,
               false,
               false,
               false,
               false,
               false,
               false,
               false,
               false,
               false,
               false,
               false,
               false,
               false,
               false,
               false,
               false,
               false,
               false
              ]
             }
            ],
            "label": "2022-08-15",
            "method": "update"
           },
           {
            "args": [
             {
              "visible": [
               false,
               false,
               false,
               false,
               false,
               false,
               false,
               false,
               false,
               false,
               false,
               false,
               false,
               false,
               false,
               false,
               false,
               false,
               false,
               false,
               false,
               true,
               false,
               false,
               false,
               false,
               false,
               false,
               false,
               false,
               false,
               false,
               false,
               false,
               false,
               false,
               false,
               false,
               false,
               false,
               false,
               false,
               false,
               false,
               false,
               false,
               false,
               false,
               false,
               false,
               false,
               false,
               false,
               false,
               false,
               false,
               false,
               false,
               false,
               false,
               false,
               false,
               false,
               false,
               false,
               false,
               false,
               false,
               false,
               false,
               false,
               false,
               false,
               false,
               false,
               false,
               false,
               false,
               false,
               false,
               false,
               false,
               false,
               false,
               false
              ]
             }
            ],
            "label": "2022-08-17",
            "method": "update"
           },
           {
            "args": [
             {
              "visible": [
               false,
               false,
               false,
               false,
               false,
               false,
               false,
               false,
               false,
               false,
               false,
               false,
               false,
               false,
               false,
               false,
               false,
               false,
               false,
               false,
               false,
               false,
               true,
               false,
               false,
               false,
               false,
               false,
               false,
               false,
               false,
               false,
               false,
               false,
               false,
               false,
               false,
               false,
               false,
               false,
               false,
               false,
               false,
               false,
               false,
               false,
               false,
               false,
               false,
               false,
               false,
               false,
               false,
               false,
               false,
               false,
               false,
               false,
               false,
               false,
               false,
               false,
               false,
               false,
               false,
               false,
               false,
               false,
               false,
               false,
               false,
               false,
               false,
               false,
               false,
               false,
               false,
               false,
               false,
               false,
               false,
               false,
               false,
               false,
               false
              ]
             }
            ],
            "label": "2022-09-13",
            "method": "update"
           },
           {
            "args": [
             {
              "visible": [
               false,
               false,
               false,
               false,
               false,
               false,
               false,
               false,
               false,
               false,
               false,
               false,
               false,
               false,
               false,
               false,
               false,
               false,
               false,
               false,
               false,
               false,
               false,
               true,
               false,
               false,
               false,
               false,
               false,
               false,
               false,
               false,
               false,
               false,
               false,
               false,
               false,
               false,
               false,
               false,
               false,
               false,
               false,
               false,
               false,
               false,
               false,
               false,
               false,
               false,
               false,
               false,
               false,
               false,
               false,
               false,
               false,
               false,
               false,
               false,
               false,
               false,
               false,
               false,
               false,
               false,
               false,
               false,
               false,
               false,
               false,
               false,
               false,
               false,
               false,
               false,
               false,
               false,
               false,
               false,
               false,
               false,
               false,
               false,
               false
              ]
             }
            ],
            "label": "2022-09-19",
            "method": "update"
           },
           {
            "args": [
             {
              "visible": [
               false,
               false,
               false,
               false,
               false,
               false,
               false,
               false,
               false,
               false,
               false,
               false,
               false,
               false,
               false,
               false,
               false,
               false,
               false,
               false,
               false,
               false,
               false,
               false,
               true,
               false,
               false,
               false,
               false,
               false,
               false,
               false,
               false,
               false,
               false,
               false,
               false,
               false,
               false,
               false,
               false,
               false,
               false,
               false,
               false,
               false,
               false,
               false,
               false,
               false,
               false,
               false,
               false,
               false,
               false,
               false,
               false,
               false,
               false,
               false,
               false,
               false,
               false,
               false,
               false,
               false,
               false,
               false,
               false,
               false,
               false,
               false,
               false,
               false,
               false,
               false,
               false,
               false,
               false,
               false,
               false,
               false,
               false,
               false,
               false
              ]
             }
            ],
            "label": "2022-09-20",
            "method": "update"
           },
           {
            "args": [
             {
              "visible": [
               false,
               false,
               false,
               false,
               false,
               false,
               false,
               false,
               false,
               false,
               false,
               false,
               false,
               false,
               false,
               false,
               false,
               false,
               false,
               false,
               false,
               false,
               false,
               false,
               false,
               true,
               false,
               false,
               false,
               false,
               false,
               false,
               false,
               false,
               false,
               false,
               false,
               false,
               false,
               false,
               false,
               false,
               false,
               false,
               false,
               false,
               false,
               false,
               false,
               false,
               false,
               false,
               false,
               false,
               false,
               false,
               false,
               false,
               false,
               false,
               false,
               false,
               false,
               false,
               false,
               false,
               false,
               false,
               false,
               false,
               false,
               false,
               false,
               false,
               false,
               false,
               false,
               false,
               false,
               false,
               false,
               false,
               false,
               false,
               false
              ]
             }
            ],
            "label": "2022-09-24",
            "method": "update"
           },
           {
            "args": [
             {
              "visible": [
               false,
               false,
               false,
               false,
               false,
               false,
               false,
               false,
               false,
               false,
               false,
               false,
               false,
               false,
               false,
               false,
               false,
               false,
               false,
               false,
               false,
               false,
               false,
               false,
               false,
               false,
               true,
               false,
               false,
               false,
               false,
               false,
               false,
               false,
               false,
               false,
               false,
               false,
               false,
               false,
               false,
               false,
               false,
               false,
               false,
               false,
               false,
               false,
               false,
               false,
               false,
               false,
               false,
               false,
               false,
               false,
               false,
               false,
               false,
               false,
               false,
               false,
               false,
               false,
               false,
               false,
               false,
               false,
               false,
               false,
               false,
               false,
               false,
               false,
               false,
               false,
               false,
               false,
               false,
               false,
               false,
               false,
               false,
               false,
               false
              ]
             }
            ],
            "label": "2022-09-26",
            "method": "update"
           },
           {
            "args": [
             {
              "visible": [
               false,
               false,
               false,
               false,
               false,
               false,
               false,
               false,
               false,
               false,
               false,
               false,
               false,
               false,
               false,
               false,
               false,
               false,
               false,
               false,
               false,
               false,
               false,
               false,
               false,
               false,
               false,
               true,
               false,
               false,
               false,
               false,
               false,
               false,
               false,
               false,
               false,
               false,
               false,
               false,
               false,
               false,
               false,
               false,
               false,
               false,
               false,
               false,
               false,
               false,
               false,
               false,
               false,
               false,
               false,
               false,
               false,
               false,
               false,
               false,
               false,
               false,
               false,
               false,
               false,
               false,
               false,
               false,
               false,
               false,
               false,
               false,
               false,
               false,
               false,
               false,
               false,
               false,
               false,
               false,
               false,
               false,
               false,
               false,
               false
              ]
             }
            ],
            "label": "2022-10-15",
            "method": "update"
           },
           {
            "args": [
             {
              "visible": [
               false,
               false,
               false,
               false,
               false,
               false,
               false,
               false,
               false,
               false,
               false,
               false,
               false,
               false,
               false,
               false,
               false,
               false,
               false,
               false,
               false,
               false,
               false,
               false,
               false,
               false,
               false,
               false,
               true,
               false,
               false,
               false,
               false,
               false,
               false,
               false,
               false,
               false,
               false,
               false,
               false,
               false,
               false,
               false,
               false,
               false,
               false,
               false,
               false,
               false,
               false,
               false,
               false,
               false,
               false,
               false,
               false,
               false,
               false,
               false,
               false,
               false,
               false,
               false,
               false,
               false,
               false,
               false,
               false,
               false,
               false,
               false,
               false,
               false,
               false,
               false,
               false,
               false,
               false,
               false,
               false,
               false,
               false,
               false,
               false
              ]
             }
            ],
            "label": "2022-10-25",
            "method": "update"
           },
           {
            "args": [
             {
              "visible": [
               false,
               false,
               false,
               false,
               false,
               false,
               false,
               false,
               false,
               false,
               false,
               false,
               false,
               false,
               false,
               false,
               false,
               false,
               false,
               false,
               false,
               false,
               false,
               false,
               false,
               false,
               false,
               false,
               false,
               true,
               false,
               false,
               false,
               false,
               false,
               false,
               false,
               false,
               false,
               false,
               false,
               false,
               false,
               false,
               false,
               false,
               false,
               false,
               false,
               false,
               false,
               false,
               false,
               false,
               false,
               false,
               false,
               false,
               false,
               false,
               false,
               false,
               false,
               false,
               false,
               false,
               false,
               false,
               false,
               false,
               false,
               false,
               false,
               false,
               false,
               false,
               false,
               false,
               false,
               false,
               false,
               false,
               false,
               false,
               false
              ]
             }
            ],
            "label": "2022-11-09",
            "method": "update"
           },
           {
            "args": [
             {
              "visible": [
               false,
               false,
               false,
               false,
               false,
               false,
               false,
               false,
               false,
               false,
               false,
               false,
               false,
               false,
               false,
               false,
               false,
               false,
               false,
               false,
               false,
               false,
               false,
               false,
               false,
               false,
               false,
               false,
               false,
               false,
               true,
               false,
               false,
               false,
               false,
               false,
               false,
               false,
               false,
               false,
               false,
               false,
               false,
               false,
               false,
               false,
               false,
               false,
               false,
               false,
               false,
               false,
               false,
               false,
               false,
               false,
               false,
               false,
               false,
               false,
               false,
               false,
               false,
               false,
               false,
               false,
               false,
               false,
               false,
               false,
               false,
               false,
               false,
               false,
               false,
               false,
               false,
               false,
               false,
               false,
               false,
               false,
               false,
               false,
               false
              ]
             }
            ],
            "label": "2022-11-10",
            "method": "update"
           },
           {
            "args": [
             {
              "visible": [
               false,
               false,
               false,
               false,
               false,
               false,
               false,
               false,
               false,
               false,
               false,
               false,
               false,
               false,
               false,
               false,
               false,
               false,
               false,
               false,
               false,
               false,
               false,
               false,
               false,
               false,
               false,
               false,
               false,
               false,
               false,
               true,
               false,
               false,
               false,
               false,
               false,
               false,
               false,
               false,
               false,
               false,
               false,
               false,
               false,
               false,
               false,
               false,
               false,
               false,
               false,
               false,
               false,
               false,
               false,
               false,
               false,
               false,
               false,
               false,
               false,
               false,
               false,
               false,
               false,
               false,
               false,
               false,
               false,
               false,
               false,
               false,
               false,
               false,
               false,
               false,
               false,
               false,
               false,
               false,
               false,
               false,
               false,
               false,
               false
              ]
             }
            ],
            "label": "2022-11-12",
            "method": "update"
           },
           {
            "args": [
             {
              "visible": [
               false,
               false,
               false,
               false,
               false,
               false,
               false,
               false,
               false,
               false,
               false,
               false,
               false,
               false,
               false,
               false,
               false,
               false,
               false,
               false,
               false,
               false,
               false,
               false,
               false,
               false,
               false,
               false,
               false,
               false,
               false,
               false,
               true,
               false,
               false,
               false,
               false,
               false,
               false,
               false,
               false,
               false,
               false,
               false,
               false,
               false,
               false,
               false,
               false,
               false,
               false,
               false,
               false,
               false,
               false,
               false,
               false,
               false,
               false,
               false,
               false,
               false,
               false,
               false,
               false,
               false,
               false,
               false,
               false,
               false,
               false,
               false,
               false,
               false,
               false,
               false,
               false,
               false,
               false,
               false,
               false,
               false,
               false,
               false,
               false
              ]
             }
            ],
            "label": "2022-12-09",
            "method": "update"
           },
           {
            "args": [
             {
              "visible": [
               false,
               false,
               false,
               false,
               false,
               false,
               false,
               false,
               false,
               false,
               false,
               false,
               false,
               false,
               false,
               false,
               false,
               false,
               false,
               false,
               false,
               false,
               false,
               false,
               false,
               false,
               false,
               false,
               false,
               false,
               false,
               false,
               false,
               true,
               false,
               false,
               false,
               false,
               false,
               false,
               false,
               false,
               false,
               false,
               false,
               false,
               false,
               false,
               false,
               false,
               false,
               false,
               false,
               false,
               false,
               false,
               false,
               false,
               false,
               false,
               false,
               false,
               false,
               false,
               false,
               false,
               false,
               false,
               false,
               false,
               false,
               false,
               false,
               false,
               false,
               false,
               false,
               false,
               false,
               false,
               false,
               false,
               false,
               false,
               false
              ]
             }
            ],
            "label": "2022-12-13",
            "method": "update"
           },
           {
            "args": [
             {
              "visible": [
               false,
               false,
               false,
               false,
               false,
               false,
               false,
               false,
               false,
               false,
               false,
               false,
               false,
               false,
               false,
               false,
               false,
               false,
               false,
               false,
               false,
               false,
               false,
               false,
               false,
               false,
               false,
               false,
               false,
               false,
               false,
               false,
               false,
               false,
               true,
               false,
               false,
               false,
               false,
               false,
               false,
               false,
               false,
               false,
               false,
               false,
               false,
               false,
               false,
               false,
               false,
               false,
               false,
               false,
               false,
               false,
               false,
               false,
               false,
               false,
               false,
               false,
               false,
               false,
               false,
               false,
               false,
               false,
               false,
               false,
               false,
               false,
               false,
               false,
               false,
               false,
               false,
               false,
               false,
               false,
               false,
               false,
               false,
               false,
               false
              ]
             }
            ],
            "label": "2022-12-17",
            "method": "update"
           },
           {
            "args": [
             {
              "visible": [
               false,
               false,
               false,
               false,
               false,
               false,
               false,
               false,
               false,
               false,
               false,
               false,
               false,
               false,
               false,
               false,
               false,
               false,
               false,
               false,
               false,
               false,
               false,
               false,
               false,
               false,
               false,
               false,
               false,
               false,
               false,
               false,
               false,
               false,
               false,
               true,
               false,
               false,
               false,
               false,
               false,
               false,
               false,
               false,
               false,
               false,
               false,
               false,
               false,
               false,
               false,
               false,
               false,
               false,
               false,
               false,
               false,
               false,
               false,
               false,
               false,
               false,
               false,
               false,
               false,
               false,
               false,
               false,
               false,
               false,
               false,
               false,
               false,
               false,
               false,
               false,
               false,
               false,
               false,
               false,
               false,
               false,
               false,
               false,
               false
              ]
             }
            ],
            "label": "2022-12-21",
            "method": "update"
           },
           {
            "args": [
             {
              "visible": [
               false,
               false,
               false,
               false,
               false,
               false,
               false,
               false,
               false,
               false,
               false,
               false,
               false,
               false,
               false,
               false,
               false,
               false,
               false,
               false,
               false,
               false,
               false,
               false,
               false,
               false,
               false,
               false,
               false,
               false,
               false,
               false,
               false,
               false,
               false,
               false,
               true,
               false,
               false,
               false,
               false,
               false,
               false,
               false,
               false,
               false,
               false,
               false,
               false,
               false,
               false,
               false,
               false,
               false,
               false,
               false,
               false,
               false,
               false,
               false,
               false,
               false,
               false,
               false,
               false,
               false,
               false,
               false,
               false,
               false,
               false,
               false,
               false,
               false,
               false,
               false,
               false,
               false,
               false,
               false,
               false,
               false,
               false,
               false,
               false
              ]
             }
            ],
            "label": "2022-12-29",
            "method": "update"
           },
           {
            "args": [
             {
              "visible": [
               false,
               false,
               false,
               false,
               false,
               false,
               false,
               false,
               false,
               false,
               false,
               false,
               false,
               false,
               false,
               false,
               false,
               false,
               false,
               false,
               false,
               false,
               false,
               false,
               false,
               false,
               false,
               false,
               false,
               false,
               false,
               false,
               false,
               false,
               false,
               false,
               false,
               true,
               false,
               false,
               false,
               false,
               false,
               false,
               false,
               false,
               false,
               false,
               false,
               false,
               false,
               false,
               false,
               false,
               false,
               false,
               false,
               false,
               false,
               false,
               false,
               false,
               false,
               false,
               false,
               false,
               false,
               false,
               false,
               false,
               false,
               false,
               false,
               false,
               false,
               false,
               false,
               false,
               false,
               false,
               false,
               false,
               false,
               false,
               false
              ]
             }
            ],
            "label": "2023-01-04",
            "method": "update"
           },
           {
            "args": [
             {
              "visible": [
               false,
               false,
               false,
               false,
               false,
               false,
               false,
               false,
               false,
               false,
               false,
               false,
               false,
               false,
               false,
               false,
               false,
               false,
               false,
               false,
               false,
               false,
               false,
               false,
               false,
               false,
               false,
               false,
               false,
               false,
               false,
               false,
               false,
               false,
               false,
               false,
               false,
               false,
               true,
               false,
               false,
               false,
               false,
               false,
               false,
               false,
               false,
               false,
               false,
               false,
               false,
               false,
               false,
               false,
               false,
               false,
               false,
               false,
               false,
               false,
               false,
               false,
               false,
               false,
               false,
               false,
               false,
               false,
               false,
               false,
               false,
               false,
               false,
               false,
               false,
               false,
               false,
               false,
               false,
               false,
               false,
               false,
               false,
               false,
               false
              ]
             }
            ],
            "label": "2023-01-06",
            "method": "update"
           },
           {
            "args": [
             {
              "visible": [
               false,
               false,
               false,
               false,
               false,
               false,
               false,
               false,
               false,
               false,
               false,
               false,
               false,
               false,
               false,
               false,
               false,
               false,
               false,
               false,
               false,
               false,
               false,
               false,
               false,
               false,
               false,
               false,
               false,
               false,
               false,
               false,
               false,
               false,
               false,
               false,
               false,
               false,
               false,
               true,
               false,
               false,
               false,
               false,
               false,
               false,
               false,
               false,
               false,
               false,
               false,
               false,
               false,
               false,
               false,
               false,
               false,
               false,
               false,
               false,
               false,
               false,
               false,
               false,
               false,
               false,
               false,
               false,
               false,
               false,
               false,
               false,
               false,
               false,
               false,
               false,
               false,
               false,
               false,
               false,
               false,
               false,
               false,
               false,
               false
              ]
             }
            ],
            "label": "2023-01-12",
            "method": "update"
           },
           {
            "args": [
             {
              "visible": [
               false,
               false,
               false,
               false,
               false,
               false,
               false,
               false,
               false,
               false,
               false,
               false,
               false,
               false,
               false,
               false,
               false,
               false,
               false,
               false,
               false,
               false,
               false,
               false,
               false,
               false,
               false,
               false,
               false,
               false,
               false,
               false,
               false,
               false,
               false,
               false,
               false,
               false,
               false,
               false,
               true,
               false,
               false,
               false,
               false,
               false,
               false,
               false,
               false,
               false,
               false,
               false,
               false,
               false,
               false,
               false,
               false,
               false,
               false,
               false,
               false,
               false,
               false,
               false,
               false,
               false,
               false,
               false,
               false,
               false,
               false,
               false,
               false,
               false,
               false,
               false,
               false,
               false,
               false,
               false,
               false,
               false,
               false,
               false,
               false
              ]
             }
            ],
            "label": "2023-01-19",
            "method": "update"
           },
           {
            "args": [
             {
              "visible": [
               false,
               false,
               false,
               false,
               false,
               false,
               false,
               false,
               false,
               false,
               false,
               false,
               false,
               false,
               false,
               false,
               false,
               false,
               false,
               false,
               false,
               false,
               false,
               false,
               false,
               false,
               false,
               false,
               false,
               false,
               false,
               false,
               false,
               false,
               false,
               false,
               false,
               false,
               false,
               false,
               false,
               true,
               false,
               false,
               false,
               false,
               false,
               false,
               false,
               false,
               false,
               false,
               false,
               false,
               false,
               false,
               false,
               false,
               false,
               false,
               false,
               false,
               false,
               false,
               false,
               false,
               false,
               false,
               false,
               false,
               false,
               false,
               false,
               false,
               false,
               false,
               false,
               false,
               false,
               false,
               false,
               false,
               false,
               false,
               false
              ]
             }
            ],
            "label": "2023-01-20",
            "method": "update"
           },
           {
            "args": [
             {
              "visible": [
               false,
               false,
               false,
               false,
               false,
               false,
               false,
               false,
               false,
               false,
               false,
               false,
               false,
               false,
               false,
               false,
               false,
               false,
               false,
               false,
               false,
               false,
               false,
               false,
               false,
               false,
               false,
               false,
               false,
               false,
               false,
               false,
               false,
               false,
               false,
               false,
               false,
               false,
               false,
               false,
               false,
               false,
               true,
               false,
               false,
               false,
               false,
               false,
               false,
               false,
               false,
               false,
               false,
               false,
               false,
               false,
               false,
               false,
               false,
               false,
               false,
               false,
               false,
               false,
               false,
               false,
               false,
               false,
               false,
               false,
               false,
               false,
               false,
               false,
               false,
               false,
               false,
               false,
               false,
               false,
               false,
               false,
               false,
               false,
               false
              ]
             }
            ],
            "label": "2023-01-22",
            "method": "update"
           },
           {
            "args": [
             {
              "visible": [
               false,
               false,
               false,
               false,
               false,
               false,
               false,
               false,
               false,
               false,
               false,
               false,
               false,
               false,
               false,
               false,
               false,
               false,
               false,
               false,
               false,
               false,
               false,
               false,
               false,
               false,
               false,
               false,
               false,
               false,
               false,
               false,
               false,
               false,
               false,
               false,
               false,
               false,
               false,
               false,
               false,
               false,
               false,
               true,
               false,
               false,
               false,
               false,
               false,
               false,
               false,
               false,
               false,
               false,
               false,
               false,
               false,
               false,
               false,
               false,
               false,
               false,
               false,
               false,
               false,
               false,
               false,
               false,
               false,
               false,
               false,
               false,
               false,
               false,
               false,
               false,
               false,
               false,
               false,
               false,
               false,
               false,
               false,
               false,
               false
              ]
             }
            ],
            "label": "2023-01-25",
            "method": "update"
           },
           {
            "args": [
             {
              "visible": [
               false,
               false,
               false,
               false,
               false,
               false,
               false,
               false,
               false,
               false,
               false,
               false,
               false,
               false,
               false,
               false,
               false,
               false,
               false,
               false,
               false,
               false,
               false,
               false,
               false,
               false,
               false,
               false,
               false,
               false,
               false,
               false,
               false,
               false,
               false,
               false,
               false,
               false,
               false,
               false,
               false,
               false,
               false,
               false,
               true,
               false,
               false,
               false,
               false,
               false,
               false,
               false,
               false,
               false,
               false,
               false,
               false,
               false,
               false,
               false,
               false,
               false,
               false,
               false,
               false,
               false,
               false,
               false,
               false,
               false,
               false,
               false,
               false,
               false,
               false,
               false,
               false,
               false,
               false,
               false,
               false,
               false,
               false,
               false,
               false
              ]
             }
            ],
            "label": "2023-02-02",
            "method": "update"
           },
           {
            "args": [
             {
              "visible": [
               false,
               false,
               false,
               false,
               false,
               false,
               false,
               false,
               false,
               false,
               false,
               false,
               false,
               false,
               false,
               false,
               false,
               false,
               false,
               false,
               false,
               false,
               false,
               false,
               false,
               false,
               false,
               false,
               false,
               false,
               false,
               false,
               false,
               false,
               false,
               false,
               false,
               false,
               false,
               false,
               false,
               false,
               false,
               false,
               false,
               true,
               false,
               false,
               false,
               false,
               false,
               false,
               false,
               false,
               false,
               false,
               false,
               false,
               false,
               false,
               false,
               false,
               false,
               false,
               false,
               false,
               false,
               false,
               false,
               false,
               false,
               false,
               false,
               false,
               false,
               false,
               false,
               false,
               false,
               false,
               false,
               false,
               false,
               false,
               false
              ]
             }
            ],
            "label": "2023-02-07",
            "method": "update"
           },
           {
            "args": [
             {
              "visible": [
               false,
               false,
               false,
               false,
               false,
               false,
               false,
               false,
               false,
               false,
               false,
               false,
               false,
               false,
               false,
               false,
               false,
               false,
               false,
               false,
               false,
               false,
               false,
               false,
               false,
               false,
               false,
               false,
               false,
               false,
               false,
               false,
               false,
               false,
               false,
               false,
               false,
               false,
               false,
               false,
               false,
               false,
               false,
               false,
               false,
               false,
               true,
               false,
               false,
               false,
               false,
               false,
               false,
               false,
               false,
               false,
               false,
               false,
               false,
               false,
               false,
               false,
               false,
               false,
               false,
               false,
               false,
               false,
               false,
               false,
               false,
               false,
               false,
               false,
               false,
               false,
               false,
               false,
               false,
               false,
               false,
               false,
               false,
               false,
               false
              ]
             }
            ],
            "label": "2023-02-16",
            "method": "update"
           },
           {
            "args": [
             {
              "visible": [
               false,
               false,
               false,
               false,
               false,
               false,
               false,
               false,
               false,
               false,
               false,
               false,
               false,
               false,
               false,
               false,
               false,
               false,
               false,
               false,
               false,
               false,
               false,
               false,
               false,
               false,
               false,
               false,
               false,
               false,
               false,
               false,
               false,
               false,
               false,
               false,
               false,
               false,
               false,
               false,
               false,
               false,
               false,
               false,
               false,
               false,
               false,
               true,
               false,
               false,
               false,
               false,
               false,
               false,
               false,
               false,
               false,
               false,
               false,
               false,
               false,
               false,
               false,
               false,
               false,
               false,
               false,
               false,
               false,
               false,
               false,
               false,
               false,
               false,
               false,
               false,
               false,
               false,
               false,
               false,
               false,
               false,
               false,
               false,
               false
              ]
             }
            ],
            "label": "2023-04-05",
            "method": "update"
           },
           {
            "args": [
             {
              "visible": [
               false,
               false,
               false,
               false,
               false,
               false,
               false,
               false,
               false,
               false,
               false,
               false,
               false,
               false,
               false,
               false,
               false,
               false,
               false,
               false,
               false,
               false,
               false,
               false,
               false,
               false,
               false,
               false,
               false,
               false,
               false,
               false,
               false,
               false,
               false,
               false,
               false,
               false,
               false,
               false,
               false,
               false,
               false,
               false,
               false,
               false,
               false,
               false,
               true,
               false,
               false,
               false,
               false,
               false,
               false,
               false,
               false,
               false,
               false,
               false,
               false,
               false,
               false,
               false,
               false,
               false,
               false,
               false,
               false,
               false,
               false,
               false,
               false,
               false,
               false,
               false,
               false,
               false,
               false,
               false,
               false,
               false,
               false,
               false,
               false
              ]
             }
            ],
            "label": "2023-04-07",
            "method": "update"
           },
           {
            "args": [
             {
              "visible": [
               false,
               false,
               false,
               false,
               false,
               false,
               false,
               false,
               false,
               false,
               false,
               false,
               false,
               false,
               false,
               false,
               false,
               false,
               false,
               false,
               false,
               false,
               false,
               false,
               false,
               false,
               false,
               false,
               false,
               false,
               false,
               false,
               false,
               false,
               false,
               false,
               false,
               false,
               false,
               false,
               false,
               false,
               false,
               false,
               false,
               false,
               false,
               false,
               false,
               true,
               false,
               false,
               false,
               false,
               false,
               false,
               false,
               false,
               false,
               false,
               false,
               false,
               false,
               false,
               false,
               false,
               false,
               false,
               false,
               false,
               false,
               false,
               false,
               false,
               false,
               false,
               false,
               false,
               false,
               false,
               false,
               false,
               false,
               false,
               false
              ]
             }
            ],
            "label": "2023-04-09",
            "method": "update"
           },
           {
            "args": [
             {
              "visible": [
               false,
               false,
               false,
               false,
               false,
               false,
               false,
               false,
               false,
               false,
               false,
               false,
               false,
               false,
               false,
               false,
               false,
               false,
               false,
               false,
               false,
               false,
               false,
               false,
               false,
               false,
               false,
               false,
               false,
               false,
               false,
               false,
               false,
               false,
               false,
               false,
               false,
               false,
               false,
               false,
               false,
               false,
               false,
               false,
               false,
               false,
               false,
               false,
               false,
               false,
               true,
               false,
               false,
               false,
               false,
               false,
               false,
               false,
               false,
               false,
               false,
               false,
               false,
               false,
               false,
               false,
               false,
               false,
               false,
               false,
               false,
               false,
               false,
               false,
               false,
               false,
               false,
               false,
               false,
               false,
               false,
               false,
               false,
               false,
               false
              ]
             }
            ],
            "label": "2023-04-11",
            "method": "update"
           },
           {
            "args": [
             {
              "visible": [
               false,
               false,
               false,
               false,
               false,
               false,
               false,
               false,
               false,
               false,
               false,
               false,
               false,
               false,
               false,
               false,
               false,
               false,
               false,
               false,
               false,
               false,
               false,
               false,
               false,
               false,
               false,
               false,
               false,
               false,
               false,
               false,
               false,
               false,
               false,
               false,
               false,
               false,
               false,
               false,
               false,
               false,
               false,
               false,
               false,
               false,
               false,
               false,
               false,
               false,
               false,
               true,
               false,
               false,
               false,
               false,
               false,
               false,
               false,
               false,
               false,
               false,
               false,
               false,
               false,
               false,
               false,
               false,
               false,
               false,
               false,
               false,
               false,
               false,
               false,
               false,
               false,
               false,
               false,
               false,
               false,
               false,
               false,
               false,
               false
              ]
             }
            ],
            "label": "2023-04-20",
            "method": "update"
           },
           {
            "args": [
             {
              "visible": [
               false,
               false,
               false,
               false,
               false,
               false,
               false,
               false,
               false,
               false,
               false,
               false,
               false,
               false,
               false,
               false,
               false,
               false,
               false,
               false,
               false,
               false,
               false,
               false,
               false,
               false,
               false,
               false,
               false,
               false,
               false,
               false,
               false,
               false,
               false,
               false,
               false,
               false,
               false,
               false,
               false,
               false,
               false,
               false,
               false,
               false,
               false,
               false,
               false,
               false,
               false,
               false,
               true,
               false,
               false,
               false,
               false,
               false,
               false,
               false,
               false,
               false,
               false,
               false,
               false,
               false,
               false,
               false,
               false,
               false,
               false,
               false,
               false,
               false,
               false,
               false,
               false,
               false,
               false,
               false,
               false,
               false,
               false,
               false,
               false
              ]
             }
            ],
            "label": "2023-05-06",
            "method": "update"
           },
           {
            "args": [
             {
              "visible": [
               false,
               false,
               false,
               false,
               false,
               false,
               false,
               false,
               false,
               false,
               false,
               false,
               false,
               false,
               false,
               false,
               false,
               false,
               false,
               false,
               false,
               false,
               false,
               false,
               false,
               false,
               false,
               false,
               false,
               false,
               false,
               false,
               false,
               false,
               false,
               false,
               false,
               false,
               false,
               false,
               false,
               false,
               false,
               false,
               false,
               false,
               false,
               false,
               false,
               false,
               false,
               false,
               false,
               true,
               false,
               false,
               false,
               false,
               false,
               false,
               false,
               false,
               false,
               false,
               false,
               false,
               false,
               false,
               false,
               false,
               false,
               false,
               false,
               false,
               false,
               false,
               false,
               false,
               false,
               false,
               false,
               false,
               false,
               false,
               false
              ]
             }
            ],
            "label": "2023-05-10",
            "method": "update"
           },
           {
            "args": [
             {
              "visible": [
               false,
               false,
               false,
               false,
               false,
               false,
               false,
               false,
               false,
               false,
               false,
               false,
               false,
               false,
               false,
               false,
               false,
               false,
               false,
               false,
               false,
               false,
               false,
               false,
               false,
               false,
               false,
               false,
               false,
               false,
               false,
               false,
               false,
               false,
               false,
               false,
               false,
               false,
               false,
               false,
               false,
               false,
               false,
               false,
               false,
               false,
               false,
               false,
               false,
               false,
               false,
               false,
               false,
               false,
               true,
               false,
               false,
               false,
               false,
               false,
               false,
               false,
               false,
               false,
               false,
               false,
               false,
               false,
               false,
               false,
               false,
               false,
               false,
               false,
               false,
               false,
               false,
               false,
               false,
               false,
               false,
               false,
               false,
               false,
               false
              ]
             }
            ],
            "label": "2023-05-24",
            "method": "update"
           },
           {
            "args": [
             {
              "visible": [
               false,
               false,
               false,
               false,
               false,
               false,
               false,
               false,
               false,
               false,
               false,
               false,
               false,
               false,
               false,
               false,
               false,
               false,
               false,
               false,
               false,
               false,
               false,
               false,
               false,
               false,
               false,
               false,
               false,
               false,
               false,
               false,
               false,
               false,
               false,
               false,
               false,
               false,
               false,
               false,
               false,
               false,
               false,
               false,
               false,
               false,
               false,
               false,
               false,
               false,
               false,
               false,
               false,
               false,
               false,
               true,
               false,
               false,
               false,
               false,
               false,
               false,
               false,
               false,
               false,
               false,
               false,
               false,
               false,
               false,
               false,
               false,
               false,
               false,
               false,
               false,
               false,
               false,
               false,
               false,
               false,
               false,
               false,
               false,
               false
              ]
             }
            ],
            "label": "2023-05-26",
            "method": "update"
           },
           {
            "args": [
             {
              "visible": [
               false,
               false,
               false,
               false,
               false,
               false,
               false,
               false,
               false,
               false,
               false,
               false,
               false,
               false,
               false,
               false,
               false,
               false,
               false,
               false,
               false,
               false,
               false,
               false,
               false,
               false,
               false,
               false,
               false,
               false,
               false,
               false,
               false,
               false,
               false,
               false,
               false,
               false,
               false,
               false,
               false,
               false,
               false,
               false,
               false,
               false,
               false,
               false,
               false,
               false,
               false,
               false,
               false,
               false,
               false,
               false,
               true,
               false,
               false,
               false,
               false,
               false,
               false,
               false,
               false,
               false,
               false,
               false,
               false,
               false,
               false,
               false,
               false,
               false,
               false,
               false,
               false,
               false,
               false,
               false,
               false,
               false,
               false,
               false,
               false
              ]
             }
            ],
            "label": "2023-05-30",
            "method": "update"
           },
           {
            "args": [
             {
              "visible": [
               false,
               false,
               false,
               false,
               false,
               false,
               false,
               false,
               false,
               false,
               false,
               false,
               false,
               false,
               false,
               false,
               false,
               false,
               false,
               false,
               false,
               false,
               false,
               false,
               false,
               false,
               false,
               false,
               false,
               false,
               false,
               false,
               false,
               false,
               false,
               false,
               false,
               false,
               false,
               false,
               false,
               false,
               false,
               false,
               false,
               false,
               false,
               false,
               false,
               false,
               false,
               false,
               false,
               false,
               false,
               false,
               false,
               true,
               false,
               false,
               false,
               false,
               false,
               false,
               false,
               false,
               false,
               false,
               false,
               false,
               false,
               false,
               false,
               false,
               false,
               false,
               false,
               false,
               false,
               false,
               false,
               false,
               false,
               false,
               false
              ]
             }
            ],
            "label": "2023-06-01",
            "method": "update"
           },
           {
            "args": [
             {
              "visible": [
               false,
               false,
               false,
               false,
               false,
               false,
               false,
               false,
               false,
               false,
               false,
               false,
               false,
               false,
               false,
               false,
               false,
               false,
               false,
               false,
               false,
               false,
               false,
               false,
               false,
               false,
               false,
               false,
               false,
               false,
               false,
               false,
               false,
               false,
               false,
               false,
               false,
               false,
               false,
               false,
               false,
               false,
               false,
               false,
               false,
               false,
               false,
               false,
               false,
               false,
               false,
               false,
               false,
               false,
               false,
               false,
               false,
               false,
               true,
               false,
               false,
               false,
               false,
               false,
               false,
               false,
               false,
               false,
               false,
               false,
               false,
               false,
               false,
               false,
               false,
               false,
               false,
               false,
               false,
               false,
               false,
               false,
               false,
               false,
               false
              ]
             }
            ],
            "label": "2023-06-09",
            "method": "update"
           },
           {
            "args": [
             {
              "visible": [
               false,
               false,
               false,
               false,
               false,
               false,
               false,
               false,
               false,
               false,
               false,
               false,
               false,
               false,
               false,
               false,
               false,
               false,
               false,
               false,
               false,
               false,
               false,
               false,
               false,
               false,
               false,
               false,
               false,
               false,
               false,
               false,
               false,
               false,
               false,
               false,
               false,
               false,
               false,
               false,
               false,
               false,
               false,
               false,
               false,
               false,
               false,
               false,
               false,
               false,
               false,
               false,
               false,
               false,
               false,
               false,
               false,
               false,
               false,
               true,
               false,
               false,
               false,
               false,
               false,
               false,
               false,
               false,
               false,
               false,
               false,
               false,
               false,
               false,
               false,
               false,
               false,
               false,
               false,
               false,
               false,
               false,
               false,
               false,
               false
              ]
             }
            ],
            "label": "2023-06-11",
            "method": "update"
           },
           {
            "args": [
             {
              "visible": [
               false,
               false,
               false,
               false,
               false,
               false,
               false,
               false,
               false,
               false,
               false,
               false,
               false,
               false,
               false,
               false,
               false,
               false,
               false,
               false,
               false,
               false,
               false,
               false,
               false,
               false,
               false,
               false,
               false,
               false,
               false,
               false,
               false,
               false,
               false,
               false,
               false,
               false,
               false,
               false,
               false,
               false,
               false,
               false,
               false,
               false,
               false,
               false,
               false,
               false,
               false,
               false,
               false,
               false,
               false,
               false,
               false,
               false,
               false,
               false,
               true,
               false,
               false,
               false,
               false,
               false,
               false,
               false,
               false,
               false,
               false,
               false,
               false,
               false,
               false,
               false,
               false,
               false,
               false,
               false,
               false,
               false,
               false,
               false,
               false
              ]
             }
            ],
            "label": "2023-06-26",
            "method": "update"
           },
           {
            "args": [
             {
              "visible": [
               false,
               false,
               false,
               false,
               false,
               false,
               false,
               false,
               false,
               false,
               false,
               false,
               false,
               false,
               false,
               false,
               false,
               false,
               false,
               false,
               false,
               false,
               false,
               false,
               false,
               false,
               false,
               false,
               false,
               false,
               false,
               false,
               false,
               false,
               false,
               false,
               false,
               false,
               false,
               false,
               false,
               false,
               false,
               false,
               false,
               false,
               false,
               false,
               false,
               false,
               false,
               false,
               false,
               false,
               false,
               false,
               false,
               false,
               false,
               false,
               false,
               true,
               false,
               false,
               false,
               false,
               false,
               false,
               false,
               false,
               false,
               false,
               false,
               false,
               false,
               false,
               false,
               false,
               false,
               false,
               false,
               false,
               false,
               false,
               false
              ]
             }
            ],
            "label": "2023-07-05",
            "method": "update"
           },
           {
            "args": [
             {
              "visible": [
               false,
               false,
               false,
               false,
               false,
               false,
               false,
               false,
               false,
               false,
               false,
               false,
               false,
               false,
               false,
               false,
               false,
               false,
               false,
               false,
               false,
               false,
               false,
               false,
               false,
               false,
               false,
               false,
               false,
               false,
               false,
               false,
               false,
               false,
               false,
               false,
               false,
               false,
               false,
               false,
               false,
               false,
               false,
               false,
               false,
               false,
               false,
               false,
               false,
               false,
               false,
               false,
               false,
               false,
               false,
               false,
               false,
               false,
               false,
               false,
               false,
               false,
               true,
               false,
               false,
               false,
               false,
               false,
               false,
               false,
               false,
               false,
               false,
               false,
               false,
               false,
               false,
               false,
               false,
               false,
               false,
               false,
               false,
               false,
               false
              ]
             }
            ],
            "label": "2023-07-18",
            "method": "update"
           },
           {
            "args": [
             {
              "visible": [
               false,
               false,
               false,
               false,
               false,
               false,
               false,
               false,
               false,
               false,
               false,
               false,
               false,
               false,
               false,
               false,
               false,
               false,
               false,
               false,
               false,
               false,
               false,
               false,
               false,
               false,
               false,
               false,
               false,
               false,
               false,
               false,
               false,
               false,
               false,
               false,
               false,
               false,
               false,
               false,
               false,
               false,
               false,
               false,
               false,
               false,
               false,
               false,
               false,
               false,
               false,
               false,
               false,
               false,
               false,
               false,
               false,
               false,
               false,
               false,
               false,
               false,
               false,
               true,
               false,
               false,
               false,
               false,
               false,
               false,
               false,
               false,
               false,
               false,
               false,
               false,
               false,
               false,
               false,
               false,
               false,
               false,
               false,
               false,
               false
              ]
             }
            ],
            "label": "2023-07-27",
            "method": "update"
           },
           {
            "args": [
             {
              "visible": [
               false,
               false,
               false,
               false,
               false,
               false,
               false,
               false,
               false,
               false,
               false,
               false,
               false,
               false,
               false,
               false,
               false,
               false,
               false,
               false,
               false,
               false,
               false,
               false,
               false,
               false,
               false,
               false,
               false,
               false,
               false,
               false,
               false,
               false,
               false,
               false,
               false,
               false,
               false,
               false,
               false,
               false,
               false,
               false,
               false,
               false,
               false,
               false,
               false,
               false,
               false,
               false,
               false,
               false,
               false,
               false,
               false,
               false,
               false,
               false,
               false,
               false,
               false,
               false,
               true,
               false,
               false,
               false,
               false,
               false,
               false,
               false,
               false,
               false,
               false,
               false,
               false,
               false,
               false,
               false,
               false,
               false,
               false,
               false,
               false
              ]
             }
            ],
            "label": "2023-07-29",
            "method": "update"
           },
           {
            "args": [
             {
              "visible": [
               false,
               false,
               false,
               false,
               false,
               false,
               false,
               false,
               false,
               false,
               false,
               false,
               false,
               false,
               false,
               false,
               false,
               false,
               false,
               false,
               false,
               false,
               false,
               false,
               false,
               false,
               false,
               false,
               false,
               false,
               false,
               false,
               false,
               false,
               false,
               false,
               false,
               false,
               false,
               false,
               false,
               false,
               false,
               false,
               false,
               false,
               false,
               false,
               false,
               false,
               false,
               false,
               false,
               false,
               false,
               false,
               false,
               false,
               false,
               false,
               false,
               false,
               false,
               false,
               false,
               true,
               false,
               false,
               false,
               false,
               false,
               false,
               false,
               false,
               false,
               false,
               false,
               false,
               false,
               false,
               false,
               false,
               false,
               false,
               false
              ]
             }
            ],
            "label": "2023-08-06",
            "method": "update"
           },
           {
            "args": [
             {
              "visible": [
               false,
               false,
               false,
               false,
               false,
               false,
               false,
               false,
               false,
               false,
               false,
               false,
               false,
               false,
               false,
               false,
               false,
               false,
               false,
               false,
               false,
               false,
               false,
               false,
               false,
               false,
               false,
               false,
               false,
               false,
               false,
               false,
               false,
               false,
               false,
               false,
               false,
               false,
               false,
               false,
               false,
               false,
               false,
               false,
               false,
               false,
               false,
               false,
               false,
               false,
               false,
               false,
               false,
               false,
               false,
               false,
               false,
               false,
               false,
               false,
               false,
               false,
               false,
               false,
               false,
               false,
               true,
               false,
               false,
               false,
               false,
               false,
               false,
               false,
               false,
               false,
               false,
               false,
               false,
               false,
               false,
               false,
               false,
               false,
               false
              ]
             }
            ],
            "label": "2023-08-21",
            "method": "update"
           },
           {
            "args": [
             {
              "visible": [
               false,
               false,
               false,
               false,
               false,
               false,
               false,
               false,
               false,
               false,
               false,
               false,
               false,
               false,
               false,
               false,
               false,
               false,
               false,
               false,
               false,
               false,
               false,
               false,
               false,
               false,
               false,
               false,
               false,
               false,
               false,
               false,
               false,
               false,
               false,
               false,
               false,
               false,
               false,
               false,
               false,
               false,
               false,
               false,
               false,
               false,
               false,
               false,
               false,
               false,
               false,
               false,
               false,
               false,
               false,
               false,
               false,
               false,
               false,
               false,
               false,
               false,
               false,
               false,
               false,
               false,
               false,
               true,
               false,
               false,
               false,
               false,
               false,
               false,
               false,
               false,
               false,
               false,
               false,
               false,
               false,
               false,
               false,
               false,
               false
              ]
             }
            ],
            "label": "2023-09-01",
            "method": "update"
           },
           {
            "args": [
             {
              "visible": [
               false,
               false,
               false,
               false,
               false,
               false,
               false,
               false,
               false,
               false,
               false,
               false,
               false,
               false,
               false,
               false,
               false,
               false,
               false,
               false,
               false,
               false,
               false,
               false,
               false,
               false,
               false,
               false,
               false,
               false,
               false,
               false,
               false,
               false,
               false,
               false,
               false,
               false,
               false,
               false,
               false,
               false,
               false,
               false,
               false,
               false,
               false,
               false,
               false,
               false,
               false,
               false,
               false,
               false,
               false,
               false,
               false,
               false,
               false,
               false,
               false,
               false,
               false,
               false,
               false,
               false,
               false,
               false,
               true,
               false,
               false,
               false,
               false,
               false,
               false,
               false,
               false,
               false,
               false,
               false,
               false,
               false,
               false,
               false,
               false
              ]
             }
            ],
            "label": "2023-09-12",
            "method": "update"
           },
           {
            "args": [
             {
              "visible": [
               false,
               false,
               false,
               false,
               false,
               false,
               false,
               false,
               false,
               false,
               false,
               false,
               false,
               false,
               false,
               false,
               false,
               false,
               false,
               false,
               false,
               false,
               false,
               false,
               false,
               false,
               false,
               false,
               false,
               false,
               false,
               false,
               false,
               false,
               false,
               false,
               false,
               false,
               false,
               false,
               false,
               false,
               false,
               false,
               false,
               false,
               false,
               false,
               false,
               false,
               false,
               false,
               false,
               false,
               false,
               false,
               false,
               false,
               false,
               false,
               false,
               false,
               false,
               false,
               false,
               false,
               false,
               false,
               false,
               true,
               false,
               false,
               false,
               false,
               false,
               false,
               false,
               false,
               false,
               false,
               false,
               false,
               false,
               false,
               false
              ]
             }
            ],
            "label": "2023-09-18",
            "method": "update"
           },
           {
            "args": [
             {
              "visible": [
               false,
               false,
               false,
               false,
               false,
               false,
               false,
               false,
               false,
               false,
               false,
               false,
               false,
               false,
               false,
               false,
               false,
               false,
               false,
               false,
               false,
               false,
               false,
               false,
               false,
               false,
               false,
               false,
               false,
               false,
               false,
               false,
               false,
               false,
               false,
               false,
               false,
               false,
               false,
               false,
               false,
               false,
               false,
               false,
               false,
               false,
               false,
               false,
               false,
               false,
               false,
               false,
               false,
               false,
               false,
               false,
               false,
               false,
               false,
               false,
               false,
               false,
               false,
               false,
               false,
               false,
               false,
               false,
               false,
               false,
               true,
               false,
               false,
               false,
               false,
               false,
               false,
               false,
               false,
               false,
               false,
               false,
               false,
               false,
               false
              ]
             }
            ],
            "label": "2023-09-27",
            "method": "update"
           },
           {
            "args": [
             {
              "visible": [
               false,
               false,
               false,
               false,
               false,
               false,
               false,
               false,
               false,
               false,
               false,
               false,
               false,
               false,
               false,
               false,
               false,
               false,
               false,
               false,
               false,
               false,
               false,
               false,
               false,
               false,
               false,
               false,
               false,
               false,
               false,
               false,
               false,
               false,
               false,
               false,
               false,
               false,
               false,
               false,
               false,
               false,
               false,
               false,
               false,
               false,
               false,
               false,
               false,
               false,
               false,
               false,
               false,
               false,
               false,
               false,
               false,
               false,
               false,
               false,
               false,
               false,
               false,
               false,
               false,
               false,
               false,
               false,
               false,
               false,
               false,
               true,
               false,
               false,
               false,
               false,
               false,
               false,
               false,
               false,
               false,
               false,
               false,
               false,
               false
              ]
             }
            ],
            "label": "2023-10-02",
            "method": "update"
           },
           {
            "args": [
             {
              "visible": [
               false,
               false,
               false,
               false,
               false,
               false,
               false,
               false,
               false,
               false,
               false,
               false,
               false,
               false,
               false,
               false,
               false,
               false,
               false,
               false,
               false,
               false,
               false,
               false,
               false,
               false,
               false,
               false,
               false,
               false,
               false,
               false,
               false,
               false,
               false,
               false,
               false,
               false,
               false,
               false,
               false,
               false,
               false,
               false,
               false,
               false,
               false,
               false,
               false,
               false,
               false,
               false,
               false,
               false,
               false,
               false,
               false,
               false,
               false,
               false,
               false,
               false,
               false,
               false,
               false,
               false,
               false,
               false,
               false,
               false,
               false,
               false,
               true,
               false,
               false,
               false,
               false,
               false,
               false,
               false,
               false,
               false,
               false,
               false,
               false
              ]
             }
            ],
            "label": "2023-10-12",
            "method": "update"
           },
           {
            "args": [
             {
              "visible": [
               false,
               false,
               false,
               false,
               false,
               false,
               false,
               false,
               false,
               false,
               false,
               false,
               false,
               false,
               false,
               false,
               false,
               false,
               false,
               false,
               false,
               false,
               false,
               false,
               false,
               false,
               false,
               false,
               false,
               false,
               false,
               false,
               false,
               false,
               false,
               false,
               false,
               false,
               false,
               false,
               false,
               false,
               false,
               false,
               false,
               false,
               false,
               false,
               false,
               false,
               false,
               false,
               false,
               false,
               false,
               false,
               false,
               false,
               false,
               false,
               false,
               false,
               false,
               false,
               false,
               false,
               false,
               false,
               false,
               false,
               false,
               false,
               false,
               true,
               false,
               false,
               false,
               false,
               false,
               false,
               false,
               false,
               false,
               false,
               false
              ]
             }
            ],
            "label": "2023-10-26",
            "method": "update"
           },
           {
            "args": [
             {
              "visible": [
               false,
               false,
               false,
               false,
               false,
               false,
               false,
               false,
               false,
               false,
               false,
               false,
               false,
               false,
               false,
               false,
               false,
               false,
               false,
               false,
               false,
               false,
               false,
               false,
               false,
               false,
               false,
               false,
               false,
               false,
               false,
               false,
               false,
               false,
               false,
               false,
               false,
               false,
               false,
               false,
               false,
               false,
               false,
               false,
               false,
               false,
               false,
               false,
               false,
               false,
               false,
               false,
               false,
               false,
               false,
               false,
               false,
               false,
               false,
               false,
               false,
               false,
               false,
               false,
               false,
               false,
               false,
               false,
               false,
               false,
               false,
               false,
               false,
               false,
               true,
               false,
               false,
               false,
               false,
               false,
               false,
               false,
               false,
               false,
               false
              ]
             }
            ],
            "label": "2023-10-27",
            "method": "update"
           },
           {
            "args": [
             {
              "visible": [
               false,
               false,
               false,
               false,
               false,
               false,
               false,
               false,
               false,
               false,
               false,
               false,
               false,
               false,
               false,
               false,
               false,
               false,
               false,
               false,
               false,
               false,
               false,
               false,
               false,
               false,
               false,
               false,
               false,
               false,
               false,
               false,
               false,
               false,
               false,
               false,
               false,
               false,
               false,
               false,
               false,
               false,
               false,
               false,
               false,
               false,
               false,
               false,
               false,
               false,
               false,
               false,
               false,
               false,
               false,
               false,
               false,
               false,
               false,
               false,
               false,
               false,
               false,
               false,
               false,
               false,
               false,
               false,
               false,
               false,
               false,
               false,
               false,
               false,
               false,
               true,
               false,
               false,
               false,
               false,
               false,
               false,
               false,
               false,
               false
              ]
             }
            ],
            "label": "2023-11-10",
            "method": "update"
           },
           {
            "args": [
             {
              "visible": [
               false,
               false,
               false,
               false,
               false,
               false,
               false,
               false,
               false,
               false,
               false,
               false,
               false,
               false,
               false,
               false,
               false,
               false,
               false,
               false,
               false,
               false,
               false,
               false,
               false,
               false,
               false,
               false,
               false,
               false,
               false,
               false,
               false,
               false,
               false,
               false,
               false,
               false,
               false,
               false,
               false,
               false,
               false,
               false,
               false,
               false,
               false,
               false,
               false,
               false,
               false,
               false,
               false,
               false,
               false,
               false,
               false,
               false,
               false,
               false,
               false,
               false,
               false,
               false,
               false,
               false,
               false,
               false,
               false,
               false,
               false,
               false,
               false,
               false,
               false,
               false,
               true,
               false,
               false,
               false,
               false,
               false,
               false,
               false,
               false
              ]
             }
            ],
            "label": "2023-11-12",
            "method": "update"
           },
           {
            "args": [
             {
              "visible": [
               false,
               false,
               false,
               false,
               false,
               false,
               false,
               false,
               false,
               false,
               false,
               false,
               false,
               false,
               false,
               false,
               false,
               false,
               false,
               false,
               false,
               false,
               false,
               false,
               false,
               false,
               false,
               false,
               false,
               false,
               false,
               false,
               false,
               false,
               false,
               false,
               false,
               false,
               false,
               false,
               false,
               false,
               false,
               false,
               false,
               false,
               false,
               false,
               false,
               false,
               false,
               false,
               false,
               false,
               false,
               false,
               false,
               false,
               false,
               false,
               false,
               false,
               false,
               false,
               false,
               false,
               false,
               false,
               false,
               false,
               false,
               false,
               false,
               false,
               false,
               false,
               false,
               true,
               false,
               false,
               false,
               false,
               false,
               false,
               false
              ]
             }
            ],
            "label": "2023-11-15",
            "method": "update"
           },
           {
            "args": [
             {
              "visible": [
               false,
               false,
               false,
               false,
               false,
               false,
               false,
               false,
               false,
               false,
               false,
               false,
               false,
               false,
               false,
               false,
               false,
               false,
               false,
               false,
               false,
               false,
               false,
               false,
               false,
               false,
               false,
               false,
               false,
               false,
               false,
               false,
               false,
               false,
               false,
               false,
               false,
               false,
               false,
               false,
               false,
               false,
               false,
               false,
               false,
               false,
               false,
               false,
               false,
               false,
               false,
               false,
               false,
               false,
               false,
               false,
               false,
               false,
               false,
               false,
               false,
               false,
               false,
               false,
               false,
               false,
               false,
               false,
               false,
               false,
               false,
               false,
               false,
               false,
               false,
               false,
               false,
               false,
               true,
               false,
               false,
               false,
               false,
               false,
               false
              ]
             }
            ],
            "label": "2023-11-18",
            "method": "update"
           },
           {
            "args": [
             {
              "visible": [
               false,
               false,
               false,
               false,
               false,
               false,
               false,
               false,
               false,
               false,
               false,
               false,
               false,
               false,
               false,
               false,
               false,
               false,
               false,
               false,
               false,
               false,
               false,
               false,
               false,
               false,
               false,
               false,
               false,
               false,
               false,
               false,
               false,
               false,
               false,
               false,
               false,
               false,
               false,
               false,
               false,
               false,
               false,
               false,
               false,
               false,
               false,
               false,
               false,
               false,
               false,
               false,
               false,
               false,
               false,
               false,
               false,
               false,
               false,
               false,
               false,
               false,
               false,
               false,
               false,
               false,
               false,
               false,
               false,
               false,
               false,
               false,
               false,
               false,
               false,
               false,
               false,
               false,
               false,
               true,
               false,
               false,
               false,
               false,
               false
              ]
             }
            ],
            "label": "2023-11-19",
            "method": "update"
           },
           {
            "args": [
             {
              "visible": [
               false,
               false,
               false,
               false,
               false,
               false,
               false,
               false,
               false,
               false,
               false,
               false,
               false,
               false,
               false,
               false,
               false,
               false,
               false,
               false,
               false,
               false,
               false,
               false,
               false,
               false,
               false,
               false,
               false,
               false,
               false,
               false,
               false,
               false,
               false,
               false,
               false,
               false,
               false,
               false,
               false,
               false,
               false,
               false,
               false,
               false,
               false,
               false,
               false,
               false,
               false,
               false,
               false,
               false,
               false,
               false,
               false,
               false,
               false,
               false,
               false,
               false,
               false,
               false,
               false,
               false,
               false,
               false,
               false,
               false,
               false,
               false,
               false,
               false,
               false,
               false,
               false,
               false,
               false,
               false,
               true,
               false,
               false,
               false,
               false
              ]
             }
            ],
            "label": "2023-11-21",
            "method": "update"
           },
           {
            "args": [
             {
              "visible": [
               false,
               false,
               false,
               false,
               false,
               false,
               false,
               false,
               false,
               false,
               false,
               false,
               false,
               false,
               false,
               false,
               false,
               false,
               false,
               false,
               false,
               false,
               false,
               false,
               false,
               false,
               false,
               false,
               false,
               false,
               false,
               false,
               false,
               false,
               false,
               false,
               false,
               false,
               false,
               false,
               false,
               false,
               false,
               false,
               false,
               false,
               false,
               false,
               false,
               false,
               false,
               false,
               false,
               false,
               false,
               false,
               false,
               false,
               false,
               false,
               false,
               false,
               false,
               false,
               false,
               false,
               false,
               false,
               false,
               false,
               false,
               false,
               false,
               false,
               false,
               false,
               false,
               false,
               false,
               false,
               false,
               true,
               false,
               false,
               false
              ]
             }
            ],
            "label": "2023-11-24",
            "method": "update"
           },
           {
            "args": [
             {
              "visible": [
               false,
               false,
               false,
               false,
               false,
               false,
               false,
               false,
               false,
               false,
               false,
               false,
               false,
               false,
               false,
               false,
               false,
               false,
               false,
               false,
               false,
               false,
               false,
               false,
               false,
               false,
               false,
               false,
               false,
               false,
               false,
               false,
               false,
               false,
               false,
               false,
               false,
               false,
               false,
               false,
               false,
               false,
               false,
               false,
               false,
               false,
               false,
               false,
               false,
               false,
               false,
               false,
               false,
               false,
               false,
               false,
               false,
               false,
               false,
               false,
               false,
               false,
               false,
               false,
               false,
               false,
               false,
               false,
               false,
               false,
               false,
               false,
               false,
               false,
               false,
               false,
               false,
               false,
               false,
               false,
               false,
               false,
               true,
               false,
               false
              ]
             }
            ],
            "label": "2023-12-01",
            "method": "update"
           },
           {
            "args": [
             {
              "visible": [
               false,
               false,
               false,
               false,
               false,
               false,
               false,
               false,
               false,
               false,
               false,
               false,
               false,
               false,
               false,
               false,
               false,
               false,
               false,
               false,
               false,
               false,
               false,
               false,
               false,
               false,
               false,
               false,
               false,
               false,
               false,
               false,
               false,
               false,
               false,
               false,
               false,
               false,
               false,
               false,
               false,
               false,
               false,
               false,
               false,
               false,
               false,
               false,
               false,
               false,
               false,
               false,
               false,
               false,
               false,
               false,
               false,
               false,
               false,
               false,
               false,
               false,
               false,
               false,
               false,
               false,
               false,
               false,
               false,
               false,
               false,
               false,
               false,
               false,
               false,
               false,
               false,
               false,
               false,
               false,
               false,
               false,
               false,
               true,
               false
              ]
             }
            ],
            "label": "2023-12-14",
            "method": "update"
           },
           {
            "args": [
             {
              "visible": [
               false,
               false,
               false,
               false,
               false,
               false,
               false,
               false,
               false,
               false,
               false,
               false,
               false,
               false,
               false,
               false,
               false,
               false,
               false,
               false,
               false,
               false,
               false,
               false,
               false,
               false,
               false,
               false,
               false,
               false,
               false,
               false,
               false,
               false,
               false,
               false,
               false,
               false,
               false,
               false,
               false,
               false,
               false,
               false,
               false,
               false,
               false,
               false,
               false,
               false,
               false,
               false,
               false,
               false,
               false,
               false,
               false,
               false,
               false,
               false,
               false,
               false,
               false,
               false,
               false,
               false,
               false,
               false,
               false,
               false,
               false,
               false,
               false,
               false,
               false,
               false,
               false,
               false,
               false,
               false,
               false,
               false,
               false,
               false,
               true
              ]
             }
            ],
            "label": "2023-12-29",
            "method": "update"
           }
          ],
          "direction": "down",
          "showactive": true
         }
        ],
        "xaxis": {
         "title": {
          "text": "Hour of the Day"
         }
        },
        "yaxis": {
         "title": {
          "text": "Ridership"
         }
        }
       }
      },
      "text/html": [
       "<div>                            <div id=\"bceba7f4-aec2-4cd7-bfde-fed3ae61740a\" class=\"plotly-graph-div\" style=\"height:525px; width:100%;\"></div>            <script type=\"text/javascript\">                require([\"plotly\"], function(Plotly) {                    window.PLOTLYENV=window.PLOTLYENV || {};                                    if (document.getElementById(\"bceba7f4-aec2-4cd7-bfde-fed3ae61740a\")) {                    Plotly.newPlot(                        \"bceba7f4-aec2-4cd7-bfde-fed3ae61740a\",                        [{\"mode\":\"lines+markers\",\"name\":\"2022-03-09\",\"x\":[0,1,3,4,5,6,7,8,9,10,11,12,13,14,15,16,17,18,19,20,21,22,23],\"y\":[7.0,10.0,8.0,36.0,135.0,293.0,677.0,599.0,287.0,210.0,132.0,121.0,125.0,147.0,144.0,156.0,209.0,128.0,87.0,29.0,36.0,24.0,10.0],\"type\":\"scatter\"},{\"mode\":\"lines+markers\",\"name\":\"2022-03-16\",\"x\":[3],\"y\":[1.0],\"type\":\"scatter\"},{\"mode\":\"lines+markers\",\"name\":\"2022-03-19\",\"x\":[0,1,2,3,4,5,6,7,8,9,10,11,12,13,14,15,16,17,18,19,20,21,22,23],\"y\":[4.0,5.0,4.0,1.0,7.0,31.0,64.0,95.0,185.0,96.0,186.0,150.0,192.0,57.0,155.0,143.0,115.0,45.0,106.0,106.0,16.0,36.0,24.0,30.0],\"type\":\"scatter\"},{\"mode\":\"lines+markers\",\"name\":\"2022-03-29\",\"x\":[0,1,2,3,4,5,6,7,8,9,10,11,12,13,14,15,16,17,18,19,20,21,22,23],\"y\":[11.0,4.0,4.0,15.0,41.0,135.0,310.0,715.0,591.0,333.0,220.0,173.0,148.0,173.0,155.0,158.0,145.0,215.0,153.0,104.0,41.0,26.0,23.0,7.0],\"type\":\"scatter\"},{\"mode\":\"lines+markers\",\"name\":\"2022-04-01\",\"x\":[0,1,2,3,4,5,6,7,8,9,10,11,12,13,14,15,16,17,18,19,20,21,22,23],\"y\":[9.0,7.0,2.0,14.0,39.0,136.0,311.0,681.0,560.0,331.0,250.0,168.0,140.0,192.0,184.0,164.0,185.0,217.0,154.0,90.0,53.0,43.0,35.0,11.0],\"type\":\"scatter\"},{\"mode\":\"lines+markers\",\"name\":\"2022-04-03\",\"x\":[0,1,2,3,4,5,6,7,8,9,10,11,12,13,14,15,16,17,18,19,20,21,22,23],\"y\":[12.0,7.0,5.0,10.0,9.0,21.0,71.0,102.0,154.0,194.0,198.0,159.0,144.0,137.0,131.0,122.0,74.0,96.0,78.0,64.0,49.0,31.0,21.0,11.0],\"type\":\"scatter\"},{\"mode\":\"lines+markers\",\"name\":\"2022-04-12\",\"x\":[0,1,2,3,4,5,6,7,8,9,10,14,15,16,17,18,19,20,21,22,23],\"y\":[4.0,8.0,2.0,12.0,35.0,126.0,349.0,691.0,570.0,34.0,6.0,19.0,25.0,54.0,74.0,91.0,46.0,35.0,27.0,20.0,15.0],\"type\":\"scatter\"},{\"mode\":\"lines+markers\",\"name\":\"2022-04-15\",\"x\":[0,1,2,3,4,5,6,7,8,9,10,11,12,13,14,15,16,17,18,19,20,21,22,23],\"y\":[3.0,4.0,4.0,10.0,32.0,110.0,221.0,329.0,393.0,325.0,246.0,165.0,175.0,169.0,188.0,173.0,149.0,178.0,143.0,114.0,80.0,59.0,36.0,18.0],\"type\":\"scatter\"},{\"mode\":\"lines+markers\",\"name\":\"2022-04-24\",\"x\":[0,1,2,3,4,5,6,7,8,9,10,11,12,13,14,15,16,17,18,19,20,21,22,23],\"y\":[9.0,5.0,3.0,8.0,14.0,33.0,76.0,102.0,171.0,195.0,224.0,146.0,192.0,170.0,168.0,145.0,97.0,98.0,83.0,63.0,50.0,25.0,23.0,13.0],\"type\":\"scatter\"},{\"mode\":\"lines+markers\",\"name\":\"2022-05-10\",\"x\":[0,1,2,3,4,5,6,7,8,9,10,11,12,13,14,15,16,17,18,19,20,21,22,23],\"y\":[5.0,2.0,7.0,12.0,37.0,123.0,311.0,686.0,608.0,345.0,231.0,186.0,160.0,179.0,169.0,184.0,167.0,222.0,135.0,84.0,39.0,33.0,20.0,14.0],\"type\":\"scatter\"},{\"mode\":\"lines+markers\",\"name\":\"2022-05-21\",\"x\":[0,1,2,3,4,5,6,7,8,9,10,11,12,13,14,15,16,17,18,19,20,21,22,23],\"y\":[13.0,8.0,11.0,5.0,14.0,68.0,137.0,183.0,253.0,323.0,201.0,238.0,243.0,240.0,202.0,168.0,139.0,172.0,115.0,97.0,66.0,44.0,30.0,25.0],\"type\":\"scatter\"},{\"mode\":\"lines+markers\",\"name\":\"2022-05-22\",\"x\":[3,4,7,8,9,11,12,13,17,18,19,21,22],\"y\":[1.0,4.0,14.0,11.0,16.0,12.0,12.0,32.0,25.0,3.0,29.0,23.0,8.0],\"type\":\"scatter\"},{\"mode\":\"lines+markers\",\"name\":\"2022-05-29\",\"x\":[0,2,3,5,6,7,8,9,10,11,13,14,15,16,18,19,20,21,22,23],\"y\":[4.0,3.0,2.0,9.0,29.0,48.0,49.0,42.0,43.0,93.0,78.0,32.0,80.0,58.0,25.0,2.0,18.0,3.0,3.0,15.0],\"type\":\"scatter\"},{\"mode\":\"lines+markers\",\"name\":\"2022-06-06\",\"x\":[22],\"y\":[9.0],\"type\":\"scatter\"},{\"mode\":\"lines+markers\",\"name\":\"2022-06-07\",\"x\":[0,1,3,4,5,6,7,8,9,10,11,12,13,14,15,16,17,18,19,20,21,22,23],\"y\":[1.0,1.0,10.0,24.0,73.0,259.0,483.0,249.0,164.0,177.0,121.0,41.0,27.0,161.0,133.0,84.0,81.0,58.0,73.0,27.0,18.0,9.0,8.0],\"type\":\"scatter\"},{\"mode\":\"lines+markers\",\"name\":\"2022-06-11\",\"x\":[0,3,4,5,6,7,8,9,10,11,12,13,15,16,17,18,19,20,22],\"y\":[5.0,4.0,1.0,10.0,44.0,51.0,19.0,112.0,11.0,1.0,31.0,31.0,92.0,59.0,73.0,6.0,1.0,19.0,13.0],\"type\":\"scatter\"},{\"mode\":\"lines+markers\",\"name\":\"2022-07-24\",\"x\":[0,1,2,3,4,5,6,7,8,9,10,11,12,13,14,15,16,17,18,19,20,21,22,23],\"y\":[17.0,3.0,4.0,10.0,14.0,24.0,67.0,118.0,126.0,216.0,222.0,159.0,143.0,166.0,171.0,123.0,88.0,104.0,73.0,70.0,61.0,30.0,26.0,19.0],\"type\":\"scatter\"},{\"mode\":\"lines+markers\",\"name\":\"2022-07-27\",\"x\":[0,1,2,3,4,5,6,7,8,9,10,11,12,13,14,15,16,17,18,19,20,21,22,23],\"y\":[10.0,5.0,3.0,13.0,28.0,133.0,282.0,451.0,460.0,314.0,224.0,209.0,172.0,166.0,167.0,137.0,186.0,207.0,139.0,84.0,63.0,57.0,29.0,8.0],\"type\":\"scatter\"},{\"mode\":\"lines+markers\",\"name\":\"2022-08-05\",\"x\":[0,1,2,3,4,5,6,7,8,9,10,11,12,13,14,15,16,17,18,19,20,21,22,23],\"y\":[9.0,2.0,6.0,7.0,38.0,121.0,245.0,366.0,427.0,307.0,260.0,161.0,154.0,163.0,194.0,164.0,181.0,222.0,142.0,129.0,72.0,71.0,31.0,16.0],\"type\":\"scatter\"},{\"mode\":\"lines+markers\",\"name\":\"2022-08-10\",\"x\":[0,1,2,3,4,5,6,7,8,9,10,11,12,13,14,15,16,17,18,19,20,21,22,23],\"y\":[4.0,4.0,1.0,14.0,41.0,131.0,280.0,422.0,427.0,334.0,236.0,162.0,122.0,178.0,196.0,152.0,191.0,242.0,164.0,69.0,55.0,50.0,30.0,11.0],\"type\":\"scatter\"},{\"mode\":\"lines+markers\",\"name\":\"2022-08-15\",\"x\":[0,1,2,3,4,5,6,7,8,9,10,11,12,13,14,15,16,17,18,19,20,21,22,23],\"y\":[4.0,7.0,1.0,13.0,45.0,124.0,267.0,380.0,390.0,279.0,197.0,144.0,149.0,139.0,170.0,138.0,168.0,213.0,128.0,115.0,44.0,47.0,15.0,15.0],\"type\":\"scatter\"},{\"mode\":\"lines+markers\",\"name\":\"2022-08-17\",\"x\":[0,1,4,5,6,7,8,9,10,11,12,13,14,15,16,17,18,19,20,21,22,23],\"y\":[3.0,4.0,8.0,122.0,120.0,170.0,385.0,272.0,106.0,94.0,102.0,153.0,110.0,16.0,182.0,217.0,119.0,79.0,21.0,30.0,17.0,11.0],\"type\":\"scatter\"},{\"mode\":\"lines+markers\",\"name\":\"2022-09-13\",\"x\":[0,1,2,3,4,5,6,7,8,9,10,11,12,13,14,15,16,17,18,19,20,21,22,23],\"y\":[1.0,3.0,6.0,14.0,29.0,136.0,285.0,760.0,644.0,378.0,261.0,204.0,146.0,178.0,165.0,198.0,195.0,212.0,151.0,111.0,51.0,36.0,26.0,12.0],\"type\":\"scatter\"},{\"mode\":\"lines+markers\",\"name\":\"2022-09-19\",\"x\":[6,9],\"y\":[69.0,8.0],\"type\":\"scatter\"},{\"mode\":\"lines+markers\",\"name\":\"2022-09-20\",\"x\":[0,3,4,5,6,7,8,9,11,12,13,14,15,17,18,19,21,22,23],\"y\":[2.0,3.0,13.0,37.0,59.0,121.0,208.0,68.0,3.0,9.0,62.0,6.0,26.0,29.0,49.0,46.0,1.0,8.0,3.0],\"type\":\"scatter\"},{\"mode\":\"lines+markers\",\"name\":\"2022-09-24\",\"x\":[0,1,2,3,4,5,6,7,8,9,10,11,12,13,14,15,16,17,18,19,20,21,22,23],\"y\":[6.0,4.0,6.0,4.0,19.0,62.0,116.0,196.0,213.0,271.0,221.0,227.0,178.0,202.0,169.0,183.0,159.0,143.0,102.0,97.0,56.0,40.0,32.0,29.0],\"type\":\"scatter\"},{\"mode\":\"lines+markers\",\"name\":\"2022-09-26\",\"x\":[3,4,5,7,8,9,10,11,12,15,16,17,20,21,23],\"y\":[1.0,1.0,30.0,55.0,114.0,9.0,13.0,62.0,3.0,8.0,40.0,5.0,8.0,3.0,5.0],\"type\":\"scatter\"},{\"mode\":\"lines+markers\",\"name\":\"2022-10-15\",\"x\":[0,1,2,3,4,5,6,7,8,9,10,11,12,13,14,15,16,17,18,19,20,21,22,23],\"y\":[6.0,9.0,3.0,17.0,19.0,62.0,115.0,209.0,229.0,288.0,222.0,202.0,202.0,196.0,168.0,190.0,150.0,151.0,105.0,95.0,56.0,50.0,31.0,21.0],\"type\":\"scatter\"},{\"mode\":\"lines+markers\",\"name\":\"2022-10-25\",\"x\":[0,1,2,3,4,5,6,7,8,9,10,11,12,13,14,15,16,17,18,19,20,21,22,23],\"y\":[2.0,4.0,4.0,16.0,39.0,122.0,320.0,678.0,657.0,370.0,258.0,178.0,149.0,179.0,181.0,192.0,190.0,205.0,148.0,72.0,53.0,35.0,24.0,15.0],\"type\":\"scatter\"},{\"mode\":\"lines+markers\",\"name\":\"2022-11-09\",\"x\":[0,1,2,3,4,5,6,7,8,9,10,11,12,13,14,15,16,17,18,19,20,21,22,23],\"y\":[3.0,7.0,2.0,4.0,1.0,40.0,196.0,211.0,135.0,57.0,145.0,73.0,50.0,30.0,91.0,57.0,73.0,51.0,89.0,54.0,14.0,2.0,9.0,10.0],\"type\":\"scatter\"},{\"mode\":\"lines+markers\",\"name\":\"2022-11-10\",\"x\":[2,3,4,5,6,7,8,9,10,11,12,13,14,15,16,17,18,19,20,21,22,23],\"y\":[1.0,16.0,10.0,6.0,175.0,502.0,30.0,28.0,160.0,74.0,59.0,66.0,97.0,88.0,69.0,15.0,71.0,28.0,31.0,21.0,5.0,8.0],\"type\":\"scatter\"},{\"mode\":\"lines+markers\",\"name\":\"2022-11-12\",\"x\":[18],\"y\":[4.0],\"type\":\"scatter\"},{\"mode\":\"lines+markers\",\"name\":\"2022-12-09\",\"x\":[0,1,2,3,4,5,6,7,8,9,10,11,12,13,14,15,16,17,18,19,20,21,22,23],\"y\":[7.0,1.0,2.0,7.0,54.0,157.0,254.0,520.0,573.0,300.0,229.0,175.0,150.0,195.0,225.0,128.0,214.0,232.0,186.0,83.0,57.0,51.0,34.0,26.0],\"type\":\"scatter\"},{\"mode\":\"lines+markers\",\"name\":\"2022-12-13\",\"x\":[0,1,2,3,4,5,6,7,8,9,10,11,12,13,14,15,16,17,18,19,20,21,22,23],\"y\":[3.0,1.0,2.0,9.0,42.0,139.0,318.0,684.0,646.0,378.0,231.0,168.0,152.0,148.0,175.0,171.0,196.0,208.0,158.0,73.0,57.0,39.0,18.0,11.0],\"type\":\"scatter\"},{\"mode\":\"lines+markers\",\"name\":\"2022-12-17\",\"x\":[0,1,2,4,5,6,7,8,9,10,11,12,14,15,16,17,18,19,20,21,22,23],\"y\":[4.0,1.0,1.0,15.0,17.0,24.0,68.0,160.0,124.0,24.0,98.0,165.0,72.0,37.0,39.0,91.0,29.0,22.0,14.0,23.0,37.0,3.0],\"type\":\"scatter\"},{\"mode\":\"lines+markers\",\"name\":\"2022-12-21\",\"x\":[0,1,2,3,4,5,6,7,8,9,10,11,12,13,14,15,16,17,18,19,20,21,22,23],\"y\":[11.0,5.0,3.0,10.0,23.0,162.0,290.0,650.0,554.0,368.0,263.0,189.0,173.0,183.0,201.0,202.0,230.0,294.0,170.0,101.0,54.0,52.0,47.0,16.0],\"type\":\"scatter\"},{\"mode\":\"lines+markers\",\"name\":\"2022-12-29\",\"x\":[1,3,5,6,7,8,11,12,13,15,17,18,22,23],\"y\":[1.0,4.0,39.0,33.0,81.0,24.0,82.0,123.0,9.0,19.0,4.0,9.0,13.0,4.0],\"type\":\"scatter\"},{\"mode\":\"lines+markers\",\"name\":\"2023-01-04\",\"x\":[0,2,3,4,5,6,7,8,9,10,11,12,13,14,15,16,17,18,19,20,21,22,23],\"y\":[7.0,2.0,4.0,32.0,95.0,306.0,255.0,314.0,190.0,227.0,134.0,126.0,54.0,75.0,133.0,114.0,141.0,161.0,48.0,18.0,31.0,19.0,4.0],\"type\":\"scatter\"},{\"mode\":\"lines+markers\",\"name\":\"2023-01-06\",\"x\":[0,1,2,3,4,5,6,7,8,9,10,11,12,13,14,15,16,17,18,19,20,21,22,23],\"y\":[4.0,4.0,2.0,4.0,35.0,104.0,179.0,613.0,400.0,288.0,160.0,125.0,125.0,199.0,65.0,122.0,170.0,139.0,102.0,99.0,42.0,33.0,19.0,24.0],\"type\":\"scatter\"},{\"mode\":\"lines+markers\",\"name\":\"2023-01-12\",\"x\":[0,1,2,3,4,5,6,7,8,9,10,11,12,13,14,15,16,17,18,19,20,21,22,23],\"y\":[10.0,3.0,3.0,1.0,2.0,46.0,238.0,488.0,175.0,72.0,138.0,63.0,62.0,68.0,8.0,34.0,169.0,187.0,15.0,7.0,42.0,26.0,6.0,2.0],\"type\":\"scatter\"},{\"mode\":\"lines+markers\",\"name\":\"2023-01-19\",\"x\":[17],\"y\":[8.0],\"type\":\"scatter\"},{\"mode\":\"lines+markers\",\"name\":\"2023-01-20\",\"x\":[0,1,3,4,5,6,7,8,9,10,11,13,14,15,16,17,18,19,20,22,23],\"y\":[4.0,2.0,1.0,20.0,46.0,29.0,24.0,212.0,24.0,50.0,6.0,60.0,27.0,17.0,47.0,13.0,75.0,45.0,14.0,2.0,7.0],\"type\":\"scatter\"},{\"mode\":\"lines+markers\",\"name\":\"2023-01-22\",\"x\":[0,1,2,3,4,5,6,7,8,9,10,11,12,13,14,15,16,17,18,19,20,21,22,23],\"y\":[4.0,11.0,4.0,2.0,4.0,22.0,37.0,39.0,61.0,146.0,105.0,122.0,67.0,110.0,99.0,106.0,49.0,50.0,35.0,46.0,17.0,10.0,25.0,13.0],\"type\":\"scatter\"},{\"mode\":\"lines+markers\",\"name\":\"2023-01-25\",\"x\":[0,2,3,4,5,6,7,8,9,10,11,12,13,14,15,16,17,18,19,20,21,22,23],\"y\":[1.0,1.0,6.0,37.0,56.0,189.0,178.0,256.0,367.0,237.0,111.0,46.0,142.0,168.0,88.0,112.0,154.0,130.0,66.0,14.0,33.0,22.0,8.0],\"type\":\"scatter\"},{\"mode\":\"lines+markers\",\"name\":\"2023-02-02\",\"x\":[1,2,5,6,9,10,11,14,15,17,18,19,20,21],\"y\":[3.0,1.0,42.0,61.0,148.0,30.0,33.0,34.0,115.0,64.0,33.0,6.0,41.0,8.0],\"type\":\"scatter\"},{\"mode\":\"lines+markers\",\"name\":\"2023-02-07\",\"x\":[1,3,4,5,6,7,8,9,10,11,12,13,14,15,16,17,18,19,20,21,22,23],\"y\":[3.0,2.0,21.0,73.0,275.0,701.0,387.0,230.0,135.0,140.0,134.0,131.0,41.0,99.0,152.0,238.0,139.0,48.0,39.0,33.0,26.0,8.0],\"type\":\"scatter\"},{\"mode\":\"lines+markers\",\"name\":\"2023-02-16\",\"x\":[0,1,2,3,4,5,6,7,8,9,10,11,12,13,14,15,16,17,18,19,20,21,23],\"y\":[1.0,1.0,2.0,4.0,11.0,108.0,175.0,250.0,404.0,78.0,126.0,121.0,96.0,14.0,42.0,140.0,154.0,68.0,81.0,46.0,18.0,35.0,2.0],\"type\":\"scatter\"},{\"mode\":\"lines+markers\",\"name\":\"2023-04-05\",\"x\":[0,1,2,3,4,5,6,7,8,9,10,11,12,13,14,15,16,17,18,19,20,21,22,23],\"y\":[21.0,26.0,9.0,21.0,38.0,132.0,299.0,646.0,600.0,374.0,266.0,160.0,146.0,187.0,189.0,180.0,206.0,207.0,123.0,82.0,70.0,45.0,31.0,16.0],\"type\":\"scatter\"},{\"mode\":\"lines+markers\",\"name\":\"2023-04-07\",\"x\":[0,2,3,4,5,6,7,8,9,10,11,12,13,14,15,16,17,18,19,20,21,22,23],\"y\":[2.0,7.0,3.0,11.0,23.0,56.0,170.0,33.0,104.0,67.0,136.0,120.0,13.0,51.0,70.0,67.0,115.0,85.0,35.0,4.0,37.0,4.0,1.0],\"type\":\"scatter\"},{\"mode\":\"lines+markers\",\"name\":\"2023-04-09\",\"x\":[2,3,4,5,6,7,8,9,10,11,12,13,14,15,16,17,18,19,20,21,22,23],\"y\":[2.0,3.0,13.0,8.0,4.0,40.0,55.0,105.0,44.0,28.0,73.0,134.0,68.0,4.0,42.0,42.0,73.0,16.0,3.0,30.0,21.0,1.0],\"type\":\"scatter\"},{\"mode\":\"lines+markers\",\"name\":\"2023-04-11\",\"x\":[0,1,2,3,4,5,6,7,8,9,10,11,12,13,14,15,16,17,18,19,20,21,22,23],\"y\":[8.0,7.0,4.0,7.0,37.0,130.0,251.0,381.0,495.0,336.0,327.0,174.0,219.0,232.0,186.0,186.0,193.0,216.0,137.0,85.0,52.0,50.0,39.0,18.0],\"type\":\"scatter\"},{\"mode\":\"lines+markers\",\"name\":\"2023-04-20\",\"x\":[2,5,6,7,8,11,12,13,15,16,18,19,23],\"y\":[1.0,4.0,40.0,252.0,36.0,6.0,19.0,71.0,3.0,10.0,46.0,14.0,3.0],\"type\":\"scatter\"},{\"mode\":\"lines+markers\",\"name\":\"2023-05-06\",\"x\":[1,2,3,4,5,6,7,8,9,10,11,12,13,14,15,16,17,18,19,20,21,22,23],\"y\":[2.0,1.0,2.0,18.0,58.0,105.0,7.0,191.0,159.0,156.0,216.0,186.0,119.0,44.0,99.0,206.0,127.0,63.0,9.0,80.0,67.0,41.0,24.0],\"type\":\"scatter\"},{\"mode\":\"lines+markers\",\"name\":\"2023-05-10\",\"x\":[0,1,2,3,4,5,6,7,8,9,10,11,12,13,14,15,16,17,18,19,20,21,22,23],\"y\":[4.0,2.0,3.0,8.0,33.0,137.0,332.0,717.0,697.0,316.0,134.0,179.0,171.0,106.0,180.0,158.0,234.0,240.0,168.0,99.0,81.0,44.0,36.0,16.0],\"type\":\"scatter\"},{\"mode\":\"lines+markers\",\"name\":\"2023-05-24\",\"x\":[3],\"y\":[1.0],\"type\":\"scatter\"},{\"mode\":\"lines+markers\",\"name\":\"2023-05-26\",\"x\":[0,1,2,3,4,5,6,7,8,9,10,11,12,13,14,15,16,17,18,19,20,21,22,23],\"y\":[1.0,5.0,3.0,7.0,14.0,14.0,178.0,502.0,331.0,99.0,71.0,73.0,23.0,99.0,164.0,103.0,31.0,110.0,101.0,24.0,34.0,53.0,20.0,8.0],\"type\":\"scatter\"},{\"mode\":\"lines+markers\",\"name\":\"2023-05-30\",\"x\":[0,1,3,4,5,6,7,8,9,10,11,12,13,14,15,16,17,18,19,20,21,22,23],\"y\":[2.0,3.0,6.0,38.0,147.0,13.0,542.0,424.0,196.0,211.0,181.0,39.0,44.0,173.0,156.0,104.0,106.0,118.0,44.0,38.0,30.0,19.0,14.0],\"type\":\"scatter\"},{\"mode\":\"lines+markers\",\"name\":\"2023-06-01\",\"x\":[6,17,22],\"y\":[107.0,1.0,6.0],\"type\":\"scatter\"},{\"mode\":\"lines+markers\",\"name\":\"2023-06-09\",\"x\":[0,1,2,3,4,5,6,7,8,9,10,11,12,13,14,15,16,17,18,19,20,21,22,23],\"y\":[9.0,5.0,2.0,14.0,38.0,153.0,285.0,380.0,433.0,217.0,231.0,192.0,180.0,187.0,182.0,201.0,205.0,227.0,170.0,79.0,76.0,64.0,37.0,20.0],\"type\":\"scatter\"},{\"mode\":\"lines+markers\",\"name\":\"2023-06-11\",\"x\":[0,1,2,3,4,5,6,7,8,9,10,11,12,13,14,15,16,17,18,19,20,21,22,23],\"y\":[5.0,4.0,3.0,4.0,14.0,14.0,22.0,96.0,132.0,201.0,64.0,173.0,194.0,136.0,175.0,123.0,130.0,85.0,20.0,55.0,53.0,37.0,33.0,8.0],\"type\":\"scatter\"},{\"mode\":\"lines+markers\",\"name\":\"2023-06-26\",\"x\":[0,1,2,3,4,5,6,7,8,9,10,11,12,13,14,15,16,17,18,19,20,21,22,23],\"y\":[6.0,4.0,3.0,3.0,12.0,102.0,311.0,517.0,331.0,238.0,233.0,133.0,102.0,152.0,178.0,136.0,200.0,110.0,92.0,102.0,52.0,34.0,21.0,6.0],\"type\":\"scatter\"},{\"mode\":\"lines+markers\",\"name\":\"2023-07-05\",\"x\":[7,11,12],\"y\":[30.0,19.0,45.0],\"type\":\"scatter\"},{\"mode\":\"lines+markers\",\"name\":\"2023-07-18\",\"x\":[0,1,2,3,4,5,6,7,8,9,10,11,12,13,14,15,16,17,18,19,20,21,22,23],\"y\":[5.0,1.0,3.0,5.0,39.0,121.0,251.0,463.0,523.0,322.0,227.0,173.0,131.0,172.0,179.0,167.0,184.0,210.0,138.0,85.0,49.0,49.0,30.0,19.0],\"type\":\"scatter\"},{\"mode\":\"lines+markers\",\"name\":\"2023-07-27\",\"x\":[0,1,2,3,4,5,6,7,8,9,10,11,12,13,14,15,16,17,18,19,20,21,22,23],\"y\":[6.0,2.0,7.0,7.0,33.0,130.0,259.0,409.0,533.0,377.0,250.0,194.0,160.0,169.0,191.0,150.0,181.0,226.0,163.0,90.0,56.0,43.0,34.0,21.0],\"type\":\"scatter\"},{\"mode\":\"lines+markers\",\"name\":\"2023-07-29\",\"x\":[0,1,2,3,4,5,6,7,8,9,10,11,12,13,14,15,16,17,18,19,20,21,22,23],\"y\":[5.0,1.0,9.0,4.0,7.0,15.0,74.0,166.0,201.0,233.0,42.0,164.0,177.0,96.0,29.0,87.0,132.0,85.0,119.0,59.0,35.0,20.0,47.0,2.0],\"type\":\"scatter\"},{\"mode\":\"lines+markers\",\"name\":\"2023-08-06\",\"x\":[0,1,2,3,4,5,6,7,8,9,10,11,12,13,14,15,16,17,18,19,20,21,22,23],\"y\":[5.0,5.0,4.0,2.0,13.0,15.0,75.0,72.0,104.0,213.0,219.0,175.0,128.0,188.0,157.0,123.0,107.0,102.0,78.0,24.0,43.0,40.0,31.0,5.0],\"type\":\"scatter\"},{\"mode\":\"lines+markers\",\"name\":\"2023-08-21\",\"x\":[0,16],\"y\":[2.0,1.0],\"type\":\"scatter\"},{\"mode\":\"lines+markers\",\"name\":\"2023-09-01\",\"x\":[0,1,2,3,4,5,6,7,8,9,10,11,12,13,14,15,16,17,18,19,20,21,22,23],\"y\":[11.0,4.0,5.0,5.0,47.0,116.0,253.0,370.0,394.0,360.0,284.0,199.0,191.0,167.0,191.0,199.0,195.0,192.0,177.0,123.0,76.0,61.0,33.0,34.0],\"type\":\"scatter\"},{\"mode\":\"lines+markers\",\"name\":\"2023-09-12\",\"x\":[0,1,2,3,4,5,6,7,8,9,10,11,12,13,14,15,16,17,18,19,20,21,22,23],\"y\":[9.0,1.0,6.0,4.0,49.0,118.0,334.0,702.0,667.0,389.0,257.0,143.0,105.0,141.0,168.0,152.0,195.0,245.0,155.0,82.0,54.0,55.0,32.0,24.0],\"type\":\"scatter\"},{\"mode\":\"lines+markers\",\"name\":\"2023-09-18\",\"x\":[0,1,2,3,4,5,6,7,8,9,10,11,12,13,14,15,16,17,18,19,20,21,22,23],\"y\":[6.0,4.0,4.0,5.0,39.0,119.0,345.0,735.0,660.0,424.0,218.0,156.0,157.0,156.0,166.0,203.0,205.0,227.0,152.0,79.0,49.0,49.0,37.0,13.0],\"type\":\"scatter\"},{\"mode\":\"lines+markers\",\"name\":\"2023-09-27\",\"x\":[7],\"y\":[251.0],\"type\":\"scatter\"},{\"mode\":\"lines+markers\",\"name\":\"2023-10-02\",\"x\":[0,1,2,3,4,5,6,7,8,9,10,11,12,13,14,15,16,17,18,19,20,21,22,23],\"y\":[12.0,7.0,4.0,7.0,43.0,135.0,339.0,721.0,601.0,376.0,205.0,161.0,154.0,158.0,152.0,180.0,191.0,211.0,138.0,80.0,61.0,32.0,28.0,15.0],\"type\":\"scatter\"},{\"mode\":\"lines+markers\",\"name\":\"2023-10-12\",\"x\":[1,5,6,9,10,11,13,14,15,16,18,20,22,23],\"y\":[1.0,25.0,146.0,23.0,28.0,55.0,1.0,12.0,35.0,59.0,59.0,10.0,10.0,2.0],\"type\":\"scatter\"},{\"mode\":\"lines+markers\",\"name\":\"2023-10-26\",\"x\":[0,1,2,3,4,5,6,7,8,9,10,11,12,13,14,15,16,17,18,19,20,21,22,23],\"y\":[1.0,4.0,4.0,7.0,35.0,83.0,281.0,265.0,386.0,189.0,214.0,97.0,102.0,139.0,164.0,117.0,161.0,197.0,106.0,52.0,46.0,29.0,24.0,10.0],\"type\":\"scatter\"},{\"mode\":\"lines+markers\",\"name\":\"2023-10-27\",\"x\":[0,2,4,5,6,7,8,9,10,11,12,13,14,15,16,17,18,19,21,22,23],\"y\":[4.0,4.0,20.0,48.0,146.0,328.0,279.0,218.0,24.0,70.0,93.0,107.0,45.0,23.0,17.0,95.0,63.0,58.0,28.0,9.0,20.0],\"type\":\"scatter\"},{\"mode\":\"lines+markers\",\"name\":\"2023-11-10\",\"x\":[11],\"y\":[29.0],\"type\":\"scatter\"},{\"mode\":\"lines+markers\",\"name\":\"2023-11-12\",\"x\":[0,1,3,4,5,6,7,8,9,10,11,12,13,14,15,16,17,18,19,20,21,22,23],\"y\":[5.0,4.0,2.0,4.0,1.0,6.0,5.0,50.0,52.0,11.0,20.0,24.0,42.0,56.0,25.0,3.0,47.0,19.0,12.0,17.0,3.0,2.0,2.0],\"type\":\"scatter\"},{\"mode\":\"lines+markers\",\"name\":\"2023-11-15\",\"x\":[0,1,2,3,4,5,6,7,8,9,10,11,12,13,14,15,16,17,18,19,20,21,22,23],\"y\":[8.0,4.0,1.0,14.0,41.0,140.0,306.0,670.0,666.0,414.0,125.0,71.0,66.0,66.0,74.0,93.0,217.0,226.0,160.0,88.0,65.0,31.0,25.0,9.0],\"type\":\"scatter\"},{\"mode\":\"lines+markers\",\"name\":\"2023-11-18\",\"x\":[18],\"y\":[16.0],\"type\":\"scatter\"},{\"mode\":\"lines+markers\",\"name\":\"2023-11-19\",\"x\":[0,1,4,5,6,7,8,9,10,11,12,13,14,15,16,17,18,19,20,21,22,23],\"y\":[3.0,1.0,6.0,7.0,11.0,13.0,40.0,52.0,20.0,6.0,47.0,62.0,29.0,22.0,40.0,41.0,18.0,21.0,18.0,9.0,26.0,5.0],\"type\":\"scatter\"},{\"mode\":\"lines+markers\",\"name\":\"2023-11-21\",\"x\":[1,2,3,5,6,7,8,9,10,11,12,13,14,15,16,17,18,19,20,21,22,23],\"y\":[1.0,1.0,3.0,43.0,261.0,39.0,121.0,171.0,57.0,13.0,2.0,18.0,4.0,44.0,23.0,81.0,51.0,1.0,7.0,27.0,6.0,1.0],\"type\":\"scatter\"},{\"mode\":\"lines+markers\",\"name\":\"2023-11-24\",\"x\":[0,1,2,3,4,5,6,7,8,9,10,11,12,13,14,15,16,17,18,19,20,21,22,23],\"y\":[6.0,5.0,3.0,7.0,24.0,58.0,139.0,255.0,287.0,305.0,255.0,234.0,195.0,189.0,148.0,179.0,208.0,187.0,153.0,103.0,61.0,55.0,31.0,24.0],\"type\":\"scatter\"},{\"mode\":\"lines+markers\",\"name\":\"2023-12-01\",\"x\":[0,2,3,4,5,6,7,8,9,10,11,12,13,14,15,16,17,18,19,20,21,22,23],\"y\":[4.0,2.0,10.0,16.0,47.0,164.0,125.0,268.0,33.0,68.0,3.0,35.0,40.0,26.0,20.0,46.0,184.0,100.0,13.0,20.0,6.0,22.0,6.0],\"type\":\"scatter\"},{\"mode\":\"lines+markers\",\"name\":\"2023-12-14\",\"x\":[0,1,2,3,4,5,6,7,8,9,10,11,12,13,14,15,16,17,18,19,20,21,22,23],\"y\":[5.0,2.0,1.0,2.0,15.0,123.0,215.0,356.0,298.0,207.0,120.0,142.0,171.0,54.0,155.0,142.0,69.0,222.0,143.0,60.0,43.0,30.0,19.0,3.0],\"type\":\"scatter\"},{\"mode\":\"lines+markers\",\"name\":\"2023-12-29\",\"x\":[0,1,2,3,4,5,6,7,8,9,10,11,12,13,14,15,16,17,18,19,20,21,22,23],\"y\":[8.0,7.0,5.0,17.0,38.0,124.0,226.0,350.0,250.0,341.0,262.0,229.0,243.0,225.0,211.0,242.0,211.0,179.0,155.0,94.0,50.0,38.0,34.0,30.0],\"type\":\"scatter\"}],                        {\"template\":{\"data\":{\"histogram2dcontour\":[{\"type\":\"histogram2dcontour\",\"colorbar\":{\"outlinewidth\":0,\"ticks\":\"\"},\"colorscale\":[[0.0,\"#0d0887\"],[0.1111111111111111,\"#46039f\"],[0.2222222222222222,\"#7201a8\"],[0.3333333333333333,\"#9c179e\"],[0.4444444444444444,\"#bd3786\"],[0.5555555555555556,\"#d8576b\"],[0.6666666666666666,\"#ed7953\"],[0.7777777777777778,\"#fb9f3a\"],[0.8888888888888888,\"#fdca26\"],[1.0,\"#f0f921\"]]}],\"choropleth\":[{\"type\":\"choropleth\",\"colorbar\":{\"outlinewidth\":0,\"ticks\":\"\"}}],\"histogram2d\":[{\"type\":\"histogram2d\",\"colorbar\":{\"outlinewidth\":0,\"ticks\":\"\"},\"colorscale\":[[0.0,\"#0d0887\"],[0.1111111111111111,\"#46039f\"],[0.2222222222222222,\"#7201a8\"],[0.3333333333333333,\"#9c179e\"],[0.4444444444444444,\"#bd3786\"],[0.5555555555555556,\"#d8576b\"],[0.6666666666666666,\"#ed7953\"],[0.7777777777777778,\"#fb9f3a\"],[0.8888888888888888,\"#fdca26\"],[1.0,\"#f0f921\"]]}],\"heatmap\":[{\"type\":\"heatmap\",\"colorbar\":{\"outlinewidth\":0,\"ticks\":\"\"},\"colorscale\":[[0.0,\"#0d0887\"],[0.1111111111111111,\"#46039f\"],[0.2222222222222222,\"#7201a8\"],[0.3333333333333333,\"#9c179e\"],[0.4444444444444444,\"#bd3786\"],[0.5555555555555556,\"#d8576b\"],[0.6666666666666666,\"#ed7953\"],[0.7777777777777778,\"#fb9f3a\"],[0.8888888888888888,\"#fdca26\"],[1.0,\"#f0f921\"]]}],\"heatmapgl\":[{\"type\":\"heatmapgl\",\"colorbar\":{\"outlinewidth\":0,\"ticks\":\"\"},\"colorscale\":[[0.0,\"#0d0887\"],[0.1111111111111111,\"#46039f\"],[0.2222222222222222,\"#7201a8\"],[0.3333333333333333,\"#9c179e\"],[0.4444444444444444,\"#bd3786\"],[0.5555555555555556,\"#d8576b\"],[0.6666666666666666,\"#ed7953\"],[0.7777777777777778,\"#fb9f3a\"],[0.8888888888888888,\"#fdca26\"],[1.0,\"#f0f921\"]]}],\"contourcarpet\":[{\"type\":\"contourcarpet\",\"colorbar\":{\"outlinewidth\":0,\"ticks\":\"\"}}],\"contour\":[{\"type\":\"contour\",\"colorbar\":{\"outlinewidth\":0,\"ticks\":\"\"},\"colorscale\":[[0.0,\"#0d0887\"],[0.1111111111111111,\"#46039f\"],[0.2222222222222222,\"#7201a8\"],[0.3333333333333333,\"#9c179e\"],[0.4444444444444444,\"#bd3786\"],[0.5555555555555556,\"#d8576b\"],[0.6666666666666666,\"#ed7953\"],[0.7777777777777778,\"#fb9f3a\"],[0.8888888888888888,\"#fdca26\"],[1.0,\"#f0f921\"]]}],\"surface\":[{\"type\":\"surface\",\"colorbar\":{\"outlinewidth\":0,\"ticks\":\"\"},\"colorscale\":[[0.0,\"#0d0887\"],[0.1111111111111111,\"#46039f\"],[0.2222222222222222,\"#7201a8\"],[0.3333333333333333,\"#9c179e\"],[0.4444444444444444,\"#bd3786\"],[0.5555555555555556,\"#d8576b\"],[0.6666666666666666,\"#ed7953\"],[0.7777777777777778,\"#fb9f3a\"],[0.8888888888888888,\"#fdca26\"],[1.0,\"#f0f921\"]]}],\"mesh3d\":[{\"type\":\"mesh3d\",\"colorbar\":{\"outlinewidth\":0,\"ticks\":\"\"}}],\"scatter\":[{\"fillpattern\":{\"fillmode\":\"overlay\",\"size\":10,\"solidity\":0.2},\"type\":\"scatter\"}],\"parcoords\":[{\"type\":\"parcoords\",\"line\":{\"colorbar\":{\"outlinewidth\":0,\"ticks\":\"\"}}}],\"scatterpolargl\":[{\"type\":\"scatterpolargl\",\"marker\":{\"colorbar\":{\"outlinewidth\":0,\"ticks\":\"\"}}}],\"bar\":[{\"error_x\":{\"color\":\"#2a3f5f\"},\"error_y\":{\"color\":\"#2a3f5f\"},\"marker\":{\"line\":{\"color\":\"#E5ECF6\",\"width\":0.5},\"pattern\":{\"fillmode\":\"overlay\",\"size\":10,\"solidity\":0.2}},\"type\":\"bar\"}],\"scattergeo\":[{\"type\":\"scattergeo\",\"marker\":{\"colorbar\":{\"outlinewidth\":0,\"ticks\":\"\"}}}],\"scatterpolar\":[{\"type\":\"scatterpolar\",\"marker\":{\"colorbar\":{\"outlinewidth\":0,\"ticks\":\"\"}}}],\"histogram\":[{\"marker\":{\"pattern\":{\"fillmode\":\"overlay\",\"size\":10,\"solidity\":0.2}},\"type\":\"histogram\"}],\"scattergl\":[{\"type\":\"scattergl\",\"marker\":{\"colorbar\":{\"outlinewidth\":0,\"ticks\":\"\"}}}],\"scatter3d\":[{\"type\":\"scatter3d\",\"line\":{\"colorbar\":{\"outlinewidth\":0,\"ticks\":\"\"}},\"marker\":{\"colorbar\":{\"outlinewidth\":0,\"ticks\":\"\"}}}],\"scattermapbox\":[{\"type\":\"scattermapbox\",\"marker\":{\"colorbar\":{\"outlinewidth\":0,\"ticks\":\"\"}}}],\"scatterternary\":[{\"type\":\"scatterternary\",\"marker\":{\"colorbar\":{\"outlinewidth\":0,\"ticks\":\"\"}}}],\"scattercarpet\":[{\"type\":\"scattercarpet\",\"marker\":{\"colorbar\":{\"outlinewidth\":0,\"ticks\":\"\"}}}],\"carpet\":[{\"aaxis\":{\"endlinecolor\":\"#2a3f5f\",\"gridcolor\":\"white\",\"linecolor\":\"white\",\"minorgridcolor\":\"white\",\"startlinecolor\":\"#2a3f5f\"},\"baxis\":{\"endlinecolor\":\"#2a3f5f\",\"gridcolor\":\"white\",\"linecolor\":\"white\",\"minorgridcolor\":\"white\",\"startlinecolor\":\"#2a3f5f\"},\"type\":\"carpet\"}],\"table\":[{\"cells\":{\"fill\":{\"color\":\"#EBF0F8\"},\"line\":{\"color\":\"white\"}},\"header\":{\"fill\":{\"color\":\"#C8D4E3\"},\"line\":{\"color\":\"white\"}},\"type\":\"table\"}],\"barpolar\":[{\"marker\":{\"line\":{\"color\":\"#E5ECF6\",\"width\":0.5},\"pattern\":{\"fillmode\":\"overlay\",\"size\":10,\"solidity\":0.2}},\"type\":\"barpolar\"}],\"pie\":[{\"automargin\":true,\"type\":\"pie\"}]},\"layout\":{\"autotypenumbers\":\"strict\",\"colorway\":[\"#636efa\",\"#EF553B\",\"#00cc96\",\"#ab63fa\",\"#FFA15A\",\"#19d3f3\",\"#FF6692\",\"#B6E880\",\"#FF97FF\",\"#FECB52\"],\"font\":{\"color\":\"#2a3f5f\"},\"hovermode\":\"closest\",\"hoverlabel\":{\"align\":\"left\"},\"paper_bgcolor\":\"white\",\"plot_bgcolor\":\"#E5ECF6\",\"polar\":{\"bgcolor\":\"#E5ECF6\",\"angularaxis\":{\"gridcolor\":\"white\",\"linecolor\":\"white\",\"ticks\":\"\"},\"radialaxis\":{\"gridcolor\":\"white\",\"linecolor\":\"white\",\"ticks\":\"\"}},\"ternary\":{\"bgcolor\":\"#E5ECF6\",\"aaxis\":{\"gridcolor\":\"white\",\"linecolor\":\"white\",\"ticks\":\"\"},\"baxis\":{\"gridcolor\":\"white\",\"linecolor\":\"white\",\"ticks\":\"\"},\"caxis\":{\"gridcolor\":\"white\",\"linecolor\":\"white\",\"ticks\":\"\"}},\"coloraxis\":{\"colorbar\":{\"outlinewidth\":0,\"ticks\":\"\"}},\"colorscale\":{\"sequential\":[[0.0,\"#0d0887\"],[0.1111111111111111,\"#46039f\"],[0.2222222222222222,\"#7201a8\"],[0.3333333333333333,\"#9c179e\"],[0.4444444444444444,\"#bd3786\"],[0.5555555555555556,\"#d8576b\"],[0.6666666666666666,\"#ed7953\"],[0.7777777777777778,\"#fb9f3a\"],[0.8888888888888888,\"#fdca26\"],[1.0,\"#f0f921\"]],\"sequentialminus\":[[0.0,\"#0d0887\"],[0.1111111111111111,\"#46039f\"],[0.2222222222222222,\"#7201a8\"],[0.3333333333333333,\"#9c179e\"],[0.4444444444444444,\"#bd3786\"],[0.5555555555555556,\"#d8576b\"],[0.6666666666666666,\"#ed7953\"],[0.7777777777777778,\"#fb9f3a\"],[0.8888888888888888,\"#fdca26\"],[1.0,\"#f0f921\"]],\"diverging\":[[0,\"#8e0152\"],[0.1,\"#c51b7d\"],[0.2,\"#de77ae\"],[0.3,\"#f1b6da\"],[0.4,\"#fde0ef\"],[0.5,\"#f7f7f7\"],[0.6,\"#e6f5d0\"],[0.7,\"#b8e186\"],[0.8,\"#7fbc41\"],[0.9,\"#4d9221\"],[1,\"#276419\"]]},\"xaxis\":{\"gridcolor\":\"white\",\"linecolor\":\"white\",\"ticks\":\"\",\"title\":{\"standoff\":15},\"zerolinecolor\":\"white\",\"automargin\":true,\"zerolinewidth\":2},\"yaxis\":{\"gridcolor\":\"white\",\"linecolor\":\"white\",\"ticks\":\"\",\"title\":{\"standoff\":15},\"zerolinecolor\":\"white\",\"automargin\":true,\"zerolinewidth\":2},\"scene\":{\"xaxis\":{\"backgroundcolor\":\"#E5ECF6\",\"gridcolor\":\"white\",\"linecolor\":\"white\",\"showbackground\":true,\"ticks\":\"\",\"zerolinecolor\":\"white\",\"gridwidth\":2},\"yaxis\":{\"backgroundcolor\":\"#E5ECF6\",\"gridcolor\":\"white\",\"linecolor\":\"white\",\"showbackground\":true,\"ticks\":\"\",\"zerolinecolor\":\"white\",\"gridwidth\":2},\"zaxis\":{\"backgroundcolor\":\"#E5ECF6\",\"gridcolor\":\"white\",\"linecolor\":\"white\",\"showbackground\":true,\"ticks\":\"\",\"zerolinecolor\":\"white\",\"gridwidth\":2}},\"shapedefaults\":{\"line\":{\"color\":\"#2a3f5f\"}},\"annotationdefaults\":{\"arrowcolor\":\"#2a3f5f\",\"arrowhead\":0,\"arrowwidth\":1},\"geo\":{\"bgcolor\":\"white\",\"landcolor\":\"#E5ECF6\",\"subunitcolor\":\"white\",\"showland\":true,\"showlakes\":true,\"lakecolor\":\"white\"},\"title\":{\"x\":0.05},\"mapbox\":{\"style\":\"light\"}}},\"title\":{\"text\":\"Hourly Ridership for Station Complex 59\"},\"xaxis\":{\"title\":{\"text\":\"Hour of the Day\"}},\"yaxis\":{\"title\":{\"text\":\"Ridership\"}},\"updatemenus\":[{\"buttons\":[{\"args\":[{\"visible\":[true,false,false,false,false,false,false,false,false,false,false,false,false,false,false,false,false,false,false,false,false,false,false,false,false,false,false,false,false,false,false,false,false,false,false,false,false,false,false,false,false,false,false,false,false,false,false,false,false,false,false,false,false,false,false,false,false,false,false,false,false,false,false,false,false,false,false,false,false,false,false,false,false,false,false,false,false,false,false,false,false,false,false,false,false]}],\"label\":\"2022-03-09\",\"method\":\"update\"},{\"args\":[{\"visible\":[false,true,false,false,false,false,false,false,false,false,false,false,false,false,false,false,false,false,false,false,false,false,false,false,false,false,false,false,false,false,false,false,false,false,false,false,false,false,false,false,false,false,false,false,false,false,false,false,false,false,false,false,false,false,false,false,false,false,false,false,false,false,false,false,false,false,false,false,false,false,false,false,false,false,false,false,false,false,false,false,false,false,false,false,false]}],\"label\":\"2022-03-16\",\"method\":\"update\"},{\"args\":[{\"visible\":[false,false,true,false,false,false,false,false,false,false,false,false,false,false,false,false,false,false,false,false,false,false,false,false,false,false,false,false,false,false,false,false,false,false,false,false,false,false,false,false,false,false,false,false,false,false,false,false,false,false,false,false,false,false,false,false,false,false,false,false,false,false,false,false,false,false,false,false,false,false,false,false,false,false,false,false,false,false,false,false,false,false,false,false,false]}],\"label\":\"2022-03-19\",\"method\":\"update\"},{\"args\":[{\"visible\":[false,false,false,true,false,false,false,false,false,false,false,false,false,false,false,false,false,false,false,false,false,false,false,false,false,false,false,false,false,false,false,false,false,false,false,false,false,false,false,false,false,false,false,false,false,false,false,false,false,false,false,false,false,false,false,false,false,false,false,false,false,false,false,false,false,false,false,false,false,false,false,false,false,false,false,false,false,false,false,false,false,false,false,false,false]}],\"label\":\"2022-03-29\",\"method\":\"update\"},{\"args\":[{\"visible\":[false,false,false,false,true,false,false,false,false,false,false,false,false,false,false,false,false,false,false,false,false,false,false,false,false,false,false,false,false,false,false,false,false,false,false,false,false,false,false,false,false,false,false,false,false,false,false,false,false,false,false,false,false,false,false,false,false,false,false,false,false,false,false,false,false,false,false,false,false,false,false,false,false,false,false,false,false,false,false,false,false,false,false,false,false]}],\"label\":\"2022-04-01\",\"method\":\"update\"},{\"args\":[{\"visible\":[false,false,false,false,false,true,false,false,false,false,false,false,false,false,false,false,false,false,false,false,false,false,false,false,false,false,false,false,false,false,false,false,false,false,false,false,false,false,false,false,false,false,false,false,false,false,false,false,false,false,false,false,false,false,false,false,false,false,false,false,false,false,false,false,false,false,false,false,false,false,false,false,false,false,false,false,false,false,false,false,false,false,false,false,false]}],\"label\":\"2022-04-03\",\"method\":\"update\"},{\"args\":[{\"visible\":[false,false,false,false,false,false,true,false,false,false,false,false,false,false,false,false,false,false,false,false,false,false,false,false,false,false,false,false,false,false,false,false,false,false,false,false,false,false,false,false,false,false,false,false,false,false,false,false,false,false,false,false,false,false,false,false,false,false,false,false,false,false,false,false,false,false,false,false,false,false,false,false,false,false,false,false,false,false,false,false,false,false,false,false,false]}],\"label\":\"2022-04-12\",\"method\":\"update\"},{\"args\":[{\"visible\":[false,false,false,false,false,false,false,true,false,false,false,false,false,false,false,false,false,false,false,false,false,false,false,false,false,false,false,false,false,false,false,false,false,false,false,false,false,false,false,false,false,false,false,false,false,false,false,false,false,false,false,false,false,false,false,false,false,false,false,false,false,false,false,false,false,false,false,false,false,false,false,false,false,false,false,false,false,false,false,false,false,false,false,false,false]}],\"label\":\"2022-04-15\",\"method\":\"update\"},{\"args\":[{\"visible\":[false,false,false,false,false,false,false,false,true,false,false,false,false,false,false,false,false,false,false,false,false,false,false,false,false,false,false,false,false,false,false,false,false,false,false,false,false,false,false,false,false,false,false,false,false,false,false,false,false,false,false,false,false,false,false,false,false,false,false,false,false,false,false,false,false,false,false,false,false,false,false,false,false,false,false,false,false,false,false,false,false,false,false,false,false]}],\"label\":\"2022-04-24\",\"method\":\"update\"},{\"args\":[{\"visible\":[false,false,false,false,false,false,false,false,false,true,false,false,false,false,false,false,false,false,false,false,false,false,false,false,false,false,false,false,false,false,false,false,false,false,false,false,false,false,false,false,false,false,false,false,false,false,false,false,false,false,false,false,false,false,false,false,false,false,false,false,false,false,false,false,false,false,false,false,false,false,false,false,false,false,false,false,false,false,false,false,false,false,false,false,false]}],\"label\":\"2022-05-10\",\"method\":\"update\"},{\"args\":[{\"visible\":[false,false,false,false,false,false,false,false,false,false,true,false,false,false,false,false,false,false,false,false,false,false,false,false,false,false,false,false,false,false,false,false,false,false,false,false,false,false,false,false,false,false,false,false,false,false,false,false,false,false,false,false,false,false,false,false,false,false,false,false,false,false,false,false,false,false,false,false,false,false,false,false,false,false,false,false,false,false,false,false,false,false,false,false,false]}],\"label\":\"2022-05-21\",\"method\":\"update\"},{\"args\":[{\"visible\":[false,false,false,false,false,false,false,false,false,false,false,true,false,false,false,false,false,false,false,false,false,false,false,false,false,false,false,false,false,false,false,false,false,false,false,false,false,false,false,false,false,false,false,false,false,false,false,false,false,false,false,false,false,false,false,false,false,false,false,false,false,false,false,false,false,false,false,false,false,false,false,false,false,false,false,false,false,false,false,false,false,false,false,false,false]}],\"label\":\"2022-05-22\",\"method\":\"update\"},{\"args\":[{\"visible\":[false,false,false,false,false,false,false,false,false,false,false,false,true,false,false,false,false,false,false,false,false,false,false,false,false,false,false,false,false,false,false,false,false,false,false,false,false,false,false,false,false,false,false,false,false,false,false,false,false,false,false,false,false,false,false,false,false,false,false,false,false,false,false,false,false,false,false,false,false,false,false,false,false,false,false,false,false,false,false,false,false,false,false,false,false]}],\"label\":\"2022-05-29\",\"method\":\"update\"},{\"args\":[{\"visible\":[false,false,false,false,false,false,false,false,false,false,false,false,false,true,false,false,false,false,false,false,false,false,false,false,false,false,false,false,false,false,false,false,false,false,false,false,false,false,false,false,false,false,false,false,false,false,false,false,false,false,false,false,false,false,false,false,false,false,false,false,false,false,false,false,false,false,false,false,false,false,false,false,false,false,false,false,false,false,false,false,false,false,false,false,false]}],\"label\":\"2022-06-06\",\"method\":\"update\"},{\"args\":[{\"visible\":[false,false,false,false,false,false,false,false,false,false,false,false,false,false,true,false,false,false,false,false,false,false,false,false,false,false,false,false,false,false,false,false,false,false,false,false,false,false,false,false,false,false,false,false,false,false,false,false,false,false,false,false,false,false,false,false,false,false,false,false,false,false,false,false,false,false,false,false,false,false,false,false,false,false,false,false,false,false,false,false,false,false,false,false,false]}],\"label\":\"2022-06-07\",\"method\":\"update\"},{\"args\":[{\"visible\":[false,false,false,false,false,false,false,false,false,false,false,false,false,false,false,true,false,false,false,false,false,false,false,false,false,false,false,false,false,false,false,false,false,false,false,false,false,false,false,false,false,false,false,false,false,false,false,false,false,false,false,false,false,false,false,false,false,false,false,false,false,false,false,false,false,false,false,false,false,false,false,false,false,false,false,false,false,false,false,false,false,false,false,false,false]}],\"label\":\"2022-06-11\",\"method\":\"update\"},{\"args\":[{\"visible\":[false,false,false,false,false,false,false,false,false,false,false,false,false,false,false,false,true,false,false,false,false,false,false,false,false,false,false,false,false,false,false,false,false,false,false,false,false,false,false,false,false,false,false,false,false,false,false,false,false,false,false,false,false,false,false,false,false,false,false,false,false,false,false,false,false,false,false,false,false,false,false,false,false,false,false,false,false,false,false,false,false,false,false,false,false]}],\"label\":\"2022-07-24\",\"method\":\"update\"},{\"args\":[{\"visible\":[false,false,false,false,false,false,false,false,false,false,false,false,false,false,false,false,false,true,false,false,false,false,false,false,false,false,false,false,false,false,false,false,false,false,false,false,false,false,false,false,false,false,false,false,false,false,false,false,false,false,false,false,false,false,false,false,false,false,false,false,false,false,false,false,false,false,false,false,false,false,false,false,false,false,false,false,false,false,false,false,false,false,false,false,false]}],\"label\":\"2022-07-27\",\"method\":\"update\"},{\"args\":[{\"visible\":[false,false,false,false,false,false,false,false,false,false,false,false,false,false,false,false,false,false,true,false,false,false,false,false,false,false,false,false,false,false,false,false,false,false,false,false,false,false,false,false,false,false,false,false,false,false,false,false,false,false,false,false,false,false,false,false,false,false,false,false,false,false,false,false,false,false,false,false,false,false,false,false,false,false,false,false,false,false,false,false,false,false,false,false,false]}],\"label\":\"2022-08-05\",\"method\":\"update\"},{\"args\":[{\"visible\":[false,false,false,false,false,false,false,false,false,false,false,false,false,false,false,false,false,false,false,true,false,false,false,false,false,false,false,false,false,false,false,false,false,false,false,false,false,false,false,false,false,false,false,false,false,false,false,false,false,false,false,false,false,false,false,false,false,false,false,false,false,false,false,false,false,false,false,false,false,false,false,false,false,false,false,false,false,false,false,false,false,false,false,false,false]}],\"label\":\"2022-08-10\",\"method\":\"update\"},{\"args\":[{\"visible\":[false,false,false,false,false,false,false,false,false,false,false,false,false,false,false,false,false,false,false,false,true,false,false,false,false,false,false,false,false,false,false,false,false,false,false,false,false,false,false,false,false,false,false,false,false,false,false,false,false,false,false,false,false,false,false,false,false,false,false,false,false,false,false,false,false,false,false,false,false,false,false,false,false,false,false,false,false,false,false,false,false,false,false,false,false]}],\"label\":\"2022-08-15\",\"method\":\"update\"},{\"args\":[{\"visible\":[false,false,false,false,false,false,false,false,false,false,false,false,false,false,false,false,false,false,false,false,false,true,false,false,false,false,false,false,false,false,false,false,false,false,false,false,false,false,false,false,false,false,false,false,false,false,false,false,false,false,false,false,false,false,false,false,false,false,false,false,false,false,false,false,false,false,false,false,false,false,false,false,false,false,false,false,false,false,false,false,false,false,false,false,false]}],\"label\":\"2022-08-17\",\"method\":\"update\"},{\"args\":[{\"visible\":[false,false,false,false,false,false,false,false,false,false,false,false,false,false,false,false,false,false,false,false,false,false,true,false,false,false,false,false,false,false,false,false,false,false,false,false,false,false,false,false,false,false,false,false,false,false,false,false,false,false,false,false,false,false,false,false,false,false,false,false,false,false,false,false,false,false,false,false,false,false,false,false,false,false,false,false,false,false,false,false,false,false,false,false,false]}],\"label\":\"2022-09-13\",\"method\":\"update\"},{\"args\":[{\"visible\":[false,false,false,false,false,false,false,false,false,false,false,false,false,false,false,false,false,false,false,false,false,false,false,true,false,false,false,false,false,false,false,false,false,false,false,false,false,false,false,false,false,false,false,false,false,false,false,false,false,false,false,false,false,false,false,false,false,false,false,false,false,false,false,false,false,false,false,false,false,false,false,false,false,false,false,false,false,false,false,false,false,false,false,false,false]}],\"label\":\"2022-09-19\",\"method\":\"update\"},{\"args\":[{\"visible\":[false,false,false,false,false,false,false,false,false,false,false,false,false,false,false,false,false,false,false,false,false,false,false,false,true,false,false,false,false,false,false,false,false,false,false,false,false,false,false,false,false,false,false,false,false,false,false,false,false,false,false,false,false,false,false,false,false,false,false,false,false,false,false,false,false,false,false,false,false,false,false,false,false,false,false,false,false,false,false,false,false,false,false,false,false]}],\"label\":\"2022-09-20\",\"method\":\"update\"},{\"args\":[{\"visible\":[false,false,false,false,false,false,false,false,false,false,false,false,false,false,false,false,false,false,false,false,false,false,false,false,false,true,false,false,false,false,false,false,false,false,false,false,false,false,false,false,false,false,false,false,false,false,false,false,false,false,false,false,false,false,false,false,false,false,false,false,false,false,false,false,false,false,false,false,false,false,false,false,false,false,false,false,false,false,false,false,false,false,false,false,false]}],\"label\":\"2022-09-24\",\"method\":\"update\"},{\"args\":[{\"visible\":[false,false,false,false,false,false,false,false,false,false,false,false,false,false,false,false,false,false,false,false,false,false,false,false,false,false,true,false,false,false,false,false,false,false,false,false,false,false,false,false,false,false,false,false,false,false,false,false,false,false,false,false,false,false,false,false,false,false,false,false,false,false,false,false,false,false,false,false,false,false,false,false,false,false,false,false,false,false,false,false,false,false,false,false,false]}],\"label\":\"2022-09-26\",\"method\":\"update\"},{\"args\":[{\"visible\":[false,false,false,false,false,false,false,false,false,false,false,false,false,false,false,false,false,false,false,false,false,false,false,false,false,false,false,true,false,false,false,false,false,false,false,false,false,false,false,false,false,false,false,false,false,false,false,false,false,false,false,false,false,false,false,false,false,false,false,false,false,false,false,false,false,false,false,false,false,false,false,false,false,false,false,false,false,false,false,false,false,false,false,false,false]}],\"label\":\"2022-10-15\",\"method\":\"update\"},{\"args\":[{\"visible\":[false,false,false,false,false,false,false,false,false,false,false,false,false,false,false,false,false,false,false,false,false,false,false,false,false,false,false,false,true,false,false,false,false,false,false,false,false,false,false,false,false,false,false,false,false,false,false,false,false,false,false,false,false,false,false,false,false,false,false,false,false,false,false,false,false,false,false,false,false,false,false,false,false,false,false,false,false,false,false,false,false,false,false,false,false]}],\"label\":\"2022-10-25\",\"method\":\"update\"},{\"args\":[{\"visible\":[false,false,false,false,false,false,false,false,false,false,false,false,false,false,false,false,false,false,false,false,false,false,false,false,false,false,false,false,false,true,false,false,false,false,false,false,false,false,false,false,false,false,false,false,false,false,false,false,false,false,false,false,false,false,false,false,false,false,false,false,false,false,false,false,false,false,false,false,false,false,false,false,false,false,false,false,false,false,false,false,false,false,false,false,false]}],\"label\":\"2022-11-09\",\"method\":\"update\"},{\"args\":[{\"visible\":[false,false,false,false,false,false,false,false,false,false,false,false,false,false,false,false,false,false,false,false,false,false,false,false,false,false,false,false,false,false,true,false,false,false,false,false,false,false,false,false,false,false,false,false,false,false,false,false,false,false,false,false,false,false,false,false,false,false,false,false,false,false,false,false,false,false,false,false,false,false,false,false,false,false,false,false,false,false,false,false,false,false,false,false,false]}],\"label\":\"2022-11-10\",\"method\":\"update\"},{\"args\":[{\"visible\":[false,false,false,false,false,false,false,false,false,false,false,false,false,false,false,false,false,false,false,false,false,false,false,false,false,false,false,false,false,false,false,true,false,false,false,false,false,false,false,false,false,false,false,false,false,false,false,false,false,false,false,false,false,false,false,false,false,false,false,false,false,false,false,false,false,false,false,false,false,false,false,false,false,false,false,false,false,false,false,false,false,false,false,false,false]}],\"label\":\"2022-11-12\",\"method\":\"update\"},{\"args\":[{\"visible\":[false,false,false,false,false,false,false,false,false,false,false,false,false,false,false,false,false,false,false,false,false,false,false,false,false,false,false,false,false,false,false,false,true,false,false,false,false,false,false,false,false,false,false,false,false,false,false,false,false,false,false,false,false,false,false,false,false,false,false,false,false,false,false,false,false,false,false,false,false,false,false,false,false,false,false,false,false,false,false,false,false,false,false,false,false]}],\"label\":\"2022-12-09\",\"method\":\"update\"},{\"args\":[{\"visible\":[false,false,false,false,false,false,false,false,false,false,false,false,false,false,false,false,false,false,false,false,false,false,false,false,false,false,false,false,false,false,false,false,false,true,false,false,false,false,false,false,false,false,false,false,false,false,false,false,false,false,false,false,false,false,false,false,false,false,false,false,false,false,false,false,false,false,false,false,false,false,false,false,false,false,false,false,false,false,false,false,false,false,false,false,false]}],\"label\":\"2022-12-13\",\"method\":\"update\"},{\"args\":[{\"visible\":[false,false,false,false,false,false,false,false,false,false,false,false,false,false,false,false,false,false,false,false,false,false,false,false,false,false,false,false,false,false,false,false,false,false,true,false,false,false,false,false,false,false,false,false,false,false,false,false,false,false,false,false,false,false,false,false,false,false,false,false,false,false,false,false,false,false,false,false,false,false,false,false,false,false,false,false,false,false,false,false,false,false,false,false,false]}],\"label\":\"2022-12-17\",\"method\":\"update\"},{\"args\":[{\"visible\":[false,false,false,false,false,false,false,false,false,false,false,false,false,false,false,false,false,false,false,false,false,false,false,false,false,false,false,false,false,false,false,false,false,false,false,true,false,false,false,false,false,false,false,false,false,false,false,false,false,false,false,false,false,false,false,false,false,false,false,false,false,false,false,false,false,false,false,false,false,false,false,false,false,false,false,false,false,false,false,false,false,false,false,false,false]}],\"label\":\"2022-12-21\",\"method\":\"update\"},{\"args\":[{\"visible\":[false,false,false,false,false,false,false,false,false,false,false,false,false,false,false,false,false,false,false,false,false,false,false,false,false,false,false,false,false,false,false,false,false,false,false,false,true,false,false,false,false,false,false,false,false,false,false,false,false,false,false,false,false,false,false,false,false,false,false,false,false,false,false,false,false,false,false,false,false,false,false,false,false,false,false,false,false,false,false,false,false,false,false,false,false]}],\"label\":\"2022-12-29\",\"method\":\"update\"},{\"args\":[{\"visible\":[false,false,false,false,false,false,false,false,false,false,false,false,false,false,false,false,false,false,false,false,false,false,false,false,false,false,false,false,false,false,false,false,false,false,false,false,false,true,false,false,false,false,false,false,false,false,false,false,false,false,false,false,false,false,false,false,false,false,false,false,false,false,false,false,false,false,false,false,false,false,false,false,false,false,false,false,false,false,false,false,false,false,false,false,false]}],\"label\":\"2023-01-04\",\"method\":\"update\"},{\"args\":[{\"visible\":[false,false,false,false,false,false,false,false,false,false,false,false,false,false,false,false,false,false,false,false,false,false,false,false,false,false,false,false,false,false,false,false,false,false,false,false,false,false,true,false,false,false,false,false,false,false,false,false,false,false,false,false,false,false,false,false,false,false,false,false,false,false,false,false,false,false,false,false,false,false,false,false,false,false,false,false,false,false,false,false,false,false,false,false,false]}],\"label\":\"2023-01-06\",\"method\":\"update\"},{\"args\":[{\"visible\":[false,false,false,false,false,false,false,false,false,false,false,false,false,false,false,false,false,false,false,false,false,false,false,false,false,false,false,false,false,false,false,false,false,false,false,false,false,false,false,true,false,false,false,false,false,false,false,false,false,false,false,false,false,false,false,false,false,false,false,false,false,false,false,false,false,false,false,false,false,false,false,false,false,false,false,false,false,false,false,false,false,false,false,false,false]}],\"label\":\"2023-01-12\",\"method\":\"update\"},{\"args\":[{\"visible\":[false,false,false,false,false,false,false,false,false,false,false,false,false,false,false,false,false,false,false,false,false,false,false,false,false,false,false,false,false,false,false,false,false,false,false,false,false,false,false,false,true,false,false,false,false,false,false,false,false,false,false,false,false,false,false,false,false,false,false,false,false,false,false,false,false,false,false,false,false,false,false,false,false,false,false,false,false,false,false,false,false,false,false,false,false]}],\"label\":\"2023-01-19\",\"method\":\"update\"},{\"args\":[{\"visible\":[false,false,false,false,false,false,false,false,false,false,false,false,false,false,false,false,false,false,false,false,false,false,false,false,false,false,false,false,false,false,false,false,false,false,false,false,false,false,false,false,false,true,false,false,false,false,false,false,false,false,false,false,false,false,false,false,false,false,false,false,false,false,false,false,false,false,false,false,false,false,false,false,false,false,false,false,false,false,false,false,false,false,false,false,false]}],\"label\":\"2023-01-20\",\"method\":\"update\"},{\"args\":[{\"visible\":[false,false,false,false,false,false,false,false,false,false,false,false,false,false,false,false,false,false,false,false,false,false,false,false,false,false,false,false,false,false,false,false,false,false,false,false,false,false,false,false,false,false,true,false,false,false,false,false,false,false,false,false,false,false,false,false,false,false,false,false,false,false,false,false,false,false,false,false,false,false,false,false,false,false,false,false,false,false,false,false,false,false,false,false,false]}],\"label\":\"2023-01-22\",\"method\":\"update\"},{\"args\":[{\"visible\":[false,false,false,false,false,false,false,false,false,false,false,false,false,false,false,false,false,false,false,false,false,false,false,false,false,false,false,false,false,false,false,false,false,false,false,false,false,false,false,false,false,false,false,true,false,false,false,false,false,false,false,false,false,false,false,false,false,false,false,false,false,false,false,false,false,false,false,false,false,false,false,false,false,false,false,false,false,false,false,false,false,false,false,false,false]}],\"label\":\"2023-01-25\",\"method\":\"update\"},{\"args\":[{\"visible\":[false,false,false,false,false,false,false,false,false,false,false,false,false,false,false,false,false,false,false,false,false,false,false,false,false,false,false,false,false,false,false,false,false,false,false,false,false,false,false,false,false,false,false,false,true,false,false,false,false,false,false,false,false,false,false,false,false,false,false,false,false,false,false,false,false,false,false,false,false,false,false,false,false,false,false,false,false,false,false,false,false,false,false,false,false]}],\"label\":\"2023-02-02\",\"method\":\"update\"},{\"args\":[{\"visible\":[false,false,false,false,false,false,false,false,false,false,false,false,false,false,false,false,false,false,false,false,false,false,false,false,false,false,false,false,false,false,false,false,false,false,false,false,false,false,false,false,false,false,false,false,false,true,false,false,false,false,false,false,false,false,false,false,false,false,false,false,false,false,false,false,false,false,false,false,false,false,false,false,false,false,false,false,false,false,false,false,false,false,false,false,false]}],\"label\":\"2023-02-07\",\"method\":\"update\"},{\"args\":[{\"visible\":[false,false,false,false,false,false,false,false,false,false,false,false,false,false,false,false,false,false,false,false,false,false,false,false,false,false,false,false,false,false,false,false,false,false,false,false,false,false,false,false,false,false,false,false,false,false,true,false,false,false,false,false,false,false,false,false,false,false,false,false,false,false,false,false,false,false,false,false,false,false,false,false,false,false,false,false,false,false,false,false,false,false,false,false,false]}],\"label\":\"2023-02-16\",\"method\":\"update\"},{\"args\":[{\"visible\":[false,false,false,false,false,false,false,false,false,false,false,false,false,false,false,false,false,false,false,false,false,false,false,false,false,false,false,false,false,false,false,false,false,false,false,false,false,false,false,false,false,false,false,false,false,false,false,true,false,false,false,false,false,false,false,false,false,false,false,false,false,false,false,false,false,false,false,false,false,false,false,false,false,false,false,false,false,false,false,false,false,false,false,false,false]}],\"label\":\"2023-04-05\",\"method\":\"update\"},{\"args\":[{\"visible\":[false,false,false,false,false,false,false,false,false,false,false,false,false,false,false,false,false,false,false,false,false,false,false,false,false,false,false,false,false,false,false,false,false,false,false,false,false,false,false,false,false,false,false,false,false,false,false,false,true,false,false,false,false,false,false,false,false,false,false,false,false,false,false,false,false,false,false,false,false,false,false,false,false,false,false,false,false,false,false,false,false,false,false,false,false]}],\"label\":\"2023-04-07\",\"method\":\"update\"},{\"args\":[{\"visible\":[false,false,false,false,false,false,false,false,false,false,false,false,false,false,false,false,false,false,false,false,false,false,false,false,false,false,false,false,false,false,false,false,false,false,false,false,false,false,false,false,false,false,false,false,false,false,false,false,false,true,false,false,false,false,false,false,false,false,false,false,false,false,false,false,false,false,false,false,false,false,false,false,false,false,false,false,false,false,false,false,false,false,false,false,false]}],\"label\":\"2023-04-09\",\"method\":\"update\"},{\"args\":[{\"visible\":[false,false,false,false,false,false,false,false,false,false,false,false,false,false,false,false,false,false,false,false,false,false,false,false,false,false,false,false,false,false,false,false,false,false,false,false,false,false,false,false,false,false,false,false,false,false,false,false,false,false,true,false,false,false,false,false,false,false,false,false,false,false,false,false,false,false,false,false,false,false,false,false,false,false,false,false,false,false,false,false,false,false,false,false,false]}],\"label\":\"2023-04-11\",\"method\":\"update\"},{\"args\":[{\"visible\":[false,false,false,false,false,false,false,false,false,false,false,false,false,false,false,false,false,false,false,false,false,false,false,false,false,false,false,false,false,false,false,false,false,false,false,false,false,false,false,false,false,false,false,false,false,false,false,false,false,false,false,true,false,false,false,false,false,false,false,false,false,false,false,false,false,false,false,false,false,false,false,false,false,false,false,false,false,false,false,false,false,false,false,false,false]}],\"label\":\"2023-04-20\",\"method\":\"update\"},{\"args\":[{\"visible\":[false,false,false,false,false,false,false,false,false,false,false,false,false,false,false,false,false,false,false,false,false,false,false,false,false,false,false,false,false,false,false,false,false,false,false,false,false,false,false,false,false,false,false,false,false,false,false,false,false,false,false,false,true,false,false,false,false,false,false,false,false,false,false,false,false,false,false,false,false,false,false,false,false,false,false,false,false,false,false,false,false,false,false,false,false]}],\"label\":\"2023-05-06\",\"method\":\"update\"},{\"args\":[{\"visible\":[false,false,false,false,false,false,false,false,false,false,false,false,false,false,false,false,false,false,false,false,false,false,false,false,false,false,false,false,false,false,false,false,false,false,false,false,false,false,false,false,false,false,false,false,false,false,false,false,false,false,false,false,false,true,false,false,false,false,false,false,false,false,false,false,false,false,false,false,false,false,false,false,false,false,false,false,false,false,false,false,false,false,false,false,false]}],\"label\":\"2023-05-10\",\"method\":\"update\"},{\"args\":[{\"visible\":[false,false,false,false,false,false,false,false,false,false,false,false,false,false,false,false,false,false,false,false,false,false,false,false,false,false,false,false,false,false,false,false,false,false,false,false,false,false,false,false,false,false,false,false,false,false,false,false,false,false,false,false,false,false,true,false,false,false,false,false,false,false,false,false,false,false,false,false,false,false,false,false,false,false,false,false,false,false,false,false,false,false,false,false,false]}],\"label\":\"2023-05-24\",\"method\":\"update\"},{\"args\":[{\"visible\":[false,false,false,false,false,false,false,false,false,false,false,false,false,false,false,false,false,false,false,false,false,false,false,false,false,false,false,false,false,false,false,false,false,false,false,false,false,false,false,false,false,false,false,false,false,false,false,false,false,false,false,false,false,false,false,true,false,false,false,false,false,false,false,false,false,false,false,false,false,false,false,false,false,false,false,false,false,false,false,false,false,false,false,false,false]}],\"label\":\"2023-05-26\",\"method\":\"update\"},{\"args\":[{\"visible\":[false,false,false,false,false,false,false,false,false,false,false,false,false,false,false,false,false,false,false,false,false,false,false,false,false,false,false,false,false,false,false,false,false,false,false,false,false,false,false,false,false,false,false,false,false,false,false,false,false,false,false,false,false,false,false,false,true,false,false,false,false,false,false,false,false,false,false,false,false,false,false,false,false,false,false,false,false,false,false,false,false,false,false,false,false]}],\"label\":\"2023-05-30\",\"method\":\"update\"},{\"args\":[{\"visible\":[false,false,false,false,false,false,false,false,false,false,false,false,false,false,false,false,false,false,false,false,false,false,false,false,false,false,false,false,false,false,false,false,false,false,false,false,false,false,false,false,false,false,false,false,false,false,false,false,false,false,false,false,false,false,false,false,false,true,false,false,false,false,false,false,false,false,false,false,false,false,false,false,false,false,false,false,false,false,false,false,false,false,false,false,false]}],\"label\":\"2023-06-01\",\"method\":\"update\"},{\"args\":[{\"visible\":[false,false,false,false,false,false,false,false,false,false,false,false,false,false,false,false,false,false,false,false,false,false,false,false,false,false,false,false,false,false,false,false,false,false,false,false,false,false,false,false,false,false,false,false,false,false,false,false,false,false,false,false,false,false,false,false,false,false,true,false,false,false,false,false,false,false,false,false,false,false,false,false,false,false,false,false,false,false,false,false,false,false,false,false,false]}],\"label\":\"2023-06-09\",\"method\":\"update\"},{\"args\":[{\"visible\":[false,false,false,false,false,false,false,false,false,false,false,false,false,false,false,false,false,false,false,false,false,false,false,false,false,false,false,false,false,false,false,false,false,false,false,false,false,false,false,false,false,false,false,false,false,false,false,false,false,false,false,false,false,false,false,false,false,false,false,true,false,false,false,false,false,false,false,false,false,false,false,false,false,false,false,false,false,false,false,false,false,false,false,false,false]}],\"label\":\"2023-06-11\",\"method\":\"update\"},{\"args\":[{\"visible\":[false,false,false,false,false,false,false,false,false,false,false,false,false,false,false,false,false,false,false,false,false,false,false,false,false,false,false,false,false,false,false,false,false,false,false,false,false,false,false,false,false,false,false,false,false,false,false,false,false,false,false,false,false,false,false,false,false,false,false,false,true,false,false,false,false,false,false,false,false,false,false,false,false,false,false,false,false,false,false,false,false,false,false,false,false]}],\"label\":\"2023-06-26\",\"method\":\"update\"},{\"args\":[{\"visible\":[false,false,false,false,false,false,false,false,false,false,false,false,false,false,false,false,false,false,false,false,false,false,false,false,false,false,false,false,false,false,false,false,false,false,false,false,false,false,false,false,false,false,false,false,false,false,false,false,false,false,false,false,false,false,false,false,false,false,false,false,false,true,false,false,false,false,false,false,false,false,false,false,false,false,false,false,false,false,false,false,false,false,false,false,false]}],\"label\":\"2023-07-05\",\"method\":\"update\"},{\"args\":[{\"visible\":[false,false,false,false,false,false,false,false,false,false,false,false,false,false,false,false,false,false,false,false,false,false,false,false,false,false,false,false,false,false,false,false,false,false,false,false,false,false,false,false,false,false,false,false,false,false,false,false,false,false,false,false,false,false,false,false,false,false,false,false,false,false,true,false,false,false,false,false,false,false,false,false,false,false,false,false,false,false,false,false,false,false,false,false,false]}],\"label\":\"2023-07-18\",\"method\":\"update\"},{\"args\":[{\"visible\":[false,false,false,false,false,false,false,false,false,false,false,false,false,false,false,false,false,false,false,false,false,false,false,false,false,false,false,false,false,false,false,false,false,false,false,false,false,false,false,false,false,false,false,false,false,false,false,false,false,false,false,false,false,false,false,false,false,false,false,false,false,false,false,true,false,false,false,false,false,false,false,false,false,false,false,false,false,false,false,false,false,false,false,false,false]}],\"label\":\"2023-07-27\",\"method\":\"update\"},{\"args\":[{\"visible\":[false,false,false,false,false,false,false,false,false,false,false,false,false,false,false,false,false,false,false,false,false,false,false,false,false,false,false,false,false,false,false,false,false,false,false,false,false,false,false,false,false,false,false,false,false,false,false,false,false,false,false,false,false,false,false,false,false,false,false,false,false,false,false,false,true,false,false,false,false,false,false,false,false,false,false,false,false,false,false,false,false,false,false,false,false]}],\"label\":\"2023-07-29\",\"method\":\"update\"},{\"args\":[{\"visible\":[false,false,false,false,false,false,false,false,false,false,false,false,false,false,false,false,false,false,false,false,false,false,false,false,false,false,false,false,false,false,false,false,false,false,false,false,false,false,false,false,false,false,false,false,false,false,false,false,false,false,false,false,false,false,false,false,false,false,false,false,false,false,false,false,false,true,false,false,false,false,false,false,false,false,false,false,false,false,false,false,false,false,false,false,false]}],\"label\":\"2023-08-06\",\"method\":\"update\"},{\"args\":[{\"visible\":[false,false,false,false,false,false,false,false,false,false,false,false,false,false,false,false,false,false,false,false,false,false,false,false,false,false,false,false,false,false,false,false,false,false,false,false,false,false,false,false,false,false,false,false,false,false,false,false,false,false,false,false,false,false,false,false,false,false,false,false,false,false,false,false,false,false,true,false,false,false,false,false,false,false,false,false,false,false,false,false,false,false,false,false,false]}],\"label\":\"2023-08-21\",\"method\":\"update\"},{\"args\":[{\"visible\":[false,false,false,false,false,false,false,false,false,false,false,false,false,false,false,false,false,false,false,false,false,false,false,false,false,false,false,false,false,false,false,false,false,false,false,false,false,false,false,false,false,false,false,false,false,false,false,false,false,false,false,false,false,false,false,false,false,false,false,false,false,false,false,false,false,false,false,true,false,false,false,false,false,false,false,false,false,false,false,false,false,false,false,false,false]}],\"label\":\"2023-09-01\",\"method\":\"update\"},{\"args\":[{\"visible\":[false,false,false,false,false,false,false,false,false,false,false,false,false,false,false,false,false,false,false,false,false,false,false,false,false,false,false,false,false,false,false,false,false,false,false,false,false,false,false,false,false,false,false,false,false,false,false,false,false,false,false,false,false,false,false,false,false,false,false,false,false,false,false,false,false,false,false,false,true,false,false,false,false,false,false,false,false,false,false,false,false,false,false,false,false]}],\"label\":\"2023-09-12\",\"method\":\"update\"},{\"args\":[{\"visible\":[false,false,false,false,false,false,false,false,false,false,false,false,false,false,false,false,false,false,false,false,false,false,false,false,false,false,false,false,false,false,false,false,false,false,false,false,false,false,false,false,false,false,false,false,false,false,false,false,false,false,false,false,false,false,false,false,false,false,false,false,false,false,false,false,false,false,false,false,false,true,false,false,false,false,false,false,false,false,false,false,false,false,false,false,false]}],\"label\":\"2023-09-18\",\"method\":\"update\"},{\"args\":[{\"visible\":[false,false,false,false,false,false,false,false,false,false,false,false,false,false,false,false,false,false,false,false,false,false,false,false,false,false,false,false,false,false,false,false,false,false,false,false,false,false,false,false,false,false,false,false,false,false,false,false,false,false,false,false,false,false,false,false,false,false,false,false,false,false,false,false,false,false,false,false,false,false,true,false,false,false,false,false,false,false,false,false,false,false,false,false,false]}],\"label\":\"2023-09-27\",\"method\":\"update\"},{\"args\":[{\"visible\":[false,false,false,false,false,false,false,false,false,false,false,false,false,false,false,false,false,false,false,false,false,false,false,false,false,false,false,false,false,false,false,false,false,false,false,false,false,false,false,false,false,false,false,false,false,false,false,false,false,false,false,false,false,false,false,false,false,false,false,false,false,false,false,false,false,false,false,false,false,false,false,true,false,false,false,false,false,false,false,false,false,false,false,false,false]}],\"label\":\"2023-10-02\",\"method\":\"update\"},{\"args\":[{\"visible\":[false,false,false,false,false,false,false,false,false,false,false,false,false,false,false,false,false,false,false,false,false,false,false,false,false,false,false,false,false,false,false,false,false,false,false,false,false,false,false,false,false,false,false,false,false,false,false,false,false,false,false,false,false,false,false,false,false,false,false,false,false,false,false,false,false,false,false,false,false,false,false,false,true,false,false,false,false,false,false,false,false,false,false,false,false]}],\"label\":\"2023-10-12\",\"method\":\"update\"},{\"args\":[{\"visible\":[false,false,false,false,false,false,false,false,false,false,false,false,false,false,false,false,false,false,false,false,false,false,false,false,false,false,false,false,false,false,false,false,false,false,false,false,false,false,false,false,false,false,false,false,false,false,false,false,false,false,false,false,false,false,false,false,false,false,false,false,false,false,false,false,false,false,false,false,false,false,false,false,false,true,false,false,false,false,false,false,false,false,false,false,false]}],\"label\":\"2023-10-26\",\"method\":\"update\"},{\"args\":[{\"visible\":[false,false,false,false,false,false,false,false,false,false,false,false,false,false,false,false,false,false,false,false,false,false,false,false,false,false,false,false,false,false,false,false,false,false,false,false,false,false,false,false,false,false,false,false,false,false,false,false,false,false,false,false,false,false,false,false,false,false,false,false,false,false,false,false,false,false,false,false,false,false,false,false,false,false,true,false,false,false,false,false,false,false,false,false,false]}],\"label\":\"2023-10-27\",\"method\":\"update\"},{\"args\":[{\"visible\":[false,false,false,false,false,false,false,false,false,false,false,false,false,false,false,false,false,false,false,false,false,false,false,false,false,false,false,false,false,false,false,false,false,false,false,false,false,false,false,false,false,false,false,false,false,false,false,false,false,false,false,false,false,false,false,false,false,false,false,false,false,false,false,false,false,false,false,false,false,false,false,false,false,false,false,true,false,false,false,false,false,false,false,false,false]}],\"label\":\"2023-11-10\",\"method\":\"update\"},{\"args\":[{\"visible\":[false,false,false,false,false,false,false,false,false,false,false,false,false,false,false,false,false,false,false,false,false,false,false,false,false,false,false,false,false,false,false,false,false,false,false,false,false,false,false,false,false,false,false,false,false,false,false,false,false,false,false,false,false,false,false,false,false,false,false,false,false,false,false,false,false,false,false,false,false,false,false,false,false,false,false,false,true,false,false,false,false,false,false,false,false]}],\"label\":\"2023-11-12\",\"method\":\"update\"},{\"args\":[{\"visible\":[false,false,false,false,false,false,false,false,false,false,false,false,false,false,false,false,false,false,false,false,false,false,false,false,false,false,false,false,false,false,false,false,false,false,false,false,false,false,false,false,false,false,false,false,false,false,false,false,false,false,false,false,false,false,false,false,false,false,false,false,false,false,false,false,false,false,false,false,false,false,false,false,false,false,false,false,false,true,false,false,false,false,false,false,false]}],\"label\":\"2023-11-15\",\"method\":\"update\"},{\"args\":[{\"visible\":[false,false,false,false,false,false,false,false,false,false,false,false,false,false,false,false,false,false,false,false,false,false,false,false,false,false,false,false,false,false,false,false,false,false,false,false,false,false,false,false,false,false,false,false,false,false,false,false,false,false,false,false,false,false,false,false,false,false,false,false,false,false,false,false,false,false,false,false,false,false,false,false,false,false,false,false,false,false,true,false,false,false,false,false,false]}],\"label\":\"2023-11-18\",\"method\":\"update\"},{\"args\":[{\"visible\":[false,false,false,false,false,false,false,false,false,false,false,false,false,false,false,false,false,false,false,false,false,false,false,false,false,false,false,false,false,false,false,false,false,false,false,false,false,false,false,false,false,false,false,false,false,false,false,false,false,false,false,false,false,false,false,false,false,false,false,false,false,false,false,false,false,false,false,false,false,false,false,false,false,false,false,false,false,false,false,true,false,false,false,false,false]}],\"label\":\"2023-11-19\",\"method\":\"update\"},{\"args\":[{\"visible\":[false,false,false,false,false,false,false,false,false,false,false,false,false,false,false,false,false,false,false,false,false,false,false,false,false,false,false,false,false,false,false,false,false,false,false,false,false,false,false,false,false,false,false,false,false,false,false,false,false,false,false,false,false,false,false,false,false,false,false,false,false,false,false,false,false,false,false,false,false,false,false,false,false,false,false,false,false,false,false,false,true,false,false,false,false]}],\"label\":\"2023-11-21\",\"method\":\"update\"},{\"args\":[{\"visible\":[false,false,false,false,false,false,false,false,false,false,false,false,false,false,false,false,false,false,false,false,false,false,false,false,false,false,false,false,false,false,false,false,false,false,false,false,false,false,false,false,false,false,false,false,false,false,false,false,false,false,false,false,false,false,false,false,false,false,false,false,false,false,false,false,false,false,false,false,false,false,false,false,false,false,false,false,false,false,false,false,false,true,false,false,false]}],\"label\":\"2023-11-24\",\"method\":\"update\"},{\"args\":[{\"visible\":[false,false,false,false,false,false,false,false,false,false,false,false,false,false,false,false,false,false,false,false,false,false,false,false,false,false,false,false,false,false,false,false,false,false,false,false,false,false,false,false,false,false,false,false,false,false,false,false,false,false,false,false,false,false,false,false,false,false,false,false,false,false,false,false,false,false,false,false,false,false,false,false,false,false,false,false,false,false,false,false,false,false,true,false,false]}],\"label\":\"2023-12-01\",\"method\":\"update\"},{\"args\":[{\"visible\":[false,false,false,false,false,false,false,false,false,false,false,false,false,false,false,false,false,false,false,false,false,false,false,false,false,false,false,false,false,false,false,false,false,false,false,false,false,false,false,false,false,false,false,false,false,false,false,false,false,false,false,false,false,false,false,false,false,false,false,false,false,false,false,false,false,false,false,false,false,false,false,false,false,false,false,false,false,false,false,false,false,false,false,true,false]}],\"label\":\"2023-12-14\",\"method\":\"update\"},{\"args\":[{\"visible\":[false,false,false,false,false,false,false,false,false,false,false,false,false,false,false,false,false,false,false,false,false,false,false,false,false,false,false,false,false,false,false,false,false,false,false,false,false,false,false,false,false,false,false,false,false,false,false,false,false,false,false,false,false,false,false,false,false,false,false,false,false,false,false,false,false,false,false,false,false,false,false,false,false,false,false,false,false,false,false,false,false,false,false,false,true]}],\"label\":\"2023-12-29\",\"method\":\"update\"}],\"direction\":\"down\",\"showactive\":true}]},                        {\"responsive\": true}                    ).then(function(){\n",
       "                            \n",
       "var gd = document.getElementById('bceba7f4-aec2-4cd7-bfde-fed3ae61740a');\n",
       "var x = new MutationObserver(function (mutations, observer) {{\n",
       "        var display = window.getComputedStyle(gd).display;\n",
       "        if (!display || display === 'none') {{\n",
       "            console.log([gd, 'removed!']);\n",
       "            Plotly.purge(gd);\n",
       "            observer.disconnect();\n",
       "        }}\n",
       "}});\n",
       "\n",
       "// Listen for the removal of the full notebook cells\n",
       "var notebookContainer = gd.closest('#notebook-container');\n",
       "if (notebookContainer) {{\n",
       "    x.observe(notebookContainer, {childList: true});\n",
       "}}\n",
       "\n",
       "// Listen for the clearing of the current output cell\n",
       "var outputEl = gd.closest('.output');\n",
       "if (outputEl) {{\n",
       "    x.observe(outputEl, {childList: true});\n",
       "}}\n",
       "\n",
       "                        })                };                });            </script>        </div>"
      ]
     },
     "metadata": {},
     "output_type": "display_data"
    }
   ],
   "source": [
    "import plotly.express as px\n",
    "import plotly.graph_objects as go\n",
    "from plotly.subplots import make_subplots\n",
    "\n",
    "# Filter data for the station complex you want to visualize\n",
    "station_complex_id = 59\n",
    "station_complex_data = grouped_station_complex_hourly[grouped_station_complex_hourly['station_complex_id'] == station_complex_id]\n",
    "\n",
    "# Get unique days for dropdown selection\n",
    "unique_days = station_complex_data['day'].unique()\n",
    "\n",
    "# Create a figure\n",
    "fig = go.Figure()\n",
    "\n",
    "# Create a plot for each day and add to the figure\n",
    "for day in unique_days:\n",
    "    day_data = station_complex_data[station_complex_data['day'] == day]\n",
    "    fig.add_trace(\n",
    "        go.Scatter(\n",
    "            x=day_data['hour'],\n",
    "            y=day_data['ridership'],\n",
    "            mode='lines+markers',\n",
    "            name=str(day)\n",
    "        )\n",
    "    )\n",
    "\n",
    "# Update layout for dropdown to select dates\n",
    "fig.update_layout(\n",
    "    title=f'Hourly Ridership for Station Complex {station_complex_id}',\n",
    "    xaxis_title='Hour of the Day',\n",
    "    yaxis_title='Ridership',\n",
    "    updatemenus=[\n",
    "        {\n",
    "            \"buttons\": [\n",
    "                {\n",
    "                    \"method\": \"update\",\n",
    "                    \"label\": str(day),\n",
    "                    \"args\": [{\"visible\": [day == unique_day for unique_day in unique_days]}],\n",
    "                }\n",
    "                for day in unique_days\n",
    "            ],\n",
    "            \"direction\": \"down\",\n",
    "            \"showactive\": True,\n",
    "        }\n",
    "    ]\n",
    ")\n",
    "\n",
    "fig.show()\n",
    "\n"
   ]
  },
  {
   "cell_type": "code",
   "execution_count": 57,
   "metadata": {},
   "outputs": [
    {
     "data": {
      "text/plain": [
       "array([datetime.date(2022, 3, 9), datetime.date(2022, 3, 16),\n",
       "       datetime.date(2022, 3, 19), datetime.date(2022, 3, 29),\n",
       "       datetime.date(2022, 4, 1), datetime.date(2022, 4, 3),\n",
       "       datetime.date(2022, 4, 12), datetime.date(2022, 4, 15),\n",
       "       datetime.date(2022, 4, 24), datetime.date(2022, 5, 10),\n",
       "       datetime.date(2022, 5, 21), datetime.date(2022, 5, 22),\n",
       "       datetime.date(2022, 5, 29), datetime.date(2022, 6, 6),\n",
       "       datetime.date(2022, 6, 7), datetime.date(2022, 6, 11),\n",
       "       datetime.date(2022, 7, 24), datetime.date(2022, 7, 27),\n",
       "       datetime.date(2022, 8, 5), datetime.date(2022, 8, 10),\n",
       "       datetime.date(2022, 8, 15), datetime.date(2022, 8, 17),\n",
       "       datetime.date(2022, 9, 13), datetime.date(2022, 9, 19),\n",
       "       datetime.date(2022, 9, 20), datetime.date(2022, 9, 24),\n",
       "       datetime.date(2022, 9, 26), datetime.date(2022, 10, 15),\n",
       "       datetime.date(2022, 10, 25), datetime.date(2022, 11, 9),\n",
       "       datetime.date(2022, 11, 10), datetime.date(2022, 11, 12),\n",
       "       datetime.date(2022, 12, 9), datetime.date(2022, 12, 13),\n",
       "       datetime.date(2022, 12, 17), datetime.date(2022, 12, 21),\n",
       "       datetime.date(2022, 12, 29), datetime.date(2023, 1, 4),\n",
       "       datetime.date(2023, 1, 6), datetime.date(2023, 1, 12),\n",
       "       datetime.date(2023, 1, 19), datetime.date(2023, 1, 20),\n",
       "       datetime.date(2023, 1, 22), datetime.date(2023, 1, 25),\n",
       "       datetime.date(2023, 2, 2), datetime.date(2023, 2, 7),\n",
       "       datetime.date(2023, 2, 16), datetime.date(2023, 4, 5),\n",
       "       datetime.date(2023, 4, 7), datetime.date(2023, 4, 9),\n",
       "       datetime.date(2023, 4, 11), datetime.date(2023, 4, 20),\n",
       "       datetime.date(2023, 5, 6), datetime.date(2023, 5, 10),\n",
       "       datetime.date(2023, 5, 24), datetime.date(2023, 5, 26),\n",
       "       datetime.date(2023, 5, 30), datetime.date(2023, 6, 1),\n",
       "       datetime.date(2023, 6, 9), datetime.date(2023, 6, 11),\n",
       "       datetime.date(2023, 6, 26), datetime.date(2023, 7, 5),\n",
       "       datetime.date(2023, 7, 18), datetime.date(2023, 7, 27),\n",
       "       datetime.date(2023, 7, 29), datetime.date(2023, 8, 6),\n",
       "       datetime.date(2023, 8, 21), datetime.date(2023, 9, 1),\n",
       "       datetime.date(2023, 9, 12), datetime.date(2023, 9, 18),\n",
       "       datetime.date(2023, 9, 27), datetime.date(2023, 10, 2),\n",
       "       datetime.date(2023, 10, 12), datetime.date(2023, 10, 26),\n",
       "       datetime.date(2023, 10, 27), datetime.date(2023, 11, 10),\n",
       "       datetime.date(2023, 11, 12), datetime.date(2023, 11, 15),\n",
       "       datetime.date(2023, 11, 18), datetime.date(2023, 11, 19),\n",
       "       datetime.date(2023, 11, 21), datetime.date(2023, 11, 24),\n",
       "       datetime.date(2023, 12, 1), datetime.date(2023, 12, 14),\n",
       "       datetime.date(2023, 12, 29)], dtype=object)"
      ]
     },
     "execution_count": 57,
     "metadata": {},
     "output_type": "execute_result"
    }
   ],
   "source": [
    "# check dates for complex 1 \n",
    "station_complex_data['day'].unique()\n",
    "\n"
   ]
  },
  {
   "cell_type": "code",
   "execution_count": 43,
   "metadata": {},
   "outputs": [
    {
     "data": {
      "application/vnd.plotly.v1+json": {
       "config": {
        "plotlyServerURL": "https://plot.ly"
       },
       "data": [
        {
         "customdata": [
          [
           "59"
          ],
          [
           "404"
          ],
          [
           "272"
          ],
          [
           "420"
          ],
          [
           "218"
          ],
          [
           "193"
          ],
          [
           "165"
          ],
          [
           "398"
          ],
          [
           "61"
          ],
          [
           "75"
          ],
          [
           "333"
          ],
          [
           "475"
          ],
          [
           "74"
          ],
          [
           "67"
          ],
          [
           "369"
          ],
          [
           "405"
          ],
          [
           "41"
          ],
          [
           "194"
          ],
          [
           "383"
          ],
          [
           "215"
          ],
          [
           "3"
          ],
          [
           "449"
          ],
          [
           "270"
          ],
          [
           "62"
          ],
          [
           "217"
          ],
          [
           "388"
          ],
          [
           "373"
          ],
          [
           "282"
          ],
          [
           "294"
          ],
          [
           "438"
          ],
          [
           "455"
          ],
          [
           "123"
          ],
          [
           "118"
          ],
          [
           "119"
          ],
          [
           "33"
          ],
          [
           "396"
          ],
          [
           "69"
          ],
          [
           "306"
          ],
          [
           "407"
          ],
          [
           "80"
          ],
          [
           "428"
          ],
          [
           "336"
          ],
          [
           "224"
          ],
          [
           "255"
          ],
          [
           "262"
          ],
          [
           "82"
          ],
          [
           "13"
          ],
          [
           "38"
          ],
          [
           "5"
          ],
          [
           "53"
          ],
          [
           "295"
          ],
          [
           "260"
          ],
          [
           "361"
          ],
          [
           "232"
          ],
          [
           "430"
          ],
          [
           "378"
          ],
          [
           "32"
          ],
          [
           "191"
          ],
          [
           "213"
          ],
          [
           "71"
          ],
          [
           "34"
          ],
          [
           "386"
          ],
          [
           "245"
          ],
          [
           "268"
          ],
          [
           "320"
          ],
          [
           "304"
          ],
          [
           "31"
          ],
          [
           "477"
          ],
          [
           "250"
          ],
          [
           "457"
          ],
          [
           "81"
          ],
          [
           "248"
          ],
          [
           "251"
          ],
          [
           "437"
          ],
          [
           "377"
          ],
          [
           "376"
          ],
          [
           "312"
          ],
          [
           "418"
          ],
          [
           "64"
          ],
          [
           "321"
          ],
          [
           "66"
          ],
          [
           "385"
          ],
          [
           "152"
          ],
          [
           "290"
          ],
          [
           "319"
          ],
          [
           "366"
          ],
          [
           "37"
          ],
          [
           "78"
          ],
          [
           "419"
          ],
          [
           "379"
          ],
          [
           "65"
          ],
          [
           "158"
          ],
          [
           "70"
          ],
          [
           "129"
          ],
          [
           "52"
          ],
          [
           "190"
          ],
          [
           "95"
          ],
          [
           "98"
          ],
          [
           "439"
          ],
          [
           "403"
          ],
          [
           "173"
          ],
          [
           "216"
          ],
          [
           "91"
          ],
          [
           "387"
          ],
          [
           "10"
          ],
          [
           "141"
          ],
          [
           "208"
          ],
          [
           "445"
          ],
          [
           "324"
          ],
          [
           "79"
          ],
          [
           "235"
          ],
          [
           "68"
          ],
          [
           "182"
          ],
          [
           "316"
          ],
          [
           "154"
          ],
          [
           "258"
          ],
          [
           "162"
          ],
          [
           "301"
          ],
          [
           "422"
          ],
          [
           "476"
          ],
          [
           "364"
          ],
          [
           "325"
          ],
          [
           "220"
          ],
          [
           "207"
          ],
          [
           "459"
          ],
          [
           "50"
          ],
          [
           "103"
          ],
          [
           "446"
          ],
          [
           "393"
          ],
          [
           "228"
          ],
          [
           "440"
          ],
          [
           "122"
          ],
          [
           "189"
          ],
          [
           "125"
          ],
          [
           "130"
          ],
          [
           "134"
          ],
          [
           "628"
          ],
          [
           "222"
          ],
          [
           "627"
          ],
          [
           "72"
          ],
          [
           "276"
          ],
          [
           "603"
          ],
          [
           "188"
          ],
          [
           "214"
          ],
          [
           "326"
          ],
          [
           "636"
          ],
          [
           "608"
          ],
          [
           "613"
          ],
          [
           "271"
          ],
          [
           "155"
          ],
          [
           "625"
          ],
          [
           "221"
          ],
          [
           "127"
          ],
          [
           "126"
          ],
          [
           "54"
          ],
          [
           "153"
          ],
          [
           "622"
          ],
          [
           "192"
          ],
          [
           "623"
          ],
          [
           "16"
          ],
          [
           "327"
          ],
          [
           "323"
          ],
          [
           "28"
          ],
          [
           "151"
          ],
          [
           "55"
          ],
          [
           "124"
          ],
          [
           "277"
          ],
          [
           "273"
          ],
          [
           "181"
          ],
          [
           "131"
          ],
          [
           "606"
          ],
          [
           "602"
          ],
          [
           "623"
          ],
          [
           "133"
          ],
          [
           "211"
          ],
          [
           "624"
          ],
          [
           "635"
          ],
          [
           "209"
          ],
          [
           "22"
          ],
          [
           "278"
          ],
          [
           "186"
          ],
          [
           "601"
          ],
          [
           "56"
          ],
          [
           "212"
          ],
          [
           "629"
          ],
          [
           "266"
          ],
          [
           "160"
          ],
          [
           "623"
          ],
          [
           "609"
          ],
          [
           "6"
          ],
          [
           "611"
          ],
          [
           "185"
          ],
          [
           "612"
          ],
          [
           "210"
          ],
          [
           "626"
          ],
          [
           "60"
          ],
          [
           "76"
          ],
          [
           "58"
          ],
          [
           "269"
          ],
          [
           "157"
          ],
          [
           "57"
          ],
          [
           "187"
          ],
          [
           "605"
          ],
          [
           "630"
          ],
          [
           "180"
          ],
          [
           "159"
          ],
          [
           "608"
          ],
          [
           "150"
          ],
          [
           "610"
          ],
          [
           "636"
          ],
          [
           "611"
          ],
          [
           "183"
          ],
          [
           "609"
          ],
          [
           "607"
          ],
          [
           "279"
          ],
          [
           "156"
          ],
          [
           "628"
          ],
          [
           "120"
          ],
          [
           "628"
          ],
          [
           "613"
          ],
          [
           "604"
          ],
          [
           "280"
          ],
          [
           "606"
          ],
          [
           "601"
          ],
          [
           "611"
          ],
          [
           "51"
          ],
          [
           "623"
          ],
          [
           "635"
          ],
          [
           "628"
          ],
          [
           "622"
          ],
          [
           "604"
          ],
          [
           "629"
          ],
          [
           "606"
          ],
          [
           "628"
          ],
          [
           "628"
          ],
          [
           "611"
          ],
          [
           "628"
          ],
          [
           "625"
          ],
          [
           "612"
          ],
          [
           "606"
          ],
          [
           "602"
          ],
          [
           "623"
          ],
          [
           "604"
          ],
          [
           "602"
          ],
          [
           "609"
          ],
          [
           "624"
          ],
          [
           "628"
          ],
          [
           "605"
          ],
          [
           "611"
          ],
          [
           "601"
          ],
          [
           "625"
          ],
          [
           "624"
          ],
          [
           "607"
          ],
          [
           "606"
          ],
          [
           "623"
          ],
          [
           "375"
          ],
          [
           "624"
          ],
          [
           "636"
          ],
          [
           "606"
          ],
          [
           "111"
          ],
          [
           "395"
          ],
          [
           "284"
          ],
          [
           "256"
          ],
          [
           "234"
          ],
          [
           "314"
          ],
          [
           "334"
          ],
          [
           "343"
          ],
          [
           "1"
          ],
          [
           "264"
          ],
          [
           "416"
          ],
          [
           "311"
          ],
          [
           "318"
          ],
          [
           "26"
          ],
          [
           "337"
          ],
          [
           "384"
          ],
          [
           "392"
          ],
          [
           "286"
          ],
          [
           "289"
          ],
          [
           "417"
          ],
          [
           "223"
          ],
          [
           "238"
          ],
          [
           "426"
          ],
          [
           "101"
          ],
          [
           "339"
          ],
          [
           "293"
          ],
          [
           "237"
          ],
          [
           "42"
          ],
          [
           "344"
          ],
          [
           "263"
          ],
          [
           "225"
          ],
          [
           "313"
          ],
          [
           "309"
          ],
          [
           "236"
          ],
          [
           "292"
          ],
          [
           "261"
          ],
          [
           "291"
          ],
          [
           "114"
          ],
          [
           "381"
          ],
          [
           "110"
          ],
          [
           "380"
          ],
          [
           "231"
          ],
          [
           "347"
          ],
          [
           "341"
          ],
          [
           "394"
          ],
          [
           "424"
          ],
          [
           "259"
          ],
          [
           "421"
          ],
          [
           "135"
          ],
          [
           "287"
          ],
          [
           "113"
          ],
          [
           "308"
          ],
          [
           "340"
          ],
          [
           "307"
          ],
          [
           "100"
          ],
          [
           "257"
          ],
          [
           "107"
          ],
          [
           "288"
          ],
          [
           "329"
          ],
          [
           "39"
          ],
          [
           "382"
          ],
          [
           "328"
          ],
          [
           "423"
          ],
          [
           "397"
          ],
          [
           "109"
          ],
          [
           "265"
          ],
          [
           "240"
          ],
          [
           "346"
          ],
          [
           "283"
          ],
          [
           "414"
          ],
          [
           "345"
          ],
          [
           "310"
          ],
          [
           "108"
          ],
          [
           "425"
          ],
          [
           "391"
          ],
          [
           "348"
          ],
          [
           "349"
          ],
          [
           "136"
          ],
          [
           "374"
          ],
          [
           "296"
          ],
          [
           "427"
          ],
          [
           "35"
          ],
          [
           "246"
          ],
          [
           "372"
          ],
          [
           "145"
          ],
          [
           "4"
          ],
          [
           "87"
          ],
          [
           "164"
          ],
          [
           "14"
          ],
          [
           "86"
          ],
          [
           "353"
          ],
          [
           "300"
          ],
          [
           "143"
          ],
          [
           "615"
          ],
          [
           "249"
          ],
          [
           "247"
          ],
          [
           "368"
          ],
          [
           "20"
          ],
          [
           "355"
          ],
          [
           "241"
          ],
          [
           "409"
          ],
          [
           "8"
          ],
          [
           "299"
          ],
          [
           "205"
          ],
          [
           "17"
          ],
          [
           "84"
          ],
          [
           "146"
          ],
          [
           "149"
          ],
          [
           "144"
          ],
          [
           "169"
          ],
          [
           "253"
          ],
          [
           "350"
          ],
          [
           "168"
          ],
          [
           "371"
          ],
          [
           "179"
          ],
          [
           "615"
          ],
          [
           "360"
          ],
          [
           "147"
          ],
          [
           "351"
          ],
          [
           "305"
          ],
          [
           "167"
          ],
          [
           "399"
          ],
          [
           "243"
          ],
          [
           "244"
          ],
          [
           "30"
          ],
          [
           "363"
          ],
          [
           "298"
          ],
          [
           "203"
          ],
          [
           "362"
          ],
          [
           "357"
          ],
          [
           "618"
          ],
          [
           "614"
          ],
          [
           "252"
          ],
          [
           "197"
          ],
          [
           "200"
          ],
          [
           "367"
          ],
          [
           "352"
          ],
          [
           "206"
          ],
          [
           "303"
          ],
          [
           "413"
          ],
          [
           "83"
          ],
          [
           "198"
          ],
          [
           "354"
          ],
          [
           "88"
          ],
          [
           "254"
          ],
          [
           "370"
          ],
          [
           "620"
          ],
          [
           "356"
          ],
          [
           "138"
          ],
          [
           "196"
          ],
          [
           "77"
          ],
          [
           "85"
          ],
          [
           "204"
          ],
          [
           "175"
          ],
          [
           "365"
          ],
          [
           "195"
          ],
          [
           "617"
          ],
          [
           "201"
          ],
          [
           "242"
          ],
          [
           "202"
          ],
          [
           "617"
          ],
          [
           "9"
          ],
          [
           "177"
          ],
          [
           "621"
          ],
          [
           "89"
          ],
          [
           "297"
          ],
          [
           "176"
          ],
          [
           "137"
          ],
          [
           "616"
          ],
          [
           "2"
          ],
          [
           "619"
          ],
          [
           "619"
          ],
          [
           "199"
          ],
          [
           "616"
          ],
          [
           "614"
          ],
          [
           "620"
          ],
          [
           "618"
          ],
          [
           "616"
          ],
          [
           "617"
          ],
          [
           "615"
          ],
          [
           "433"
          ],
          [
           "451"
          ],
          [
           "49"
          ],
          [
           "48"
          ],
          [
           "434"
          ],
          [
           "99"
          ],
          [
           "452"
          ],
          [
           "456"
          ],
          [
           "47"
          ],
          [
           "94"
          ],
          [
           "44"
          ],
          [
           "453"
          ],
          [
           "43"
          ],
          [
           "431"
          ],
          [
           "429"
          ],
          [
           "464"
          ],
          [
           "502"
          ],
          [
           "444"
          ],
          [
           "TRAM1"
          ],
          [
           "447"
          ],
          [
           "501"
          ],
          [
           "90"
          ],
          [
           "448"
          ],
          [
           "432"
          ],
          [
           "461"
          ],
          [
           "36"
          ],
          [
           "97"
          ],
          [
           "463"
          ],
          [
           "458"
          ],
          [
           "359"
          ],
          [
           "45"
          ],
          [
           "358"
          ],
          [
           "460"
          ],
          [
           "96"
          ],
          [
           "436"
          ],
          [
           "93"
          ],
          [
           "441"
          ],
          [
           "450"
          ],
          [
           "46"
          ],
          [
           "471"
          ],
          [
           "443"
          ],
          [
           "442"
          ],
          [
           "TRAM2"
          ],
          [
           "626"
          ],
          [
           "601"
          ],
          [
           612
          ],
          [
           383
          ],
          [
           282
          ],
          [
           392
          ],
          [
           51
          ],
          [
           608
          ],
          [
           611
          ],
          [
           417
          ],
          [
           346
          ],
          [
           343
          ],
          [
           42
          ],
          [
           74
          ],
          [
           232
          ],
          [
           240
          ],
          [
           228
          ],
          [
           419
          ],
          [
           416
          ],
          [
           57
          ],
          [
           283
          ],
          [
           384
          ],
          [
           76
          ],
          [
           291
          ],
          [
           68
          ],
          [
           607
          ],
          [
           224
          ],
          [
           293
          ],
          [
           234
          ],
          [
           414
          ],
          [
           280
          ],
          [
           381
          ],
          [
           385
          ],
          [
           347
          ],
          [
           387
          ],
          [
           337
          ],
          [
           424
          ],
          [
           628
          ],
          [
           294
          ],
          [
           223
          ],
          [
           6
          ],
          [
           60
          ],
          [
           344
          ],
          [
           61
          ],
          [
           604
          ],
          [
           72
          ],
          [
           339
          ],
          [
           425
          ],
          [
           235
          ],
          [
           376
          ],
          [
           75
          ],
          [
           295
          ],
          [
           602
          ],
          [
           341
          ],
          [
           422
          ],
          [
           52
          ],
          [
           345
          ],
          [
           287
          ],
          [
           290
          ],
          [
           231
          ],
          [
           66
          ],
          [
           284
          ],
          [
           225
          ],
          [
           635
          ],
          [
           59
          ],
          [
           603
          ],
          [
           382
          ],
          [
           418
          ],
          [
           622
          ],
          [
           53
          ],
          [
           625
          ],
          [
           222
          ],
          [
           378
          ],
          [
           606
          ],
          [
           238
          ],
          [
           420
          ],
          [
           65
          ],
          [
           237
          ],
          [
           613
          ],
          [
           55
          ],
          [
           69
          ],
          [
           288
          ],
          [
           54
          ],
          [
           630
          ],
          [
           423
          ],
          [
           286
          ],
          [
           623
          ],
          [
           386
          ],
          [
           70
          ],
          [
           377
          ],
          [
           609
          ],
          [
           624
          ],
          [
           375
          ],
          [
           393
          ],
          [
           340
          ],
          [
           236
          ],
          [
           606
          ],
          [
           626
          ],
          [
           627
          ],
          [
           629
          ],
          [
           426
          ],
          [
           605
          ],
          [
           601
          ],
          [
           391
          ],
          [
           64
          ],
          [
           289
          ],
          [
           348
          ],
          [
           292
          ],
          [
           610
          ],
          [
           636
          ],
          [
           611
          ],
          [
           58
          ],
          [
           349
          ],
          [
           56
          ],
          [
           388
          ],
          [
           380
          ],
          [
           379
          ],
          [
           421
          ],
          [
           67
          ],
          [
           636
          ],
          [
           34
          ],
          [
           604
          ],
          [
           606
          ],
          [
           39
          ],
          [
           628
          ],
          [
           296
          ],
          [
           623
          ],
          [
           606
          ],
          [
           71
          ],
          [
           336
          ],
          [
           622
          ],
          [
           38
          ],
          [
           601
          ],
          [
           334
          ],
          [
           427
          ],
          [
           609
          ],
          [
           602
          ],
          [
           623
          ],
          [
           624
          ],
          [
           628
          ],
          [
           602
          ],
          [
           628
          ],
          [
           611
          ],
          [
           623
          ],
          [
           629
          ],
          [
           628
          ],
          [
           611
          ],
          [
           374
          ],
          [
           606
          ],
          [
           635
          ],
          [
           320
          ],
          [
           268
          ],
          [
           628
          ],
          [
           628
          ],
          [
           625
          ],
          [
           405
          ],
          [
           604
          ],
          [
           33
          ],
          [
           608
          ],
          [
           625
          ],
          [
           366
          ],
          [
           311
          ],
          [
           613
          ],
          [
           605
          ],
          [
           409
          ],
          [
           636
          ],
          [
           601
          ],
          [
           601
          ],
          [
           255
          ],
          [
           628
          ],
          [
           372
          ],
          [
           370
          ],
          [
           609
          ],
          [
           270
          ],
          [
           37
          ],
          [
           607
          ],
          [
           612
          ],
          [
           398
          ],
          [
           369
          ],
          [
           309
          ],
          [
           321
          ],
          [
           606
          ],
          [
           312
          ],
          [
           32
          ],
          [
           41
          ],
          [
           624
          ],
          [
           277
          ],
          [
           205
          ],
          [
           362
          ],
          [
           262
          ],
          [
           313
          ],
          [
           397
          ],
          [
           360
          ],
          [
           615
          ],
          [
           88
          ],
          [
           78
          ],
          [
           614
          ],
          [
           256
          ],
          [
           394
          ],
          [
           175
          ],
          [
           371
          ],
          [
           136
          ],
          [
           14
          ],
          [
           307
          ],
          [
           138
          ],
          [
           84
          ],
          [
           9
          ],
          [
           367
          ],
          [
           165
          ],
          [
           195
          ],
          [
           202
          ],
          [
           620
          ],
          [
           310
          ],
          [
           1
          ],
          [
           207
          ],
          [
           258
          ],
          [
           26
          ],
          [
           137
          ],
          [
           257
          ],
          [
           167
          ],
          [
           266
          ],
          [
           617
          ],
          [
           85
          ],
          [
           318
          ],
          [
           265
          ],
          [
           203
          ],
          [
           141
          ],
          [
           107
          ],
          [
           109
          ],
          [
           259
          ],
          [
           86
          ],
          [
           81
          ],
          [
           264
          ],
          [
           316
          ],
          [
           368
          ],
          [
           319
          ],
          [
           79
          ],
          [
           77
          ],
          [
           113
          ],
          [
           62
          ],
          [
           621
          ],
          [
           111
          ],
          [
           108
          ],
          [
           260
          ],
          [
           179
          ],
          [
           17
          ],
          [
           620
          ],
          [
           361
          ],
          [
           616
          ],
          [
           147
          ],
          [
           365
          ],
          [
           308
          ],
          [
           144
          ],
          [
           87
          ],
          [
           80
          ],
          [
           134
          ],
          [
           169
          ],
          [
           149
          ],
          [
           89
          ],
          [
           363
          ],
          [
           618
          ],
          [
           143
          ],
          [
           204
          ],
          [
           197
          ],
          [
           396
          ],
          [
           168
          ],
          [
           20
          ],
          [
           118
          ],
          [
           200
          ],
          [
           146
          ],
          [
           2
          ],
          [
           263
          ],
          [
           31
          ],
          [
           10
          ],
          [
           208
          ],
          [
           619
          ],
          [
           100
          ],
          [
           164
          ],
          [
           173
          ],
          [
           261
          ],
          [
           135
          ],
          [
           145
          ],
          [
           177
          ],
          [
           364
          ],
          [
           110
          ],
          [
           103
          ],
          [
           196
          ],
          [
           101
          ],
          [
           8
          ],
          [
           83
          ],
          [
           395
          ],
          [
           114
          ],
          [
           198
          ],
          [
           180
          ],
          [
           162
          ],
          [
           82
          ],
          [
           150
          ],
          [
           314
          ],
          [
           199
          ],
          [
           201
          ],
          [
           119
          ],
          [
           194
          ],
          [
           176
          ],
          [
           209
          ],
          [
           206
          ],
          [
           407
          ],
          [
           617
          ],
          [
           617
          ],
          [
           615
          ],
          [
           616
          ],
          [
           615
          ],
          [
           618
          ],
          [
           306
          ],
          [
           619
          ],
          [
           614
          ],
          [
           301
          ],
          [
           216
          ],
          [
           130
          ],
          [
           190
          ],
          [
           191
          ],
          [
           304
          ],
          [
           329
          ],
          [
           404
          ],
          [
           328
          ],
          [
           269
          ],
          [
           326
          ],
          [
           413
          ],
          [
           373
          ],
          [
           403
          ],
          [
           324
          ],
          [
           4
          ],
          [
           399
          ],
          [
           273
          ],
          [
           323
          ],
          [
           278
          ],
          [
           327
          ],
          [
           271
          ],
          [
           333
          ],
          [
           272
          ],
          [
           28
          ],
          [
           279
          ],
          [
           276
          ],
          [
           325
          ],
          [
           120
          ],
          [
           122
          ],
          [
           123
          ],
          [
           124
          ],
          [
           620
          ],
          [
           "611"
          ],
          [
           189
          ],
          [
           129
          ],
          [
           157
          ],
          [
           182
          ],
          [
           152
          ],
          [
           187
          ],
          [
           210
          ],
          [
           212
          ],
          [
           221
          ],
          [
           192
          ],
          [
           186
          ],
          [
           22
          ],
          [
           185
          ],
          [
           125
          ],
          [
           193
          ],
          [
           16
          ],
          [
           220
          ],
          [
           153
          ],
          [
           13
          ],
          [
           181
          ],
          [
           127
          ],
          [
           131
          ],
          [
           183
          ],
          [
           214
          ],
          [
           158
          ],
          [
           151
          ],
          [
           213
          ],
          [
           126
          ],
          [
           155
          ],
          [
           160
          ],
          [
           156
          ],
          [
           217
          ],
          [
           215
          ],
          [
           154
          ],
          [
           218
          ],
          [
           133
          ],
          [
           159
          ],
          [
           211
          ],
          [
           188
          ],
          [
           611
          ],
          [
           616
          ],
          [
           251
          ],
          [
           249
          ],
          [
           242
          ],
          [
           3
          ],
          [
           247
          ],
          [
           243
          ],
          [
           244
          ],
          [
           305
          ],
          [
           30
          ],
          [
           299
          ],
          [
           245
          ],
          [
           254
          ],
          [
           303
          ],
          [
           252
          ],
          [
           300
          ],
          [
           241
          ],
          [
           248
          ],
          [
           298
          ],
          [
           253
          ],
          [
           297
          ],
          [
           250
          ],
          [
           246
          ],
          [
           5
          ],
          [
           455
          ],
          [
           437
          ],
          [
           477
          ],
          [
           45
          ],
          [
           476
          ],
          [
           471
          ],
          [
           352
          ],
          [
           355
          ],
          [
           43
          ],
          [
           354
          ],
          [
           444
          ],
          [
           456
          ],
          [
           461
          ],
          [
           433
          ],
          [
           353
          ],
          [
           429
          ],
          [
           49
          ],
          [
           445
          ],
          [
           44
          ],
          [
           357
          ],
          [
           47
          ],
          [
           475
          ],
          [
           439
          ],
          [
           441
          ],
          [
           464
          ],
          [
           431
          ],
          [
           452
          ],
          [
           448
          ],
          [
           48
          ],
          [
           440
          ],
          [
           449
          ],
          [
           358
          ],
          [
           434
          ],
          [
           351
          ],
          [
           447
          ],
          [
           428
          ],
          [
           50
          ],
          [
           356
          ],
          [
           463
          ],
          [
           436
          ],
          [
           457
          ],
          [
           350
          ],
          [
           446
          ],
          [
           46
          ],
          [
           35
          ],
          [
           460
          ],
          [
           36
          ],
          [
           459
          ],
          [
           432
          ],
          [
           443
          ],
          [
           502
          ],
          [
           442
          ],
          [
           359
          ],
          [
           451
          ],
          [
           430
          ],
          [
           438
          ],
          [
           458
          ],
          [
           453
          ],
          [
           501
          ],
          [
           450
          ],
          [
           623
          ],
          [
           624
          ],
          [
           623
          ],
          [
           94
          ],
          [
           91
          ],
          [
           95
          ],
          [
           611
          ],
          [
           "620"
          ],
          [
           "620"
          ],
          [
           "620"
          ],
          [
           93
          ],
          [
           99
          ],
          [
           98
          ],
          [
           97
          ],
          [
           90
          ],
          [
           96
          ],
          [
           620
          ],
          [
           620
          ],
          [
           626
          ]
         ],
         "hovertemplate": "<b>%{hovertext}</b><br><br>latitude=%{lat}<br>longitude=%{lon}<br>station_complex_id=%{customdata[0]}<extra></extra>",
         "hovertext": [
          "9 Av (D)",
          "28 St (6)",
          "36 St (M,R)",
          "219 St (2,5)",
          "167 St (B,D)",
          "104 St (A)",
          "23 St (C,E)",
          "77 St (6)",
          "50 St (D)",
          "20 Av (N)",
          "Wall St (2,3)",
          "96 St (Q)",
          "18 Av (N)",
          "20 Av (D)",
          "Elder Av (6)",
          "23 St (6)",
          "7 Av (B,Q)",
          "111 St (A)",
          "183 St (4)",
          "Tremont Av (B,D)",
          "30 Av (N,W)",
          "111 St (7)",
          "46 St (M,R)",
          "55 St (D)",
          "170 St (B,D)",
          "167 St (4)",
          "E 149 St (6)",
          "21 St (G)",
          "238 St (1)",
          "135 St (2,3)",
          "69 St (7)",
          "Grand St (L)",
          "3 Av (L)",
          "1 Av (L)",
          "45 St (R)",
          "96 St (6)",
          "25 Av (D)",
          "125 St (1)",
          "Astor Pl (6)",
          "121 St (J,Z)",
          "174 St (2,5)",
          "Hoyt St (2,3)",
          "57 St (F)",
          "169 St (F)",
          "67 Av (M,R)",
          "104 St (J,Z)",
          "28 St (R,W)",
          "86 St (R)",
          "36 Av (N,W)",
          "Neck Rd (Q)",
          "231 St (1)",
          "75 Av (E,F)",
          "Buhre Av (6)",
          "2 Av (F)",
          "Simpson St (2,5)",
          "Woodlawn (4)",
          "36 St (D,N,R)",
          "88 St (A)",
          "Fordham Rd (B,D)",
          "8 Av (N)",
          "53 St (R)",
          "Mt Eden Av (4)",
          "18 Av (F)",
          "65 St (M,R)",
          "23 St (1)",
          "145 St (1)",
          "25 St (R)",
          "72 St (Q)",
          "Kings Hwy (F)",
          "52 St (7)",
          "111 St (J)",
          "Avenue N (F)",
          "Avenue U (F)",
          "145 St (3)",
          "3 Av-138 St (6)",
          "Brook Av (6)",
          "79 St (1)",
          "233 St (2,5)",
          "71 St (D)",
          "18 St (1)",
          "18 Av (D)",
          "176 St (4)",
          "135 St (C,B)",
          "Classon Av (G)",
          "28 St (1)",
          "Parkchester (6)",
          "77 St (R)",
          "Avenue U (N)",
          "225 St (2,5)",
          "Mosholu Pkwy (4)",
          "79 St (D)",
          "86 St (C,B)",
          "Bay 50 St (D)",
          "Halsey St (L)",
          "Avenue U (Q)",
          "80 St (A)",
          "Gates Av (J,Z)",
          "Flushing Av (M,J)",
          "125 St (2,3)",
          "33 St (6)",
          "High St (A,C)",
          "174-175 Sts (B,D)",
          "Alabama Av (J)",
          "170 St (4)",
          "49 St (N,R,W)",
          "Park Pl (S)",
          "Beach 25 St (A)",
          "Pelham Pkwy (5)",
          "Houston St (1)",
          "86 St (N)",
          "York St (F)",
          "Bay Pkwy (D)",
          "Ralph Av (C)",
          "50 St (1)",
          "116 St (C,B)",
          "Briarwood (E,F)",
          "50 St (C,E)",
          "181 St (1)",
          "Burke Av (2,5)",
          "86 St (Q)",
          "Zerega Av (6)",
          "Canal St (1)",
          "155 St (B,D)",
          "Beach 36 St (A)",
          "40 St-Lowery St (7)",
          "Avenue M (Q)",
          "Bowery (J,Z)",
          "Morris Park (5)",
          "116 St (6)",
          "23 St (F,M)",
          "116 St (2,3)",
          "Graham Av (L)",
          "Grant Av (A)",
          "Morgan Av (L)",
          "Wilson Av (L)",
          "Sutter Av (L)",
          "Fulton St (A,C,J,Z,2,3,4,5)",
          "Roosevelt Island (F)",
          "Franklin Av (C,S)",
          "Fort Hamilton Pkwy (N)",
          "5 Av/53 St (E,M)",
          "149 St-Grand Concourse (2,4,5)",
          "Euclid Av (A,C)",
          "182-183 Sts (B,D)",
          "Franklin St (1)",
          "Jay St-MetroTech (A,C,F,R)",
          "4 Av (F,G)/9 St (R)",
          "Lexington Av (N,R,W)/59 St (4,5,6)",
          "Steinway St (M,R)",
          "Cathedral Pkwy (110 St) (C,B)",
          "Delancey St (F)/Essex St (J,M,Z)",
          "21 St-Queensbridge (F)",
          "DeKalb Av (L)",
          "Jefferson St (L)",
          "Sheepshead Bay (B,Q)",
          "125 St (A,C,B,D)",
          "Brooklyn Bridge-City Hall (4,5,6)/Chambers St (J,Z)",
          "Rockaway Blvd (A)",
          "Canal St (J,N,Q,R,W,Z,6)",
          "8 St-NYU (R,W)",
          "Chambers St (1,2,3)",
          "Christopher St-Sheridan Sq (1)",
          "Union St (R)",
          "145 St (A,C,B,D)",
          "Brighton Beach (B,Q)",
          "Montrose Av (L)",
          "7 Av (E,B,D)",
          "Queens Plaza (E,M,R)",
          "Utica Av (A,C)",
          "Bushwick Av-Aberdeen St (L)",
          "Court Sq (E,G,M,7)",
          "14 St-Union Sq (L,N,Q,R,W,4,5,6)",
          "Canal St (J,N,Q,R,W,Z,6)",
          "Atlantic Av (L)",
          "Bedford Park Blvd (B,D)",
          "Chambers St (A,C)/WTC (E)/Park Pl (2,3)/Cortlandt (R,W)",
          "South Ferry (1)/Whitehall St (R,W)",
          "Far Rockaway-Mott Av (A)",
          "Rector St (R,W)",
          "Jamaica Center-Parsons/Archer (E,J,Z)",
          "Van Siclen Av (C)",
          "14 St (F,M,1,2,3)/6 Av (L)",
          "Ocean Pkwy (Q)",
          "Kingsbridge Rd (B,D)",
          "Lorimer St (L)/Metropolitan Av (G)",
          "Elmhurst Av (M,R)",
          "72 St (C,B)",
          "Canal St (J,N,Q,R,W,Z,6)",
          "Bryant Pk (B,D,F,M)/5 Av (7)",
          "39 Av-Dutch Kills (N,W)",
          "Times Sq-42 St (N,Q,R,W,S,1,2,3,7)/42 St (A,C,E)",
          "Liberty Av (C)",
          "Lexington Av-53 St (E,M)/51 St (6)",
          "Norwood-205 St (D)",
          "Franklin Av (2,3,4,5)/Botanic Garden (S)",
          "Fort Hamilton Pkwy (D)",
          "Bay Pkwy (N)",
          "Coney Island-Stillwell Av (D,F,N,Q)",
          "Northern Blvd (M,R)",
          "96 St (C,B)",
          "W 8 St-NY Aquarium (F,Q)",
          "Shepherd Av (C)",
          "168 St (A,C,1)",
          "Myrtle-Wyckoff Avs (L,M)",
          "Kingston-Throop Avs (C)",
          "81 St-Museum of Natural History (C,B)",
          "4 Av (F,G)/9 St (R)",
          "155 St (C)",
          "Grand Central-42 St (S,4,5,6,7)",
          "Jay St-MetroTech (A,C,F,R)",
          "Times Sq-42 St (N,Q,R,W,S,1,2,3,7)/42 St (A,C,E)",
          "Rockaway Av (C)",
          "Bryant Pk (B,D,F,M)/5 Av (7)",
          "34 St-Herald Sq (B,D,F,M,N,Q,R,W)",
          "Sutphin Blvd-Archer Av-JFK Airport (E,J,Z)",
          "103 St (C,B)",
          "Fulton St (A,C,J,Z,2,3,4,5)",
          "Bedford Av (L)",
          "Fulton St (A,C,J,Z,2,3,4,5)",
          "Lexington Av (N,R,W)/59 St (4,5,6)",
          "161 St-Yankee Stadium (B,D,4)",
          "Jamaica-Van Wyck (E)",
          "Court Sq (E,G,M,7)",
          "14 St (F,M,1,2,3)/6 Av (L)",
          "Times Sq-42 St (N,Q,R,W,S,1,2,3,7)/42 St (A,C,E)",
          "Kings Hwy (B,Q)",
          "Canal St (J,N,Q,R,W,Z,6)",
          "South Ferry (1)/Whitehall St (R,W)",
          "Fulton St (A,C,J,Z,2,3,4,5)",
          "Brooklyn Bridge-City Hall (4,5,6)/Chambers St (J,Z)",
          "161 St-Yankee Stadium (B,D,4)",
          "Lorimer St (L)/Metropolitan Av (G)",
          "Court Sq (E,G,M,7)",
          "Fulton St (A,C,J,Z,2,3,4,5)",
          "Fulton St (A,C,J,Z,2,3,4,5)",
          "Times Sq-42 St (N,Q,R,W,S,1,2,3,7)/42 St (A,C,E)",
          "Fulton St (A,C,J,Z,2,3,4,5)",
          "Delancey St (F)/Essex St (J,M,Z)",
          "Lexington Av-53 St (E,M)/51 St (6)",
          "Court Sq (E,G,M,7)",
          "14 St-Union Sq (L,N,Q,R,W,4,5,6)",
          "Canal St (J,N,Q,R,W,Z,6)",
          "161 St-Yankee Stadium (B,D,4)",
          "14 St-Union Sq (L,N,Q,R,W,4,5,6)",
          "Bryant Pk (B,D,F,M)/5 Av (7)",
          "Chambers St (A,C)/WTC (E)/Park Pl (2,3)/Cortlandt (R,W)",
          "Fulton St (A,C,J,Z,2,3,4,5)",
          "168 St (A,C,1)",
          "Times Sq-42 St (N,Q,R,W,S,1,2,3,7)/42 St (A,C,E)",
          "14 St (F,M,1,2,3)/6 Av (L)",
          "Delancey St (F)/Essex St (J,M,Z)",
          "Chambers St (A,C)/WTC (E)/Park Pl (2,3)/Cortlandt (R,W)",
          "34 St-Herald Sq (B,D,F,M,N,Q,R,W)",
          "Court Sq (E,G,M,7)",
          "Canal St (J,N,Q,R,W,Z,6)",
          "Cypress Av (6)",
          "Chambers St (A,C)/WTC (E)/Park Pl (2,3)/Cortlandt (R,W)",
          "Jay St-MetroTech (A,C,F,R)",
          "Court Sq (E,G,M,7)",
          "Seneca Av (M)",
          "103 St (6)",
          "Nassau Av (G)",
          "Parsons Blvd (F)",
          "East Broadway (F)",
          "66 St-Lincoln Center (1)",
          "Clark St (2,3)",
          "Nostrand Av (3)",
          "Astoria-Ditmars Blvd (N,W)",
          "Woodhaven Blvd (M,R)",
          "Wakefield-241 St (2)",
          "86 St (1)",
          "34 St-Penn Station (1,2,3)",
          "DeKalb Av (B,Q,R)",
          "Nevins St (2,3,4,5)",
          "Burnside Av (4)",
          "125 St (4,5,6)",
          "Broadway (G)",
          "Bedford-Nostrand Avs (G)",
          "Nereid Av (2,5)",
          "Lexington Av/63 St (F,Q)",
          "Smith-9 Sts (F,G)",
          "E 180 St (2,5)",
          "Marcy Av (M,J,Z)",
          "Bergen St (2,3)",
          "Van Cortlandt Park-242 St (1)",
          "Carroll St (F,G)",
          "Prospect Park (B,Q,S)",
          "Kingston Av (3)",
          "63 Dr-Rego Park (M,R)",
          "47-50 Sts-Rockefeller Ctr (B,D,F,M)",
          "72 St (1,2,3)",
          "103 St (1)",
          "Bergen St (F,G)",
          "Fulton St (G)",
          "Forest Hills-71 Av (E,F,M,R)",
          "Clinton-Washington Avs (G)",
          "Central Av (M)",
          "Kingsbridge Rd (4)",
          "Forest Av (M)",
          "Bedford Park Blvd-Lehman College (4)",
          "Grand St (B,D)",
          "Saratoga Av (3)",
          "Eastern Pkwy-Brooklyn Museum (2,3)",
          "110 St (6)",
          "Pelham Pkwy (2,5)",
          "Kew Gardens-Union Tpke (E,F)",
          "Gun Hill Rd (2,5)",
          "Livonia Av (L)",
          "Flushing Av (G)",
          "Knickerbocker Av (M)",
          "Cathedral Pkwy (110 St) (1)",
          "Grand Army Plaza (2,3)",
          "116 St-Columbia University (1)",
          "Hewes St (M,J)",
          "Sutphin Blvd (F)",
          "Broad St (J,Z)",
          "Myrtle-Willoughby Avs (G)",
          "Rector St (1)",
          "Bay Ridge-95 St (R)",
          "Fordham Rd (4)",
          "WTC Cortlandt (1)",
          "Allerton Av (2,5)",
          "86 St (4,5,6)",
          "Fresh Pond Rd (M)",
          "Grand Av-Newtown (M,R)",
          "7 Av (F,G)",
          "Sutter Av-Rutland Rd (3)",
          "Greenpoint Av (G)",
          "Bowling Green (4,5)",
          "Crown Hts-Utica Av (3,4)",
          "96 St (1,2,3)",
          "Middle Village-Metropolitan Av (M)",
          "Bronx Park East (2,5)",
          "138 St-Grand Concourse (4,5)",
          "Rockaway Av (3)",
          "Junius St (3)",
          "New Lots Av (L)",
          "E 143 St-St Mary's St (6)",
          "Marble Hill-225 St (1)",
          "West Farms Sq-E Tremont Av (2,5)",
          "59 St (N,R)",
          "Avenue I (F)",
          "Longwood Av (6)",
          "190 St (A)",
          "Broadway (N,W)",
          "Crescent St (J,Z)",
          "34 St-Penn Station (A,C,E)",
          "23 St (R,W)",
          "Cypress Hills (J)",
          "President St-Medgar Evers College (2,5)",
          "191 St (1)",
          "Inwood-207 St (A)",
          "New Utrecht Av (N)/62 St (D)",
          "Avenue P (F)",
          "Bay Pkwy (F)",
          "Morrison Av-Soundview (6)",
          "City Hall (R,W)",
          "Winthrop St (2,5)",
          "15 St-Prospect Park (F,G)",
          "Spring St (6)",
          "5 Av/59 St (N,R,W)",
          "Dyckman St (1)",
          "Beach 60 St (A)",
          "Prince St (R,W)",
          "85 St-Forest Pkwy (J)",
          "181 St (A)",
          "163 St-Amsterdam Av (C)",
          "Dyckman St (A)",
          "Canal St (A,C,E)",
          "Neptune Av (F)",
          "Pennsylvania Av (3)",
          "Spring St (C,E)",
          "Hunts Point Av (6)",
          "Nostrand Av (A,C)",
          "New Utrecht Av (N)/62 St (D)",
          "Pelham Bay Park (6)",
          "175 St (A)",
          "Van Siclen Av (3)",
          "137 St-City College (1)",
          "W 4 St-Wash Sq (A,C,E,B,D,F,M)",
          "68 St-Hunter College (6)",
          "Church Av (F,G)",
          "Ditmas Av (F)",
          "Prospect Av (R)",
          "Westchester Sq-E Tremont Av (6)",
          "207 St (1)",
          "Rockaway Park-Beach 116 St (A,S)",
          "Middletown Rd (6)",
          "Beverly Rd (2,5)",
          "14 St (A,C,E)/8 Av (L)",
          "59 St-Columbus Circle (A,B,C,D,1)",
          "Avenue X (F)",
          "Aqueduct-N Conduit Av (A)",
          "Beach 90 St (A,S)",
          "St Lawrence Av (6)",
          "New Lots Av (3)",
          "Beach 44 St (A)",
          "157 St (1)",
          "Wall St (4,5)",
          "Woodhaven Blvd (J,Z)",
          "Howard Beach-JFK Airport (A)",
          "Sterling St (2,5)",
          "Norwood Av (J,Z)",
          "Jamaica-179 St (F)",
          "Whitlock Av (6)",
          "Court St (R)/Borough Hall (2,3,4,5)",
          "Church Av (2,5)",
          "Canarsie-Rockaway Pkwy (L)",
          "Aqueduct Racetrack (A)",
          "Kings Hwy (N)",
          "75 St-Elderts Ln (J,Z)",
          "Beach 67 St (A)",
          "Hoyt-Schermerhorn Sts (A,C,G)",
          "Castle Hill Av (6)",
          "Ozone Park-Lefferts Blvd (A)",
          "Atlantic Av-Barclays Ctr (B,D,N,Q,R,2,3,4,5)",
          "Beach 98 St (A,S)",
          "Fort Hamilton Pkwy (F,G)",
          "Beach 105 St (A,S)",
          "Atlantic Av-Barclays Ctr (B,D,N,Q,R,2,3,4,5)",
          "57 St-7 Av (N,Q,R,W)",
          "Clinton-Washington Avs (C)",
          "Broadway Junction (A,C,J,L,Z)",
          "Cleveland St (J)",
          "215 St (1)",
          "Lafayette Av (C)",
          "East 105 St (L)",
          "74-Broadway (7)/Jackson Hts-Roosevelt Av (E,F,M,R)",
          "Astoria Blvd (N,W)",
          "Broadway-Lafayette St (B,D,F,M)/Bleecker St (6)",
          "Broadway-Lafayette St (B,D,F,M)/Bleecker St (6)",
          "Broad Channel (A,S)",
          "74-Broadway (7)/Jackson Hts-Roosevelt Av (E,F,M,R)",
          "59 St-Columbus Circle (A,B,C,D,1)",
          "Court St (R)/Borough Hall (2,3,4,5)",
          "14 St (A,C,E)/8 Av (L)",
          "74-Broadway (7)/Jackson Hts-Roosevelt Av (E,F,M,R)",
          "Atlantic Av-Barclays Ctr (B,D,N,Q,R,2,3,4,5)",
          "New Utrecht Av (N)/62 St (D)",
          "Jackson Av (2,5)",
          "Junction Blvd (7)",
          "Avenue J (Q)",
          "Avenue H (Q)",
          "3 Av-149 St (2,5)",
          "Lorimer St (M,J)",
          "90 St-Elmhurst Av (7)",
          "61 St-Woodside (7)",
          "Newkirk Plaza (B,Q)",
          "Halsey St (J)",
          "Church Av (B,Q)",
          "82 St-Jackson Hts (7)",
          "Parkside Av (Q)",
          "Intervale Av (2,5)",
          "Freeman St (2,5)",
          "Vernon Blvd-Jackson Av (7)",
          "Tompkinsville (SIR)",
          "Gun Hill Rd (5)",
          "RI Tramway (Manhattan)",
          "Flushing-Main St (7)",
          "St George (SIR)",
          "Van Siclen Av (J,Z)",
          "Mets-Willets Point (7)",
          "Prospect Av (2,5)",
          "Queensboro Plaza (7,N,W)",
          "Bay Ridge Av (R)",
          "Myrtle Av (M,J,Z)",
          "Hunters Point Av (7)",
          "46 St-Bliss St (7)",
          "Flatbush Av-Brooklyn College (2,5)",
          "Beverley Rd (Q)",
          "Newkirk Av-Little Haiti (2,5)",
          "33 St-Rawson St (7)",
          "Kosciuszko St (J)",
          "Harlem-148 St (3)",
          "Chauncey St (J,Z)",
          "Central Park North (110 St) (2,3)",
          "103 St-Corona Plaza (7)",
          "Cortelyou Rd (Q)",
          "34 St-Hudson Yards (7)",
          "Baychester Av (5)",
          "Eastchester-Dyre Av (5)",
          "RI Tramway (Roosevelt)",
          "Franklin Av (2,3,4,5)/Botanic Garden (S)",
          "14 St (F,M,1,2,3)/6 Av (L)",
          "Lexington Av-53 St (E,M)/51 St (6)",
          "183 St (4)",
          "21 St (G)",
          "125 St (4,5,6)",
          "Kings Hwy (B,Q)",
          "4 Av (F,G)/9 St (R)",
          "Times Sq-42 St (N,Q,R,W,S,1,2,3,7)/42 St (A,C,E)",
          "Nereid Av (2,5)",
          "Sutter Av-Rutland Rd (3)",
          "Nostrand Av (3)",
          "Prospect Park (B,Q,S)",
          "18 Av (N)",
          "2 Av (F)",
          "7 Av (F,G)",
          "23 St (F,M)",
          "225 St (2,5)",
          "Wakefield-241 St (2)",
          "W 8 St-NY Aquarium (F,Q)",
          "Greenpoint Av (G)",
          "Burnside Av (4)",
          "Bay Pkwy (N)",
          "Clinton-Washington Avs (G)",
          "Bay Pkwy (D)",
          "34 St-Herald Sq (B,D,F,M,N,Q,R,W)",
          "57 St (F)",
          "Van Cortlandt Park-242 St (1)",
          "East Broadway (F)",
          "Bowling Green (4,5)",
          "Jamaica-Van Wyck (E)",
          "Kingsbridge Rd (4)",
          "176 St (4)",
          "Saratoga Av (3)",
          "170 St (4)",
          "Nevins St (2,3,4,5)",
          "Pelham Pkwy (2,5)",
          "Fulton St (A,C,J,Z,2,3,4,5)",
          "238 St (1)",
          "Lexington Av/63 St (F,Q)",
          "39 Av-Dutch Kills (N,W)",
          "Fort Hamilton Pkwy (D)",
          "Kingston Av (3)",
          "50 St (D)",
          "161 St-Yankee Stadium (B,D,4)",
          "Fort Hamilton Pkwy (N)",
          "Bergen St (2,3)",
          "Bronx Park East (2,5)",
          "York St (F)",
          "Brook Av (6)",
          "20 Av (N)",
          "231 St (1)",
          "14 St-Union Sq (L,N,Q,R,W,4,5,6)",
          "Eastern Pkwy-Brooklyn Museum (2,3)",
          "Burke Av (2,5)",
          "Avenue U (Q)",
          "Crown Hts-Utica Av (3,4)",
          "Flushing Av (G)",
          "Classon Av (G)",
          "Grand St (B,D)",
          "18 Av (D)",
          "Nassau Av (G)",
          "47-50 Sts-Rockefeller Ctr (B,D,F,M)",
          "South Ferry (1)/Whitehall St (R,W)",
          "9 Av (D)",
          "149 St-Grand Concourse (2,4,5)",
          "Fordham Rd (4)",
          "233 St (2,5)",
          "Brooklyn Bridge-City Hall (4,5,6)/Chambers St (J,Z)",
          "Neck Rd (Q)",
          "Delancey St (F)/Essex St (J,M,Z)",
          "Roosevelt Island (F)",
          "Woodlawn (4)",
          "Court Sq (E,G,M,7)",
          "Smith-9 Sts (F,G)",
          "219 St (2,5)",
          "79 St (D)",
          "Carroll St (F,G)",
          "Lexington Av (N,R,W)/59 St (4,5,6)",
          "Brighton Beach (B,Q)",
          "25 Av (D)",
          "Myrtle-Willoughby Avs (G)",
          "Sheepshead Bay (B,Q)",
          "Myrtle-Wyckoff Avs (L,M)",
          "Allerton Av (2,5)",
          "Broadway (G)",
          "Canal St (J,N,Q,R,W,Z,6)",
          "Mt Eden Av (4)",
          "Bay 50 St (D)",
          "3 Av-138 St (6)",
          "Bryant Pk (B,D,F,M)/5 Av (7)",
          "Chambers St (A,C)/WTC (E)/Park Pl (2,3)/Cortlandt (R,W)",
          "Cypress Av (6)",
          "116 St (6)",
          "Grand Army Plaza (2,3)",
          "Bergen St (F,G)",
          "Court Sq (E,G,M,7)",
          "Franklin Av (2,3,4,5)/Botanic Garden (S)",
          "Franklin Av (C,S)",
          "Lorimer St (L)/Metropolitan Av (G)",
          "E 180 St (2,5)",
          "168 St (A,C,1)",
          "14 St (F,M,1,2,3)/6 Av (L)",
          "138 St-Grand Concourse (4,5)",
          "71 St (D)",
          "Bedford-Nostrand Avs (G)",
          "Rockaway Av (3)",
          "Fulton St (G)",
          "Grand Central-42 St (S,4,5,6,7)",
          "Jay St-MetroTech (A,C,F,R)",
          "Times Sq-42 St (N,Q,R,W,S,1,2,3,7)/42 St (A,C,E)",
          "Coney Island-Stillwell Av (D,F,N,Q)",
          "Junius St (3)",
          "Ocean Pkwy (Q)",
          "167 St (4)",
          "Bedford Park Blvd-Lehman College (4)",
          "Mosholu Pkwy (4)",
          "Gun Hill Rd (2,5)",
          "20 Av (D)",
          "Jay St-MetroTech (A,C,F,R)",
          "53 St (R)",
          "161 St-Yankee Stadium (B,D,4)",
          "Court Sq (E,G,M,7)",
          "Bay Ridge-95 St (R)",
          "Fulton St (A,C,J,Z,2,3,4,5)",
          "Marble Hill-225 St (1)",
          "Canal St (J,N,Q,R,W,Z,6)",
          "Court Sq (E,G,M,7)",
          "8 Av (N)",
          "Hoyt St (2,3)",
          "Brooklyn Bridge-City Hall (4,5,6)/Chambers St (J,Z)",
          "86 St (R)",
          "14 St (F,M,1,2,3)/6 Av (L)",
          "Clark St (2,3)",
          "West Farms Sq-E Tremont Av (2,5)",
          "Bryant Pk (B,D,F,M)/5 Av (7)",
          "14 St-Union Sq (L,N,Q,R,W,4,5,6)",
          "Canal St (J,N,Q,R,W,Z,6)",
          "Chambers St (A,C)/WTC (E)/Park Pl (2,3)/Cortlandt (R,W)",
          "Fulton St (A,C,J,Z,2,3,4,5)",
          "14 St-Union Sq (L,N,Q,R,W,4,5,6)",
          "Fulton St (A,C,J,Z,2,3,4,5)",
          "Times Sq-42 St (N,Q,R,W,S,1,2,3,7)/42 St (A,C,E)",
          "Canal St (J,N,Q,R,W,Z,6)",
          "Lorimer St (L)/Metropolitan Av (G)",
          "Fulton St (A,C,J,Z,2,3,4,5)",
          "Times Sq-42 St (N,Q,R,W,S,1,2,3,7)/42 St (A,C,E)",
          "E 143 St-St Mary's St (6)",
          "Court Sq (E,G,M,7)",
          "South Ferry (1)/Whitehall St (R,W)",
          "23 St (1)",
          "65 St (M,R)",
          "Fulton St (A,C,J,Z,2,3,4,5)",
          "Fulton St (A,C,J,Z,2,3,4,5)",
          "Delancey St (F)/Essex St (J,M,Z)",
          "23 St (6)",
          "161 St-Yankee Stadium (B,D,4)",
          "45 St (R)",
          "4 Av (F,G)/9 St (R)",
          "Delancey St (F)/Essex St (J,M,Z)",
          "Parkchester (6)",
          "86 St (1)",
          "Lexington Av (N,R,W)/59 St (4,5,6)",
          "168 St (A,C,1)",
          "Spring St (6)",
          "Jay St-MetroTech (A,C,F,R)",
          "14 St (F,M,1,2,3)/6 Av (L)",
          "14 St (F,M,1,2,3)/6 Av (L)",
          "169 St (F)",
          "Fulton St (A,C,J,Z,2,3,4,5)",
          "Longwood Av (6)",
          "Whitlock Av (6)",
          "Bryant Pk (B,D,F,M)/5 Av (7)",
          "46 St (M,R)",
          "77 St (R)",
          "34 St-Herald Sq (B,D,F,M,N,Q,R,W)",
          "Lexington Av-53 St (E,M)/51 St (6)",
          "77 St (6)",
          "Elder Av (6)",
          "103 St (1)",
          "18 St (1)",
          "Court Sq (E,G,M,7)",
          "79 St (1)",
          "36 St (D,N,R)",
          "7 Av (B,Q)",
          "Chambers St (A,C)/WTC (E)/Park Pl (2,3)/Cortlandt (R,W)",
          "7 Av (E,B,D)",
          "Beach 60 St (A)",
          "Middletown Rd (6)",
          "67 Av (M,R)",
          "72 St (1,2,3)",
          "86 St (4,5,6)",
          "Pelham Bay Park (6)",
          "New Utrecht Av (N)/62 St (D)",
          "Norwood Av (J,Z)",
          "Avenue U (N)",
          "59 St-Columbus Circle (A,B,C,D,1)",
          "Parsons Blvd (F)",
          "110 St (6)",
          "Hoyt-Schermerhorn Sts (A,C,G)",
          "Hunts Point Av (6)",
          "New Lots Av (L)",
          "23 St (R,W)",
          "116 St-Columbia University (1)",
          "Canarsie-Rockaway Pkwy (L)",
          "85 St-Forest Pkwy (J)",
          "57 St-7 Av (N,Q,R,W)",
          "St Lawrence Av (6)",
          "23 St (C,E)",
          "Ozone Park-Lefferts Blvd (A)",
          "Beach 105 St (A,S)",
          "Court St (R)/Borough Hall (2,3,4,5)",
          "96 St (1,2,3)",
          "Astoria-Ditmars Blvd (N,W)",
          "Beach 36 St (A)",
          "Briarwood (E,F)",
          "DeKalb Av (B,Q,R)",
          "East 105 St (L)",
          "Sutphin Blvd (F)",
          "W 4 St-Wash Sq (A,C,E,B,D,F,M)",
          "Elmhurst Av (M,R)",
          "Atlantic Av-Barclays Ctr (B,D,N,Q,R,2,3,4,5)",
          "75 St-Elderts Ln (J,Z)",
          "34 St-Penn Station (1,2,3)",
          "Grand Av-Newtown (M,R)",
          "Rockaway Park-Beach 116 St (A,S)",
          "Park Pl (S)",
          "Broad St (J,Z)",
          "Fresh Pond Rd (M)",
          "Kew Gardens-Union Tpke (E,F)",
          "Cypress Hills (J)",
          "111 St (J)",
          "Woodhaven Blvd (M,R)",
          "50 St (1)",
          "Morrison Av-Soundview (6)",
          "28 St (1)",
          "86 St (N)",
          "Kings Hwy (N)",
          "Knickerbocker Av (M)",
          "55 St (D)",
          "Broadway Junction (A,C,J,L,Z)",
          "Seneca Av (M)",
          "Middle Village-Metropolitan Av (M)",
          "75 Av (E,F)",
          "Nostrand Av (A,C)",
          "Prince St (R,W)",
          "Court St (R)/Borough Hall (2,3,4,5)",
          "Buhre Av (6)",
          "74-Broadway (7)/Jackson Hts-Roosevelt Av (E,F,M,R)",
          "175 St (A)",
          "Castle Hill Av (6)",
          "Cathedral Pkwy (110 St) (1)",
          "Dyckman St (A)",
          "Crescent St (J,Z)",
          "121 St (J,Z)",
          "Sutter Av (L)",
          "Canal St (A,C,E)",
          "163 St-Amsterdam Av (C)",
          "Cleveland St (J)",
          "Westchester Sq-E Tremont Av (6)",
          "14 St (A,C,E)/8 Av (L)",
          "Inwood-207 St (A)",
          "Beach 67 St (A)",
          "Aqueduct-N Conduit Av (A)",
          "96 St (6)",
          "Spring St (C,E)",
          "City Hall (R,W)",
          "3 Av (L)",
          "Beach 90 St (A,S)",
          "181 St (A)",
          "Astoria Blvd (N,W)",
          "63 Dr-Rego Park (M,R)",
          "25 St (R)",
          "49 St (N,R,W)",
          "Beach 25 St (A)",
          "Broadway-Lafayette St (B,D,F,M)/Bleecker St (6)",
          "Hewes St (M,J)",
          "34 St-Penn Station (A,C,E)",
          "High St (A,C)",
          "Forest Hills-71 Av (E,F,M,R)",
          "Livonia Av (L)",
          "190 St (A)",
          "Clinton-Washington Avs (C)",
          "Zerega Av (6)",
          "Forest Av (M)",
          "Bowery (J,Z)",
          "Aqueduct Racetrack (A)",
          "Marcy Av (M,J,Z)",
          "5 Av/59 St (N,R,W)",
          "Woodhaven Blvd (J,Z)",
          "103 St (6)",
          "Central Av (M)",
          "Howard Beach-JFK Airport (A)",
          "Kingston-Throop Avs (C)",
          "50 St (C,E)",
          "104 St (J,Z)",
          "155 St (C)",
          "66 St-Lincoln Center (1)",
          "Broad Channel (A,S)",
          "Beach 98 St (A,S)",
          "1 Av (L)",
          "111 St (A)",
          "Lafayette Av (C)",
          "Far Rockaway-Mott Av (A)",
          "Beach 44 St (A)",
          "Astor Pl (6)",
          "Atlantic Av-Barclays Ctr (B,D,N,Q,R,2,3,4,5)",
          "Atlantic Av-Barclays Ctr (B,D,N,Q,R,2,3,4,5)",
          "New Utrecht Av (N)/62 St (D)",
          "74-Broadway (7)/Jackson Hts-Roosevelt Av (E,F,M,R)",
          "New Utrecht Av (N)/62 St (D)",
          "14 St (A,C,E)/8 Av (L)",
          "125 St (1)",
          "Broadway-Lafayette St (B,D,F,M)/Bleecker St (6)",
          "59 St-Columbus Circle (A,B,C,D,1)",
          "181 St (1)",
          "174-175 Sts (B,D)",
          "Wilson Av (L)",
          "80 St (A)",
          "88 St (A)",
          "145 St (1)",
          "Rector St (1)",
          "28 St (6)",
          "WTC Cortlandt (1)",
          "Northern Blvd (M,R)",
          "Franklin St (1)",
          "Wall St (4,5)",
          "E 149 St (6)",
          "33 St (6)",
          "Houston St (1)",
          "Broadway (N,W)",
          "68 St-Hunter College (6)",
          "Queens Plaza (E,M,R)",
          "Christopher St-Sheridan Sq (1)",
          "Jamaica Center-Parsons/Archer (E,J,Z)",
          "Chambers St (1,2,3)",
          "Steinway St (M,R)",
          "Wall St (2,3)",
          "36 St (M,R)",
          "Union St (R)",
          "Sutphin Blvd-Archer Av-JFK Airport (E,J,Z)",
          "5 Av/53 St (E,M)",
          "Canal St (1)",
          "Bedford Av (L)",
          "Graham Av (L)",
          "Grand St (L)",
          "Montrose Av (L)",
          "Court St (R)/Borough Hall (2,3,4,5)",
          "Times Sq-42 St (N,Q,R,W,S,1,2,3,7)/42 St (A,C,E)",
          "Grant Av (A)",
          "Halsey St (L)",
          "96 St (C,B)",
          "Ralph Av (C)",
          "135 St (C,B)",
          "Shepherd Av (C)",
          "Norwood-205 St (D)",
          "Kingsbridge Rd (B,D)",
          "21 St-Queensbridge (F)",
          "Rockaway Blvd (A)",
          "Van Siclen Av (C)",
          "Rector St (R,W)",
          "Liberty Av (C)",
          "Morgan Av (L)",
          "104 St (A)",
          "8 St-NYU (R,W)",
          "155 St (B,D)",
          "125 St (A,C,B,D)",
          "28 St (R,W)",
          "Utica Av (A,C)",
          "DeKalb Av (L)",
          "Bushwick Av-Aberdeen St (L)",
          "Rockaway Av (C)",
          "182-183 Sts (B,D)",
          "86 St (C,B)",
          "145 St (A,C,B,D)",
          "Fordham Rd (B,D)",
          "Jefferson St (L)",
          "Cathedral Pkwy (110 St) (C,B)",
          "72 St (C,B)",
          "103 St (C,B)",
          "170 St (B,D)",
          "Tremont Av (B,D)",
          "116 St (C,B)",
          "167 St (B,D)",
          "Atlantic Av (L)",
          "81 St-Museum of Natural History (C,B)",
          "Bedford Park Blvd (B,D)",
          "Euclid Av (A,C)",
          "Times Sq-42 St (N,Q,R,W,S,1,2,3,7)/42 St (A,C,E)",
          "74-Broadway (7)/Jackson Hts-Roosevelt Av (E,F,M,R)",
          "Avenue U (F)",
          "Avenue P (F)",
          "Fort Hamilton Pkwy (F,G)",
          "30 Av (N,W)",
          "Bay Pkwy (F)",
          "Church Av (F,G)",
          "Ditmas Av (F)",
          "137 St-City College (1)",
          "Prospect Av (R)",
          "Dyckman St (1)",
          "18 Av (F)",
          "Jamaica-179 St (F)",
          "157 St (1)",
          "Avenue X (F)",
          "191 St (1)",
          "15 St-Prospect Park (F,G)",
          "Avenue N (F)",
          "207 St (1)",
          "Neptune Av (F)",
          "215 St (1)",
          "Kings Hwy (F)",
          "Avenue I (F)",
          "36 Av (N,W)",
          "69 St (7)",
          "145 St (3)",
          "72 St (Q)",
          "Beverley Rd (Q)",
          "86 St (Q)",
          "34 St-Hudson Yards (7)",
          "New Lots Av (3)",
          "Winthrop St (2,5)",
          "Parkside Av (Q)",
          "Sterling St (2,5)",
          "Gun Hill Rd (5)",
          "61 St-Woodside (7)",
          "Queensboro Plaza (7,N,W)",
          "Jackson Av (2,5)",
          "President St-Medgar Evers College (2,5)",
          "Freeman St (2,5)",
          "Avenue J (Q)",
          "Pelham Pkwy (5)",
          "Church Av (B,Q)",
          "Beverly Rd (2,5)",
          "Newkirk Plaza (B,Q)",
          "96 St (Q)",
          "125 St (2,3)",
          "Central Park North (110 St) (2,3)",
          "Vernon Blvd-Jackson Av (7)",
          "Intervale Av (2,5)",
          "90 St-Elmhurst Av (7)",
          "Mets-Willets Point (7)",
          "Avenue H (Q)",
          "116 St (2,3)",
          "111 St (7)",
          "Newkirk Av-Little Haiti (2,5)",
          "3 Av-149 St (2,5)",
          "Van Siclen Av (3)",
          "Flushing-Main St (7)",
          "174 St (2,5)",
          "Avenue M (Q)",
          "Church Av (2,5)",
          "Hunters Point Av (7)",
          "Harlem-148 St (3)",
          "52 St (7)",
          "Pennsylvania Av (3)",
          "Morris Park (5)",
          "Cortelyou Rd (Q)",
          "59 St (N,R)",
          "33 St-Rawson St (7)",
          "Bay Ridge Av (R)",
          "40 St-Lowery St (7)",
          "Prospect Av (2,5)",
          "Baychester Av (5)",
          "Tompkinsville (SIR)",
          "Eastchester-Dyre Av (5)",
          "Flatbush Av-Brooklyn College (2,5)",
          "Junction Blvd (7)",
          "Simpson St (2,5)",
          "135 St (2,3)",
          "46 St-Bliss St (7)",
          "82 St-Jackson Hts (7)",
          "St George (SIR)",
          "103 St-Corona Plaza (7)",
          "Canal St (J,N,Q,R,W,Z,6)",
          "Chambers St (A,C)/WTC (E)/Park Pl (2,3)/Cortlandt (R,W)",
          "Canal St (J,N,Q,R,W,Z,6)",
          "Halsey St (J)",
          "Alabama Av (J)",
          "Gates Av (J,Z)",
          "Times Sq-42 St (N,Q,R,W,S,1,2,3,7)/42 St (A,C,E)",
          "Court St (R)/Borough Hall (2,3,4,5)",
          "Court St (R)/Borough Hall (2,3,4,5)",
          "Court St (R)/Borough Hall (2,3,4,5)",
          "Chauncey St (J,Z)",
          "Lorimer St (M,J)",
          "Flushing Av (M,J)",
          "Myrtle Av (M,J,Z)",
          "Van Siclen Av (J,Z)",
          "Kosciuszko St (J)",
          "Court St (R)/Borough Hall (2,3,4,5)",
          "Court St (R)/Borough Hall (2,3,4,5)",
          "Franklin Av (2,3,4,5)/Botanic Garden (S)"
         ],
         "lat": [
          40.646294,
          40.74307,
          40.75204,
          40.883896,
          40.83377,
          40.68171,
          40.745907,
          40.77362,
          40.63626,
          40.61741,
          40.70682,
          40.784317,
          40.62067,
          40.604557,
          40.828583,
          40.739864,
          40.67705,
          40.68433,
          40.858406,
          40.85041,
          40.76678,
          40.75173,
          40.756313,
          40.631435,
          40.839306,
          40.835537,
          40.81212,
          40.744064,
          40.884666,
          40.814228,
          40.746326,
          40.711926,
          40.73285,
          40.730953,
          40.648937,
          40.78567,
          40.597706,
          40.815582,
          40.730053,
          40.700493,
          40.837288,
          40.690544,
          40.763973,
          40.71047,
          40.726524,
          40.69518,
          40.745495,
          40.62269,
          40.756805,
          40.595245,
          40.878857,
          40.71833,
          40.84681,
          40.7234,
          40.824074,
          40.886036,
          40.655144,
          40.679844,
          40.861298,
          40.635063,
          40.64507,
          40.844433,
          40.629753,
          40.74967,
          40.74408,
          40.82655,
          40.660397,
          40.7688,
          40.603218,
          40.74415,
          40.69742,
          40.61514,
          40.59606,
          40.82042,
          40.810474,
          40.807568,
          40.783936,
          40.893192,
          40.61959,
          40.74104,
          40.607952,
          40.84848,
          40.817894,
          40.688873,
          40.747215,
          40.833225,
          40.62974,
          40.597473,
          40.888023,
          40.87975,
          40.613503,
          40.78587,
          40.58884,
          40.695602,
          40.5993,
          40.67937,
          40.68963,
          40.70026,
          40.807755,
          40.746082,
          40.699337,
          40.8459,
          40.67699,
          40.840076,
          40.7599,
          40.67477,
          40.600067,
          40.858986,
          40.728252,
          40.59272,
          40.701397,
          40.601875,
          40.67882,
          40.761726,
          40.805084,
          40.70918,
          40.762455,
          40.849506,
          40.871357,
          40.77789,
          40.836487,
          40.722855,
          40.830135,
          40.595398,
          40.743782,
          40.61762,
          40.72028,
          40.854362,
          40.79863,
          40.742878,
          40.802097,
          40.714565,
          40.677044,
          40.706154,
          40.688763,
          40.66937,
          40.710197,
          40.759144,
          40.68138,
          40.631386,
          40.760166,
          40.818375,
          40.675377,
          40.856094,
          40.71932,
          40.692337,
          40.670273,
          40.76266,
          40.756878,
          40.800602,
          40.718613,
          40.754204,
          40.70381,
          40.706608,
          40.586895,
          40.811108,
          40.71324,
          40.680428,
          40.71953,
          40.730328,
          40.715477,
          40.73342,
          40.677315,
          40.824783,
          40.57762,
          40.70774,
          40.762863,
          40.748974,
          40.679363,
          40.68283,
          40.747845,
          40.735737,
          40.718803,
          40.675346,
          40.873245,
          40.71411,
          40.703087,
          40.603996,
          40.70722,
          40.70215,
          40.67271,
          40.738228,
          40.576313,
          40.866978,
          40.71406,
          40.742455,
          40.775593,
          40.71953,
          40.754223,
          40.75288,
          40.75731,
          40.67454,
          40.757553,
          40.87481,
          40.67068,
          40.640915,
          40.611816,
          40.577423,
          40.752884,
          40.79164,
          40.576126,
          40.67413,
          40.840717,
          40.699814,
          40.67992,
          40.781433,
          40.67085,
          40.830517,
          40.751778,
          40.692337,
          40.75731,
          40.67834,
          40.754223,
          40.749718,
          40.700485,
          40.796093,
          40.710373,
          40.717304,
          40.71037,
          40.762527,
          40.827995,
          40.702564,
          40.746555,
          40.737827,
          40.75731,
          40.60867,
          40.718094,
          40.70207,
          40.71037,
          40.713066,
          40.827904,
          40.71279,
          40.747025,
          40.71037,
          40.710197,
          40.75529,
          40.710373,
          40.718315,
          40.757107,
          40.747845,
          40.735737,
          40.71953,
          40.827995,
          40.734673,
          40.753822,
          40.710667,
          40.709415,
          40.840557,
          40.75529,
          40.737827,
          40.718613,
          40.71305,
          40.749565,
          40.747025,
          40.718803,
          40.805367,
          40.71258,
          40.69218,
          40.747845,
          40.702763,
          40.7906,
          40.724636,
          40.707565,
          40.713715,
          40.77344,
          40.697468,
          40.669846,
          40.775036,
          40.733105,
          40.903126,
          40.788643,
          40.750374,
          40.690636,
          40.688248,
          40.853455,
          40.80414,
          40.706093,
          40.68963,
          40.89838,
          40.76463,
          40.67358,
          40.841892,
          40.70836,
          40.68083,
          40.889248,
          40.6803,
          40.661613,
          40.6694,
          40.729847,
          40.758663,
          40.778454,
          40.799446,
          40.686146,
          40.68712,
          40.72169,
          40.688087,
          40.697857,
          40.86776,
          40.704422,
          40.873413,
          40.718266,
          40.661453,
          40.671986,
          40.79502,
          40.857193,
          40.71444,
          40.87785,
          40.66404,
          40.70038,
          40.698666,
          40.803967,
          40.675236,
          40.80772,
          40.70687,
          40.70546,
          40.706474,
          40.69457,
          40.70751,
          40.616623,
          40.862804,
          40.711834,
          40.865463,
          40.77949,
          40.706184,
          40.737015,
          40.66627,
          40.66472,
          40.731354,
          40.70482,
          40.668896,
          40.79392,
          40.711395,
          40.848827,
          40.813225,
          40.662548,
          40.663513,
          40.658733,
          40.80872,
          40.87456,
          40.840294,
          40.64136,
          40.62532,
          40.816105,
          40.85902,
          40.76182,
          40.683193,
          40.75229,
          40.741302,
          40.68994,
          40.667885,
          40.855225,
          40.868073,
          40.626472,
          40.608944,
          40.62077,
          40.82952,
          40.713284,
          40.65665,
          40.660366,
          40.7223,
          40.764812,
          40.86053,
          40.592373,
          40.72433,
          40.692436,
          40.851696,
          40.836014,
          40.86549,
          40.720825,
          40.581013,
          40.664635,
          40.726227,
          40.82095,
          40.68044,
          40.624844,
          40.852463,
          40.84739,
          40.665447,
          40.822006,
          40.732338,
          40.768143,
          40.64404,
          40.63612,
          40.665413,
          40.839893,
          40.86462,
          40.580902,
          40.843864,
          40.6451,
          40.740894,
          40.768295,
          40.58962,
          40.668236,
          40.588036,
          40.83151,
          40.666237,
          40.59294,
          40.83404,
          40.707558,
          40.69388,
          40.660477,
          40.662743,
          40.68141,
          40.712646,
          40.826527,
          40.69322,
          40.650845,
          40.646652,
          40.672096,
          40.603924,
          40.691322,
          40.590927,
          40.688484,
          40.834255,
          40.68595,
          40.68446,
          40.585308,
          40.650784,
          40.58321,
          40.68436,
          40.764664,
          40.68326,
          40.678333,
          40.679947,
          40.869446,
          40.68611,
          40.650574,
          40.746643,
          40.77026,
          40.725914,
          40.725296,
          40.608383,
          40.74685,
          40.768246,
          40.692406,
          40.739777,
          40.74685,
          40.683666,
          40.626472,
          40.81649,
          40.749146,
          40.62504,
          40.62927,
          40.81611,
          40.70387,
          40.74841,
          40.74563,
          40.635082,
          40.68637,
          40.650528,
          40.747658,
          40.655293,
          40.82218,
          40.829994,
          40.742626,
          40.636948,
          40.869526,
          40.761337,
          40.7596,
          40.64375,
          40.678024,
          40.754623,
          40.819584,
          40.750584,
          40.634968,
          40.69721,
          40.742214,
          40.743134,
          40.632835,
          40.64403,
          40.63997,
          40.744587,
          40.69334,
          40.82388,
          40.68289,
          40.799076,
          40.749866,
          40.640926,
          40.755882,
          40.878662,
          40.8883,
          40.75734,
          40.67034,
          40.737335,
          40.757553,
          40.858406,
          40.744064,
          40.80414,
          40.60867,
          40.67085,
          40.75731,
          40.89838,
          40.66472,
          40.669846,
          40.661613,
          40.62067,
          40.7234,
          40.66627,
          40.742878,
          40.888023,
          40.903126,
          40.576126,
          40.731354,
          40.853455,
          40.611816,
          40.688087,
          40.601875,
          40.749718,
          40.763973,
          40.889248,
          40.713715,
          40.70482,
          40.702564,
          40.86776,
          40.84848,
          40.661453,
          40.840076,
          40.688248,
          40.857193,
          40.710373,
          40.884666,
          40.76463,
          40.75288,
          40.640915,
          40.6694,
          40.63626,
          40.827995,
          40.631386,
          40.68083,
          40.848827,
          40.701397,
          40.807568,
          40.61741,
          40.878857,
          40.735737,
          40.671986,
          40.871357,
          40.5993,
          40.668896,
          40.70038,
          40.688873,
          40.718266,
          40.607952,
          40.724636,
          40.758663,
          40.703087,
          40.646294,
          40.818375,
          40.862804,
          40.893192,
          40.71324,
          40.595245,
          40.718613,
          40.759144,
          40.886036,
          40.747845,
          40.67358,
          40.883896,
          40.613503,
          40.6803,
          40.76266,
          40.57762,
          40.597706,
          40.69457,
          40.586895,
          40.699814,
          40.865463,
          40.706093,
          40.71953,
          40.844433,
          40.58884,
          40.810474,
          40.754223,
          40.71411,
          40.805367,
          40.79863,
          40.675236,
          40.686146,
          40.747845,
          40.67068,
          40.68138,
          40.71406,
          40.841892,
          40.840717,
          40.738228,
          40.813225,
          40.61959,
          40.68963,
          40.662548,
          40.68712,
          40.751778,
          40.692337,
          40.75731,
          40.577423,
          40.663513,
          40.576313,
          40.835537,
          40.873413,
          40.87975,
          40.87785,
          40.604557,
          40.692337,
          40.64507,
          40.827995,
          40.747845,
          40.616623,
          40.71037,
          40.87456,
          40.718094,
          40.747025,
          40.635063,
          40.690544,
          40.713066,
          40.62269,
          40.737827,
          40.697468,
          40.840294,
          40.754223,
          40.735737,
          40.71953,
          40.71258,
          40.710197,
          40.734673,
          40.71037,
          40.75731,
          40.71953,
          40.71279,
          40.709415,
          40.75529,
          40.80872,
          40.746555,
          40.70207,
          40.74408,
          40.74967,
          40.710197,
          40.71037,
          40.718613,
          40.739864,
          40.827904,
          40.648937,
          40.670273,
          40.718315,
          40.833225,
          40.788643,
          40.762527,
          40.840557,
          40.7223,
          40.69218,
          40.737335,
          40.737827,
          40.71047,
          40.710373,
          40.816105,
          40.826527,
          40.753822,
          40.756313,
          40.62974,
          40.749565,
          40.757107,
          40.77362,
          40.828583,
          40.799446,
          40.74104,
          40.747025,
          40.783936,
          40.655144,
          40.67705,
          40.710667,
          40.762863,
          40.592373,
          40.843864,
          40.726524,
          40.778454,
          40.77949,
          40.852463,
          40.626472,
          40.68141,
          40.597473,
          40.768295,
          40.707565,
          40.79502,
          40.688484,
          40.82095,
          40.658733,
          40.741302,
          40.80772,
          40.646652,
          40.692436,
          40.764664,
          40.83151,
          40.745907,
          40.68595,
          40.58321,
          40.692406,
          40.79392,
          40.775036,
          40.595398,
          40.70918,
          40.690636,
          40.650574,
          40.70546,
          40.732338,
          40.742455,
          40.68446,
          40.691322,
          40.750374,
          40.737015,
          40.580902,
          40.67477,
          40.706474,
          40.706184,
          40.71444,
          40.68994,
          40.69742,
          40.733105,
          40.761726,
          40.82952,
          40.747215,
          40.59272,
          40.603924,
          40.698666,
          40.631435,
          40.678333,
          40.702763,
          40.711395,
          40.71833,
          40.68044,
          40.72433,
          40.69322,
          40.84681,
          40.74685,
          40.84739,
          40.834255,
          40.803967,
          40.86549,
          40.683193,
          40.700493,
          40.66937,
          40.720825,
          40.836014,
          40.679947,
          40.839893,
          40.740894,
          40.868073,
          40.590927,
          40.668236,
          40.78567,
          40.726227,
          40.713284,
          40.73285,
          40.588036,
          40.851696,
          40.77026,
          40.729847,
          40.660397,
          40.7599,
          40.600067,
          40.725914,
          40.70687,
          40.75229,
          40.699337,
          40.72169,
          40.66404,
          40.85902,
          40.68326,
          40.836487,
          40.704422,
          40.72028,
          40.672096,
          40.70836,
          40.764812,
          40.69388,
          40.7906,
          40.697857,
          40.660477,
          40.67992,
          40.762455,
          40.69518,
          40.830517,
          40.77344,
          40.608383,
          40.585308,
          40.730953,
          40.68433,
          40.68611,
          40.603996,
          40.59294,
          40.730053,
          40.68436,
          40.683666,
          40.624844,
          40.746643,
          40.626472,
          40.739777,
          40.815582,
          40.725296,
          40.768246,
          40.849506,
          40.8459,
          40.688763,
          40.67937,
          40.679844,
          40.82655,
          40.70751,
          40.74307,
          40.711834,
          40.752884,
          40.71932,
          40.707558,
          40.81212,
          40.746082,
          40.728252,
          40.76182,
          40.768143,
          40.748974,
          40.73342,
          40.70215,
          40.715477,
          40.756878,
          40.70682,
          40.75204,
          40.677315,
          40.700485,
          40.760166,
          40.722855,
          40.717304,
          40.714565,
          40.711926,
          40.70774,
          40.6941,
          40.754673,
          40.677044,
          40.695602,
          40.79164,
          40.67882,
          40.817894,
          40.67413,
          40.87481,
          40.866978,
          40.754204,
          40.680428,
          40.67271,
          40.70722,
          40.67454,
          40.706154,
          40.68171,
          40.730328,
          40.830135,
          40.811108,
          40.745495,
          40.679363,
          40.70381,
          40.68283,
          40.67834,
          40.856094,
          40.78587,
          40.824783,
          40.861298,
          40.706608,
          40.800602,
          40.775593,
          40.796093,
          40.839306,
          40.85041,
          40.805084,
          40.83377,
          40.675346,
          40.781433,
          40.873245,
          40.675377,
          40.75529,
          40.74685,
          40.59606,
          40.608944,
          40.650784,
          40.76678,
          40.62077,
          40.64404,
          40.63612,
          40.822006,
          40.665413,
          40.86053,
          40.629753,
          40.712646,
          40.83404,
          40.58962,
          40.855225,
          40.660366,
          40.61514,
          40.86462,
          40.581013,
          40.869446,
          40.603218,
          40.62532,
          40.756805,
          40.746326,
          40.82042,
          40.7688,
          40.64403,
          40.77789,
          40.755882,
          40.666237,
          40.65665,
          40.655293,
          40.662743,
          40.869526,
          40.74563,
          40.750584,
          40.81649,
          40.667885,
          40.829994,
          40.62504,
          40.858986,
          40.650528,
          40.6451,
          40.635082,
          40.784317,
          40.807755,
          40.799076,
          40.742626,
          40.82218,
          40.74841,
          40.754623,
          40.62927,
          40.802097,
          40.75173,
          40.63997,
          40.81611,
          40.665447,
          40.7596,
          40.837288,
          40.61762,
          40.650845,
          40.742214,
          40.82388,
          40.74415,
          40.664635,
          40.854362,
          40.640926,
          40.64136,
          40.744587,
          40.634968,
          40.743782,
          40.819584,
          40.878662,
          40.636948,
          40.8883,
          40.632835,
          40.749146,
          40.824074,
          40.814228,
          40.743134,
          40.747658,
          40.64375,
          40.749866,
          40.718803,
          40.71305,
          40.718803,
          40.68637,
          40.67699,
          40.68963,
          40.754673,
          40.6941,
          40.6941,
          40.6941,
          40.68289,
          40.70387,
          40.70026,
          40.69721,
          40.678024,
          40.69334,
          40.6941,
          40.6941,
          40.67034
         ],
         "legendgroup": "",
         "lon": [
          -73.99432,
          -73.98426,
          -73.92878,
          -73.86263,
          -73.91844,
          -73.837685,
          -73.99804,
          -73.95988,
          -73.99479,
          -73.98502,
          -74.0091,
          -73.94715,
          -73.99042,
          -73.99817,
          -73.87916,
          -73.9866,
          -73.97237,
          -73.83216,
          -73.90388,
          -73.90523,
          -73.92148,
          -73.85533,
          -73.91333,
          -73.995476,
          -73.9134,
          -73.9214,
          -73.9041,
          -73.94972,
          -73.90087,
          -73.94077,
          -73.8964,
          -73.94067,
          -73.98612,
          -73.98163,
          -74.01001,
          -73.95107,
          -73.98683,
          -73.958374,
          -73.99107,
          -73.82829,
          -73.88773,
          -73.98506,
          -73.97745,
          -73.7936,
          -73.85272,
          -73.84433,
          -73.98869,
          -74.0284,
          -73.92957,
          -73.95516,
          -73.90483,
          -73.837326,
          -73.832565,
          -73.98994,
          -73.89307,
          -73.87875,
          -74.00355,
          -73.85147,
          -73.89775,
          -74.01172,
          -74.01403,
          -73.91469,
          -73.976974,
          -73.89845,
          -73.99566,
          -73.95036,
          -73.99809,
          -73.95843,
          -73.97236,
          -73.91255,
          -73.83634,
          -73.9742,
          -73.97336,
          -73.93625,
          -73.92614,
          -73.91924,
          -73.97992,
          -73.857475,
          -73.99886,
          -73.99787,
          -74.00174,
          -73.9118,
          -73.94765,
          -73.96007,
          -73.99336,
          -73.86082,
          -74.02551,
          -73.97913,
          -73.860344,
          -73.88466,
          -74.00061,
          -73.96892,
          -73.983765,
          -73.90408,
          -73.95593,
          -73.85899,
          -73.92227,
          -73.941124,
          -73.945496,
          -73.98208,
          -73.99053,
          -73.91013,
          -73.89865,
          -73.91779,
          -73.98414,
          -73.95763,
          -73.76135,
          -73.85536,
          -74.00536,
          -73.97823,
          -73.98675,
          -73.99373,
          -73.920784,
          -73.98385,
          -73.95488,
          -73.82057,
          -73.985985,
          -73.93359,
          -73.867165,
          -73.95179,
          -73.84704,
          -74.00628,
          -73.93821,
          -73.76817,
          -73.92402,
          -73.9594,
          -73.99391,
          -73.8605,
          -73.94162,
          -73.99282,
          -73.94962,
          -73.94405,
          -73.86505,
          -73.93314,
          -73.904045,
          -73.90198,
          -74.00769,
          -73.95326,
          -73.95685,
          -74.00535,
          -73.97523,
          -73.92735,
          -73.87211,
          -73.90074,
          -74.00689,
          -73.98594,
          -73.98978,
          -73.967255,
          -73.92074,
          -73.95816,
          -73.987434,
          -73.94283,
          -73.91843,
          -73.92291,
          -73.954155,
          -73.95235,
          -74.0034,
          -73.84386,
          -73.99989,
          -73.99263,
          -74.00927,
          -74.00291,
          -73.98311,
          -73.944214,
          -73.96137,
          -73.93985,
          -73.981636,
          -73.93724,
          -73.93073,
          -73.90525,
          -73.94383,
          -73.98995,
          -73.99989,
          -73.9031,
          -73.88714,
          -74.00858,
          -74.01299,
          -73.7554,
          -74.01334,
          -73.80111,
          -73.89036,
          -73.99621,
          -73.9685,
          -73.89351,
          -73.95027,
          -73.88202,
          -73.97641,
          -74.00178,
          -73.981964,
          -73.932755,
          -73.986755,
          -73.896545,
          -73.969055,
          -73.87885,
          -73.95813,
          -73.9943,
          -73.98185,
          -73.98123,
          -73.906006,
          -73.9647,
          -73.97594,
          -73.88075,
          -73.93956,
          -73.91158,
          -73.94086,
          -73.972145,
          -73.988304,
          -73.94151,
          -73.976845,
          -73.98734,
          -73.987495,
          -73.91195,
          -73.984566,
          -73.98782,
          -73.80797,
          -73.96146,
          -74.00657,
          -73.95687,
          -74.00657,
          -73.967964,
          -73.92565,
          -73.81686,
          -73.94383,
          -74.0002,
          -73.98974,
          -73.95773,
          -73.99989,
          -74.013664,
          -74.00769,
          -74.00413,
          -73.92565,
          -73.951416,
          -73.94383,
          -74.00951,
          -74.00657,
          -73.987495,
          -74.00758,
          -73.987434,
          -73.97192,
          -73.946,
          -73.99057,
          -74.00019,
          -73.925835,
          -73.98995,
          -73.981964,
          -74.01103,
          -74.00657,
          -73.94013,
          -73.986755,
          -73.99679,
          -73.98811,
          -74.00881,
          -73.98795,
          -73.94527,
          -74.00019,
          -73.91404,
          -74.00978,
          -73.98594,
          -73.94527,
          -73.90774,
          -73.94748,
          -73.95128,
          -73.80333,
          -73.99017,
          -73.98221,
          -73.99309,
          -73.95046,
          -73.91203,
          -73.86923,
          -73.85062,
          -73.97622,
          -73.99106,
          -73.98183,
          -73.98049,
          -73.907684,
          -73.93759,
          -73.95031,
          -73.95352,
          -73.85438,
          -73.96611,
          -73.99596,
          -73.87349,
          -73.957756,
          -73.9751,
          -73.89858,
          -73.99505,
          -73.96225,
          -73.94216,
          -73.8616,
          -73.98133,
          -73.98197,
          -73.968376,
          -73.99086,
          -73.97537,
          -73.84452,
          -73.96684,
          -73.9274,
          -73.89717,
          -73.903076,
          -73.89006,
          -73.99375,
          -73.91633,
          -73.96438,
          -73.94425,
          -73.867615,
          -73.83101,
          -73.86626,
          -73.90057,
          -73.95023,
          -73.91971,
          -73.96685,
          -73.97105,
          -73.96411,
          -73.95343,
          -73.81071,
          -74.011055,
          -73.94904,
          -74.01379,
          -74.030876,
          -73.90103,
          -74.01219,
          -73.867355,
          -73.95559,
          -73.895874,
          -73.87722,
          -73.98031,
          -73.92261,
          -73.95445,
          -74.01407,
          -73.932945,
          -73.97232,
          -73.8896,
          -73.868454,
          -73.92985,
          -73.90894,
          -73.90245,
          -73.89923,
          -73.90765,
          -73.90983,
          -73.88005,
          -74.01788,
          -73.97613,
          -73.89644,
          -73.93418,
          -73.92551,
          -73.87379,
          -73.99339,
          -73.98934,
          -73.87255,
          -73.95068,
          -73.92941,
          -73.9199,
          -73.99635,
          -73.97302,
          -73.975266,
          -73.87452,
          -74.00698,
          -73.9502,
          -73.97949,
          -73.99714,
          -73.97335,
          -73.92554,
          -73.78852,
          -73.9977,
          -73.86001,
          -73.937965,
          -73.939896,
          -73.92727,
          -74.005226,
          -73.97457,
          -73.8949,
          -74.00374,
          -73.89055,
          -73.950424,
          -73.99635,
          -73.82812,
          -73.939705,
          -73.8894,
          -73.953674,
          -74.000496,
          -73.96387,
          -73.979675,
          -73.97817,
          -73.992874,
          -73.84295,
          -73.91882,
          -73.835594,
          -73.83632,
          -73.94896,
          -74.00169,
          -73.981735,
          -73.97425,
          -73.83406,
          -73.813644,
          -73.867615,
          -73.88408,
          -73.77602,
          -73.94489,
          -74.01186,
          -73.85158,
          -73.8303,
          -73.95085,
          -73.880035,
          -73.78381,
          -73.886284,
          -73.99,
          -73.94958,
          -73.90185,
          -73.83592,
          -73.980354,
          -73.86714,
          -73.79692,
          -73.985,
          -73.85122,
          -73.8258,
          -73.97689,
          -73.82056,
          -73.97578,
          -73.82756,
          -73.97767,
          -73.98066,
          -73.965836,
          -73.90532,
          -73.884636,
          -73.915276,
          -73.973946,
          -73.89948,
          -73.891335,
          -73.91785,
          -73.99466,
          -73.9962,
          -73.815926,
          -73.891335,
          -73.981926,
          -73.99015,
          -74.00258,
          -73.891396,
          -73.97881,
          -73.996895,
          -73.90781,
          -73.86953,
          -73.9608,
          -73.96164,
          -73.917755,
          -73.94741,
          -73.87661,
          -73.902985,
          -73.96279,
          -73.91656,
          -73.96298,
          -73.8837,
          -73.961494,
          -73.896736,
          -73.89187,
          -73.95358,
          -74.07484,
          -73.84638,
          -73.96416,
          -73.83003,
          -74.07365,
          -73.891685,
          -73.84563,
          -73.90177,
          -73.9402,
          -74.02338,
          -73.93565,
          -73.94891,
          -73.918434,
          -73.94764,
          -73.96449,
          -73.94841,
          -73.931,
          -73.92882,
          -73.93647,
          -73.91045,
          -73.95182,
          -73.8627,
          -73.96389,
          -74.00191,
          -73.83859,
          -73.83083,
          -73.95412,
          -73.95924,
          -73.99679,
          -73.969055,
          -73.90388,
          -73.94972,
          -73.93759,
          -73.95773,
          -73.988304,
          -73.986755,
          -73.85438,
          -73.92261,
          -73.95046,
          -73.96225,
          -73.99042,
          -73.98994,
          -73.98031,
          -73.99282,
          -73.860344,
          -73.85062,
          -73.97594,
          -73.95445,
          -73.907684,
          -73.98185,
          -73.96684,
          -73.99373,
          -73.98782,
          -73.97745,
          -73.89858,
          -73.99017,
          -74.01407,
          -73.81686,
          -73.89717,
          -73.9118,
          -73.91633,
          -73.91779,
          -73.98049,
          -73.867615,
          -74.00657,
          -73.90087,
          -73.96611,
          -73.932755,
          -73.9943,
          -73.94216,
          -73.99479,
          -73.92565,
          -74.00535,
          -73.9751,
          -73.868454,
          -73.98675,
          -73.91924,
          -73.98502,
          -73.90483,
          -73.98995,
          -73.96438,
          -73.867165,
          -73.95593,
          -73.932945,
          -73.95023,
          -73.96007,
          -73.99375,
          -74.00174,
          -73.95128,
          -73.98133,
          -74.01299,
          -73.99432,
          -73.92735,
          -73.90103,
          -73.857475,
          -74.0034,
          -73.95516,
          -73.987434,
          -73.95326,
          -73.87875,
          -73.94383,
          -73.99596,
          -73.86263,
          -74.00061,
          -73.99505,
          -73.967255,
          -73.96137,
          -73.98683,
          -73.94904,
          -73.954155,
          -73.91158,
          -73.867355,
          -73.95031,
          -73.99989,
          -73.91469,
          -73.983765,
          -73.92614,
          -73.981964,
          -74.00858,
          -73.91404,
          -73.94162,
          -73.97105,
          -73.99086,
          -73.946,
          -73.95813,
          -73.95685,
          -73.95027,
          -73.87349,
          -73.93956,
          -73.99621,
          -73.92985,
          -73.99886,
          -73.95352,
          -73.90894,
          -73.97537,
          -73.976845,
          -73.98734,
          -73.987495,
          -73.98123,
          -73.90245,
          -73.9685,
          -73.9214,
          -73.89006,
          -73.88466,
          -73.86626,
          -73.99817,
          -73.98594,
          -74.01403,
          -73.925835,
          -73.94527,
          -74.030876,
          -74.00657,
          -73.90983,
          -73.99989,
          -73.94383,
          -74.01172,
          -73.98506,
          -74.00413,
          -74.0284,
          -74.0002,
          -73.99309,
          -73.88005,
          -73.984566,
          -73.99057,
          -74.00019,
          -74.00978,
          -74.00657,
          -73.98995,
          -74.00769,
          -73.98974,
          -74.00178,
          -73.951416,
          -74.00657,
          -73.987495,
          -73.90765,
          -73.94383,
          -74.013664,
          -73.99566,
          -73.89845,
          -74.00769,
          -74.00951,
          -73.98811,
          -73.9866,
          -73.92565,
          -74.01001,
          -73.98978,
          -73.987434,
          -73.86082,
          -73.97622,
          -73.967964,
          -73.94013,
          -73.99714,
          -73.98594,
          -73.99679,
          -73.99679,
          -73.7936,
          -74.00758,
          -73.89644,
          -73.886284,
          -73.981964,
          -73.91333,
          -74.02551,
          -73.98795,
          -73.97192,
          -73.95988,
          -73.87916,
          -73.968376,
          -73.99787,
          -73.94527,
          -73.97992,
          -74.00355,
          -73.97237,
          -74.01103,
          -73.981636,
          -73.78852,
          -73.83632,
          -73.85272,
          -73.98197,
          -73.95559,
          -73.82812,
          -73.99635,
          -73.880035,
          -73.97913,
          -73.981735,
          -73.80333,
          -73.94425,
          -73.985,
          -73.89055,
          -73.89923,
          -73.98934,
          -73.96411,
          -73.90185,
          -73.86001,
          -73.98066,
          -73.867615,
          -73.99804,
          -73.8258,
          -73.82756,
          -73.99015,
          -73.97232,
          -73.91203,
          -73.76817,
          -73.82057,
          -73.98183,
          -73.89948,
          -73.81071,
          -74.000496,
          -73.88202,
          -73.97689,
          -73.86714,
          -73.99106,
          -73.87722,
          -73.835594,
          -73.95763,
          -74.011055,
          -73.895874,
          -73.83101,
          -73.87255,
          -73.83634,
          -73.86923,
          -73.98385,
          -73.87452,
          -73.99336,
          -73.97823,
          -73.980354,
          -73.91971,
          -73.995476,
          -73.90532,
          -73.90774,
          -73.8896,
          -73.837326,
          -73.950424,
          -73.9977,
          -73.99,
          -73.832565,
          -73.891335,
          -73.939705,
          -73.85122,
          -73.96685,
          -73.92727,
          -73.87379,
          -73.82829,
          -73.90198,
          -74.005226,
          -73.939896,
          -73.884636,
          -73.84295,
          -74.00169,
          -73.9199,
          -73.79692,
          -73.83406,
          -73.95107,
          -74.00374,
          -74.00698,
          -73.98612,
          -73.813644,
          -73.937965,
          -73.91785,
          -73.8616,
          -73.99809,
          -73.98414,
          -73.76135,
          -73.99466,
          -73.95343,
          -73.99339,
          -73.99053,
          -73.84452,
          -73.90057,
          -73.93418,
          -73.965836,
          -73.84704,
          -73.903076,
          -73.99391,
          -73.83592,
          -73.957756,
          -73.97335,
          -73.85158,
          -73.94748,
          -73.9274,
          -73.8303,
          -73.94086,
          -73.985985,
          -73.84433,
          -73.94151,
          -73.98221,
          -73.815926,
          -73.82056,
          -73.98163,
          -73.83216,
          -73.973946,
          -73.7554,
          -73.77602,
          -73.99107,
          -73.97767,
          -73.97881,
          -73.99635,
          -73.891335,
          -73.996895,
          -74.00258,
          -73.958374,
          -73.9962,
          -73.981926,
          -73.93359,
          -73.91013,
          -73.904045,
          -73.85899,
          -73.85147,
          -73.95036,
          -74.01379,
          -73.98426,
          -74.01219,
          -73.906006,
          -74.00689,
          -74.01186,
          -73.9041,
          -73.98208,
          -74.00536,
          -73.92551,
          -73.96387,
          -73.93724,
          -74.00291,
          -73.80111,
          -74.00927,
          -73.92074,
          -74.0091,
          -73.92878,
          -73.98311,
          -73.80797,
          -73.97523,
          -74.00628,
          -73.95687,
          -73.94405,
          -73.94067,
          -73.93985,
          -73.99,
          -73.986755,
          -73.86505,
          -73.90408,
          -73.9647,
          -73.920784,
          -73.94765,
          -73.88075,
          -73.87885,
          -73.89351,
          -73.94283,
          -73.84386,
          -73.89036,
          -74.01334,
          -73.896545,
          -73.93314,
          -73.837685,
          -73.99263,
          -73.93821,
          -73.95235,
          -73.98869,
          -73.93073,
          -73.91843,
          -73.90525,
          -73.91195,
          -73.90074,
          -73.96892,
          -73.944214,
          -73.89775,
          -73.92291,
          -73.95816,
          -73.97641,
          -73.96146,
          -73.9134,
          -73.90523,
          -73.95488,
          -73.91844,
          -73.9031,
          -73.972145,
          -73.88714,
          -73.87211,
          -73.986755,
          -73.891396,
          -73.97336,
          -73.97302,
          -73.97578,
          -73.92148,
          -73.975266,
          -73.979675,
          -73.97817,
          -73.953674,
          -73.992874,
          -73.92554,
          -73.976974,
          -73.78381,
          -73.94489,
          -73.97425,
          -73.92941,
          -73.97949,
          -73.9742,
          -73.91882,
          -73.97457,
          -73.915276,
          -73.97236,
          -73.97613,
          -73.92957,
          -73.8964,
          -73.93625,
          -73.95843,
          -73.96449,
          -73.95179,
          -74.00191,
          -73.88408,
          -73.9502,
          -73.961494,
          -73.95085,
          -73.84638,
          -73.902985,
          -73.9402,
          -73.90781,
          -73.95068,
          -73.89187,
          -73.9608,
          -73.85536,
          -73.96298,
          -73.94896,
          -73.96279,
          -73.94715,
          -73.945496,
          -73.95182,
          -73.95358,
          -73.896736,
          -73.87661,
          -73.84563,
          -73.96164,
          -73.94962,
          -73.85533,
          -73.94841,
          -73.917755,
          -73.8894,
          -73.83003,
          -73.88773,
          -73.9594,
          -73.94958,
          -73.94891,
          -73.93647,
          -73.91255,
          -73.8949,
          -73.8605,
          -73.96389,
          -74.01788,
          -73.931,
          -74.02338,
          -73.92402,
          -73.90177,
          -73.83859,
          -74.07484,
          -73.83083,
          -73.94764,
          -73.86953,
          -73.89307,
          -73.94077,
          -73.918434,
          -73.8837,
          -74.07365,
          -73.8627,
          -73.99989,
          -74.00881,
          -74.00019,
          -73.91656,
          -73.89865,
          -73.92227,
          -73.986755,
          -73.99,
          -73.99015,
          -73.991776,
          -73.91045,
          -73.94741,
          -73.941124,
          -73.93565,
          -73.891685,
          -73.92882,
          -73.99015,
          -73.991776,
          -73.95924
         ],
         "marker": {
          "color": "#636efa"
         },
         "mode": "markers",
         "name": "",
         "showlegend": false,
         "subplot": "mapbox",
         "type": "scattermapbox"
        }
       ],
       "layout": {
        "legend": {
         "tracegroupgap": 0
        },
        "mapbox": {
         "center": {
          "lat": 40.72939115092402,
          "lon": -73.93935031622178
         },
         "domain": {
          "x": [
           0,
           1
          ],
          "y": [
           0,
           1
          ]
         },
         "style": "carto-positron",
         "zoom": 10
        },
        "margin": {
         "b": 0,
         "l": 0,
         "r": 0,
         "t": 0
        },
        "template": {
         "data": {
          "bar": [
           {
            "error_x": {
             "color": "#2a3f5f"
            },
            "error_y": {
             "color": "#2a3f5f"
            },
            "marker": {
             "line": {
              "color": "#E5ECF6",
              "width": 0.5
             },
             "pattern": {
              "fillmode": "overlay",
              "size": 10,
              "solidity": 0.2
             }
            },
            "type": "bar"
           }
          ],
          "barpolar": [
           {
            "marker": {
             "line": {
              "color": "#E5ECF6",
              "width": 0.5
             },
             "pattern": {
              "fillmode": "overlay",
              "size": 10,
              "solidity": 0.2
             }
            },
            "type": "barpolar"
           }
          ],
          "carpet": [
           {
            "aaxis": {
             "endlinecolor": "#2a3f5f",
             "gridcolor": "white",
             "linecolor": "white",
             "minorgridcolor": "white",
             "startlinecolor": "#2a3f5f"
            },
            "baxis": {
             "endlinecolor": "#2a3f5f",
             "gridcolor": "white",
             "linecolor": "white",
             "minorgridcolor": "white",
             "startlinecolor": "#2a3f5f"
            },
            "type": "carpet"
           }
          ],
          "choropleth": [
           {
            "colorbar": {
             "outlinewidth": 0,
             "ticks": ""
            },
            "type": "choropleth"
           }
          ],
          "contour": [
           {
            "colorbar": {
             "outlinewidth": 0,
             "ticks": ""
            },
            "colorscale": [
             [
              0,
              "#0d0887"
             ],
             [
              0.1111111111111111,
              "#46039f"
             ],
             [
              0.2222222222222222,
              "#7201a8"
             ],
             [
              0.3333333333333333,
              "#9c179e"
             ],
             [
              0.4444444444444444,
              "#bd3786"
             ],
             [
              0.5555555555555556,
              "#d8576b"
             ],
             [
              0.6666666666666666,
              "#ed7953"
             ],
             [
              0.7777777777777778,
              "#fb9f3a"
             ],
             [
              0.8888888888888888,
              "#fdca26"
             ],
             [
              1,
              "#f0f921"
             ]
            ],
            "type": "contour"
           }
          ],
          "contourcarpet": [
           {
            "colorbar": {
             "outlinewidth": 0,
             "ticks": ""
            },
            "type": "contourcarpet"
           }
          ],
          "heatmap": [
           {
            "colorbar": {
             "outlinewidth": 0,
             "ticks": ""
            },
            "colorscale": [
             [
              0,
              "#0d0887"
             ],
             [
              0.1111111111111111,
              "#46039f"
             ],
             [
              0.2222222222222222,
              "#7201a8"
             ],
             [
              0.3333333333333333,
              "#9c179e"
             ],
             [
              0.4444444444444444,
              "#bd3786"
             ],
             [
              0.5555555555555556,
              "#d8576b"
             ],
             [
              0.6666666666666666,
              "#ed7953"
             ],
             [
              0.7777777777777778,
              "#fb9f3a"
             ],
             [
              0.8888888888888888,
              "#fdca26"
             ],
             [
              1,
              "#f0f921"
             ]
            ],
            "type": "heatmap"
           }
          ],
          "heatmapgl": [
           {
            "colorbar": {
             "outlinewidth": 0,
             "ticks": ""
            },
            "colorscale": [
             [
              0,
              "#0d0887"
             ],
             [
              0.1111111111111111,
              "#46039f"
             ],
             [
              0.2222222222222222,
              "#7201a8"
             ],
             [
              0.3333333333333333,
              "#9c179e"
             ],
             [
              0.4444444444444444,
              "#bd3786"
             ],
             [
              0.5555555555555556,
              "#d8576b"
             ],
             [
              0.6666666666666666,
              "#ed7953"
             ],
             [
              0.7777777777777778,
              "#fb9f3a"
             ],
             [
              0.8888888888888888,
              "#fdca26"
             ],
             [
              1,
              "#f0f921"
             ]
            ],
            "type": "heatmapgl"
           }
          ],
          "histogram": [
           {
            "marker": {
             "pattern": {
              "fillmode": "overlay",
              "size": 10,
              "solidity": 0.2
             }
            },
            "type": "histogram"
           }
          ],
          "histogram2d": [
           {
            "colorbar": {
             "outlinewidth": 0,
             "ticks": ""
            },
            "colorscale": [
             [
              0,
              "#0d0887"
             ],
             [
              0.1111111111111111,
              "#46039f"
             ],
             [
              0.2222222222222222,
              "#7201a8"
             ],
             [
              0.3333333333333333,
              "#9c179e"
             ],
             [
              0.4444444444444444,
              "#bd3786"
             ],
             [
              0.5555555555555556,
              "#d8576b"
             ],
             [
              0.6666666666666666,
              "#ed7953"
             ],
             [
              0.7777777777777778,
              "#fb9f3a"
             ],
             [
              0.8888888888888888,
              "#fdca26"
             ],
             [
              1,
              "#f0f921"
             ]
            ],
            "type": "histogram2d"
           }
          ],
          "histogram2dcontour": [
           {
            "colorbar": {
             "outlinewidth": 0,
             "ticks": ""
            },
            "colorscale": [
             [
              0,
              "#0d0887"
             ],
             [
              0.1111111111111111,
              "#46039f"
             ],
             [
              0.2222222222222222,
              "#7201a8"
             ],
             [
              0.3333333333333333,
              "#9c179e"
             ],
             [
              0.4444444444444444,
              "#bd3786"
             ],
             [
              0.5555555555555556,
              "#d8576b"
             ],
             [
              0.6666666666666666,
              "#ed7953"
             ],
             [
              0.7777777777777778,
              "#fb9f3a"
             ],
             [
              0.8888888888888888,
              "#fdca26"
             ],
             [
              1,
              "#f0f921"
             ]
            ],
            "type": "histogram2dcontour"
           }
          ],
          "mesh3d": [
           {
            "colorbar": {
             "outlinewidth": 0,
             "ticks": ""
            },
            "type": "mesh3d"
           }
          ],
          "parcoords": [
           {
            "line": {
             "colorbar": {
              "outlinewidth": 0,
              "ticks": ""
             }
            },
            "type": "parcoords"
           }
          ],
          "pie": [
           {
            "automargin": true,
            "type": "pie"
           }
          ],
          "scatter": [
           {
            "fillpattern": {
             "fillmode": "overlay",
             "size": 10,
             "solidity": 0.2
            },
            "type": "scatter"
           }
          ],
          "scatter3d": [
           {
            "line": {
             "colorbar": {
              "outlinewidth": 0,
              "ticks": ""
             }
            },
            "marker": {
             "colorbar": {
              "outlinewidth": 0,
              "ticks": ""
             }
            },
            "type": "scatter3d"
           }
          ],
          "scattercarpet": [
           {
            "marker": {
             "colorbar": {
              "outlinewidth": 0,
              "ticks": ""
             }
            },
            "type": "scattercarpet"
           }
          ],
          "scattergeo": [
           {
            "marker": {
             "colorbar": {
              "outlinewidth": 0,
              "ticks": ""
             }
            },
            "type": "scattergeo"
           }
          ],
          "scattergl": [
           {
            "marker": {
             "colorbar": {
              "outlinewidth": 0,
              "ticks": ""
             }
            },
            "type": "scattergl"
           }
          ],
          "scattermapbox": [
           {
            "marker": {
             "colorbar": {
              "outlinewidth": 0,
              "ticks": ""
             }
            },
            "type": "scattermapbox"
           }
          ],
          "scatterpolar": [
           {
            "marker": {
             "colorbar": {
              "outlinewidth": 0,
              "ticks": ""
             }
            },
            "type": "scatterpolar"
           }
          ],
          "scatterpolargl": [
           {
            "marker": {
             "colorbar": {
              "outlinewidth": 0,
              "ticks": ""
             }
            },
            "type": "scatterpolargl"
           }
          ],
          "scatterternary": [
           {
            "marker": {
             "colorbar": {
              "outlinewidth": 0,
              "ticks": ""
             }
            },
            "type": "scatterternary"
           }
          ],
          "surface": [
           {
            "colorbar": {
             "outlinewidth": 0,
             "ticks": ""
            },
            "colorscale": [
             [
              0,
              "#0d0887"
             ],
             [
              0.1111111111111111,
              "#46039f"
             ],
             [
              0.2222222222222222,
              "#7201a8"
             ],
             [
              0.3333333333333333,
              "#9c179e"
             ],
             [
              0.4444444444444444,
              "#bd3786"
             ],
             [
              0.5555555555555556,
              "#d8576b"
             ],
             [
              0.6666666666666666,
              "#ed7953"
             ],
             [
              0.7777777777777778,
              "#fb9f3a"
             ],
             [
              0.8888888888888888,
              "#fdca26"
             ],
             [
              1,
              "#f0f921"
             ]
            ],
            "type": "surface"
           }
          ],
          "table": [
           {
            "cells": {
             "fill": {
              "color": "#EBF0F8"
             },
             "line": {
              "color": "white"
             }
            },
            "header": {
             "fill": {
              "color": "#C8D4E3"
             },
             "line": {
              "color": "white"
             }
            },
            "type": "table"
           }
          ]
         },
         "layout": {
          "annotationdefaults": {
           "arrowcolor": "#2a3f5f",
           "arrowhead": 0,
           "arrowwidth": 1
          },
          "autotypenumbers": "strict",
          "coloraxis": {
           "colorbar": {
            "outlinewidth": 0,
            "ticks": ""
           }
          },
          "colorscale": {
           "diverging": [
            [
             0,
             "#8e0152"
            ],
            [
             0.1,
             "#c51b7d"
            ],
            [
             0.2,
             "#de77ae"
            ],
            [
             0.3,
             "#f1b6da"
            ],
            [
             0.4,
             "#fde0ef"
            ],
            [
             0.5,
             "#f7f7f7"
            ],
            [
             0.6,
             "#e6f5d0"
            ],
            [
             0.7,
             "#b8e186"
            ],
            [
             0.8,
             "#7fbc41"
            ],
            [
             0.9,
             "#4d9221"
            ],
            [
             1,
             "#276419"
            ]
           ],
           "sequential": [
            [
             0,
             "#0d0887"
            ],
            [
             0.1111111111111111,
             "#46039f"
            ],
            [
             0.2222222222222222,
             "#7201a8"
            ],
            [
             0.3333333333333333,
             "#9c179e"
            ],
            [
             0.4444444444444444,
             "#bd3786"
            ],
            [
             0.5555555555555556,
             "#d8576b"
            ],
            [
             0.6666666666666666,
             "#ed7953"
            ],
            [
             0.7777777777777778,
             "#fb9f3a"
            ],
            [
             0.8888888888888888,
             "#fdca26"
            ],
            [
             1,
             "#f0f921"
            ]
           ],
           "sequentialminus": [
            [
             0,
             "#0d0887"
            ],
            [
             0.1111111111111111,
             "#46039f"
            ],
            [
             0.2222222222222222,
             "#7201a8"
            ],
            [
             0.3333333333333333,
             "#9c179e"
            ],
            [
             0.4444444444444444,
             "#bd3786"
            ],
            [
             0.5555555555555556,
             "#d8576b"
            ],
            [
             0.6666666666666666,
             "#ed7953"
            ],
            [
             0.7777777777777778,
             "#fb9f3a"
            ],
            [
             0.8888888888888888,
             "#fdca26"
            ],
            [
             1,
             "#f0f921"
            ]
           ]
          },
          "colorway": [
           "#636efa",
           "#EF553B",
           "#00cc96",
           "#ab63fa",
           "#FFA15A",
           "#19d3f3",
           "#FF6692",
           "#B6E880",
           "#FF97FF",
           "#FECB52"
          ],
          "font": {
           "color": "#2a3f5f"
          },
          "geo": {
           "bgcolor": "white",
           "lakecolor": "white",
           "landcolor": "#E5ECF6",
           "showlakes": true,
           "showland": true,
           "subunitcolor": "white"
          },
          "hoverlabel": {
           "align": "left"
          },
          "hovermode": "closest",
          "mapbox": {
           "style": "light"
          },
          "paper_bgcolor": "white",
          "plot_bgcolor": "#E5ECF6",
          "polar": {
           "angularaxis": {
            "gridcolor": "white",
            "linecolor": "white",
            "ticks": ""
           },
           "bgcolor": "#E5ECF6",
           "radialaxis": {
            "gridcolor": "white",
            "linecolor": "white",
            "ticks": ""
           }
          },
          "scene": {
           "xaxis": {
            "backgroundcolor": "#E5ECF6",
            "gridcolor": "white",
            "gridwidth": 2,
            "linecolor": "white",
            "showbackground": true,
            "ticks": "",
            "zerolinecolor": "white"
           },
           "yaxis": {
            "backgroundcolor": "#E5ECF6",
            "gridcolor": "white",
            "gridwidth": 2,
            "linecolor": "white",
            "showbackground": true,
            "ticks": "",
            "zerolinecolor": "white"
           },
           "zaxis": {
            "backgroundcolor": "#E5ECF6",
            "gridcolor": "white",
            "gridwidth": 2,
            "linecolor": "white",
            "showbackground": true,
            "ticks": "",
            "zerolinecolor": "white"
           }
          },
          "shapedefaults": {
           "line": {
            "color": "#2a3f5f"
           }
          },
          "ternary": {
           "aaxis": {
            "gridcolor": "white",
            "linecolor": "white",
            "ticks": ""
           },
           "baxis": {
            "gridcolor": "white",
            "linecolor": "white",
            "ticks": ""
           },
           "bgcolor": "#E5ECF6",
           "caxis": {
            "gridcolor": "white",
            "linecolor": "white",
            "ticks": ""
           }
          },
          "title": {
           "x": 0.05
          },
          "xaxis": {
           "automargin": true,
           "gridcolor": "white",
           "linecolor": "white",
           "ticks": "",
           "title": {
            "standoff": 15
           },
           "zerolinecolor": "white",
           "zerolinewidth": 2
          },
          "yaxis": {
           "automargin": true,
           "gridcolor": "white",
           "linecolor": "white",
           "ticks": "",
           "title": {
            "standoff": 15
           },
           "zerolinecolor": "white",
           "zerolinewidth": 2
          }
         }
        }
       }
      },
      "text/html": [
       "<div>                            <div id=\"f73fc88b-71aa-4141-a40b-df8be39894ae\" class=\"plotly-graph-div\" style=\"height:525px; width:100%;\"></div>            <script type=\"text/javascript\">                require([\"plotly\"], function(Plotly) {                    window.PLOTLYENV=window.PLOTLYENV || {};                                    if (document.getElementById(\"f73fc88b-71aa-4141-a40b-df8be39894ae\")) {                    Plotly.newPlot(                        \"f73fc88b-71aa-4141-a40b-df8be39894ae\",                        [{\"customdata\":[[\"59\"],[\"404\"],[\"272\"],[\"420\"],[\"218\"],[\"193\"],[\"165\"],[\"398\"],[\"61\"],[\"75\"],[\"333\"],[\"475\"],[\"74\"],[\"67\"],[\"369\"],[\"405\"],[\"41\"],[\"194\"],[\"383\"],[\"215\"],[\"3\"],[\"449\"],[\"270\"],[\"62\"],[\"217\"],[\"388\"],[\"373\"],[\"282\"],[\"294\"],[\"438\"],[\"455\"],[\"123\"],[\"118\"],[\"119\"],[\"33\"],[\"396\"],[\"69\"],[\"306\"],[\"407\"],[\"80\"],[\"428\"],[\"336\"],[\"224\"],[\"255\"],[\"262\"],[\"82\"],[\"13\"],[\"38\"],[\"5\"],[\"53\"],[\"295\"],[\"260\"],[\"361\"],[\"232\"],[\"430\"],[\"378\"],[\"32\"],[\"191\"],[\"213\"],[\"71\"],[\"34\"],[\"386\"],[\"245\"],[\"268\"],[\"320\"],[\"304\"],[\"31\"],[\"477\"],[\"250\"],[\"457\"],[\"81\"],[\"248\"],[\"251\"],[\"437\"],[\"377\"],[\"376\"],[\"312\"],[\"418\"],[\"64\"],[\"321\"],[\"66\"],[\"385\"],[\"152\"],[\"290\"],[\"319\"],[\"366\"],[\"37\"],[\"78\"],[\"419\"],[\"379\"],[\"65\"],[\"158\"],[\"70\"],[\"129\"],[\"52\"],[\"190\"],[\"95\"],[\"98\"],[\"439\"],[\"403\"],[\"173\"],[\"216\"],[\"91\"],[\"387\"],[\"10\"],[\"141\"],[\"208\"],[\"445\"],[\"324\"],[\"79\"],[\"235\"],[\"68\"],[\"182\"],[\"316\"],[\"154\"],[\"258\"],[\"162\"],[\"301\"],[\"422\"],[\"476\"],[\"364\"],[\"325\"],[\"220\"],[\"207\"],[\"459\"],[\"50\"],[\"103\"],[\"446\"],[\"393\"],[\"228\"],[\"440\"],[\"122\"],[\"189\"],[\"125\"],[\"130\"],[\"134\"],[\"628\"],[\"222\"],[\"627\"],[\"72\"],[\"276\"],[\"603\"],[\"188\"],[\"214\"],[\"326\"],[\"636\"],[\"608\"],[\"613\"],[\"271\"],[\"155\"],[\"625\"],[\"221\"],[\"127\"],[\"126\"],[\"54\"],[\"153\"],[\"622\"],[\"192\"],[\"623\"],[\"16\"],[\"327\"],[\"323\"],[\"28\"],[\"151\"],[\"55\"],[\"124\"],[\"277\"],[\"273\"],[\"181\"],[\"131\"],[\"606\"],[\"602\"],[\"623\"],[\"133\"],[\"211\"],[\"624\"],[\"635\"],[\"209\"],[\"22\"],[\"278\"],[\"186\"],[\"601\"],[\"56\"],[\"212\"],[\"629\"],[\"266\"],[\"160\"],[\"623\"],[\"609\"],[\"6\"],[\"611\"],[\"185\"],[\"612\"],[\"210\"],[\"626\"],[\"60\"],[\"76\"],[\"58\"],[\"269\"],[\"157\"],[\"57\"],[\"187\"],[\"605\"],[\"630\"],[\"180\"],[\"159\"],[\"608\"],[\"150\"],[\"610\"],[\"636\"],[\"611\"],[\"183\"],[\"609\"],[\"607\"],[\"279\"],[\"156\"],[\"628\"],[\"120\"],[\"628\"],[\"613\"],[\"604\"],[\"280\"],[\"606\"],[\"601\"],[\"611\"],[\"51\"],[\"623\"],[\"635\"],[\"628\"],[\"622\"],[\"604\"],[\"629\"],[\"606\"],[\"628\"],[\"628\"],[\"611\"],[\"628\"],[\"625\"],[\"612\"],[\"606\"],[\"602\"],[\"623\"],[\"604\"],[\"602\"],[\"609\"],[\"624\"],[\"628\"],[\"605\"],[\"611\"],[\"601\"],[\"625\"],[\"624\"],[\"607\"],[\"606\"],[\"623\"],[\"375\"],[\"624\"],[\"636\"],[\"606\"],[\"111\"],[\"395\"],[\"284\"],[\"256\"],[\"234\"],[\"314\"],[\"334\"],[\"343\"],[\"1\"],[\"264\"],[\"416\"],[\"311\"],[\"318\"],[\"26\"],[\"337\"],[\"384\"],[\"392\"],[\"286\"],[\"289\"],[\"417\"],[\"223\"],[\"238\"],[\"426\"],[\"101\"],[\"339\"],[\"293\"],[\"237\"],[\"42\"],[\"344\"],[\"263\"],[\"225\"],[\"313\"],[\"309\"],[\"236\"],[\"292\"],[\"261\"],[\"291\"],[\"114\"],[\"381\"],[\"110\"],[\"380\"],[\"231\"],[\"347\"],[\"341\"],[\"394\"],[\"424\"],[\"259\"],[\"421\"],[\"135\"],[\"287\"],[\"113\"],[\"308\"],[\"340\"],[\"307\"],[\"100\"],[\"257\"],[\"107\"],[\"288\"],[\"329\"],[\"39\"],[\"382\"],[\"328\"],[\"423\"],[\"397\"],[\"109\"],[\"265\"],[\"240\"],[\"346\"],[\"283\"],[\"414\"],[\"345\"],[\"310\"],[\"108\"],[\"425\"],[\"391\"],[\"348\"],[\"349\"],[\"136\"],[\"374\"],[\"296\"],[\"427\"],[\"35\"],[\"246\"],[\"372\"],[\"145\"],[\"4\"],[\"87\"],[\"164\"],[\"14\"],[\"86\"],[\"353\"],[\"300\"],[\"143\"],[\"615\"],[\"249\"],[\"247\"],[\"368\"],[\"20\"],[\"355\"],[\"241\"],[\"409\"],[\"8\"],[\"299\"],[\"205\"],[\"17\"],[\"84\"],[\"146\"],[\"149\"],[\"144\"],[\"169\"],[\"253\"],[\"350\"],[\"168\"],[\"371\"],[\"179\"],[\"615\"],[\"360\"],[\"147\"],[\"351\"],[\"305\"],[\"167\"],[\"399\"],[\"243\"],[\"244\"],[\"30\"],[\"363\"],[\"298\"],[\"203\"],[\"362\"],[\"357\"],[\"618\"],[\"614\"],[\"252\"],[\"197\"],[\"200\"],[\"367\"],[\"352\"],[\"206\"],[\"303\"],[\"413\"],[\"83\"],[\"198\"],[\"354\"],[\"88\"],[\"254\"],[\"370\"],[\"620\"],[\"356\"],[\"138\"],[\"196\"],[\"77\"],[\"85\"],[\"204\"],[\"175\"],[\"365\"],[\"195\"],[\"617\"],[\"201\"],[\"242\"],[\"202\"],[\"617\"],[\"9\"],[\"177\"],[\"621\"],[\"89\"],[\"297\"],[\"176\"],[\"137\"],[\"616\"],[\"2\"],[\"619\"],[\"619\"],[\"199\"],[\"616\"],[\"614\"],[\"620\"],[\"618\"],[\"616\"],[\"617\"],[\"615\"],[\"433\"],[\"451\"],[\"49\"],[\"48\"],[\"434\"],[\"99\"],[\"452\"],[\"456\"],[\"47\"],[\"94\"],[\"44\"],[\"453\"],[\"43\"],[\"431\"],[\"429\"],[\"464\"],[\"502\"],[\"444\"],[\"TRAM1\"],[\"447\"],[\"501\"],[\"90\"],[\"448\"],[\"432\"],[\"461\"],[\"36\"],[\"97\"],[\"463\"],[\"458\"],[\"359\"],[\"45\"],[\"358\"],[\"460\"],[\"96\"],[\"436\"],[\"93\"],[\"441\"],[\"450\"],[\"46\"],[\"471\"],[\"443\"],[\"442\"],[\"TRAM2\"],[\"626\"],[\"601\"],[612],[383],[282],[392],[51],[608],[611],[417],[346],[343],[42],[74],[232],[240],[228],[419],[416],[57],[283],[384],[76],[291],[68],[607],[224],[293],[234],[414],[280],[381],[385],[347],[387],[337],[424],[628],[294],[223],[6],[60],[344],[61],[604],[72],[339],[425],[235],[376],[75],[295],[602],[341],[422],[52],[345],[287],[290],[231],[66],[284],[225],[635],[59],[603],[382],[418],[622],[53],[625],[222],[378],[606],[238],[420],[65],[237],[613],[55],[69],[288],[54],[630],[423],[286],[623],[386],[70],[377],[609],[624],[375],[393],[340],[236],[606],[626],[627],[629],[426],[605],[601],[391],[64],[289],[348],[292],[610],[636],[611],[58],[349],[56],[388],[380],[379],[421],[67],[636],[34],[604],[606],[39],[628],[296],[623],[606],[71],[336],[622],[38],[601],[334],[427],[609],[602],[623],[624],[628],[602],[628],[611],[623],[629],[628],[611],[374],[606],[635],[320],[268],[628],[628],[625],[405],[604],[33],[608],[625],[366],[311],[613],[605],[409],[636],[601],[601],[255],[628],[372],[370],[609],[270],[37],[607],[612],[398],[369],[309],[321],[606],[312],[32],[41],[624],[277],[205],[362],[262],[313],[397],[360],[615],[88],[78],[614],[256],[394],[175],[371],[136],[14],[307],[138],[84],[9],[367],[165],[195],[202],[620],[310],[1],[207],[258],[26],[137],[257],[167],[266],[617],[85],[318],[265],[203],[141],[107],[109],[259],[86],[81],[264],[316],[368],[319],[79],[77],[113],[62],[621],[111],[108],[260],[179],[17],[620],[361],[616],[147],[365],[308],[144],[87],[80],[134],[169],[149],[89],[363],[618],[143],[204],[197],[396],[168],[20],[118],[200],[146],[2],[263],[31],[10],[208],[619],[100],[164],[173],[261],[135],[145],[177],[364],[110],[103],[196],[101],[8],[83],[395],[114],[198],[180],[162],[82],[150],[314],[199],[201],[119],[194],[176],[209],[206],[407],[617],[617],[615],[616],[615],[618],[306],[619],[614],[301],[216],[130],[190],[191],[304],[329],[404],[328],[269],[326],[413],[373],[403],[324],[4],[399],[273],[323],[278],[327],[271],[333],[272],[28],[279],[276],[325],[120],[122],[123],[124],[620],[\"611\"],[189],[129],[157],[182],[152],[187],[210],[212],[221],[192],[186],[22],[185],[125],[193],[16],[220],[153],[13],[181],[127],[131],[183],[214],[158],[151],[213],[126],[155],[160],[156],[217],[215],[154],[218],[133],[159],[211],[188],[611],[616],[251],[249],[242],[3],[247],[243],[244],[305],[30],[299],[245],[254],[303],[252],[300],[241],[248],[298],[253],[297],[250],[246],[5],[455],[437],[477],[45],[476],[471],[352],[355],[43],[354],[444],[456],[461],[433],[353],[429],[49],[445],[44],[357],[47],[475],[439],[441],[464],[431],[452],[448],[48],[440],[449],[358],[434],[351],[447],[428],[50],[356],[463],[436],[457],[350],[446],[46],[35],[460],[36],[459],[432],[443],[502],[442],[359],[451],[430],[438],[458],[453],[501],[450],[623],[624],[623],[94],[91],[95],[611],[\"620\"],[\"620\"],[\"620\"],[93],[99],[98],[97],[90],[96],[620],[620],[626]],\"hovertemplate\":\"\\u003cb\\u003e%{hovertext}\\u003c\\u002fb\\u003e\\u003cbr\\u003e\\u003cbr\\u003elatitude=%{lat}\\u003cbr\\u003elongitude=%{lon}\\u003cbr\\u003estation_complex_id=%{customdata[0]}\\u003cextra\\u003e\\u003c\\u002fextra\\u003e\",\"hovertext\":[\"9 Av (D)\",\"28 St (6)\",\"36 St (M,R)\",\"219 St (2,5)\",\"167 St (B,D)\",\"104 St (A)\",\"23 St (C,E)\",\"77 St (6)\",\"50 St (D)\",\"20 Av (N)\",\"Wall St (2,3)\",\"96 St (Q)\",\"18 Av (N)\",\"20 Av (D)\",\"Elder Av (6)\",\"23 St (6)\",\"7 Av (B,Q)\",\"111 St (A)\",\"183 St (4)\",\"Tremont Av (B,D)\",\"30 Av (N,W)\",\"111 St (7)\",\"46 St (M,R)\",\"55 St (D)\",\"170 St (B,D)\",\"167 St (4)\",\"E 149 St (6)\",\"21 St (G)\",\"238 St (1)\",\"135 St (2,3)\",\"69 St (7)\",\"Grand St (L)\",\"3 Av (L)\",\"1 Av (L)\",\"45 St (R)\",\"96 St (6)\",\"25 Av (D)\",\"125 St (1)\",\"Astor Pl (6)\",\"121 St (J,Z)\",\"174 St (2,5)\",\"Hoyt St (2,3)\",\"57 St (F)\",\"169 St (F)\",\"67 Av (M,R)\",\"104 St (J,Z)\",\"28 St (R,W)\",\"86 St (R)\",\"36 Av (N,W)\",\"Neck Rd (Q)\",\"231 St (1)\",\"75 Av (E,F)\",\"Buhre Av (6)\",\"2 Av (F)\",\"Simpson St (2,5)\",\"Woodlawn (4)\",\"36 St (D,N,R)\",\"88 St (A)\",\"Fordham Rd (B,D)\",\"8 Av (N)\",\"53 St (R)\",\"Mt Eden Av (4)\",\"18 Av (F)\",\"65 St (M,R)\",\"23 St (1)\",\"145 St (1)\",\"25 St (R)\",\"72 St (Q)\",\"Kings Hwy (F)\",\"52 St (7)\",\"111 St (J)\",\"Avenue N (F)\",\"Avenue U (F)\",\"145 St (3)\",\"3 Av-138 St (6)\",\"Brook Av (6)\",\"79 St (1)\",\"233 St (2,5)\",\"71 St (D)\",\"18 St (1)\",\"18 Av (D)\",\"176 St (4)\",\"135 St (C,B)\",\"Classon Av (G)\",\"28 St (1)\",\"Parkchester (6)\",\"77 St (R)\",\"Avenue U (N)\",\"225 St (2,5)\",\"Mosholu Pkwy (4)\",\"79 St (D)\",\"86 St (C,B)\",\"Bay 50 St (D)\",\"Halsey St (L)\",\"Avenue U (Q)\",\"80 St (A)\",\"Gates Av (J,Z)\",\"Flushing Av (M,J)\",\"125 St (2,3)\",\"33 St (6)\",\"High St (A,C)\",\"174-175 Sts (B,D)\",\"Alabama Av (J)\",\"170 St (4)\",\"49 St (N,R,W)\",\"Park Pl (S)\",\"Beach 25 St (A)\",\"Pelham Pkwy (5)\",\"Houston St (1)\",\"86 St (N)\",\"York St (F)\",\"Bay Pkwy (D)\",\"Ralph Av (C)\",\"50 St (1)\",\"116 St (C,B)\",\"Briarwood (E,F)\",\"50 St (C,E)\",\"181 St (1)\",\"Burke Av (2,5)\",\"86 St (Q)\",\"Zerega Av (6)\",\"Canal St (1)\",\"155 St (B,D)\",\"Beach 36 St (A)\",\"40 St-Lowery St (7)\",\"Avenue M (Q)\",\"Bowery (J,Z)\",\"Morris Park (5)\",\"116 St (6)\",\"23 St (F,M)\",\"116 St (2,3)\",\"Graham Av (L)\",\"Grant Av (A)\",\"Morgan Av (L)\",\"Wilson Av (L)\",\"Sutter Av (L)\",\"Fulton St (A,C,J,Z,2,3,4,5)\",\"Roosevelt Island (F)\",\"Franklin Av (C,S)\",\"Fort Hamilton Pkwy (N)\",\"5 Av\\u002f53 St (E,M)\",\"149 St-Grand Concourse (2,4,5)\",\"Euclid Av (A,C)\",\"182-183 Sts (B,D)\",\"Franklin St (1)\",\"Jay St-MetroTech (A,C,F,R)\",\"4 Av (F,G)\\u002f9 St (R)\",\"Lexington Av (N,R,W)\\u002f59 St (4,5,6)\",\"Steinway St (M,R)\",\"Cathedral Pkwy (110 St) (C,B)\",\"Delancey St (F)\\u002fEssex St (J,M,Z)\",\"21 St-Queensbridge (F)\",\"DeKalb Av (L)\",\"Jefferson St (L)\",\"Sheepshead Bay (B,Q)\",\"125 St (A,C,B,D)\",\"Brooklyn Bridge-City Hall (4,5,6)\\u002fChambers St (J,Z)\",\"Rockaway Blvd (A)\",\"Canal St (J,N,Q,R,W,Z,6)\",\"8 St-NYU (R,W)\",\"Chambers St (1,2,3)\",\"Christopher St-Sheridan Sq (1)\",\"Union St (R)\",\"145 St (A,C,B,D)\",\"Brighton Beach (B,Q)\",\"Montrose Av (L)\",\"7 Av (E,B,D)\",\"Queens Plaza (E,M,R)\",\"Utica Av (A,C)\",\"Bushwick Av-Aberdeen St (L)\",\"Court Sq (E,G,M,7)\",\"14 St-Union Sq (L,N,Q,R,W,4,5,6)\",\"Canal St (J,N,Q,R,W,Z,6)\",\"Atlantic Av (L)\",\"Bedford Park Blvd (B,D)\",\"Chambers St (A,C)\\u002fWTC (E)\\u002fPark Pl (2,3)\\u002fCortlandt (R,W)\",\"South Ferry (1)\\u002fWhitehall St (R,W)\",\"Far Rockaway-Mott Av (A)\",\"Rector St (R,W)\",\"Jamaica Center-Parsons\\u002fArcher (E,J,Z)\",\"Van Siclen Av (C)\",\"14 St (F,M,1,2,3)\\u002f6 Av (L)\",\"Ocean Pkwy (Q)\",\"Kingsbridge Rd (B,D)\",\"Lorimer St (L)\\u002fMetropolitan Av (G)\",\"Elmhurst Av (M,R)\",\"72 St (C,B)\",\"Canal St (J,N,Q,R,W,Z,6)\",\"Bryant Pk (B,D,F,M)\\u002f5 Av (7)\",\"39 Av-Dutch Kills (N,W)\",\"Times Sq-42 St (N,Q,R,W,S,1,2,3,7)\\u002f42 St (A,C,E)\",\"Liberty Av (C)\",\"Lexington Av-53 St (E,M)\\u002f51 St (6)\",\"Norwood-205 St (D)\",\"Franklin Av (2,3,4,5)\\u002fBotanic Garden (S)\",\"Fort Hamilton Pkwy (D)\",\"Bay Pkwy (N)\",\"Coney Island-Stillwell Av (D,F,N,Q)\",\"Northern Blvd (M,R)\",\"96 St (C,B)\",\"W 8 St-NY Aquarium (F,Q)\",\"Shepherd Av (C)\",\"168 St (A,C,1)\",\"Myrtle-Wyckoff Avs (L,M)\",\"Kingston-Throop Avs (C)\",\"81 St-Museum of Natural History (C,B)\",\"4 Av (F,G)\\u002f9 St (R)\",\"155 St (C)\",\"Grand Central-42 St (S,4,5,6,7)\",\"Jay St-MetroTech (A,C,F,R)\",\"Times Sq-42 St (N,Q,R,W,S,1,2,3,7)\\u002f42 St (A,C,E)\",\"Rockaway Av (C)\",\"Bryant Pk (B,D,F,M)\\u002f5 Av (7)\",\"34 St-Herald Sq (B,D,F,M,N,Q,R,W)\",\"Sutphin Blvd-Archer Av-JFK Airport (E,J,Z)\",\"103 St (C,B)\",\"Fulton St (A,C,J,Z,2,3,4,5)\",\"Bedford Av (L)\",\"Fulton St (A,C,J,Z,2,3,4,5)\",\"Lexington Av (N,R,W)\\u002f59 St (4,5,6)\",\"161 St-Yankee Stadium (B,D,4)\",\"Jamaica-Van Wyck (E)\",\"Court Sq (E,G,M,7)\",\"14 St (F,M,1,2,3)\\u002f6 Av (L)\",\"Times Sq-42 St (N,Q,R,W,S,1,2,3,7)\\u002f42 St (A,C,E)\",\"Kings Hwy (B,Q)\",\"Canal St (J,N,Q,R,W,Z,6)\",\"South Ferry (1)\\u002fWhitehall St (R,W)\",\"Fulton St (A,C,J,Z,2,3,4,5)\",\"Brooklyn Bridge-City Hall (4,5,6)\\u002fChambers St (J,Z)\",\"161 St-Yankee Stadium (B,D,4)\",\"Lorimer St (L)\\u002fMetropolitan Av (G)\",\"Court Sq (E,G,M,7)\",\"Fulton St (A,C,J,Z,2,3,4,5)\",\"Fulton St (A,C,J,Z,2,3,4,5)\",\"Times Sq-42 St (N,Q,R,W,S,1,2,3,7)\\u002f42 St (A,C,E)\",\"Fulton St (A,C,J,Z,2,3,4,5)\",\"Delancey St (F)\\u002fEssex St (J,M,Z)\",\"Lexington Av-53 St (E,M)\\u002f51 St (6)\",\"Court Sq (E,G,M,7)\",\"14 St-Union Sq (L,N,Q,R,W,4,5,6)\",\"Canal St (J,N,Q,R,W,Z,6)\",\"161 St-Yankee Stadium (B,D,4)\",\"14 St-Union Sq (L,N,Q,R,W,4,5,6)\",\"Bryant Pk (B,D,F,M)\\u002f5 Av (7)\",\"Chambers St (A,C)\\u002fWTC (E)\\u002fPark Pl (2,3)\\u002fCortlandt (R,W)\",\"Fulton St (A,C,J,Z,2,3,4,5)\",\"168 St (A,C,1)\",\"Times Sq-42 St (N,Q,R,W,S,1,2,3,7)\\u002f42 St (A,C,E)\",\"14 St (F,M,1,2,3)\\u002f6 Av (L)\",\"Delancey St (F)\\u002fEssex St (J,M,Z)\",\"Chambers St (A,C)\\u002fWTC (E)\\u002fPark Pl (2,3)\\u002fCortlandt (R,W)\",\"34 St-Herald Sq (B,D,F,M,N,Q,R,W)\",\"Court Sq (E,G,M,7)\",\"Canal St (J,N,Q,R,W,Z,6)\",\"Cypress Av (6)\",\"Chambers St (A,C)\\u002fWTC (E)\\u002fPark Pl (2,3)\\u002fCortlandt (R,W)\",\"Jay St-MetroTech (A,C,F,R)\",\"Court Sq (E,G,M,7)\",\"Seneca Av (M)\",\"103 St (6)\",\"Nassau Av (G)\",\"Parsons Blvd (F)\",\"East Broadway (F)\",\"66 St-Lincoln Center (1)\",\"Clark St (2,3)\",\"Nostrand Av (3)\",\"Astoria-Ditmars Blvd (N,W)\",\"Woodhaven Blvd (M,R)\",\"Wakefield-241 St (2)\",\"86 St (1)\",\"34 St-Penn Station (1,2,3)\",\"DeKalb Av (B,Q,R)\",\"Nevins St (2,3,4,5)\",\"Burnside Av (4)\",\"125 St (4,5,6)\",\"Broadway (G)\",\"Bedford-Nostrand Avs (G)\",\"Nereid Av (2,5)\",\"Lexington Av\\u002f63 St (F,Q)\",\"Smith-9 Sts (F,G)\",\"E 180 St (2,5)\",\"Marcy Av (M,J,Z)\",\"Bergen St (2,3)\",\"Van Cortlandt Park-242 St (1)\",\"Carroll St (F,G)\",\"Prospect Park (B,Q,S)\",\"Kingston Av (3)\",\"63 Dr-Rego Park (M,R)\",\"47-50 Sts-Rockefeller Ctr (B,D,F,M)\",\"72 St (1,2,3)\",\"103 St (1)\",\"Bergen St (F,G)\",\"Fulton St (G)\",\"Forest Hills-71 Av (E,F,M,R)\",\"Clinton-Washington Avs (G)\",\"Central Av (M)\",\"Kingsbridge Rd (4)\",\"Forest Av (M)\",\"Bedford Park Blvd-Lehman College (4)\",\"Grand St (B,D)\",\"Saratoga Av (3)\",\"Eastern Pkwy-Brooklyn Museum (2,3)\",\"110 St (6)\",\"Pelham Pkwy (2,5)\",\"Kew Gardens-Union Tpke (E,F)\",\"Gun Hill Rd (2,5)\",\"Livonia Av (L)\",\"Flushing Av (G)\",\"Knickerbocker Av (M)\",\"Cathedral Pkwy (110 St) (1)\",\"Grand Army Plaza (2,3)\",\"116 St-Columbia University (1)\",\"Hewes St (M,J)\",\"Sutphin Blvd (F)\",\"Broad St (J,Z)\",\"Myrtle-Willoughby Avs (G)\",\"Rector St (1)\",\"Bay Ridge-95 St (R)\",\"Fordham Rd (4)\",\"WTC Cortlandt (1)\",\"Allerton Av (2,5)\",\"86 St (4,5,6)\",\"Fresh Pond Rd (M)\",\"Grand Av-Newtown (M,R)\",\"7 Av (F,G)\",\"Sutter Av-Rutland Rd (3)\",\"Greenpoint Av (G)\",\"Bowling Green (4,5)\",\"Crown Hts-Utica Av (3,4)\",\"96 St (1,2,3)\",\"Middle Village-Metropolitan Av (M)\",\"Bronx Park East (2,5)\",\"138 St-Grand Concourse (4,5)\",\"Rockaway Av (3)\",\"Junius St (3)\",\"New Lots Av (L)\",\"E 143 St-St Mary's St (6)\",\"Marble Hill-225 St (1)\",\"West Farms Sq-E Tremont Av (2,5)\",\"59 St (N,R)\",\"Avenue I (F)\",\"Longwood Av (6)\",\"190 St (A)\",\"Broadway (N,W)\",\"Crescent St (J,Z)\",\"34 St-Penn Station (A,C,E)\",\"23 St (R,W)\",\"Cypress Hills (J)\",\"President St-Medgar Evers College (2,5)\",\"191 St (1)\",\"Inwood-207 St (A)\",\"New Utrecht Av (N)\\u002f62 St (D)\",\"Avenue P (F)\",\"Bay Pkwy (F)\",\"Morrison Av-Soundview (6)\",\"City Hall (R,W)\",\"Winthrop St (2,5)\",\"15 St-Prospect Park (F,G)\",\"Spring St (6)\",\"5 Av\\u002f59 St (N,R,W)\",\"Dyckman St (1)\",\"Beach 60 St (A)\",\"Prince St (R,W)\",\"85 St-Forest Pkwy (J)\",\"181 St (A)\",\"163 St-Amsterdam Av (C)\",\"Dyckman St (A)\",\"Canal St (A,C,E)\",\"Neptune Av (F)\",\"Pennsylvania Av (3)\",\"Spring St (C,E)\",\"Hunts Point Av (6)\",\"Nostrand Av (A,C)\",\"New Utrecht Av (N)\\u002f62 St (D)\",\"Pelham Bay Park (6)\",\"175 St (A)\",\"Van Siclen Av (3)\",\"137 St-City College (1)\",\"W 4 St-Wash Sq (A,C,E,B,D,F,M)\",\"68 St-Hunter College (6)\",\"Church Av (F,G)\",\"Ditmas Av (F)\",\"Prospect Av (R)\",\"Westchester Sq-E Tremont Av (6)\",\"207 St (1)\",\"Rockaway Park-Beach 116 St (A,S)\",\"Middletown Rd (6)\",\"Beverly Rd (2,5)\",\"14 St (A,C,E)\\u002f8 Av (L)\",\"59 St-Columbus Circle (A,B,C,D,1)\",\"Avenue X (F)\",\"Aqueduct-N Conduit Av (A)\",\"Beach 90 St (A,S)\",\"St Lawrence Av (6)\",\"New Lots Av (3)\",\"Beach 44 St (A)\",\"157 St (1)\",\"Wall St (4,5)\",\"Woodhaven Blvd (J,Z)\",\"Howard Beach-JFK Airport (A)\",\"Sterling St (2,5)\",\"Norwood Av (J,Z)\",\"Jamaica-179 St (F)\",\"Whitlock Av (6)\",\"Court St (R)\\u002fBorough Hall (2,3,4,5)\",\"Church Av (2,5)\",\"Canarsie-Rockaway Pkwy (L)\",\"Aqueduct Racetrack (A)\",\"Kings Hwy (N)\",\"75 St-Elderts Ln (J,Z)\",\"Beach 67 St (A)\",\"Hoyt-Schermerhorn Sts (A,C,G)\",\"Castle Hill Av (6)\",\"Ozone Park-Lefferts Blvd (A)\",\"Atlantic Av-Barclays Ctr (B,D,N,Q,R,2,3,4,5)\",\"Beach 98 St (A,S)\",\"Fort Hamilton Pkwy (F,G)\",\"Beach 105 St (A,S)\",\"Atlantic Av-Barclays Ctr (B,D,N,Q,R,2,3,4,5)\",\"57 St-7 Av (N,Q,R,W)\",\"Clinton-Washington Avs (C)\",\"Broadway Junction (A,C,J,L,Z)\",\"Cleveland St (J)\",\"215 St (1)\",\"Lafayette Av (C)\",\"East 105 St (L)\",\"74-Broadway (7)\\u002fJackson Hts-Roosevelt Av (E,F,M,R)\",\"Astoria Blvd (N,W)\",\"Broadway-Lafayette St (B,D,F,M)\\u002fBleecker St (6)\",\"Broadway-Lafayette St (B,D,F,M)\\u002fBleecker St (6)\",\"Broad Channel (A,S)\",\"74-Broadway (7)\\u002fJackson Hts-Roosevelt Av (E,F,M,R)\",\"59 St-Columbus Circle (A,B,C,D,1)\",\"Court St (R)\\u002fBorough Hall (2,3,4,5)\",\"14 St (A,C,E)\\u002f8 Av (L)\",\"74-Broadway (7)\\u002fJackson Hts-Roosevelt Av (E,F,M,R)\",\"Atlantic Av-Barclays Ctr (B,D,N,Q,R,2,3,4,5)\",\"New Utrecht Av (N)\\u002f62 St (D)\",\"Jackson Av (2,5)\",\"Junction Blvd (7)\",\"Avenue J (Q)\",\"Avenue H (Q)\",\"3 Av-149 St (2,5)\",\"Lorimer St (M,J)\",\"90 St-Elmhurst Av (7)\",\"61 St-Woodside (7)\",\"Newkirk Plaza (B,Q)\",\"Halsey St (J)\",\"Church Av (B,Q)\",\"82 St-Jackson Hts (7)\",\"Parkside Av (Q)\",\"Intervale Av (2,5)\",\"Freeman St (2,5)\",\"Vernon Blvd-Jackson Av (7)\",\"Tompkinsville (SIR)\",\"Gun Hill Rd (5)\",\"RI Tramway (Manhattan)\",\"Flushing-Main St (7)\",\"St George (SIR)\",\"Van Siclen Av (J,Z)\",\"Mets-Willets Point (7)\",\"Prospect Av (2,5)\",\"Queensboro Plaza (7,N,W)\",\"Bay Ridge Av (R)\",\"Myrtle Av (M,J,Z)\",\"Hunters Point Av (7)\",\"46 St-Bliss St (7)\",\"Flatbush Av-Brooklyn College (2,5)\",\"Beverley Rd (Q)\",\"Newkirk Av-Little Haiti (2,5)\",\"33 St-Rawson St (7)\",\"Kosciuszko St (J)\",\"Harlem-148 St (3)\",\"Chauncey St (J,Z)\",\"Central Park North (110 St) (2,3)\",\"103 St-Corona Plaza (7)\",\"Cortelyou Rd (Q)\",\"34 St-Hudson Yards (7)\",\"Baychester Av (5)\",\"Eastchester-Dyre Av (5)\",\"RI Tramway (Roosevelt)\",\"Franklin Av (2,3,4,5)\\u002fBotanic Garden (S)\",\"14 St (F,M,1,2,3)\\u002f6 Av (L)\",\"Lexington Av-53 St (E,M)\\u002f51 St (6)\",\"183 St (4)\",\"21 St (G)\",\"125 St (4,5,6)\",\"Kings Hwy (B,Q)\",\"4 Av (F,G)\\u002f9 St (R)\",\"Times Sq-42 St (N,Q,R,W,S,1,2,3,7)\\u002f42 St (A,C,E)\",\"Nereid Av (2,5)\",\"Sutter Av-Rutland Rd (3)\",\"Nostrand Av (3)\",\"Prospect Park (B,Q,S)\",\"18 Av (N)\",\"2 Av (F)\",\"7 Av (F,G)\",\"23 St (F,M)\",\"225 St (2,5)\",\"Wakefield-241 St (2)\",\"W 8 St-NY Aquarium (F,Q)\",\"Greenpoint Av (G)\",\"Burnside Av (4)\",\"Bay Pkwy (N)\",\"Clinton-Washington Avs (G)\",\"Bay Pkwy (D)\",\"34 St-Herald Sq (B,D,F,M,N,Q,R,W)\",\"57 St (F)\",\"Van Cortlandt Park-242 St (1)\",\"East Broadway (F)\",\"Bowling Green (4,5)\",\"Jamaica-Van Wyck (E)\",\"Kingsbridge Rd (4)\",\"176 St (4)\",\"Saratoga Av (3)\",\"170 St (4)\",\"Nevins St (2,3,4,5)\",\"Pelham Pkwy (2,5)\",\"Fulton St (A,C,J,Z,2,3,4,5)\",\"238 St (1)\",\"Lexington Av\\u002f63 St (F,Q)\",\"39 Av-Dutch Kills (N,W)\",\"Fort Hamilton Pkwy (D)\",\"Kingston Av (3)\",\"50 St (D)\",\"161 St-Yankee Stadium (B,D,4)\",\"Fort Hamilton Pkwy (N)\",\"Bergen St (2,3)\",\"Bronx Park East (2,5)\",\"York St (F)\",\"Brook Av (6)\",\"20 Av (N)\",\"231 St (1)\",\"14 St-Union Sq (L,N,Q,R,W,4,5,6)\",\"Eastern Pkwy-Brooklyn Museum (2,3)\",\"Burke Av (2,5)\",\"Avenue U (Q)\",\"Crown Hts-Utica Av (3,4)\",\"Flushing Av (G)\",\"Classon Av (G)\",\"Grand St (B,D)\",\"18 Av (D)\",\"Nassau Av (G)\",\"47-50 Sts-Rockefeller Ctr (B,D,F,M)\",\"South Ferry (1)\\u002fWhitehall St (R,W)\",\"9 Av (D)\",\"149 St-Grand Concourse (2,4,5)\",\"Fordham Rd (4)\",\"233 St (2,5)\",\"Brooklyn Bridge-City Hall (4,5,6)\\u002fChambers St (J,Z)\",\"Neck Rd (Q)\",\"Delancey St (F)\\u002fEssex St (J,M,Z)\",\"Roosevelt Island (F)\",\"Woodlawn (4)\",\"Court Sq (E,G,M,7)\",\"Smith-9 Sts (F,G)\",\"219 St (2,5)\",\"79 St (D)\",\"Carroll St (F,G)\",\"Lexington Av (N,R,W)\\u002f59 St (4,5,6)\",\"Brighton Beach (B,Q)\",\"25 Av (D)\",\"Myrtle-Willoughby Avs (G)\",\"Sheepshead Bay (B,Q)\",\"Myrtle-Wyckoff Avs (L,M)\",\"Allerton Av (2,5)\",\"Broadway (G)\",\"Canal St (J,N,Q,R,W,Z,6)\",\"Mt Eden Av (4)\",\"Bay 50 St (D)\",\"3 Av-138 St (6)\",\"Bryant Pk (B,D,F,M)\\u002f5 Av (7)\",\"Chambers St (A,C)\\u002fWTC (E)\\u002fPark Pl (2,3)\\u002fCortlandt (R,W)\",\"Cypress Av (6)\",\"116 St (6)\",\"Grand Army Plaza (2,3)\",\"Bergen St (F,G)\",\"Court Sq (E,G,M,7)\",\"Franklin Av (2,3,4,5)\\u002fBotanic Garden (S)\",\"Franklin Av (C,S)\",\"Lorimer St (L)\\u002fMetropolitan Av (G)\",\"E 180 St (2,5)\",\"168 St (A,C,1)\",\"14 St (F,M,1,2,3)\\u002f6 Av (L)\",\"138 St-Grand Concourse (4,5)\",\"71 St (D)\",\"Bedford-Nostrand Avs (G)\",\"Rockaway Av (3)\",\"Fulton St (G)\",\"Grand Central-42 St (S,4,5,6,7)\",\"Jay St-MetroTech (A,C,F,R)\",\"Times Sq-42 St (N,Q,R,W,S,1,2,3,7)\\u002f42 St (A,C,E)\",\"Coney Island-Stillwell Av (D,F,N,Q)\",\"Junius St (3)\",\"Ocean Pkwy (Q)\",\"167 St (4)\",\"Bedford Park Blvd-Lehman College (4)\",\"Mosholu Pkwy (4)\",\"Gun Hill Rd (2,5)\",\"20 Av (D)\",\"Jay St-MetroTech (A,C,F,R)\",\"53 St (R)\",\"161 St-Yankee Stadium (B,D,4)\",\"Court Sq (E,G,M,7)\",\"Bay Ridge-95 St (R)\",\"Fulton St (A,C,J,Z,2,3,4,5)\",\"Marble Hill-225 St (1)\",\"Canal St (J,N,Q,R,W,Z,6)\",\"Court Sq (E,G,M,7)\",\"8 Av (N)\",\"Hoyt St (2,3)\",\"Brooklyn Bridge-City Hall (4,5,6)\\u002fChambers St (J,Z)\",\"86 St (R)\",\"14 St (F,M,1,2,3)\\u002f6 Av (L)\",\"Clark St (2,3)\",\"West Farms Sq-E Tremont Av (2,5)\",\"Bryant Pk (B,D,F,M)\\u002f5 Av (7)\",\"14 St-Union Sq (L,N,Q,R,W,4,5,6)\",\"Canal St (J,N,Q,R,W,Z,6)\",\"Chambers St (A,C)\\u002fWTC (E)\\u002fPark Pl (2,3)\\u002fCortlandt (R,W)\",\"Fulton St (A,C,J,Z,2,3,4,5)\",\"14 St-Union Sq (L,N,Q,R,W,4,5,6)\",\"Fulton St (A,C,J,Z,2,3,4,5)\",\"Times Sq-42 St (N,Q,R,W,S,1,2,3,7)\\u002f42 St (A,C,E)\",\"Canal St (J,N,Q,R,W,Z,6)\",\"Lorimer St (L)\\u002fMetropolitan Av (G)\",\"Fulton St (A,C,J,Z,2,3,4,5)\",\"Times Sq-42 St (N,Q,R,W,S,1,2,3,7)\\u002f42 St (A,C,E)\",\"E 143 St-St Mary's St (6)\",\"Court Sq (E,G,M,7)\",\"South Ferry (1)\\u002fWhitehall St (R,W)\",\"23 St (1)\",\"65 St (M,R)\",\"Fulton St (A,C,J,Z,2,3,4,5)\",\"Fulton St (A,C,J,Z,2,3,4,5)\",\"Delancey St (F)\\u002fEssex St (J,M,Z)\",\"23 St (6)\",\"161 St-Yankee Stadium (B,D,4)\",\"45 St (R)\",\"4 Av (F,G)\\u002f9 St (R)\",\"Delancey St (F)\\u002fEssex St (J,M,Z)\",\"Parkchester (6)\",\"86 St (1)\",\"Lexington Av (N,R,W)\\u002f59 St (4,5,6)\",\"168 St (A,C,1)\",\"Spring St (6)\",\"Jay St-MetroTech (A,C,F,R)\",\"14 St (F,M,1,2,3)\\u002f6 Av (L)\",\"14 St (F,M,1,2,3)\\u002f6 Av (L)\",\"169 St (F)\",\"Fulton St (A,C,J,Z,2,3,4,5)\",\"Longwood Av (6)\",\"Whitlock Av (6)\",\"Bryant Pk (B,D,F,M)\\u002f5 Av (7)\",\"46 St (M,R)\",\"77 St (R)\",\"34 St-Herald Sq (B,D,F,M,N,Q,R,W)\",\"Lexington Av-53 St (E,M)\\u002f51 St (6)\",\"77 St (6)\",\"Elder Av (6)\",\"103 St (1)\",\"18 St (1)\",\"Court Sq (E,G,M,7)\",\"79 St (1)\",\"36 St (D,N,R)\",\"7 Av (B,Q)\",\"Chambers St (A,C)\\u002fWTC (E)\\u002fPark Pl (2,3)\\u002fCortlandt (R,W)\",\"7 Av (E,B,D)\",\"Beach 60 St (A)\",\"Middletown Rd (6)\",\"67 Av (M,R)\",\"72 St (1,2,3)\",\"86 St (4,5,6)\",\"Pelham Bay Park (6)\",\"New Utrecht Av (N)\\u002f62 St (D)\",\"Norwood Av (J,Z)\",\"Avenue U (N)\",\"59 St-Columbus Circle (A,B,C,D,1)\",\"Parsons Blvd (F)\",\"110 St (6)\",\"Hoyt-Schermerhorn Sts (A,C,G)\",\"Hunts Point Av (6)\",\"New Lots Av (L)\",\"23 St (R,W)\",\"116 St-Columbia University (1)\",\"Canarsie-Rockaway Pkwy (L)\",\"85 St-Forest Pkwy (J)\",\"57 St-7 Av (N,Q,R,W)\",\"St Lawrence Av (6)\",\"23 St (C,E)\",\"Ozone Park-Lefferts Blvd (A)\",\"Beach 105 St (A,S)\",\"Court St (R)\\u002fBorough Hall (2,3,4,5)\",\"96 St (1,2,3)\",\"Astoria-Ditmars Blvd (N,W)\",\"Beach 36 St (A)\",\"Briarwood (E,F)\",\"DeKalb Av (B,Q,R)\",\"East 105 St (L)\",\"Sutphin Blvd (F)\",\"W 4 St-Wash Sq (A,C,E,B,D,F,M)\",\"Elmhurst Av (M,R)\",\"Atlantic Av-Barclays Ctr (B,D,N,Q,R,2,3,4,5)\",\"75 St-Elderts Ln (J,Z)\",\"34 St-Penn Station (1,2,3)\",\"Grand Av-Newtown (M,R)\",\"Rockaway Park-Beach 116 St (A,S)\",\"Park Pl (S)\",\"Broad St (J,Z)\",\"Fresh Pond Rd (M)\",\"Kew Gardens-Union Tpke (E,F)\",\"Cypress Hills (J)\",\"111 St (J)\",\"Woodhaven Blvd (M,R)\",\"50 St (1)\",\"Morrison Av-Soundview (6)\",\"28 St (1)\",\"86 St (N)\",\"Kings Hwy (N)\",\"Knickerbocker Av (M)\",\"55 St (D)\",\"Broadway Junction (A,C,J,L,Z)\",\"Seneca Av (M)\",\"Middle Village-Metropolitan Av (M)\",\"75 Av (E,F)\",\"Nostrand Av (A,C)\",\"Prince St (R,W)\",\"Court St (R)\\u002fBorough Hall (2,3,4,5)\",\"Buhre Av (6)\",\"74-Broadway (7)\\u002fJackson Hts-Roosevelt Av (E,F,M,R)\",\"175 St (A)\",\"Castle Hill Av (6)\",\"Cathedral Pkwy (110 St) (1)\",\"Dyckman St (A)\",\"Crescent St (J,Z)\",\"121 St (J,Z)\",\"Sutter Av (L)\",\"Canal St (A,C,E)\",\"163 St-Amsterdam Av (C)\",\"Cleveland St (J)\",\"Westchester Sq-E Tremont Av (6)\",\"14 St (A,C,E)\\u002f8 Av (L)\",\"Inwood-207 St (A)\",\"Beach 67 St (A)\",\"Aqueduct-N Conduit Av (A)\",\"96 St (6)\",\"Spring St (C,E)\",\"City Hall (R,W)\",\"3 Av (L)\",\"Beach 90 St (A,S)\",\"181 St (A)\",\"Astoria Blvd (N,W)\",\"63 Dr-Rego Park (M,R)\",\"25 St (R)\",\"49 St (N,R,W)\",\"Beach 25 St (A)\",\"Broadway-Lafayette St (B,D,F,M)\\u002fBleecker St (6)\",\"Hewes St (M,J)\",\"34 St-Penn Station (A,C,E)\",\"High St (A,C)\",\"Forest Hills-71 Av (E,F,M,R)\",\"Livonia Av (L)\",\"190 St (A)\",\"Clinton-Washington Avs (C)\",\"Zerega Av (6)\",\"Forest Av (M)\",\"Bowery (J,Z)\",\"Aqueduct Racetrack (A)\",\"Marcy Av (M,J,Z)\",\"5 Av\\u002f59 St (N,R,W)\",\"Woodhaven Blvd (J,Z)\",\"103 St (6)\",\"Central Av (M)\",\"Howard Beach-JFK Airport (A)\",\"Kingston-Throop Avs (C)\",\"50 St (C,E)\",\"104 St (J,Z)\",\"155 St (C)\",\"66 St-Lincoln Center (1)\",\"Broad Channel (A,S)\",\"Beach 98 St (A,S)\",\"1 Av (L)\",\"111 St (A)\",\"Lafayette Av (C)\",\"Far Rockaway-Mott Av (A)\",\"Beach 44 St (A)\",\"Astor Pl (6)\",\"Atlantic Av-Barclays Ctr (B,D,N,Q,R,2,3,4,5)\",\"Atlantic Av-Barclays Ctr (B,D,N,Q,R,2,3,4,5)\",\"New Utrecht Av (N)\\u002f62 St (D)\",\"74-Broadway (7)\\u002fJackson Hts-Roosevelt Av (E,F,M,R)\",\"New Utrecht Av (N)\\u002f62 St (D)\",\"14 St (A,C,E)\\u002f8 Av (L)\",\"125 St (1)\",\"Broadway-Lafayette St (B,D,F,M)\\u002fBleecker St (6)\",\"59 St-Columbus Circle (A,B,C,D,1)\",\"181 St (1)\",\"174-175 Sts (B,D)\",\"Wilson Av (L)\",\"80 St (A)\",\"88 St (A)\",\"145 St (1)\",\"Rector St (1)\",\"28 St (6)\",\"WTC Cortlandt (1)\",\"Northern Blvd (M,R)\",\"Franklin St (1)\",\"Wall St (4,5)\",\"E 149 St (6)\",\"33 St (6)\",\"Houston St (1)\",\"Broadway (N,W)\",\"68 St-Hunter College (6)\",\"Queens Plaza (E,M,R)\",\"Christopher St-Sheridan Sq (1)\",\"Jamaica Center-Parsons\\u002fArcher (E,J,Z)\",\"Chambers St (1,2,3)\",\"Steinway St (M,R)\",\"Wall St (2,3)\",\"36 St (M,R)\",\"Union St (R)\",\"Sutphin Blvd-Archer Av-JFK Airport (E,J,Z)\",\"5 Av\\u002f53 St (E,M)\",\"Canal St (1)\",\"Bedford Av (L)\",\"Graham Av (L)\",\"Grand St (L)\",\"Montrose Av (L)\",\"Court St (R)\\u002fBorough Hall (2,3,4,5)\",\"Times Sq-42 St (N,Q,R,W,S,1,2,3,7)\\u002f42 St (A,C,E)\",\"Grant Av (A)\",\"Halsey St (L)\",\"96 St (C,B)\",\"Ralph Av (C)\",\"135 St (C,B)\",\"Shepherd Av (C)\",\"Norwood-205 St (D)\",\"Kingsbridge Rd (B,D)\",\"21 St-Queensbridge (F)\",\"Rockaway Blvd (A)\",\"Van Siclen Av (C)\",\"Rector St (R,W)\",\"Liberty Av (C)\",\"Morgan Av (L)\",\"104 St (A)\",\"8 St-NYU (R,W)\",\"155 St (B,D)\",\"125 St (A,C,B,D)\",\"28 St (R,W)\",\"Utica Av (A,C)\",\"DeKalb Av (L)\",\"Bushwick Av-Aberdeen St (L)\",\"Rockaway Av (C)\",\"182-183 Sts (B,D)\",\"86 St (C,B)\",\"145 St (A,C,B,D)\",\"Fordham Rd (B,D)\",\"Jefferson St (L)\",\"Cathedral Pkwy (110 St) (C,B)\",\"72 St (C,B)\",\"103 St (C,B)\",\"170 St (B,D)\",\"Tremont Av (B,D)\",\"116 St (C,B)\",\"167 St (B,D)\",\"Atlantic Av (L)\",\"81 St-Museum of Natural History (C,B)\",\"Bedford Park Blvd (B,D)\",\"Euclid Av (A,C)\",\"Times Sq-42 St (N,Q,R,W,S,1,2,3,7)\\u002f42 St (A,C,E)\",\"74-Broadway (7)\\u002fJackson Hts-Roosevelt Av (E,F,M,R)\",\"Avenue U (F)\",\"Avenue P (F)\",\"Fort Hamilton Pkwy (F,G)\",\"30 Av (N,W)\",\"Bay Pkwy (F)\",\"Church Av (F,G)\",\"Ditmas Av (F)\",\"137 St-City College (1)\",\"Prospect Av (R)\",\"Dyckman St (1)\",\"18 Av (F)\",\"Jamaica-179 St (F)\",\"157 St (1)\",\"Avenue X (F)\",\"191 St (1)\",\"15 St-Prospect Park (F,G)\",\"Avenue N (F)\",\"207 St (1)\",\"Neptune Av (F)\",\"215 St (1)\",\"Kings Hwy (F)\",\"Avenue I (F)\",\"36 Av (N,W)\",\"69 St (7)\",\"145 St (3)\",\"72 St (Q)\",\"Beverley Rd (Q)\",\"86 St (Q)\",\"34 St-Hudson Yards (7)\",\"New Lots Av (3)\",\"Winthrop St (2,5)\",\"Parkside Av (Q)\",\"Sterling St (2,5)\",\"Gun Hill Rd (5)\",\"61 St-Woodside (7)\",\"Queensboro Plaza (7,N,W)\",\"Jackson Av (2,5)\",\"President St-Medgar Evers College (2,5)\",\"Freeman St (2,5)\",\"Avenue J (Q)\",\"Pelham Pkwy (5)\",\"Church Av (B,Q)\",\"Beverly Rd (2,5)\",\"Newkirk Plaza (B,Q)\",\"96 St (Q)\",\"125 St (2,3)\",\"Central Park North (110 St) (2,3)\",\"Vernon Blvd-Jackson Av (7)\",\"Intervale Av (2,5)\",\"90 St-Elmhurst Av (7)\",\"Mets-Willets Point (7)\",\"Avenue H (Q)\",\"116 St (2,3)\",\"111 St (7)\",\"Newkirk Av-Little Haiti (2,5)\",\"3 Av-149 St (2,5)\",\"Van Siclen Av (3)\",\"Flushing-Main St (7)\",\"174 St (2,5)\",\"Avenue M (Q)\",\"Church Av (2,5)\",\"Hunters Point Av (7)\",\"Harlem-148 St (3)\",\"52 St (7)\",\"Pennsylvania Av (3)\",\"Morris Park (5)\",\"Cortelyou Rd (Q)\",\"59 St (N,R)\",\"33 St-Rawson St (7)\",\"Bay Ridge Av (R)\",\"40 St-Lowery St (7)\",\"Prospect Av (2,5)\",\"Baychester Av (5)\",\"Tompkinsville (SIR)\",\"Eastchester-Dyre Av (5)\",\"Flatbush Av-Brooklyn College (2,5)\",\"Junction Blvd (7)\",\"Simpson St (2,5)\",\"135 St (2,3)\",\"46 St-Bliss St (7)\",\"82 St-Jackson Hts (7)\",\"St George (SIR)\",\"103 St-Corona Plaza (7)\",\"Canal St (J,N,Q,R,W,Z,6)\",\"Chambers St (A,C)\\u002fWTC (E)\\u002fPark Pl (2,3)\\u002fCortlandt (R,W)\",\"Canal St (J,N,Q,R,W,Z,6)\",\"Halsey St (J)\",\"Alabama Av (J)\",\"Gates Av (J,Z)\",\"Times Sq-42 St (N,Q,R,W,S,1,2,3,7)\\u002f42 St (A,C,E)\",\"Court St (R)\\u002fBorough Hall (2,3,4,5)\",\"Court St (R)\\u002fBorough Hall (2,3,4,5)\",\"Court St (R)\\u002fBorough Hall (2,3,4,5)\",\"Chauncey St (J,Z)\",\"Lorimer St (M,J)\",\"Flushing Av (M,J)\",\"Myrtle Av (M,J,Z)\",\"Van Siclen Av (J,Z)\",\"Kosciuszko St (J)\",\"Court St (R)\\u002fBorough Hall (2,3,4,5)\",\"Court St (R)\\u002fBorough Hall (2,3,4,5)\",\"Franklin Av (2,3,4,5)\\u002fBotanic Garden (S)\"],\"lat\":[40.646294,40.74307,40.75204,40.883896,40.83377,40.68171,40.745907,40.77362,40.63626,40.61741,40.70682,40.784317,40.62067,40.604557,40.828583,40.739864,40.67705,40.68433,40.858406,40.85041,40.76678,40.75173,40.756313,40.631435,40.839306,40.835537,40.81212,40.744064,40.884666,40.814228,40.746326,40.711926,40.73285,40.730953,40.648937,40.78567,40.597706,40.815582,40.730053,40.700493,40.837288,40.690544,40.763973,40.71047,40.726524,40.69518,40.745495,40.62269,40.756805,40.595245,40.878857,40.71833,40.84681,40.7234,40.824074,40.886036,40.655144,40.679844,40.861298,40.635063,40.64507,40.844433,40.629753,40.74967,40.74408,40.82655,40.660397,40.7688,40.603218,40.74415,40.69742,40.61514,40.59606,40.82042,40.810474,40.807568,40.783936,40.893192,40.61959,40.74104,40.607952,40.84848,40.817894,40.688873,40.747215,40.833225,40.62974,40.597473,40.888023,40.87975,40.613503,40.78587,40.58884,40.695602,40.5993,40.67937,40.68963,40.70026,40.807755,40.746082,40.699337,40.8459,40.67699,40.840076,40.7599,40.67477,40.600067,40.858986,40.728252,40.59272,40.701397,40.601875,40.67882,40.761726,40.805084,40.70918,40.762455,40.849506,40.871357,40.77789,40.836487,40.722855,40.830135,40.595398,40.743782,40.61762,40.72028,40.854362,40.79863,40.742878,40.802097,40.714565,40.677044,40.706154,40.688763,40.66937,40.710197,40.759144,40.68138,40.631386,40.760166,40.818375,40.675377,40.856094,40.71932,40.692337,40.670273,40.76266,40.756878,40.800602,40.718613,40.754204,40.70381,40.706608,40.586895,40.811108,40.71324,40.680428,40.71953,40.730328,40.715477,40.73342,40.677315,40.824783,40.57762,40.70774,40.762863,40.748974,40.679363,40.68283,40.747845,40.735737,40.718803,40.675346,40.873245,40.71411,40.703087,40.603996,40.70722,40.70215,40.67271,40.738228,40.576313,40.866978,40.71406,40.742455,40.775593,40.71953,40.754223,40.75288,40.75731,40.67454,40.757553,40.87481,40.67068,40.640915,40.611816,40.577423,40.752884,40.79164,40.576126,40.67413,40.840717,40.699814,40.67992,40.781433,40.67085,40.830517,40.751778,40.692337,40.75731,40.67834,40.754223,40.749718,40.700485,40.796093,40.710373,40.717304,40.71037,40.762527,40.827995,40.702564,40.746555,40.737827,40.75731,40.60867,40.718094,40.70207,40.71037,40.713066,40.827904,40.71279,40.747025,40.71037,40.710197,40.75529,40.710373,40.718315,40.757107,40.747845,40.735737,40.71953,40.827995,40.734673,40.753822,40.710667,40.709415,40.840557,40.75529,40.737827,40.718613,40.71305,40.749565,40.747025,40.718803,40.805367,40.71258,40.69218,40.747845,40.702763,40.7906,40.724636,40.707565,40.713715,40.77344,40.697468,40.669846,40.775036,40.733105,40.903126,40.788643,40.750374,40.690636,40.688248,40.853455,40.80414,40.706093,40.68963,40.89838,40.76463,40.67358,40.841892,40.70836,40.68083,40.889248,40.6803,40.661613,40.6694,40.729847,40.758663,40.778454,40.799446,40.686146,40.68712,40.72169,40.688087,40.697857,40.86776,40.704422,40.873413,40.718266,40.661453,40.671986,40.79502,40.857193,40.71444,40.87785,40.66404,40.70038,40.698666,40.803967,40.675236,40.80772,40.70687,40.70546,40.706474,40.69457,40.70751,40.616623,40.862804,40.711834,40.865463,40.77949,40.706184,40.737015,40.66627,40.66472,40.731354,40.70482,40.668896,40.79392,40.711395,40.848827,40.813225,40.662548,40.663513,40.658733,40.80872,40.87456,40.840294,40.64136,40.62532,40.816105,40.85902,40.76182,40.683193,40.75229,40.741302,40.68994,40.667885,40.855225,40.868073,40.626472,40.608944,40.62077,40.82952,40.713284,40.65665,40.660366,40.7223,40.764812,40.86053,40.592373,40.72433,40.692436,40.851696,40.836014,40.86549,40.720825,40.581013,40.664635,40.726227,40.82095,40.68044,40.624844,40.852463,40.84739,40.665447,40.822006,40.732338,40.768143,40.64404,40.63612,40.665413,40.839893,40.86462,40.580902,40.843864,40.6451,40.740894,40.768295,40.58962,40.668236,40.588036,40.83151,40.666237,40.59294,40.83404,40.707558,40.69388,40.660477,40.662743,40.68141,40.712646,40.826527,40.69322,40.650845,40.646652,40.672096,40.603924,40.691322,40.590927,40.688484,40.834255,40.68595,40.68446,40.585308,40.650784,40.58321,40.68436,40.764664,40.68326,40.678333,40.679947,40.869446,40.68611,40.650574,40.746643,40.77026,40.725914,40.725296,40.608383,40.74685,40.768246,40.692406,40.739777,40.74685,40.683666,40.626472,40.81649,40.749146,40.62504,40.62927,40.81611,40.70387,40.74841,40.74563,40.635082,40.68637,40.650528,40.747658,40.655293,40.82218,40.829994,40.742626,40.636948,40.869526,40.761337,40.7596,40.64375,40.678024,40.754623,40.819584,40.750584,40.634968,40.69721,40.742214,40.743134,40.632835,40.64403,40.63997,40.744587,40.69334,40.82388,40.68289,40.799076,40.749866,40.640926,40.755882,40.878662,40.8883,40.75734,40.67034,40.737335,40.757553,40.858406,40.744064,40.80414,40.60867,40.67085,40.75731,40.89838,40.66472,40.669846,40.661613,40.62067,40.7234,40.66627,40.742878,40.888023,40.903126,40.576126,40.731354,40.853455,40.611816,40.688087,40.601875,40.749718,40.763973,40.889248,40.713715,40.70482,40.702564,40.86776,40.84848,40.661453,40.840076,40.688248,40.857193,40.710373,40.884666,40.76463,40.75288,40.640915,40.6694,40.63626,40.827995,40.631386,40.68083,40.848827,40.701397,40.807568,40.61741,40.878857,40.735737,40.671986,40.871357,40.5993,40.668896,40.70038,40.688873,40.718266,40.607952,40.724636,40.758663,40.703087,40.646294,40.818375,40.862804,40.893192,40.71324,40.595245,40.718613,40.759144,40.886036,40.747845,40.67358,40.883896,40.613503,40.6803,40.76266,40.57762,40.597706,40.69457,40.586895,40.699814,40.865463,40.706093,40.71953,40.844433,40.58884,40.810474,40.754223,40.71411,40.805367,40.79863,40.675236,40.686146,40.747845,40.67068,40.68138,40.71406,40.841892,40.840717,40.738228,40.813225,40.61959,40.68963,40.662548,40.68712,40.751778,40.692337,40.75731,40.577423,40.663513,40.576313,40.835537,40.873413,40.87975,40.87785,40.604557,40.692337,40.64507,40.827995,40.747845,40.616623,40.71037,40.87456,40.718094,40.747025,40.635063,40.690544,40.713066,40.62269,40.737827,40.697468,40.840294,40.754223,40.735737,40.71953,40.71258,40.710197,40.734673,40.71037,40.75731,40.71953,40.71279,40.709415,40.75529,40.80872,40.746555,40.70207,40.74408,40.74967,40.710197,40.71037,40.718613,40.739864,40.827904,40.648937,40.670273,40.718315,40.833225,40.788643,40.762527,40.840557,40.7223,40.69218,40.737335,40.737827,40.71047,40.710373,40.816105,40.826527,40.753822,40.756313,40.62974,40.749565,40.757107,40.77362,40.828583,40.799446,40.74104,40.747025,40.783936,40.655144,40.67705,40.710667,40.762863,40.592373,40.843864,40.726524,40.778454,40.77949,40.852463,40.626472,40.68141,40.597473,40.768295,40.707565,40.79502,40.688484,40.82095,40.658733,40.741302,40.80772,40.646652,40.692436,40.764664,40.83151,40.745907,40.68595,40.58321,40.692406,40.79392,40.775036,40.595398,40.70918,40.690636,40.650574,40.70546,40.732338,40.742455,40.68446,40.691322,40.750374,40.737015,40.580902,40.67477,40.706474,40.706184,40.71444,40.68994,40.69742,40.733105,40.761726,40.82952,40.747215,40.59272,40.603924,40.698666,40.631435,40.678333,40.702763,40.711395,40.71833,40.68044,40.72433,40.69322,40.84681,40.74685,40.84739,40.834255,40.803967,40.86549,40.683193,40.700493,40.66937,40.720825,40.836014,40.679947,40.839893,40.740894,40.868073,40.590927,40.668236,40.78567,40.726227,40.713284,40.73285,40.588036,40.851696,40.77026,40.729847,40.660397,40.7599,40.600067,40.725914,40.70687,40.75229,40.699337,40.72169,40.66404,40.85902,40.68326,40.836487,40.704422,40.72028,40.672096,40.70836,40.764812,40.69388,40.7906,40.697857,40.660477,40.67992,40.762455,40.69518,40.830517,40.77344,40.608383,40.585308,40.730953,40.68433,40.68611,40.603996,40.59294,40.730053,40.68436,40.683666,40.624844,40.746643,40.626472,40.739777,40.815582,40.725296,40.768246,40.849506,40.8459,40.688763,40.67937,40.679844,40.82655,40.70751,40.74307,40.711834,40.752884,40.71932,40.707558,40.81212,40.746082,40.728252,40.76182,40.768143,40.748974,40.73342,40.70215,40.715477,40.756878,40.70682,40.75204,40.677315,40.700485,40.760166,40.722855,40.717304,40.714565,40.711926,40.70774,40.6941,40.754673,40.677044,40.695602,40.79164,40.67882,40.817894,40.67413,40.87481,40.866978,40.754204,40.680428,40.67271,40.70722,40.67454,40.706154,40.68171,40.730328,40.830135,40.811108,40.745495,40.679363,40.70381,40.68283,40.67834,40.856094,40.78587,40.824783,40.861298,40.706608,40.800602,40.775593,40.796093,40.839306,40.85041,40.805084,40.83377,40.675346,40.781433,40.873245,40.675377,40.75529,40.74685,40.59606,40.608944,40.650784,40.76678,40.62077,40.64404,40.63612,40.822006,40.665413,40.86053,40.629753,40.712646,40.83404,40.58962,40.855225,40.660366,40.61514,40.86462,40.581013,40.869446,40.603218,40.62532,40.756805,40.746326,40.82042,40.7688,40.64403,40.77789,40.755882,40.666237,40.65665,40.655293,40.662743,40.869526,40.74563,40.750584,40.81649,40.667885,40.829994,40.62504,40.858986,40.650528,40.6451,40.635082,40.784317,40.807755,40.799076,40.742626,40.82218,40.74841,40.754623,40.62927,40.802097,40.75173,40.63997,40.81611,40.665447,40.7596,40.837288,40.61762,40.650845,40.742214,40.82388,40.74415,40.664635,40.854362,40.640926,40.64136,40.744587,40.634968,40.743782,40.819584,40.878662,40.636948,40.8883,40.632835,40.749146,40.824074,40.814228,40.743134,40.747658,40.64375,40.749866,40.718803,40.71305,40.718803,40.68637,40.67699,40.68963,40.754673,40.6941,40.6941,40.6941,40.68289,40.70387,40.70026,40.69721,40.678024,40.69334,40.6941,40.6941,40.67034],\"legendgroup\":\"\",\"lon\":[-73.99432,-73.98426,-73.92878,-73.86263,-73.91844,-73.837685,-73.99804,-73.95988,-73.99479,-73.98502,-74.0091,-73.94715,-73.99042,-73.99817,-73.87916,-73.9866,-73.97237,-73.83216,-73.90388,-73.90523,-73.92148,-73.85533,-73.91333,-73.995476,-73.9134,-73.9214,-73.9041,-73.94972,-73.90087,-73.94077,-73.8964,-73.94067,-73.98612,-73.98163,-74.01001,-73.95107,-73.98683,-73.958374,-73.99107,-73.82829,-73.88773,-73.98506,-73.97745,-73.7936,-73.85272,-73.84433,-73.98869,-74.0284,-73.92957,-73.95516,-73.90483,-73.837326,-73.832565,-73.98994,-73.89307,-73.87875,-74.00355,-73.85147,-73.89775,-74.01172,-74.01403,-73.91469,-73.976974,-73.89845,-73.99566,-73.95036,-73.99809,-73.95843,-73.97236,-73.91255,-73.83634,-73.9742,-73.97336,-73.93625,-73.92614,-73.91924,-73.97992,-73.857475,-73.99886,-73.99787,-74.00174,-73.9118,-73.94765,-73.96007,-73.99336,-73.86082,-74.02551,-73.97913,-73.860344,-73.88466,-74.00061,-73.96892,-73.983765,-73.90408,-73.95593,-73.85899,-73.92227,-73.941124,-73.945496,-73.98208,-73.99053,-73.91013,-73.89865,-73.91779,-73.98414,-73.95763,-73.76135,-73.85536,-74.00536,-73.97823,-73.98675,-73.99373,-73.920784,-73.98385,-73.95488,-73.82057,-73.985985,-73.93359,-73.867165,-73.95179,-73.84704,-74.00628,-73.93821,-73.76817,-73.92402,-73.9594,-73.99391,-73.8605,-73.94162,-73.99282,-73.94962,-73.94405,-73.86505,-73.93314,-73.904045,-73.90198,-74.00769,-73.95326,-73.95685,-74.00535,-73.97523,-73.92735,-73.87211,-73.90074,-74.00689,-73.98594,-73.98978,-73.967255,-73.92074,-73.95816,-73.987434,-73.94283,-73.91843,-73.92291,-73.954155,-73.95235,-74.0034,-73.84386,-73.99989,-73.99263,-74.00927,-74.00291,-73.98311,-73.944214,-73.96137,-73.93985,-73.981636,-73.93724,-73.93073,-73.90525,-73.94383,-73.98995,-73.99989,-73.9031,-73.88714,-74.00858,-74.01299,-73.7554,-74.01334,-73.80111,-73.89036,-73.99621,-73.9685,-73.89351,-73.95027,-73.88202,-73.97641,-74.00178,-73.981964,-73.932755,-73.986755,-73.896545,-73.969055,-73.87885,-73.95813,-73.9943,-73.98185,-73.98123,-73.906006,-73.9647,-73.97594,-73.88075,-73.93956,-73.91158,-73.94086,-73.972145,-73.988304,-73.94151,-73.976845,-73.98734,-73.987495,-73.91195,-73.984566,-73.98782,-73.80797,-73.96146,-74.00657,-73.95687,-74.00657,-73.967964,-73.92565,-73.81686,-73.94383,-74.0002,-73.98974,-73.95773,-73.99989,-74.013664,-74.00769,-74.00413,-73.92565,-73.951416,-73.94383,-74.00951,-74.00657,-73.987495,-74.00758,-73.987434,-73.97192,-73.946,-73.99057,-74.00019,-73.925835,-73.98995,-73.981964,-74.01103,-74.00657,-73.94013,-73.986755,-73.99679,-73.98811,-74.00881,-73.98795,-73.94527,-74.00019,-73.91404,-74.00978,-73.98594,-73.94527,-73.90774,-73.94748,-73.95128,-73.80333,-73.99017,-73.98221,-73.99309,-73.95046,-73.91203,-73.86923,-73.85062,-73.97622,-73.99106,-73.98183,-73.98049,-73.907684,-73.93759,-73.95031,-73.95352,-73.85438,-73.96611,-73.99596,-73.87349,-73.957756,-73.9751,-73.89858,-73.99505,-73.96225,-73.94216,-73.8616,-73.98133,-73.98197,-73.968376,-73.99086,-73.97537,-73.84452,-73.96684,-73.9274,-73.89717,-73.903076,-73.89006,-73.99375,-73.91633,-73.96438,-73.94425,-73.867615,-73.83101,-73.86626,-73.90057,-73.95023,-73.91971,-73.96685,-73.97105,-73.96411,-73.95343,-73.81071,-74.011055,-73.94904,-74.01379,-74.030876,-73.90103,-74.01219,-73.867355,-73.95559,-73.895874,-73.87722,-73.98031,-73.92261,-73.95445,-74.01407,-73.932945,-73.97232,-73.8896,-73.868454,-73.92985,-73.90894,-73.90245,-73.89923,-73.90765,-73.90983,-73.88005,-74.01788,-73.97613,-73.89644,-73.93418,-73.92551,-73.87379,-73.99339,-73.98934,-73.87255,-73.95068,-73.92941,-73.9199,-73.99635,-73.97302,-73.975266,-73.87452,-74.00698,-73.9502,-73.97949,-73.99714,-73.97335,-73.92554,-73.78852,-73.9977,-73.86001,-73.937965,-73.939896,-73.92727,-74.005226,-73.97457,-73.8949,-74.00374,-73.89055,-73.950424,-73.99635,-73.82812,-73.939705,-73.8894,-73.953674,-74.000496,-73.96387,-73.979675,-73.97817,-73.992874,-73.84295,-73.91882,-73.835594,-73.83632,-73.94896,-74.00169,-73.981735,-73.97425,-73.83406,-73.813644,-73.867615,-73.88408,-73.77602,-73.94489,-74.01186,-73.85158,-73.8303,-73.95085,-73.880035,-73.78381,-73.886284,-73.99,-73.94958,-73.90185,-73.83592,-73.980354,-73.86714,-73.79692,-73.985,-73.85122,-73.8258,-73.97689,-73.82056,-73.97578,-73.82756,-73.97767,-73.98066,-73.965836,-73.90532,-73.884636,-73.915276,-73.973946,-73.89948,-73.891335,-73.91785,-73.99466,-73.9962,-73.815926,-73.891335,-73.981926,-73.99015,-74.00258,-73.891396,-73.97881,-73.996895,-73.90781,-73.86953,-73.9608,-73.96164,-73.917755,-73.94741,-73.87661,-73.902985,-73.96279,-73.91656,-73.96298,-73.8837,-73.961494,-73.896736,-73.89187,-73.95358,-74.07484,-73.84638,-73.96416,-73.83003,-74.07365,-73.891685,-73.84563,-73.90177,-73.9402,-74.02338,-73.93565,-73.94891,-73.918434,-73.94764,-73.96449,-73.94841,-73.931,-73.92882,-73.93647,-73.91045,-73.95182,-73.8627,-73.96389,-74.00191,-73.83859,-73.83083,-73.95412,-73.95924,-73.99679,-73.969055,-73.90388,-73.94972,-73.93759,-73.95773,-73.988304,-73.986755,-73.85438,-73.92261,-73.95046,-73.96225,-73.99042,-73.98994,-73.98031,-73.99282,-73.860344,-73.85062,-73.97594,-73.95445,-73.907684,-73.98185,-73.96684,-73.99373,-73.98782,-73.97745,-73.89858,-73.99017,-74.01407,-73.81686,-73.89717,-73.9118,-73.91633,-73.91779,-73.98049,-73.867615,-74.00657,-73.90087,-73.96611,-73.932755,-73.9943,-73.94216,-73.99479,-73.92565,-74.00535,-73.9751,-73.868454,-73.98675,-73.91924,-73.98502,-73.90483,-73.98995,-73.96438,-73.867165,-73.95593,-73.932945,-73.95023,-73.96007,-73.99375,-74.00174,-73.95128,-73.98133,-74.01299,-73.99432,-73.92735,-73.90103,-73.857475,-74.0034,-73.95516,-73.987434,-73.95326,-73.87875,-73.94383,-73.99596,-73.86263,-74.00061,-73.99505,-73.967255,-73.96137,-73.98683,-73.94904,-73.954155,-73.91158,-73.867355,-73.95031,-73.99989,-73.91469,-73.983765,-73.92614,-73.981964,-74.00858,-73.91404,-73.94162,-73.97105,-73.99086,-73.946,-73.95813,-73.95685,-73.95027,-73.87349,-73.93956,-73.99621,-73.92985,-73.99886,-73.95352,-73.90894,-73.97537,-73.976845,-73.98734,-73.987495,-73.98123,-73.90245,-73.9685,-73.9214,-73.89006,-73.88466,-73.86626,-73.99817,-73.98594,-74.01403,-73.925835,-73.94527,-74.030876,-74.00657,-73.90983,-73.99989,-73.94383,-74.01172,-73.98506,-74.00413,-74.0284,-74.0002,-73.99309,-73.88005,-73.984566,-73.99057,-74.00019,-74.00978,-74.00657,-73.98995,-74.00769,-73.98974,-74.00178,-73.951416,-74.00657,-73.987495,-73.90765,-73.94383,-74.013664,-73.99566,-73.89845,-74.00769,-74.00951,-73.98811,-73.9866,-73.92565,-74.01001,-73.98978,-73.987434,-73.86082,-73.97622,-73.967964,-73.94013,-73.99714,-73.98594,-73.99679,-73.99679,-73.7936,-74.00758,-73.89644,-73.886284,-73.981964,-73.91333,-74.02551,-73.98795,-73.97192,-73.95988,-73.87916,-73.968376,-73.99787,-73.94527,-73.97992,-74.00355,-73.97237,-74.01103,-73.981636,-73.78852,-73.83632,-73.85272,-73.98197,-73.95559,-73.82812,-73.99635,-73.880035,-73.97913,-73.981735,-73.80333,-73.94425,-73.985,-73.89055,-73.89923,-73.98934,-73.96411,-73.90185,-73.86001,-73.98066,-73.867615,-73.99804,-73.8258,-73.82756,-73.99015,-73.97232,-73.91203,-73.76817,-73.82057,-73.98183,-73.89948,-73.81071,-74.000496,-73.88202,-73.97689,-73.86714,-73.99106,-73.87722,-73.835594,-73.95763,-74.011055,-73.895874,-73.83101,-73.87255,-73.83634,-73.86923,-73.98385,-73.87452,-73.99336,-73.97823,-73.980354,-73.91971,-73.995476,-73.90532,-73.90774,-73.8896,-73.837326,-73.950424,-73.9977,-73.99,-73.832565,-73.891335,-73.939705,-73.85122,-73.96685,-73.92727,-73.87379,-73.82829,-73.90198,-74.005226,-73.939896,-73.884636,-73.84295,-74.00169,-73.9199,-73.79692,-73.83406,-73.95107,-74.00374,-74.00698,-73.98612,-73.813644,-73.937965,-73.91785,-73.8616,-73.99809,-73.98414,-73.76135,-73.99466,-73.95343,-73.99339,-73.99053,-73.84452,-73.90057,-73.93418,-73.965836,-73.84704,-73.903076,-73.99391,-73.83592,-73.957756,-73.97335,-73.85158,-73.94748,-73.9274,-73.8303,-73.94086,-73.985985,-73.84433,-73.94151,-73.98221,-73.815926,-73.82056,-73.98163,-73.83216,-73.973946,-73.7554,-73.77602,-73.99107,-73.97767,-73.97881,-73.99635,-73.891335,-73.996895,-74.00258,-73.958374,-73.9962,-73.981926,-73.93359,-73.91013,-73.904045,-73.85899,-73.85147,-73.95036,-74.01379,-73.98426,-74.01219,-73.906006,-74.00689,-74.01186,-73.9041,-73.98208,-74.00536,-73.92551,-73.96387,-73.93724,-74.00291,-73.80111,-74.00927,-73.92074,-74.0091,-73.92878,-73.98311,-73.80797,-73.97523,-74.00628,-73.95687,-73.94405,-73.94067,-73.93985,-73.99,-73.986755,-73.86505,-73.90408,-73.9647,-73.920784,-73.94765,-73.88075,-73.87885,-73.89351,-73.94283,-73.84386,-73.89036,-74.01334,-73.896545,-73.93314,-73.837685,-73.99263,-73.93821,-73.95235,-73.98869,-73.93073,-73.91843,-73.90525,-73.91195,-73.90074,-73.96892,-73.944214,-73.89775,-73.92291,-73.95816,-73.97641,-73.96146,-73.9134,-73.90523,-73.95488,-73.91844,-73.9031,-73.972145,-73.88714,-73.87211,-73.986755,-73.891396,-73.97336,-73.97302,-73.97578,-73.92148,-73.975266,-73.979675,-73.97817,-73.953674,-73.992874,-73.92554,-73.976974,-73.78381,-73.94489,-73.97425,-73.92941,-73.97949,-73.9742,-73.91882,-73.97457,-73.915276,-73.97236,-73.97613,-73.92957,-73.8964,-73.93625,-73.95843,-73.96449,-73.95179,-74.00191,-73.88408,-73.9502,-73.961494,-73.95085,-73.84638,-73.902985,-73.9402,-73.90781,-73.95068,-73.89187,-73.9608,-73.85536,-73.96298,-73.94896,-73.96279,-73.94715,-73.945496,-73.95182,-73.95358,-73.896736,-73.87661,-73.84563,-73.96164,-73.94962,-73.85533,-73.94841,-73.917755,-73.8894,-73.83003,-73.88773,-73.9594,-73.94958,-73.94891,-73.93647,-73.91255,-73.8949,-73.8605,-73.96389,-74.01788,-73.931,-74.02338,-73.92402,-73.90177,-73.83859,-74.07484,-73.83083,-73.94764,-73.86953,-73.89307,-73.94077,-73.918434,-73.8837,-74.07365,-73.8627,-73.99989,-74.00881,-74.00019,-73.91656,-73.89865,-73.92227,-73.986755,-73.99,-73.99015,-73.991776,-73.91045,-73.94741,-73.941124,-73.93565,-73.891685,-73.92882,-73.99015,-73.991776,-73.95924],\"marker\":{\"color\":\"#636efa\"},\"mode\":\"markers\",\"name\":\"\",\"showlegend\":false,\"subplot\":\"mapbox\",\"type\":\"scattermapbox\"}],                        {\"template\":{\"data\":{\"histogram2dcontour\":[{\"type\":\"histogram2dcontour\",\"colorbar\":{\"outlinewidth\":0,\"ticks\":\"\"},\"colorscale\":[[0.0,\"#0d0887\"],[0.1111111111111111,\"#46039f\"],[0.2222222222222222,\"#7201a8\"],[0.3333333333333333,\"#9c179e\"],[0.4444444444444444,\"#bd3786\"],[0.5555555555555556,\"#d8576b\"],[0.6666666666666666,\"#ed7953\"],[0.7777777777777778,\"#fb9f3a\"],[0.8888888888888888,\"#fdca26\"],[1.0,\"#f0f921\"]]}],\"choropleth\":[{\"type\":\"choropleth\",\"colorbar\":{\"outlinewidth\":0,\"ticks\":\"\"}}],\"histogram2d\":[{\"type\":\"histogram2d\",\"colorbar\":{\"outlinewidth\":0,\"ticks\":\"\"},\"colorscale\":[[0.0,\"#0d0887\"],[0.1111111111111111,\"#46039f\"],[0.2222222222222222,\"#7201a8\"],[0.3333333333333333,\"#9c179e\"],[0.4444444444444444,\"#bd3786\"],[0.5555555555555556,\"#d8576b\"],[0.6666666666666666,\"#ed7953\"],[0.7777777777777778,\"#fb9f3a\"],[0.8888888888888888,\"#fdca26\"],[1.0,\"#f0f921\"]]}],\"heatmap\":[{\"type\":\"heatmap\",\"colorbar\":{\"outlinewidth\":0,\"ticks\":\"\"},\"colorscale\":[[0.0,\"#0d0887\"],[0.1111111111111111,\"#46039f\"],[0.2222222222222222,\"#7201a8\"],[0.3333333333333333,\"#9c179e\"],[0.4444444444444444,\"#bd3786\"],[0.5555555555555556,\"#d8576b\"],[0.6666666666666666,\"#ed7953\"],[0.7777777777777778,\"#fb9f3a\"],[0.8888888888888888,\"#fdca26\"],[1.0,\"#f0f921\"]]}],\"heatmapgl\":[{\"type\":\"heatmapgl\",\"colorbar\":{\"outlinewidth\":0,\"ticks\":\"\"},\"colorscale\":[[0.0,\"#0d0887\"],[0.1111111111111111,\"#46039f\"],[0.2222222222222222,\"#7201a8\"],[0.3333333333333333,\"#9c179e\"],[0.4444444444444444,\"#bd3786\"],[0.5555555555555556,\"#d8576b\"],[0.6666666666666666,\"#ed7953\"],[0.7777777777777778,\"#fb9f3a\"],[0.8888888888888888,\"#fdca26\"],[1.0,\"#f0f921\"]]}],\"contourcarpet\":[{\"type\":\"contourcarpet\",\"colorbar\":{\"outlinewidth\":0,\"ticks\":\"\"}}],\"contour\":[{\"type\":\"contour\",\"colorbar\":{\"outlinewidth\":0,\"ticks\":\"\"},\"colorscale\":[[0.0,\"#0d0887\"],[0.1111111111111111,\"#46039f\"],[0.2222222222222222,\"#7201a8\"],[0.3333333333333333,\"#9c179e\"],[0.4444444444444444,\"#bd3786\"],[0.5555555555555556,\"#d8576b\"],[0.6666666666666666,\"#ed7953\"],[0.7777777777777778,\"#fb9f3a\"],[0.8888888888888888,\"#fdca26\"],[1.0,\"#f0f921\"]]}],\"surface\":[{\"type\":\"surface\",\"colorbar\":{\"outlinewidth\":0,\"ticks\":\"\"},\"colorscale\":[[0.0,\"#0d0887\"],[0.1111111111111111,\"#46039f\"],[0.2222222222222222,\"#7201a8\"],[0.3333333333333333,\"#9c179e\"],[0.4444444444444444,\"#bd3786\"],[0.5555555555555556,\"#d8576b\"],[0.6666666666666666,\"#ed7953\"],[0.7777777777777778,\"#fb9f3a\"],[0.8888888888888888,\"#fdca26\"],[1.0,\"#f0f921\"]]}],\"mesh3d\":[{\"type\":\"mesh3d\",\"colorbar\":{\"outlinewidth\":0,\"ticks\":\"\"}}],\"scatter\":[{\"fillpattern\":{\"fillmode\":\"overlay\",\"size\":10,\"solidity\":0.2},\"type\":\"scatter\"}],\"parcoords\":[{\"type\":\"parcoords\",\"line\":{\"colorbar\":{\"outlinewidth\":0,\"ticks\":\"\"}}}],\"scatterpolargl\":[{\"type\":\"scatterpolargl\",\"marker\":{\"colorbar\":{\"outlinewidth\":0,\"ticks\":\"\"}}}],\"bar\":[{\"error_x\":{\"color\":\"#2a3f5f\"},\"error_y\":{\"color\":\"#2a3f5f\"},\"marker\":{\"line\":{\"color\":\"#E5ECF6\",\"width\":0.5},\"pattern\":{\"fillmode\":\"overlay\",\"size\":10,\"solidity\":0.2}},\"type\":\"bar\"}],\"scattergeo\":[{\"type\":\"scattergeo\",\"marker\":{\"colorbar\":{\"outlinewidth\":0,\"ticks\":\"\"}}}],\"scatterpolar\":[{\"type\":\"scatterpolar\",\"marker\":{\"colorbar\":{\"outlinewidth\":0,\"ticks\":\"\"}}}],\"histogram\":[{\"marker\":{\"pattern\":{\"fillmode\":\"overlay\",\"size\":10,\"solidity\":0.2}},\"type\":\"histogram\"}],\"scattergl\":[{\"type\":\"scattergl\",\"marker\":{\"colorbar\":{\"outlinewidth\":0,\"ticks\":\"\"}}}],\"scatter3d\":[{\"type\":\"scatter3d\",\"line\":{\"colorbar\":{\"outlinewidth\":0,\"ticks\":\"\"}},\"marker\":{\"colorbar\":{\"outlinewidth\":0,\"ticks\":\"\"}}}],\"scattermapbox\":[{\"type\":\"scattermapbox\",\"marker\":{\"colorbar\":{\"outlinewidth\":0,\"ticks\":\"\"}}}],\"scatterternary\":[{\"type\":\"scatterternary\",\"marker\":{\"colorbar\":{\"outlinewidth\":0,\"ticks\":\"\"}}}],\"scattercarpet\":[{\"type\":\"scattercarpet\",\"marker\":{\"colorbar\":{\"outlinewidth\":0,\"ticks\":\"\"}}}],\"carpet\":[{\"aaxis\":{\"endlinecolor\":\"#2a3f5f\",\"gridcolor\":\"white\",\"linecolor\":\"white\",\"minorgridcolor\":\"white\",\"startlinecolor\":\"#2a3f5f\"},\"baxis\":{\"endlinecolor\":\"#2a3f5f\",\"gridcolor\":\"white\",\"linecolor\":\"white\",\"minorgridcolor\":\"white\",\"startlinecolor\":\"#2a3f5f\"},\"type\":\"carpet\"}],\"table\":[{\"cells\":{\"fill\":{\"color\":\"#EBF0F8\"},\"line\":{\"color\":\"white\"}},\"header\":{\"fill\":{\"color\":\"#C8D4E3\"},\"line\":{\"color\":\"white\"}},\"type\":\"table\"}],\"barpolar\":[{\"marker\":{\"line\":{\"color\":\"#E5ECF6\",\"width\":0.5},\"pattern\":{\"fillmode\":\"overlay\",\"size\":10,\"solidity\":0.2}},\"type\":\"barpolar\"}],\"pie\":[{\"automargin\":true,\"type\":\"pie\"}]},\"layout\":{\"autotypenumbers\":\"strict\",\"colorway\":[\"#636efa\",\"#EF553B\",\"#00cc96\",\"#ab63fa\",\"#FFA15A\",\"#19d3f3\",\"#FF6692\",\"#B6E880\",\"#FF97FF\",\"#FECB52\"],\"font\":{\"color\":\"#2a3f5f\"},\"hovermode\":\"closest\",\"hoverlabel\":{\"align\":\"left\"},\"paper_bgcolor\":\"white\",\"plot_bgcolor\":\"#E5ECF6\",\"polar\":{\"bgcolor\":\"#E5ECF6\",\"angularaxis\":{\"gridcolor\":\"white\",\"linecolor\":\"white\",\"ticks\":\"\"},\"radialaxis\":{\"gridcolor\":\"white\",\"linecolor\":\"white\",\"ticks\":\"\"}},\"ternary\":{\"bgcolor\":\"#E5ECF6\",\"aaxis\":{\"gridcolor\":\"white\",\"linecolor\":\"white\",\"ticks\":\"\"},\"baxis\":{\"gridcolor\":\"white\",\"linecolor\":\"white\",\"ticks\":\"\"},\"caxis\":{\"gridcolor\":\"white\",\"linecolor\":\"white\",\"ticks\":\"\"}},\"coloraxis\":{\"colorbar\":{\"outlinewidth\":0,\"ticks\":\"\"}},\"colorscale\":{\"sequential\":[[0.0,\"#0d0887\"],[0.1111111111111111,\"#46039f\"],[0.2222222222222222,\"#7201a8\"],[0.3333333333333333,\"#9c179e\"],[0.4444444444444444,\"#bd3786\"],[0.5555555555555556,\"#d8576b\"],[0.6666666666666666,\"#ed7953\"],[0.7777777777777778,\"#fb9f3a\"],[0.8888888888888888,\"#fdca26\"],[1.0,\"#f0f921\"]],\"sequentialminus\":[[0.0,\"#0d0887\"],[0.1111111111111111,\"#46039f\"],[0.2222222222222222,\"#7201a8\"],[0.3333333333333333,\"#9c179e\"],[0.4444444444444444,\"#bd3786\"],[0.5555555555555556,\"#d8576b\"],[0.6666666666666666,\"#ed7953\"],[0.7777777777777778,\"#fb9f3a\"],[0.8888888888888888,\"#fdca26\"],[1.0,\"#f0f921\"]],\"diverging\":[[0,\"#8e0152\"],[0.1,\"#c51b7d\"],[0.2,\"#de77ae\"],[0.3,\"#f1b6da\"],[0.4,\"#fde0ef\"],[0.5,\"#f7f7f7\"],[0.6,\"#e6f5d0\"],[0.7,\"#b8e186\"],[0.8,\"#7fbc41\"],[0.9,\"#4d9221\"],[1,\"#276419\"]]},\"xaxis\":{\"gridcolor\":\"white\",\"linecolor\":\"white\",\"ticks\":\"\",\"title\":{\"standoff\":15},\"zerolinecolor\":\"white\",\"automargin\":true,\"zerolinewidth\":2},\"yaxis\":{\"gridcolor\":\"white\",\"linecolor\":\"white\",\"ticks\":\"\",\"title\":{\"standoff\":15},\"zerolinecolor\":\"white\",\"automargin\":true,\"zerolinewidth\":2},\"scene\":{\"xaxis\":{\"backgroundcolor\":\"#E5ECF6\",\"gridcolor\":\"white\",\"linecolor\":\"white\",\"showbackground\":true,\"ticks\":\"\",\"zerolinecolor\":\"white\",\"gridwidth\":2},\"yaxis\":{\"backgroundcolor\":\"#E5ECF6\",\"gridcolor\":\"white\",\"linecolor\":\"white\",\"showbackground\":true,\"ticks\":\"\",\"zerolinecolor\":\"white\",\"gridwidth\":2},\"zaxis\":{\"backgroundcolor\":\"#E5ECF6\",\"gridcolor\":\"white\",\"linecolor\":\"white\",\"showbackground\":true,\"ticks\":\"\",\"zerolinecolor\":\"white\",\"gridwidth\":2}},\"shapedefaults\":{\"line\":{\"color\":\"#2a3f5f\"}},\"annotationdefaults\":{\"arrowcolor\":\"#2a3f5f\",\"arrowhead\":0,\"arrowwidth\":1},\"geo\":{\"bgcolor\":\"white\",\"landcolor\":\"#E5ECF6\",\"subunitcolor\":\"white\",\"showland\":true,\"showlakes\":true,\"lakecolor\":\"white\"},\"title\":{\"x\":0.05},\"mapbox\":{\"style\":\"light\"}}},\"mapbox\":{\"domain\":{\"x\":[0.0,1.0],\"y\":[0.0,1.0]},\"center\":{\"lat\":40.72939115092402,\"lon\":-73.93935031622178},\"zoom\":10,\"style\":\"carto-positron\"},\"legend\":{\"tracegroupgap\":0},\"margin\":{\"t\":0,\"r\":0,\"l\":0,\"b\":0}},                        {\"responsive\": true}                    ).then(function(){\n",
       "                            \n",
       "var gd = document.getElementById('f73fc88b-71aa-4141-a40b-df8be39894ae');\n",
       "var x = new MutationObserver(function (mutations, observer) {{\n",
       "        var display = window.getComputedStyle(gd).display;\n",
       "        if (!display || display === 'none') {{\n",
       "            console.log([gd, 'removed!']);\n",
       "            Plotly.purge(gd);\n",
       "            observer.disconnect();\n",
       "        }}\n",
       "}});\n",
       "\n",
       "// Listen for the removal of the full notebook cells\n",
       "var notebookContainer = gd.closest('#notebook-container');\n",
       "if (notebookContainer) {{\n",
       "    x.observe(notebookContainer, {childList: true});\n",
       "}}\n",
       "\n",
       "// Listen for the clearing of the current output cell\n",
       "var outputEl = gd.closest('.output');\n",
       "if (outputEl) {{\n",
       "    x.observe(outputEl, {childList: true});\n",
       "}}\n",
       "\n",
       "                        })                };                });            </script>        </div>"
      ]
     },
     "metadata": {},
     "output_type": "display_data"
    }
   ],
   "source": [
    "# map data based on statoin complex id and lat long\n",
    "station_data = hourly_ridership_data[['station_complex_id', 'station_complex', 'latitude', 'longitude']].drop_duplicates()\n",
    "\n",
    "# scatter plot of station complex\n",
    "fig = px.scatter_mapbox(\n",
    "    station_data,\n",
    "    lat='latitude',\n",
    "    lon='longitude',\n",
    "    hover_name='station_complex',\n",
    "    hover_data=['station_complex_id'],\n",
    "    zoom=10\n",
    ")\n",
    "# add plotly map layout\n",
    "fig.update_layout(\n",
    "    mapbox_style='carto-positron',\n",
    "    margin={\"r\":0,\"t\":0,\"l\":0,\"b\":0}\n",
    ")\n",
    "\n",
    "fig.show()"
   ]
  },
  {
   "cell_type": "code",
   "execution_count": null,
   "metadata": {},
   "outputs": [],
   "source": []
  }
 ],
 "metadata": {
  "kernelspec": {
   "display_name": "Python 3 (ipykernel)",
   "language": "python",
   "name": "python3"
  },
  "language_info": {
   "codemirror_mode": {
    "name": "ipython",
    "version": 3
   },
   "file_extension": ".py",
   "mimetype": "text/x-python",
   "name": "python",
   "nbconvert_exporter": "python",
   "pygments_lexer": "ipython3",
   "version": "3.12.4"
  }
 },
 "nbformat": 4,
 "nbformat_minor": 4
}
