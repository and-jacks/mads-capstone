{
 "cells": [
  {
   "cell_type": "code",
   "execution_count": null,
   "id": "327148cc-5deb-454f-baaa-69fbffc8ec61",
   "metadata": {},
   "outputs": [],
   "source": [
    "import pandas as pd\n",
    "import multiprocessing as mp \n",
    "import matplotlib.pyplot as plt\n",
    "import dask.dataframe as dd\n",
    "import numpy as np\n",
    "import seaborn as sns"
   ]
  },
  {
   "cell_type": "code",
   "execution_count": null,
   "id": "37d874e7-23da-445a-8508-da02296d0b1a",
   "metadata": {},
   "outputs": [],
   "source": [
    "df_2022 = pd.read_pickle(r'D:\\capstone_F24\\data\\MTA_Subway_Hourly_Ridership_2022.pkl')\n",
    "df_2023 = pd.read_pickle(r'D:\\capstone_F24\\data\\MTA_Subway_Hourly_Ridership_2023.pkl')"
   ]
  },
  {
   "cell_type": "code",
   "execution_count": null,
   "id": "315e253c-035d-4af7-9dbd-a85a8cb85c56",
   "metadata": {},
   "outputs": [],
   "source": [
    "!conda install scipy"
   ]
  },
  {
   "cell_type": "code",
   "execution_count": null,
   "id": "7eaaa6cc-1f15-4e04-aa5d-724c75602cd2",
   "metadata": {},
   "outputs": [],
   "source": [
    "ridership_data_all_years = pd.concat([df_2022, df_2023], axis=0)"
   ]
  },
  {
   "cell_type": "code",
   "execution_count": null,
   "id": "ca84fedd-a952-4eb2-8c45-fd17e5384a92",
   "metadata": {},
   "outputs": [],
   "source": [
    "hourly_ridership_data = ridership_data_all_years.copy()"
   ]
  },
  {
   "cell_type": "code",
   "execution_count": null,
   "id": "7c93380d-0e27-43d3-b755-d2164e2cf67c",
   "metadata": {},
   "outputs": [],
   "source": [
    "hourly_ridership_data.info()"
   ]
  },
  {
   "cell_type": "code",
   "execution_count": null,
   "id": "7b98fc9b-a624-48df-9c33-4e2e07d22231",
   "metadata": {},
   "outputs": [],
   "source": [
    "# convert ridership to numeric\n",
    "hourly_ridership_data['ridership'] = pd.to_numeric(hourly_ridership_data['ridership'], errors='coerce')"
   ]
  },
  {
   "cell_type": "code",
   "execution_count": null,
   "id": "28f349f7-0663-4605-87f4-f832e08262fe",
   "metadata": {},
   "outputs": [],
   "source": [
    "hourly_ridership_data.head()"
   ]
  },
  {
   "cell_type": "code",
   "execution_count": null,
   "id": "f12b85a3-a7e1-43f4-bf6f-7da31aa39605",
   "metadata": {},
   "outputs": [],
   "source": [
    "hourly_ridership_data.info()"
   ]
  },
  {
   "cell_type": "code",
   "execution_count": null,
   "id": "d7fff83f-1c99-41eb-8ae7-652a108efabb",
   "metadata": {},
   "outputs": [],
   "source": [
    "events_df = pd.read_csv(r'D:\\capstone_F24\\data\\events.csv')\n",
    "events_df.info()"
   ]
  },
  {
   "cell_type": "code",
   "execution_count": null,
   "id": "0b242a33-1c4a-4ecb-b579-31c36b0505da",
   "metadata": {},
   "outputs": [],
   "source": [
    "weather_pd = pd.read_csv(r'D:\\capstone_F24\\data\\weather_data_ny.csv')\n",
    "weather_pd.info()"
   ]
  },
  {
   "cell_type": "markdown",
   "id": "0d298c59-51bd-4e22-a3c4-8c4eaa1e721e",
   "metadata": {},
   "source": [
    "## The Yanks are coming...\n",
    "\n",
    "How does a Yankees home game impact ridership in the Bronx and surrounding buroughs? Let's take a look."
   ]
  },
  {
   "cell_type": "code",
   "execution_count": null,
   "id": "5bc15760-3c90-4918-9fc5-f349494963ae",
   "metadata": {},
   "outputs": [],
   "source": [
    "# Filter transit data for the Bronx\n",
    "bronx_ridership = hourly_ridership_data[hourly_ridership_data['borough'] == 'Bronx']"
   ]
  },
  {
   "cell_type": "code",
   "execution_count": null,
   "id": "60b8c074-13f7-4b7c-90b2-23bf0664b3dd",
   "metadata": {},
   "outputs": [],
   "source": [
    "# Filter for Yankees games in the events DataFrame\n",
    "yankees_games = events_df[events_df['event_name'].str.contains('Yankees', case=False, na=False)].copy()\n",
    "\n",
    "yankees_games['start_date_time'] = pd.to_datetime(yankees_games['start_date_time'], errors='coerce')\n",
    "\n",
    "# Get a list of game dates\n",
    "yankees_game_dates = yankees_games['start_date_time'].dt.date.unique()"
   ]
  },
  {
   "cell_type": "code",
   "execution_count": null,
   "id": "64090eb4-980f-48e6-92fc-d0fc335a1f5f",
   "metadata": {},
   "outputs": [],
   "source": [
    "# Resample to get daily ridership totals\n",
    "daily_bronx_ridership = bronx_ridership.resample('D', on='transit_timestamp')['ridership'].sum().reset_index()\n",
    "\n",
    "# Add a column indicating if the day is a game day\n",
    "daily_bronx_ridership['is_game_day'] = daily_bronx_ridership['transit_timestamp'].dt.date.isin(yankees_game_dates)"
   ]
  },
  {
   "cell_type": "code",
   "execution_count": null,
   "id": "cc444993-9f38-4b20-9850-26ec95760905",
   "metadata": {},
   "outputs": [],
   "source": [
    "# Calculate average ridership for game and non-game days\n",
    "impact_analysis = daily_bronx_ridership.groupby('is_game_day')['ridership'].mean().reset_index()\n",
    "impact_analysis['is_game_day'] = impact_analysis['is_game_day'].replace({True: 'Game Day', False: 'Non-Game Day'})"
   ]
  },
  {
   "cell_type": "code",
   "execution_count": null,
   "id": "2854e743-21a5-434b-96c6-0ba3e4d8d8ff",
   "metadata": {},
   "outputs": [],
   "source": [
    "plt.figure(figsize=(10, 6))\n",
    "sns.barplot(data=impact_analysis, x='is_game_day', y='ridership')\n",
    "plt.title('Average Ridership in the Bronx on Yankees Game Days vs. Non-Game Days')\n",
    "plt.xlabel('Day Type')\n",
    "plt.ylabel('Average Ridership')\n",
    "plt.grid()\n",
    "plt.show()"
   ]
  },
  {
   "cell_type": "markdown",
   "id": "60c83ee7-4c4f-4bef-a95c-6b457c9d2d03",
   "metadata": {},
   "source": [
    "It looks like ridership is slightly higher in the Bronx on game days, but not by a lot. Let's take a look at ridership averages across all boroughs. Which is most impacted by game day?"
   ]
  },
  {
   "cell_type": "code",
   "execution_count": null,
   "id": "d9c7845f-b395-421b-8917-c2d7688a04e9",
   "metadata": {},
   "outputs": [],
   "source": [
    "# Add a column indicating if the day is a game day\n",
    "hourly_ridership_data['is_game_day'] = hourly_ridership_data['transit_timestamp'].dt.date.isin(yankees_game_dates)\n",
    "\n",
    "# Group by borough and game day status, averaging the ridership\n",
    "borough_ridership_avg = hourly_ridership_data.groupby(['borough', 'is_game_day'])['ridership'].mean().reset_index()\n",
    "\n",
    "# Rename the columns for clarity\n",
    "borough_ridership_avg['game_day'] = borough_ridership_avg['is_game_day'].replace({True: 'Game Day', False: 'Non-Game Day'})"
   ]
  },
  {
   "cell_type": "code",
   "execution_count": null,
   "id": "ec597d58-b902-4307-a7fd-ce1f1756ce80",
   "metadata": {},
   "outputs": [],
   "source": [
    "# Create the bar plot\n",
    "plt.figure(figsize=(12, 6))\n",
    "sns.barplot(data=borough_ridership_avg, x='borough', y='ridership', hue='game_day', palette='Set2')\n",
    "\n",
    "# Adding titles and labels\n",
    "plt.title('Average Ridership Comparison on Game Days vs Non-Game Days by Borough')\n",
    "plt.xlabel('Borough')\n",
    "plt.ylabel('Average Ridership')\n",
    "plt.xticks(rotation=45)  # Rotate x labels for better readability\n",
    "plt.legend(title='Game Day Status')\n",
    "plt.tight_layout()  # Adjust layout to prevent clipping\n",
    "plt.show()"
   ]
  },
  {
   "cell_type": "markdown",
   "id": "149c21cc-c11a-4f30-a536-02d042acc376",
   "metadata": {},
   "source": [
    "Again, it looks like average ridership doesn't change too much any any burough except Manhattan (where fewer people likely own cars). Is there a statistical difference? We'll do a t-test between game days and non game days to find out."
   ]
  },
  {
   "cell_type": "code",
   "execution_count": null,
   "id": "adf7e49b-7d2d-437c-bb2f-1de39d68f1d8",
   "metadata": {},
   "outputs": [],
   "source": [
    "# Initialize a dictionary to store results\n",
    "results = {}\n",
    "\n",
    "# Get unique boroughs\n",
    "boroughs = borough_ridership_avg['borough'].unique()\n",
    "\n",
    "# Conduct t-test for each borough\n",
    "for borough in boroughs:\n",
    "    # Filter data for the specific borough\n",
    "    borough_data = borough_ridership_avg[borough_ridership_avg['borough'] == borough]\n",
    "    \n",
    "    # Separate ridership into game days and non-game days\n",
    "    game_day_ridership = borough_data[borough_data['is_game_day']]['ridership']\n",
    "    non_game_day_ridership = borough_data[~borough_data['is_game_day']]['ridership']\n",
    "    \n",
    "    # Perform the t-test\n",
    "    t_stat, p_value = stats.ttest_ind(game_day_ridership, non_game_day_ridership, equal_var=False)  # Set equal_var=False for Welch's t-test\n",
    "\n",
    "    # Store the results\n",
    "    results[borough] = {\n",
    "        't_statistic': t_stat,\n",
    "        'p_value': p_value\n",
    "    }\n",
    "\n",
    "# Print the results\n",
    "for borough, res in results.items():\n",
    "    print(f\"{borough} - t-statistic: {res['t_statistic']:.2f}, p-value: {res['p_value']:.4f}\")"
   ]
  },
  {
   "cell_type": "code",
   "execution_count": null,
   "id": "67ceeaaa-049a-4735-b8f1-63ca8ce66ec6",
   "metadata": {},
   "outputs": [],
   "source": [
    "import sys\n",
    "print(sys.executable)"
   ]
  },
  {
   "cell_type": "code",
   "execution_count": 2,
   "id": "3fa693e7-0a01-400f-b15c-24f4fa2f52ba",
   "metadata": {},
   "outputs": [],
   "source": [
    "!conda activate env_lydia_3.12"
   ]
  },
  {
   "cell_type": "code",
   "execution_count": 4,
   "id": "746a6da6-c29f-46fb-8467-c296699711c2",
   "metadata": {},
   "outputs": [
    {
     "name": "stdout",
     "output_type": "stream",
     "text": [
      "^C\n",
      "Retrieving notices: ...working... done\n",
      "Channels:\n",
      " - defaults\n",
      " - conda-forge\n",
      "Platform: win-64\n",
      "Collecting package metadata (repodata.json): ...working... done\n",
      "Solving environment: ...working... done\n",
      "\n",
      "## Package Plan ##\n",
      "\n",
      "  environment location: C:\\Users\\one1c\\.conda\\envs\\capstone_1\n",
      "\n",
      "  added / updated specs:\n",
      "    - scipy\n",
      "\n",
      "\n",
      "The following NEW packages will be INSTALLED:\n",
      "\n",
      "  blas               pkgs/main/win-64::blas-1.0-mkl \n",
      "  icc_rt             pkgs/main/win-64::icc_rt-2022.1.0-h6049295_2 \n",
      "  intel-openmp       pkgs/main/win-64::intel-openmp-2023.1.0-h59b6b97_46320 \n",
      "  mkl                pkgs/main/win-64::mkl-2023.1.0-h6b88ed4_46358 \n",
      "  mkl-service        pkgs/main/win-64::mkl-service-2.4.0-py312h2bbff1b_1 \n",
      "  mkl_fft            pkgs/main/win-64::mkl_fft-1.3.10-py312h827c3e9_0 \n",
      "  mkl_random         pkgs/main/win-64::mkl_random-1.2.7-py312h0158946_0 \n",
      "  numpy              pkgs/main/win-64::numpy-1.26.4-py312hfd52020_0 \n",
      "  numpy-base         pkgs/main/win-64::numpy-base-1.26.4-py312h4dde369_0 \n",
      "  pybind11-abi       pkgs/main/noarch::pybind11-abi-5-hd3eb1b0_0 \n",
      "  scipy              pkgs/main/win-64::scipy-1.13.1-py312hbb039d4_0 \n",
      "  tbb                pkgs/main/win-64::tbb-2021.8.0-h59b6b97_0 \n",
      "\n",
      "\n",
      "Proceed ([y]/n)? \n"
     ]
    }
   ],
   "source": [
    "!conda install scipy"
   ]
  },
  {
   "cell_type": "code",
   "execution_count": 9,
   "id": "60f209d1-d324-4b1b-b9b2-8bde52be7dc1",
   "metadata": {},
   "outputs": [
    {
     "ename": "ModuleNotFoundError",
     "evalue": "No module named 'numpy._core.numeric'",
     "output_type": "error",
     "traceback": [
      "\u001b[1;31m---------------------------------------------------------------------------\u001b[0m",
      "\u001b[1;31mModuleNotFoundError\u001b[0m                       Traceback (most recent call last)",
      "File \u001b[1;32m~\\.conda\\envs\\env_lydia_3.12\\Lib\\site-packages\\pandas\\io\\pickle.py:202\u001b[0m, in \u001b[0;36mread_pickle\u001b[1;34m(filepath_or_buffer, compression, storage_options)\u001b[0m\n\u001b[0;32m    201\u001b[0m         warnings\u001b[38;5;241m.\u001b[39msimplefilter(\u001b[38;5;124m\"\u001b[39m\u001b[38;5;124mignore\u001b[39m\u001b[38;5;124m\"\u001b[39m, \u001b[38;5;167;01mWarning\u001b[39;00m)\n\u001b[1;32m--> 202\u001b[0m         \u001b[38;5;28;01mreturn\u001b[39;00m \u001b[43mpickle\u001b[49m\u001b[38;5;241;43m.\u001b[39;49m\u001b[43mload\u001b[49m\u001b[43m(\u001b[49m\u001b[43mhandles\u001b[49m\u001b[38;5;241;43m.\u001b[39;49m\u001b[43mhandle\u001b[49m\u001b[43m)\u001b[49m\n\u001b[0;32m    203\u001b[0m \u001b[38;5;28;01mexcept\u001b[39;00m excs_to_catch:\n\u001b[0;32m    204\u001b[0m     \u001b[38;5;66;03m# e.g.\u001b[39;00m\n\u001b[0;32m    205\u001b[0m     \u001b[38;5;66;03m#  \"No module named 'pandas.core.sparse.series'\"\u001b[39;00m\n\u001b[0;32m    206\u001b[0m     \u001b[38;5;66;03m#  \"Can't get attribute '__nat_unpickle' on <module 'pandas._libs.tslib\"\u001b[39;00m\n",
      "\u001b[1;31mModuleNotFoundError\u001b[0m: No module named 'numpy._core.numeric'",
      "\nDuring handling of the above exception, another exception occurred:\n",
      "\u001b[1;31mModuleNotFoundError\u001b[0m                       Traceback (most recent call last)",
      "Cell \u001b[1;32mIn[9], line 1\u001b[0m\n\u001b[1;32m----> 1\u001b[0m clean_22 \u001b[38;5;241m=\u001b[39m \u001b[43mpd\u001b[49m\u001b[38;5;241;43m.\u001b[39;49m\u001b[43mread_pickle\u001b[49m\u001b[43m(\u001b[49m\u001b[38;5;124;43mr\u001b[39;49m\u001b[38;5;124;43m'\u001b[39;49m\u001b[38;5;124;43mD:\u001b[39;49m\u001b[38;5;124;43m\\\u001b[39;49m\u001b[38;5;124;43mcapstone_F24\u001b[39;49m\u001b[38;5;124;43m\\\u001b[39;49m\u001b[38;5;124;43mdata\u001b[39;49m\u001b[38;5;124;43m\\\u001b[39;49m\u001b[38;5;124;43mCleaned_data\u001b[39;49m\u001b[38;5;124;43m\\\u001b[39;49m\u001b[38;5;124;43mdf_filled_22.pkl\u001b[39;49m\u001b[38;5;124;43m'\u001b[39;49m\u001b[43m)\u001b[49m\n\u001b[0;32m      2\u001b[0m clean_22\u001b[38;5;241m.\u001b[39mhead()\n",
      "File \u001b[1;32m~\\.conda\\envs\\env_lydia_3.12\\Lib\\site-packages\\pandas\\io\\pickle.py:207\u001b[0m, in \u001b[0;36mread_pickle\u001b[1;34m(filepath_or_buffer, compression, storage_options)\u001b[0m\n\u001b[0;32m    202\u001b[0m             \u001b[38;5;28;01mreturn\u001b[39;00m pickle\u001b[38;5;241m.\u001b[39mload(handles\u001b[38;5;241m.\u001b[39mhandle)\n\u001b[0;32m    203\u001b[0m     \u001b[38;5;28;01mexcept\u001b[39;00m excs_to_catch:\n\u001b[0;32m    204\u001b[0m         \u001b[38;5;66;03m# e.g.\u001b[39;00m\n\u001b[0;32m    205\u001b[0m         \u001b[38;5;66;03m#  \"No module named 'pandas.core.sparse.series'\"\u001b[39;00m\n\u001b[0;32m    206\u001b[0m         \u001b[38;5;66;03m#  \"Can't get attribute '__nat_unpickle' on <module 'pandas._libs.tslib\"\u001b[39;00m\n\u001b[1;32m--> 207\u001b[0m         \u001b[38;5;28;01mreturn\u001b[39;00m \u001b[43mpc\u001b[49m\u001b[38;5;241;43m.\u001b[39;49m\u001b[43mload\u001b[49m\u001b[43m(\u001b[49m\u001b[43mhandles\u001b[49m\u001b[38;5;241;43m.\u001b[39;49m\u001b[43mhandle\u001b[49m\u001b[43m,\u001b[49m\u001b[43m \u001b[49m\u001b[43mencoding\u001b[49m\u001b[38;5;241;43m=\u001b[39;49m\u001b[38;5;28;43;01mNone\u001b[39;49;00m\u001b[43m)\u001b[49m\n\u001b[0;32m    208\u001b[0m \u001b[38;5;28;01mexcept\u001b[39;00m \u001b[38;5;167;01mUnicodeDecodeError\u001b[39;00m:\n\u001b[0;32m    209\u001b[0m     \u001b[38;5;66;03m# e.g. can occur for files written in py27; see GH#28645 and GH#31988\u001b[39;00m\n\u001b[0;32m    210\u001b[0m     \u001b[38;5;28;01mreturn\u001b[39;00m pc\u001b[38;5;241m.\u001b[39mload(handles\u001b[38;5;241m.\u001b[39mhandle, encoding\u001b[38;5;241m=\u001b[39m\u001b[38;5;124m\"\u001b[39m\u001b[38;5;124mlatin-1\u001b[39m\u001b[38;5;124m\"\u001b[39m)\n",
      "File \u001b[1;32m~\\.conda\\envs\\env_lydia_3.12\\Lib\\site-packages\\pandas\\compat\\pickle_compat.py:231\u001b[0m, in \u001b[0;36mload\u001b[1;34m(fh, encoding, is_verbose)\u001b[0m\n\u001b[0;32m    228\u001b[0m     \u001b[38;5;66;03m# \"Unpickler\" has no attribute \"is_verbose\"  [attr-defined]\u001b[39;00m\n\u001b[0;32m    229\u001b[0m     up\u001b[38;5;241m.\u001b[39mis_verbose \u001b[38;5;241m=\u001b[39m is_verbose  \u001b[38;5;66;03m# type: ignore[attr-defined]\u001b[39;00m\n\u001b[1;32m--> 231\u001b[0m     \u001b[38;5;28;01mreturn\u001b[39;00m \u001b[43mup\u001b[49m\u001b[38;5;241;43m.\u001b[39;49m\u001b[43mload\u001b[49m\u001b[43m(\u001b[49m\u001b[43m)\u001b[49m\n\u001b[0;32m    232\u001b[0m \u001b[38;5;28;01mexcept\u001b[39;00m (\u001b[38;5;167;01mValueError\u001b[39;00m, \u001b[38;5;167;01mTypeError\u001b[39;00m):\n\u001b[0;32m    233\u001b[0m     \u001b[38;5;28;01mraise\u001b[39;00m\n",
      "File \u001b[1;32m~\\.conda\\envs\\env_lydia_3.12\\Lib\\pickle.py:1255\u001b[0m, in \u001b[0;36m_Unpickler.load\u001b[1;34m(self)\u001b[0m\n\u001b[0;32m   1253\u001b[0m             \u001b[38;5;28;01mraise\u001b[39;00m \u001b[38;5;167;01mEOFError\u001b[39;00m\n\u001b[0;32m   1254\u001b[0m         \u001b[38;5;28;01massert\u001b[39;00m \u001b[38;5;28misinstance\u001b[39m(key, bytes_types)\n\u001b[1;32m-> 1255\u001b[0m         \u001b[43mdispatch\u001b[49m\u001b[43m[\u001b[49m\u001b[43mkey\u001b[49m\u001b[43m[\u001b[49m\u001b[38;5;241;43m0\u001b[39;49m\u001b[43m]\u001b[49m\u001b[43m]\u001b[49m\u001b[43m(\u001b[49m\u001b[38;5;28;43mself\u001b[39;49m\u001b[43m)\u001b[49m\n\u001b[0;32m   1256\u001b[0m \u001b[38;5;28;01mexcept\u001b[39;00m _Stop \u001b[38;5;28;01mas\u001b[39;00m stopinst:\n\u001b[0;32m   1257\u001b[0m     \u001b[38;5;28;01mreturn\u001b[39;00m stopinst\u001b[38;5;241m.\u001b[39mvalue\n",
      "File \u001b[1;32m~\\.conda\\envs\\env_lydia_3.12\\Lib\\pickle.py:1580\u001b[0m, in \u001b[0;36m_Unpickler.load_stack_global\u001b[1;34m(self)\u001b[0m\n\u001b[0;32m   1578\u001b[0m \u001b[38;5;28;01mif\u001b[39;00m \u001b[38;5;28mtype\u001b[39m(name) \u001b[38;5;129;01mis\u001b[39;00m \u001b[38;5;129;01mnot\u001b[39;00m \u001b[38;5;28mstr\u001b[39m \u001b[38;5;129;01mor\u001b[39;00m \u001b[38;5;28mtype\u001b[39m(module) \u001b[38;5;129;01mis\u001b[39;00m \u001b[38;5;129;01mnot\u001b[39;00m \u001b[38;5;28mstr\u001b[39m:\n\u001b[0;32m   1579\u001b[0m     \u001b[38;5;28;01mraise\u001b[39;00m UnpicklingError(\u001b[38;5;124m\"\u001b[39m\u001b[38;5;124mSTACK_GLOBAL requires str\u001b[39m\u001b[38;5;124m\"\u001b[39m)\n\u001b[1;32m-> 1580\u001b[0m \u001b[38;5;28mself\u001b[39m\u001b[38;5;241m.\u001b[39mappend(\u001b[38;5;28;43mself\u001b[39;49m\u001b[38;5;241;43m.\u001b[39;49m\u001b[43mfind_class\u001b[49m\u001b[43m(\u001b[49m\u001b[43mmodule\u001b[49m\u001b[43m,\u001b[49m\u001b[43m \u001b[49m\u001b[43mname\u001b[49m\u001b[43m)\u001b[49m)\n",
      "File \u001b[1;32m~\\.conda\\envs\\env_lydia_3.12\\Lib\\site-packages\\pandas\\compat\\pickle_compat.py:162\u001b[0m, in \u001b[0;36mUnpickler.find_class\u001b[1;34m(self, module, name)\u001b[0m\n\u001b[0;32m    160\u001b[0m key \u001b[38;5;241m=\u001b[39m (module, name)\n\u001b[0;32m    161\u001b[0m module, name \u001b[38;5;241m=\u001b[39m _class_locations_map\u001b[38;5;241m.\u001b[39mget(key, key)\n\u001b[1;32m--> 162\u001b[0m \u001b[38;5;28;01mreturn\u001b[39;00m \u001b[38;5;28;43msuper\u001b[39;49m\u001b[43m(\u001b[49m\u001b[43m)\u001b[49m\u001b[38;5;241;43m.\u001b[39;49m\u001b[43mfind_class\u001b[49m\u001b[43m(\u001b[49m\u001b[43mmodule\u001b[49m\u001b[43m,\u001b[49m\u001b[43m \u001b[49m\u001b[43mname\u001b[49m\u001b[43m)\u001b[49m\n",
      "File \u001b[1;32m~\\.conda\\envs\\env_lydia_3.12\\Lib\\pickle.py:1621\u001b[0m, in \u001b[0;36m_Unpickler.find_class\u001b[1;34m(self, module, name)\u001b[0m\n\u001b[0;32m   1619\u001b[0m     \u001b[38;5;28;01melif\u001b[39;00m module \u001b[38;5;129;01min\u001b[39;00m _compat_pickle\u001b[38;5;241m.\u001b[39mIMPORT_MAPPING:\n\u001b[0;32m   1620\u001b[0m         module \u001b[38;5;241m=\u001b[39m _compat_pickle\u001b[38;5;241m.\u001b[39mIMPORT_MAPPING[module]\n\u001b[1;32m-> 1621\u001b[0m \u001b[38;5;28;43m__import__\u001b[39;49m\u001b[43m(\u001b[49m\u001b[43mmodule\u001b[49m\u001b[43m,\u001b[49m\u001b[43m \u001b[49m\u001b[43mlevel\u001b[49m\u001b[38;5;241;43m=\u001b[39;49m\u001b[38;5;241;43m0\u001b[39;49m\u001b[43m)\u001b[49m\n\u001b[0;32m   1622\u001b[0m \u001b[38;5;28;01mif\u001b[39;00m \u001b[38;5;28mself\u001b[39m\u001b[38;5;241m.\u001b[39mproto \u001b[38;5;241m>\u001b[39m\u001b[38;5;241m=\u001b[39m \u001b[38;5;241m4\u001b[39m:\n\u001b[0;32m   1623\u001b[0m     \u001b[38;5;28;01mreturn\u001b[39;00m _getattribute(sys\u001b[38;5;241m.\u001b[39mmodules[module], name)[\u001b[38;5;241m0\u001b[39m]\n",
      "\u001b[1;31mModuleNotFoundError\u001b[0m: No module named 'numpy._core.numeric'"
     ]
    }
   ],
   "source": [
    "clean_22 = pd.read_pickle(r'D:\\capstone_F24\\data\\Cleaned_data\\df_filled_22.pkl')\n",
    "clean_22.head()"
   ]
  },
  {
   "cell_type": "code",
   "execution_count": 8,
   "id": "06f171cc-1e20-4121-ae43-8f6434c533ab",
   "metadata": {},
   "outputs": [
    {
     "name": "stdout",
     "output_type": "stream",
     "text": [
      "Requirement already satisfied: numpy in c:\\users\\one1c\\.conda\\envs\\capstone_1\\lib\\site-packages (2.1.3)\n"
     ]
    }
   ],
   "source": [
    "!pip install numpy --upgrade"
   ]
  },
  {
   "cell_type": "code",
   "execution_count": 10,
   "id": "4ab6f897-4091-4564-96f0-44f394ef681b",
   "metadata": {},
   "outputs": [
    {
     "ename": "ModuleNotFoundError",
     "evalue": "No module named 'joblib'",
     "output_type": "error",
     "traceback": [
      "\u001b[1;31m---------------------------------------------------------------------------\u001b[0m",
      "\u001b[1;31mModuleNotFoundError\u001b[0m                       Traceback (most recent call last)",
      "Cell \u001b[1;32mIn[10], line 1\u001b[0m\n\u001b[1;32m----> 1\u001b[0m \u001b[38;5;28;01mimport\u001b[39;00m \u001b[38;5;21;01mjoblib\u001b[39;00m\n",
      "\u001b[1;31mModuleNotFoundError\u001b[0m: No module named 'joblib'"
     ]
    }
   ],
   "source": [
    "import joblib"
   ]
  },
  {
   "cell_type": "code",
   "execution_count": 11,
   "id": "5081f763-8512-45c5-8713-2a92ee28f8a0",
   "metadata": {},
   "outputs": [
    {
     "name": "stdout",
     "output_type": "stream",
     "text": [
      "Requirement already satisfied: joblib in c:\\users\\one1c\\.conda\\envs\\capstone_1\\lib\\site-packages (1.4.2)\n"
     ]
    }
   ],
   "source": [
    "!pip install joblib"
   ]
  },
  {
   "cell_type": "code",
   "execution_count": 12,
   "id": "ce8b7859-53b6-4a40-9e58-88df566368a8",
   "metadata": {},
   "outputs": [
    {
     "ename": "ModuleNotFoundError",
     "evalue": "No module named 'joblib'",
     "output_type": "error",
     "traceback": [
      "\u001b[1;31m---------------------------------------------------------------------------\u001b[0m",
      "\u001b[1;31mModuleNotFoundError\u001b[0m                       Traceback (most recent call last)",
      "Cell \u001b[1;32mIn[12], line 1\u001b[0m\n\u001b[1;32m----> 1\u001b[0m \u001b[38;5;28;01mimport\u001b[39;00m \u001b[38;5;21;01mjoblib\u001b[39;00m\n",
      "\u001b[1;31mModuleNotFoundError\u001b[0m: No module named 'joblib'"
     ]
    }
   ],
   "source": [
    "import joblib"
   ]
  },
  {
   "cell_type": "code",
   "execution_count": null,
   "id": "c667ceb1-2d96-41d3-a4ed-56fa36179fc8",
   "metadata": {},
   "outputs": [],
   "source": []
  }
 ],
 "metadata": {
  "kernelspec": {
   "display_name": "Python 3 (ipykernel)",
   "language": "python",
   "name": "python3"
  },
  "language_info": {
   "codemirror_mode": {
    "name": "ipython",
    "version": 3
   },
   "file_extension": ".py",
   "mimetype": "text/x-python",
   "name": "python",
   "nbconvert_exporter": "python",
   "pygments_lexer": "ipython3",
   "version": "3.12.4"
  }
 },
 "nbformat": 4,
 "nbformat_minor": 5
}
